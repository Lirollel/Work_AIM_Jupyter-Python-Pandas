{
 "cells": [
  {
   "cell_type": "code",
   "execution_count": 2,
   "metadata": {},
   "outputs": [],
   "source": [
    "import sys\n",
    "sys.path.append(\"C:\\\\Users\\\\KlimovaAnnaA\\\\Documents\\\\MyFiles\\\\Projects\\\\Working_attributes\")\n",
    "from Imports import * "
   ]
  },
  {
   "cell_type": "markdown",
   "metadata": {},
   "source": [
    "New Mapping"
   ]
  },
  {
   "cell_type": "code",
   "execution_count": 3,
   "metadata": {},
   "outputs": [
    {
     "data": {
      "text/html": [
       "<div>\n",
       "<style scoped>\n",
       "    .dataframe tbody tr th:only-of-type {\n",
       "        vertical-align: middle;\n",
       "    }\n",
       "\n",
       "    .dataframe tbody tr th {\n",
       "        vertical-align: top;\n",
       "    }\n",
       "\n",
       "    .dataframe thead th {\n",
       "        text-align: right;\n",
       "    }\n",
       "</style>\n",
       "<table border=\"1\" class=\"dataframe\">\n",
       "  <thead>\n",
       "    <tr style=\"text-align: right;\">\n",
       "      <th></th>\n",
       "      <th>customerName</th>\n",
       "      <th>CtyCode</th>\n",
       "    </tr>\n",
       "  </thead>\n",
       "  <tbody>\n",
       "    <tr>\n",
       "      <th>0</th>\n",
       "      <td>Corrigo Fertilizers FZE</td>\n",
       "      <td>AECOR</td>\n",
       "    </tr>\n",
       "    <tr>\n",
       "      <th>1</th>\n",
       "      <td>Алтайский филиал ООО \"Сибирская  генерирующая ...</td>\n",
       "      <td>1R00</td>\n",
       "    </tr>\n",
       "    <tr>\n",
       "      <th>2</th>\n",
       "      <td>ООО \"ГРК \"ЕвроХим\"</td>\n",
       "      <td>RUEBE</td>\n",
       "    </tr>\n",
       "    <tr>\n",
       "      <th>3</th>\n",
       "      <td>ООО \"ПМУ \"ЕвроХим\"</td>\n",
       "      <td>RUENE</td>\n",
       "    </tr>\n",
       "    <tr>\n",
       "      <th>4</th>\n",
       "      <td>БФ \"СГК - Согреваем Сердца\"</td>\n",
       "      <td>1T00</td>\n",
       "    </tr>\n",
       "    <tr>\n",
       "      <th>5</th>\n",
       "      <td>ООО \"ПроТех Переработка\"</td>\n",
       "      <td>RUPTP</td>\n",
       "    </tr>\n",
       "    <tr>\n",
       "      <th>6</th>\n",
       "      <td>Некоммерческая организация \"Фонд со циально-эк...</td>\n",
       "      <td>F199</td>\n",
       "    </tr>\n",
       "  </tbody>\n",
       "</table>\n",
       "</div>"
      ],
      "text/plain": [
       "                                        customerName CtyCode\n",
       "0                            Corrigo Fertilizers FZE   AECOR\n",
       "1  Алтайский филиал ООО \"Сибирская  генерирующая ...    1R00\n",
       "2                                 ООО \"ГРК \"ЕвроХим\"   RUEBE\n",
       "3                                 ООО \"ПМУ \"ЕвроХим\"   RUENE\n",
       "4                        БФ \"СГК - Согреваем Сердца\"    1T00\n",
       "5                           ООО \"ПроТех Переработка\"   RUPTP\n",
       "6  Некоммерческая организация \"Фонд со циально-эк...    F199"
      ]
     },
     "execution_count": 3,
     "metadata": {},
     "output_type": "execute_result"
    }
   ],
   "source": [
    "old_mapping = pd.read_csv('Mapping.csv')\n",
    "\n",
    "# new manual\n",
    "new_mapping = pd.read_excel('2024-10-14_ARAP_manual_map (1).xlsx', usecols=[4,5])\n",
    "new_mapping"
   ]
  },
  {
   "cell_type": "code",
   "execution_count": 4,
   "metadata": {},
   "outputs": [
    {
     "data": {
      "text/plain": [
       "(1334, 7)"
      ]
     },
     "execution_count": 4,
     "metadata": {},
     "output_type": "execute_result"
    }
   ],
   "source": [
    "old_mapping.shape[0], new_mapping.shape[0]"
   ]
  },
  {
   "cell_type": "code",
   "execution_count": 5,
   "metadata": {},
   "outputs": [
    {
     "data": {
      "text/plain": [
       "1341"
      ]
     },
     "execution_count": 5,
     "metadata": {},
     "output_type": "execute_result"
    }
   ],
   "source": [
    "assert len(set(old_mapping.CompName).intersection(new_mapping.customerName)) == 0 # проверка пересечений\n",
    "new_mapping.columns = old_mapping.columns\n",
    "old_mapping = pd.concat([old_mapping, new_mapping])\n",
    "old_mapping.shape[0]"
   ]
  },
  {
   "cell_type": "code",
   "execution_count": 6,
   "metadata": {},
   "outputs": [],
   "source": [
    "assert len(set(old_mapping.CompName).intersection(new_mapping.CompName)) == new_mapping.shape[0] # проверка правилтности записи"
   ]
  },
  {
   "cell_type": "code",
   "execution_count": 7,
   "metadata": {},
   "outputs": [],
   "source": [
    "old_mapping.to_csv('Mapping.csv', index=False)"
   ]
  }
 ],
 "metadata": {
  "kernelspec": {
   "display_name": "base",
   "language": "python",
   "name": "python3"
  },
  "language_info": {
   "codemirror_mode": {
    "name": "ipython",
    "version": 3
   },
   "file_extension": ".py",
   "mimetype": "text/x-python",
   "name": "python",
   "nbconvert_exporter": "python",
   "pygments_lexer": "ipython3",
   "version": "3.11.5"
  },
  "orig_nbformat": 4
 },
 "nbformat": 4,
 "nbformat_minor": 2
}
