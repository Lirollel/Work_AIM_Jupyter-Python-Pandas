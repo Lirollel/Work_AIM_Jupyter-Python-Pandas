{
 "cells": [
  {
   "cell_type": "code",
   "execution_count": 1,
   "metadata": {},
   "outputs": [],
   "source": [
    "import sys\n",
    "sys.path.append(\"C:\\\\Users\\\\KlimovaAnnaA\\\\Documents\\\\MyFiles\\\\Projects\\\\Working_attributes\")\n",
    "from Imports import * \n",
    "Output_path = 'z:\\\\Anna_Klimova\\\\OCP\\\\Archive\\\\'"
   ]
  },
  {
   "cell_type": "code",
   "execution_count": 2,
   "metadata": {},
   "outputs": [
    {
     "name": "stderr",
     "output_type": "stream",
     "text": [
      "C:\\Users\\KlimovaAnnaA\\Documents\\MyFiles\\Projects\\Working_attributes\\Defs.py:92: UserWarning: pandas only supports SQLAlchemy connectable (engine/connection) or database string URI or sqlite3 DBAPI2 connection. Other DBAPI2 objects are not tested. Please consider using SQLAlchemy.\n",
      "  data_export = pd.read_sql(query, con=connection)\n"
     ]
    },
    {
     "data": {
      "text/plain": [
       "'2024-10-31'"
      ]
     },
     "execution_count": 2,
     "metadata": {},
     "output_type": "execute_result"
    }
   ],
   "source": [
    "Today = '2024-10-31'\n",
    "\n",
    "print_Deals = True\n",
    "excel_tofolder_on_Z = True\n",
    "\n",
    "query = f\"\"\"\n",
    "select MAX(\"reportDate\") AS max_date\n",
    "from RISKACCESS.\"sapIcDeals\"\n",
    "where \"reportDate\" <= TO_DATE('{Today}', 'YYYY-MM-DD')\n",
    "\"\"\"\n",
    "data_export = export_from_RISKCUSTOM(query)\n",
    "Today = str(data_export.iloc[0,0])[:10]\n",
    "\n",
    "Today"
   ]
  },
  {
   "cell_type": "code",
   "execution_count": 3,
   "metadata": {},
   "outputs": [
    {
     "data": {
      "text/plain": [
       "((8640, 204), (1496, 163))"
      ]
     },
     "execution_count": 3,
     "metadata": {},
     "output_type": "execute_result"
    }
   ],
   "source": [
    "query = f\"\"\"select * from RISKACCESS.\"sapDeals\" where \"reportDate\" = TO_DATE('{Today}', 'YYYY-MM-DD') \"\"\"\n",
    "data_ex_deals_export = export_from_RISKCUSTOM(query)\n",
    "\n",
    "query = f\"\"\"select * from RISKACCESS.\"sapIcDeals\" where \"reportDate\" = TO_DATE('{Today}', 'YYYY-MM-DD') \"\"\"\n",
    "data_in_deals_export = export_from_RISKCUSTOM(query)\n",
    "\n",
    "data_ex_deals_export.shape, data_in_deals_export.shape"
   ]
  },
  {
   "cell_type": "code",
   "execution_count": 4,
   "metadata": {},
   "outputs": [
    {
     "name": "stderr",
     "output_type": "stream",
     "text": [
      "C:\\Users\\KlimovaAnnaA\\Documents\\MyFiles\\Projects\\Working_attributes\\Defs.py:92: UserWarning: pandas only supports SQLAlchemy connectable (engine/connection) or database string URI or sqlite3 DBAPI2 connection. Other DBAPI2 objects are not tested. Please consider using SQLAlchemy.\n",
      "  data_export = pd.read_sql(query, con=connection)\n",
      "C:\\Users\\KlimovaAnnaA\\Documents\\MyFiles\\Projects\\Working_attributes\\Defs.py:33: FutureWarning: Setting an item of incompatible dtype is deprecated and will raise an error in a future version of pandas. Value '['EX SUEK AG' 'EX SUEK AG' 'EX SUEK AG' 'EX SUEK AG' 'EX SUEK AG'\n",
      " 'EX SUEK AG' 'EX SUEK AG' 'EX SUEK AG' 'EX SUEK AG' 'EX SUEK AG'\n",
      " 'EX SUEK AG' 'EX SUEK AG']' has dtype incompatible with float64, please explicitly cast to a compatible dtype first.\n",
      "  merge_data.loc[merge_data[f'{id_colmn}_merge'] != 'External', 'last_merge'] = merge_data.loc[merge_data[f'{id_colmn}_merge'] != 'External', f'{id_colmn}_merge']\n",
      "C:\\Users\\KlimovaAnnaA\\Documents\\MyFiles\\Projects\\Working_attributes\\Defs.py:92: UserWarning: pandas only supports SQLAlchemy connectable (engine/connection) or database string URI or sqlite3 DBAPI2 connection. Other DBAPI2 objects are not tested. Please consider using SQLAlchemy.\n",
      "  data_export = pd.read_sql(query, con=connection)\n",
      "C:\\Users\\KlimovaAnnaA\\Documents\\MyFiles\\Projects\\Working_attributes\\Defs.py:33: FutureWarning: Setting an item of incompatible dtype is deprecated and will raise an error in a future version of pandas. Value '[]' has dtype incompatible with float64, please explicitly cast to a compatible dtype first.\n",
      "  merge_data.loc[merge_data[f'{id_colmn}_merge'] != 'External', 'last_merge'] = merge_data.loc[merge_data[f'{id_colmn}_merge'] != 'External', f'{id_colmn}_merge']\n",
      "C:\\Users\\KlimovaAnnaA\\Documents\\MyFiles\\Projects\\Working_attributes\\Defs.py:92: UserWarning: pandas only supports SQLAlchemy connectable (engine/connection) or database string URI or sqlite3 DBAPI2 connection. Other DBAPI2 objects are not tested. Please consider using SQLAlchemy.\n",
      "  data_export = pd.read_sql(query, con=connection)\n",
      "C:\\Users\\KlimovaAnnaA\\Documents\\MyFiles\\Projects\\Working_attributes\\Defs.py:33: FutureWarning: Setting an item of incompatible dtype is deprecated and will raise an error in a future version of pandas. Value '['EUROCHEM' 'EUROCHEM' 'EUROCHEM' 'EUROCHEM' 'EUROCHEM' 'EUROCHEM'\n",
      " 'EUROCHEM' 'EUROCHEM' 'EUROCHEM' 'EUROCHEM' 'EUROCHEM' 'EUROCHEM']' has dtype incompatible with float64, please explicitly cast to a compatible dtype first.\n",
      "  merge_data.loc[merge_data[f'{id_colmn}_merge'] != 'External', 'last_merge'] = merge_data.loc[merge_data[f'{id_colmn}_merge'] != 'External', f'{id_colmn}_merge']\n",
      "C:\\Users\\KlimovaAnnaA\\Documents\\MyFiles\\Projects\\Working_attributes\\Defs.py:92: UserWarning: pandas only supports SQLAlchemy connectable (engine/connection) or database string URI or sqlite3 DBAPI2 connection. Other DBAPI2 objects are not tested. Please consider using SQLAlchemy.\n",
      "  data_export = pd.read_sql(query, con=connection)\n",
      "C:\\Users\\KlimovaAnnaA\\Documents\\MyFiles\\Projects\\Working_attributes\\Defs.py:92: UserWarning: pandas only supports SQLAlchemy connectable (engine/connection) or database string URI or sqlite3 DBAPI2 connection. Other DBAPI2 objects are not tested. Please consider using SQLAlchemy.\n",
      "  data_export = pd.read_sql(query, con=connection)\n",
      "C:\\Users\\KlimovaAnnaA\\Documents\\MyFiles\\Projects\\Working_attributes\\Defs.py:92: UserWarning: pandas only supports SQLAlchemy connectable (engine/connection) or database string URI or sqlite3 DBAPI2 connection. Other DBAPI2 objects are not tested. Please consider using SQLAlchemy.\n",
      "  data_export = pd.read_sql(query, con=connection)\n"
     ]
    }
   ],
   "source": [
    "work_data_list = [data_ex_deals_export, data_in_deals_export]\n",
    "\n",
    "for work_data_index in range(len(work_data_list)):\n",
    "    data_work = work_data_list[work_data_index]\n",
    "    data_work = data_work.query(\"dealStatusName != 'Cancelled' & invoiced == 'Y' & deliveryPeriodTo > @Today\").reset_index(drop=True)\n",
    "    data_work[['sellerName', 'buyerName']] = data_work[['sellerName', 'buyerName']].fillna('')\n",
    "    data_work['Counterparty'] = data_work['sellerName'] + data_work['buyerName']\n",
    "    data_work.loc[data_work['actualQuantity'].isna(), 'actualQuantity'] = data_work.loc[data_work['actualQuantity'].isna(), 'BLTonnage']\n",
    "    if work_data_index == 0:\n",
    "        price_col = 'conditionPrice'\n",
    "    else:\n",
    "        price_col = 'price'\n",
    "    data_work['Sum_money'] = data_work['actualQuantity'] * data_work[price_col]\n",
    "    data_work.loc[data_work.dealTypeName == 'Purchasing Deal', 'actualQuantity'] = data_work.actualQuantity.abs()\n",
    "    data_work.loc[data_work.dealTypeName == 'Purchasing Deal', 'Sum_money'] = -1 * data_work.Sum_money.abs()\n",
    "    data_work.loc[data_work.dealTypeName == 'Sales Deal', 'actualQuantity'] = -1 * data_work.actualQuantity.abs()\n",
    "    data_work.loc[data_work.dealTypeName == 'Sales Deal', 'Sum_money'] = data_work.Sum_money.abs()\n",
    "    data_work['CompCode'] = merge_Mapping(data_work, col='companyName')\n",
    "    data_work['Business_segment'] = merge_SalesUnits(data_work, col='CompCode', merge_col='ocpSegment')\n",
    "    data_work['Cpty_Code'] = merge_Mapping(data_work, col='Counterparty')\n",
    "    data_work['Cpty_segment'] = merge_SalesUnits(data_work, col='Cpty_Code', merge_col='ocpSegment').fillna('External')\n",
    "    data_work = Period(data_work, day_for_count=Today, col_with_date='deliveryPeriodTo')\n",
    "    data_work['holding'] = merge_SalesUnits(data_work, 'CompCode', merge_col='holding')\n",
    "\n",
    "    data_for_print = data_work[['productTypeName', 'companyName', 'Business_segment', 'Counterparty',  'Cpty_segment', 'currency', 'actualQuantity', 'Sum_money', 'deliveryPeriodTo', 'Days', 'Period', 'holding']]\n",
    "    if work_data_index == 0:\n",
    "        work_data_ex_deals = data_for_print\n",
    "    else:\n",
    "        work_data_in_deals = data_for_print"
   ]
  },
  {
   "cell_type": "code",
   "execution_count": 5,
   "metadata": {},
   "outputs": [
    {
     "name": "stderr",
     "output_type": "stream",
     "text": [
      "C:\\Users\\KlimovaAnnaA\\AppData\\Local\\Temp\\ipykernel_23064\\2662934976.py:11: FutureWarning: Starting with pandas version 3.0 all arguments of to_excel except for the argument 'excel_writer' will be keyword-only.\n",
      "  work_data_ex_deals_group.to_excel(Output_file, sheet_name_ex, index=False)\n"
     ]
    }
   ],
   "source": [
    "if print_Deals == True:\n",
    "    for group in ['EUROCHEM', 'SUEK']:\n",
    "        Output_file = \"_\".join([str(date.today()), group, 'Deals.xlsx'])\n",
    "        work_data_ex_deals_group = work_data_ex_deals[work_data_ex_deals.holding == group]\n",
    "        work_data_in_deals_group = work_data_in_deals[work_data_in_deals.holding == group]\n",
    "        sheet_name_ex = 'EX_Deals'\n",
    "        sheet_name_in = 'IN_Deals'\n",
    "        if excel_tofolder_on_Z == True:\n",
    "            Output_file = Output_path + Output_file\n",
    "        if len(work_data_ex_deals_group)!=0:\n",
    "            work_data_ex_deals_group.to_excel(Output_file, sheet_name_ex, index=False)\n",
    "        elif len(work_data_in_deals_group)!=0:\n",
    "            new_list(work_data_in_deals_group, Output_file, sheet_name_in, index=False)"
   ]
  }
 ],
 "metadata": {
  "kernelspec": {
   "display_name": "base",
   "language": "python",
   "name": "python3"
  },
  "language_info": {
   "codemirror_mode": {
    "name": "ipython",
    "version": 3
   },
   "file_extension": ".py",
   "mimetype": "text/x-python",
   "name": "python",
   "nbconvert_exporter": "python",
   "pygments_lexer": "ipython3",
   "version": "3.11.5"
  },
  "orig_nbformat": 4
 },
 "nbformat": 4,
 "nbformat_minor": 2
}
