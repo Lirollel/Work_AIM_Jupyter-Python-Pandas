{
 "cells": [
  {
   "cell_type": "code",
   "execution_count": 2,
   "metadata": {},
   "outputs": [],
   "source": [
    "import sys\n",
    "sys.path.append(\"C:\\\\Users\\\\KlimovaAnnaA\\\\Documents\\\\MyFiles\\\\Projects\\\\OCP\")\n",
    "from Defs import merge_SalesUnits\n",
    "from Defs import merge_Mapping\n",
    "from Defs import Period\n",
    "from Defs import new_list\n",
    "from Defs import export_from_RISKCUSTOM\n",
    "from Defs import add_in_currency_column\n",
    "from Defs import concat_columns\n",
    "from Defs import export_from_WHWEEK\n",
    "\n",
    "import pandas as pd"
   ]
  },
  {
   "cell_type": "code",
   "execution_count": 2,
   "metadata": {},
   "outputs": [
    {
     "name": "stderr",
     "output_type": "stream",
     "text": [
      "C:\\Users\\KlimovaAnnaA\\Documents\\MyFiles\\Projects\\OCP\\Defs.py:93: UserWarning: pandas only supports SQLAlchemy connectable (engine/connection) or database string URI or sqlite3 DBAPI2 connection. Other DBAPI2 objects are not tested. Please consider using SQLAlchemy.\n",
      "  data_export = pd.read_sql(query, con=connection)\n"
     ]
    }
   ],
   "source": [
    "  query = f\"\"\"select \"VALUE1\",  \"PUBLICATION_DATE\", \"PERIOD_TO\"\n",
    "  from \"RISKACCESS\".\"XXMR_MADAB_CONTENT\"\n",
    "    where \"RISKACCESS\".\"XXMR_MADAB_CONTENT\".\"COMMODITY_ID\" = 2332\n",
    "    and \"PUBLICATION_DATE\" >= TO_DATE('2022-01-01', 'YYYY-MM-DD')\n",
    "\"\"\"\n",
    "data= export_from_RISKCUSTOM(query)\n",
    "# data.to_excel('USD-BRL_2022-2024.xlsx')"
   ]
  },
  {
   "cell_type": "code",
   "execution_count": 4,
   "metadata": {},
   "outputs": [
    {
     "name": "stderr",
     "output_type": "stream",
     "text": [
      "C:\\Users\\KlimovaAnnaA\\Documents\\MyFiles\\Projects\\OCP\\Defs.py:93: UserWarning: pandas only supports SQLAlchemy connectable (engine/connection) or database string URI or sqlite3 DBAPI2 connection. Other DBAPI2 objects are not tested. Please consider using SQLAlchemy.\n",
      "  data_export = pd.read_sql(query, con=connection)\n"
     ]
    }
   ],
   "source": [
    "data = export_from_RISKCUSTOM(f\"\"\"select * from \"RISKACCESS\".\"mdgSalesUnits\" \"\"\")\n",
    "data.to_excel('Sales.xlsx')"
   ]
  },
  {
   "cell_type": "code",
   "execution_count": 4,
   "metadata": {},
   "outputs": [
    {
     "ename": "DatabaseError",
     "evalue": "Execution failed on sql 'DESCRIBE \"RISKACCESS\".\"mdgSalesUnits\" ': ORA-00900: invalid SQL statement",
     "output_type": "error",
     "traceback": [
      "\u001b[1;31m---------------------------------------------------------------------------\u001b[0m",
      "\u001b[1;31mDatabaseError\u001b[0m                             Traceback (most recent call last)",
      "File \u001b[1;32mc:\\Users\\KlimovaAnnaA\\AppData\\Local\\miniconda3\\Lib\\site-packages\\pandas\\io\\sql.py:2675\u001b[0m, in \u001b[0;36mSQLiteDatabase.execute\u001b[1;34m(self, sql, params)\u001b[0m\n\u001b[0;32m   2674\u001b[0m \u001b[39mtry\u001b[39;00m:\n\u001b[1;32m-> 2675\u001b[0m     cur\u001b[39m.\u001b[39;49mexecute(sql, \u001b[39m*\u001b[39;49margs)\n\u001b[0;32m   2676\u001b[0m     \u001b[39mreturn\u001b[39;00m cur\n",
      "File \u001b[1;32mc:\\Users\\KlimovaAnnaA\\AppData\\Local\\miniconda3\\Lib\\site-packages\\oracledb\\cursor.py:701\u001b[0m, in \u001b[0;36mCursor.execute\u001b[1;34m(self, statement, parameters, **keyword_parameters)\u001b[0m\n\u001b[0;32m    700\u001b[0m impl \u001b[39m=\u001b[39m \u001b[39mself\u001b[39m\u001b[39m.\u001b[39m_impl\n\u001b[1;32m--> 701\u001b[0m impl\u001b[39m.\u001b[39;49mexecute(\u001b[39mself\u001b[39;49m)\n\u001b[0;32m    702\u001b[0m \u001b[39mif\u001b[39;00m impl\u001b[39m.\u001b[39mfetch_vars \u001b[39mis\u001b[39;00m \u001b[39mnot\u001b[39;00m \u001b[39mNone\u001b[39;00m:\n",
      "File \u001b[1;32msrc\\\\oracledb\\\\impl/thick/cursor.pyx:309\u001b[0m, in \u001b[0;36moracledb.thick_impl.ThickCursorImpl.execute\u001b[1;34m()\u001b[0m\n",
      "File \u001b[1;32msrc\\\\oracledb\\\\impl/thick/utils.pyx:450\u001b[0m, in \u001b[0;36moracledb.thick_impl._raise_from_odpi\u001b[1;34m()\u001b[0m\n",
      "File \u001b[1;32msrc\\\\oracledb\\\\impl/thick/utils.pyx:440\u001b[0m, in \u001b[0;36moracledb.thick_impl._raise_from_info\u001b[1;34m()\u001b[0m\n",
      "\u001b[1;31mDatabaseError\u001b[0m: ORA-00900: invalid SQL statement",
      "\nThe above exception was the direct cause of the following exception:\n",
      "\u001b[1;31mDatabaseError\u001b[0m                             Traceback (most recent call last)",
      "\u001b[1;32mc:\\Users\\KlimovaAnnaA\\Documents\\MyFiles\\Projects\\OCP\\Методология\\test.ipynb Cell 4\u001b[0m line \u001b[0;36m1\n\u001b[1;32m----> <a href='vscode-notebook-cell:/c%3A/Users/KlimovaAnnaA/Documents/MyFiles/Projects/OCP/%D0%9C%D0%B5%D1%82%D0%BE%D0%B4%D0%BE%D0%BB%D0%BE%D0%B3%D0%B8%D1%8F/test.ipynb#W3sZmlsZQ%3D%3D?line=0'>1</a>\u001b[0m data \u001b[39m=\u001b[39m export_from_RISKCUSTOM(\u001b[39mf\u001b[39;49m\u001b[39m\"\"\"\u001b[39;49m\u001b[39mDESCRIBE \u001b[39;49m\u001b[39m\"\u001b[39;49m\u001b[39mRISKACCESS\u001b[39;49m\u001b[39m\"\u001b[39;49m\u001b[39m.\u001b[39;49m\u001b[39m\"\u001b[39;49m\u001b[39mmdgSalesUnits\u001b[39;49m\u001b[39m\"\u001b[39;49m\u001b[39m \u001b[39;49m\u001b[39m\"\"\"\u001b[39;49m)\n\u001b[0;32m      <a href='vscode-notebook-cell:/c%3A/Users/KlimovaAnnaA/Documents/MyFiles/Projects/OCP/%D0%9C%D0%B5%D1%82%D0%BE%D0%B4%D0%BE%D0%BB%D0%BE%D0%B3%D0%B8%D1%8F/test.ipynb#W3sZmlsZQ%3D%3D?line=1'>2</a>\u001b[0m data\n",
      "File \u001b[1;32m~\\Documents\\MyFiles\\Projects\\OCP\\Defs.py:98\u001b[0m, in \u001b[0;36mexport_from_RISKCUSTOM\u001b[1;34m(query)\u001b[0m\n\u001b[0;32m     96\u001b[0m oracledb\u001b[39m.\u001b[39minit_oracle_client(\u001b[39m'\u001b[39m\u001b[39mC:\u001b[39m\u001b[39m\\\\\u001b[39;00m\u001b[39mUsers\u001b[39m\u001b[39m\\\\\u001b[39;00m\u001b[39mKlimovaAnnaA\u001b[39m\u001b[39m\\\\\u001b[39;00m\u001b[39mDocuments\u001b[39m\u001b[39m\\\\\u001b[39;00m\u001b[39mMyFiles\u001b[39m\u001b[39m\\\\\u001b[39;00m\u001b[39mOracle\u001b[39m\u001b[39m\\\\\u001b[39;00m\u001b[39minstantclient_21_13\u001b[39m\u001b[39m'\u001b[39m)\n\u001b[0;32m     97\u001b[0m connection \u001b[39m=\u001b[39m oracledb\u001b[39m.\u001b[39mconnect(user\u001b[39m=\u001b[39muser_RISKCUSTOM, password\u001b[39m=\u001b[39mpassword_RISKCUSTOM, host\u001b[39m=\u001b[39mhost_RISKCUSTOM, port\u001b[39m=\u001b[39m\u001b[39m1521\u001b[39m, service_name\u001b[39m=\u001b[39m\u001b[39m'\u001b[39m\u001b[39mriskdev.moscow.eurochem.ru\u001b[39m\u001b[39m'\u001b[39m, disable_oob\u001b[39m=\u001b[39m \u001b[39mTrue\u001b[39;00m)\n\u001b[1;32m---> 98\u001b[0m data_export \u001b[39m=\u001b[39m pd\u001b[39m.\u001b[39;49mread_sql(query, con\u001b[39m=\u001b[39;49mconnection)\n\u001b[0;32m     99\u001b[0m connection\u001b[39m.\u001b[39mclose()\n\u001b[0;32m    100\u001b[0m \u001b[39mreturn\u001b[39;00m data_export\n",
      "File \u001b[1;32mc:\\Users\\KlimovaAnnaA\\AppData\\Local\\miniconda3\\Lib\\site-packages\\pandas\\io\\sql.py:706\u001b[0m, in \u001b[0;36mread_sql\u001b[1;34m(sql, con, index_col, coerce_float, params, parse_dates, columns, chunksize, dtype_backend, dtype)\u001b[0m\n\u001b[0;32m    704\u001b[0m \u001b[39mwith\u001b[39;00m pandasSQL_builder(con) \u001b[39mas\u001b[39;00m pandas_sql:\n\u001b[0;32m    705\u001b[0m     \u001b[39mif\u001b[39;00m \u001b[39misinstance\u001b[39m(pandas_sql, SQLiteDatabase):\n\u001b[1;32m--> 706\u001b[0m         \u001b[39mreturn\u001b[39;00m pandas_sql\u001b[39m.\u001b[39;49mread_query(\n\u001b[0;32m    707\u001b[0m             sql,\n\u001b[0;32m    708\u001b[0m             index_col\u001b[39m=\u001b[39;49mindex_col,\n\u001b[0;32m    709\u001b[0m             params\u001b[39m=\u001b[39;49mparams,\n\u001b[0;32m    710\u001b[0m             coerce_float\u001b[39m=\u001b[39;49mcoerce_float,\n\u001b[0;32m    711\u001b[0m             parse_dates\u001b[39m=\u001b[39;49mparse_dates,\n\u001b[0;32m    712\u001b[0m             chunksize\u001b[39m=\u001b[39;49mchunksize,\n\u001b[0;32m    713\u001b[0m             dtype_backend\u001b[39m=\u001b[39;49mdtype_backend,\n\u001b[0;32m    714\u001b[0m             dtype\u001b[39m=\u001b[39;49mdtype,\n\u001b[0;32m    715\u001b[0m         )\n\u001b[0;32m    717\u001b[0m     \u001b[39mtry\u001b[39;00m:\n\u001b[0;32m    718\u001b[0m         _is_table_name \u001b[39m=\u001b[39m pandas_sql\u001b[39m.\u001b[39mhas_table(sql)\n",
      "File \u001b[1;32mc:\\Users\\KlimovaAnnaA\\AppData\\Local\\miniconda3\\Lib\\site-packages\\pandas\\io\\sql.py:2739\u001b[0m, in \u001b[0;36mSQLiteDatabase.read_query\u001b[1;34m(self, sql, index_col, coerce_float, parse_dates, params, chunksize, dtype, dtype_backend)\u001b[0m\n\u001b[0;32m   2728\u001b[0m \u001b[39mdef\u001b[39;00m \u001b[39mread_query\u001b[39m(\n\u001b[0;32m   2729\u001b[0m     \u001b[39mself\u001b[39m,\n\u001b[0;32m   2730\u001b[0m     sql,\n\u001b[1;32m   (...)\u001b[0m\n\u001b[0;32m   2737\u001b[0m     dtype_backend: DtypeBackend \u001b[39m|\u001b[39m Literal[\u001b[39m\"\u001b[39m\u001b[39mnumpy\u001b[39m\u001b[39m\"\u001b[39m] \u001b[39m=\u001b[39m \u001b[39m\"\u001b[39m\u001b[39mnumpy\u001b[39m\u001b[39m\"\u001b[39m,\n\u001b[0;32m   2738\u001b[0m ) \u001b[39m-\u001b[39m\u001b[39m>\u001b[39m DataFrame \u001b[39m|\u001b[39m Iterator[DataFrame]:\n\u001b[1;32m-> 2739\u001b[0m     cursor \u001b[39m=\u001b[39m \u001b[39mself\u001b[39;49m\u001b[39m.\u001b[39;49mexecute(sql, params)\n\u001b[0;32m   2740\u001b[0m     columns \u001b[39m=\u001b[39m [col_desc[\u001b[39m0\u001b[39m] \u001b[39mfor\u001b[39;00m col_desc \u001b[39min\u001b[39;00m cursor\u001b[39m.\u001b[39mdescription]\n\u001b[0;32m   2742\u001b[0m     \u001b[39mif\u001b[39;00m chunksize \u001b[39mis\u001b[39;00m \u001b[39mnot\u001b[39;00m \u001b[39mNone\u001b[39;00m:\n",
      "File \u001b[1;32mc:\\Users\\KlimovaAnnaA\\AppData\\Local\\miniconda3\\Lib\\site-packages\\pandas\\io\\sql.py:2687\u001b[0m, in \u001b[0;36mSQLiteDatabase.execute\u001b[1;34m(self, sql, params)\u001b[0m\n\u001b[0;32m   2684\u001b[0m     \u001b[39mraise\u001b[39;00m ex \u001b[39mfrom\u001b[39;00m \u001b[39minner_exc\u001b[39;00m\n\u001b[0;32m   2686\u001b[0m ex \u001b[39m=\u001b[39m DatabaseError(\u001b[39mf\u001b[39m\u001b[39m\"\u001b[39m\u001b[39mExecution failed on sql \u001b[39m\u001b[39m'\u001b[39m\u001b[39m{\u001b[39;00msql\u001b[39m}\u001b[39;00m\u001b[39m'\u001b[39m\u001b[39m: \u001b[39m\u001b[39m{\u001b[39;00mexc\u001b[39m}\u001b[39;00m\u001b[39m\"\u001b[39m)\n\u001b[1;32m-> 2687\u001b[0m \u001b[39mraise\u001b[39;00m ex \u001b[39mfrom\u001b[39;00m \u001b[39mexc\u001b[39;00m\n",
      "\u001b[1;31mDatabaseError\u001b[0m: Execution failed on sql 'DESCRIBE \"RISKACCESS\".\"mdgSalesUnits\" ': ORA-00900: invalid SQL statement"
     ]
    }
   ],
   "source": [
    "data = export_from_RISKCUSTOM(f\"\"\"DESCRIBE \"RISKACCESS\".\"mdgSalesUnits\" \"\"\")\n",
    "data"
   ]
  }
 ],
 "metadata": {
  "kernelspec": {
   "display_name": "base",
   "language": "python",
   "name": "python3"
  },
  "language_info": {
   "codemirror_mode": {
    "name": "ipython",
    "version": 3
   },
   "file_extension": ".py",
   "mimetype": "text/x-python",
   "name": "python",
   "nbconvert_exporter": "python",
   "pygments_lexer": "ipython3",
   "version": "3.11.5"
  },
  "orig_nbformat": 4
 },
 "nbformat": 4,
 "nbformat_minor": 2
}
