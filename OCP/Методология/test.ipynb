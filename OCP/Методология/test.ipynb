{
 "cells": [
  {
   "cell_type": "code",
   "execution_count": 1,
   "metadata": {},
   "outputs": [],
   "source": [
    "import sys\n",
    "sys.path.append(\"C:\\\\Users\\\\KlimovaAnnaA\\\\Documents\\\\MyFiles\\\\Projects\\\\OCP\")\n",
    "from Defs import merge_SalesUnits\n",
    "from Defs import merge_Mapping\n",
    "from Defs import Period\n",
    "from Defs import new_list\n",
    "from Defs import export_from_RISKCUSTOM\n",
    "from Defs import add_in_currency_column\n",
    "from Defs import concat_columns\n",
    "from Defs import export_from_WHWEEK\n",
    "\n",
    "import pandas as pd"
   ]
  },
  {
   "cell_type": "code",
   "execution_count": 2,
   "metadata": {},
   "outputs": [
    {
     "name": "stderr",
     "output_type": "stream",
     "text": [
      "C:\\Users\\KlimovaAnnaA\\Documents\\MyFiles\\Projects\\OCP\\Defs.py:93: UserWarning: pandas only supports SQLAlchemy connectable (engine/connection) or database string URI or sqlite3 DBAPI2 connection. Other DBAPI2 objects are not tested. Please consider using SQLAlchemy.\n",
      "  data_export = pd.read_sql(query, con=connection)\n"
     ]
    }
   ],
   "source": [
    "  query = f\"\"\"select \"VALUE1\",  \"PUBLICATION_DATE\", \"PERIOD_TO\"\n",
    "  from \"RISKACCESS\".\"XXMR_MADAB_CONTENT\"\n",
    "    where \"RISKACCESS\".\"XXMR_MADAB_CONTENT\".\"COMMODITY_ID\" = 2332\n",
    "    and \"PUBLICATION_DATE\" >= TO_DATE('2022-01-01', 'YYYY-MM-DD')\n",
    "\"\"\"\n",
    "data= export_from_RISKCUSTOM(query)\n",
    "# data.to_excel('USD-BRL_2022-2024.xlsx')"
   ]
  },
  {
   "cell_type": "code",
   "execution_count": 4,
   "metadata": {},
   "outputs": [
    {
     "name": "stderr",
     "output_type": "stream",
     "text": [
      "C:\\Users\\KlimovaAnnaA\\Documents\\MyFiles\\Projects\\OCP\\Defs.py:93: UserWarning: pandas only supports SQLAlchemy connectable (engine/connection) or database string URI or sqlite3 DBAPI2 connection. Other DBAPI2 objects are not tested. Please consider using SQLAlchemy.\n",
      "  data_export = pd.read_sql(query, con=connection)\n"
     ]
    }
   ],
   "source": [
    "data = export_from_RISKCUSTOM(f\"\"\"select * from \"RISKACCESS\".\"mdgSalesUnits\" \"\"\")\n",
    "data.to_excel('Sales.xlsx')"
   ]
  },
  {
   "cell_type": "code",
   "execution_count": 3,
   "metadata": {},
   "outputs": [
    {
     "data": {
      "text/html": [
       "<div>\n",
       "<style scoped>\n",
       "    .dataframe tbody tr th:only-of-type {\n",
       "        vertical-align: middle;\n",
       "    }\n",
       "\n",
       "    .dataframe tbody tr th {\n",
       "        vertical-align: top;\n",
       "    }\n",
       "\n",
       "    .dataframe thead th {\n",
       "        text-align: right;\n",
       "    }\n",
       "</style>\n",
       "<table border=\"1\" class=\"dataframe\">\n",
       "  <thead>\n",
       "    <tr style=\"text-align: right;\">\n",
       "      <th></th>\n",
       "      <th>CompName</th>\n",
       "      <th>id</th>\n",
       "    </tr>\n",
       "  </thead>\n",
       "  <tbody>\n",
       "    <tr>\n",
       "      <th>0</th>\n",
       "      <td>ООО \"ПГ \"Фосфорит\"</td>\n",
       "      <td>RUFSF</td>\n",
       "    </tr>\n",
       "    <tr>\n",
       "      <th>1</th>\n",
       "      <td>АО \"Черногорский РМЗ\"</td>\n",
       "      <td>4700</td>\n",
       "    </tr>\n",
       "    <tr>\n",
       "      <th>2</th>\n",
       "      <td>Eurochem Group UAE Branch</td>\n",
       "      <td>AEEAG</td>\n",
       "    </tr>\n",
       "    <tr>\n",
       "      <th>3</th>\n",
       "      <td>АО \"Кабактинское\"</td>\n",
       "      <td>4800</td>\n",
       "    </tr>\n",
       "    <tr>\n",
       "      <th>4</th>\n",
       "      <td>ООО \"АЛТАЙ-СУЭК\"</td>\n",
       "      <td>4900</td>\n",
       "    </tr>\n",
       "    <tr>\n",
       "      <th>...</th>\n",
       "      <td>...</td>\n",
       "      <td>...</td>\n",
       "    </tr>\n",
       "    <tr>\n",
       "      <th>858</th>\n",
       "      <td>ООО \"БГТК\"</td>\n",
       "      <td>9T00</td>\n",
       "    </tr>\n",
       "    <tr>\n",
       "      <th>859</th>\n",
       "      <td>EuroChem Trading Middle East FZE</td>\n",
       "      <td>AETRD</td>\n",
       "    </tr>\n",
       "    <tr>\n",
       "      <th>860</th>\n",
       "      <td>FERTILIZANTES TOCANTINS LTDA</td>\n",
       "      <td>BRFTO</td>\n",
       "    </tr>\n",
       "    <tr>\n",
       "      <th>861</th>\n",
       "      <td>EUROCHEM - USOLSKY POTASH COMPLEX, LIMITED LIA...</td>\n",
       "      <td>RUKUS</td>\n",
       "    </tr>\n",
       "    <tr>\n",
       "      <th>862</th>\n",
       "      <td>ООО \"ЕвроХим Северный Кавказ\"</td>\n",
       "      <td>RUNCA</td>\n",
       "    </tr>\n",
       "  </tbody>\n",
       "</table>\n",
       "<p>863 rows × 2 columns</p>\n",
       "</div>"
      ],
      "text/plain": [
       "                                              CompName     id\n",
       "0                                   ООО \"ПГ \"Фосфорит\"  RUFSF\n",
       "1                                АО \"Черногорский РМЗ\"   4700\n",
       "2                            Eurochem Group UAE Branch  AEEAG\n",
       "3                                    АО \"Кабактинское\"   4800\n",
       "4                                     ООО \"АЛТАЙ-СУЭК\"   4900\n",
       "..                                                 ...    ...\n",
       "858                                         ООО \"БГТК\"   9T00\n",
       "859                   EuroChem Trading Middle East FZE  AETRD\n",
       "860                       FERTILIZANTES TOCANTINS LTDA  BRFTO\n",
       "861  EUROCHEM - USOLSKY POTASH COMPLEX, LIMITED LIA...  RUKUS\n",
       "862                      ООО \"ЕвроХим Северный Кавказ\"  RUNCA\n",
       "\n",
       "[863 rows x 2 columns]"
      ]
     },
     "execution_count": 3,
     "metadata": {},
     "output_type": "execute_result"
    }
   ],
   "source": [
    "data = pd.read_csv('Mapping.csv')\n",
    "data"
   ]
  }
 ],
 "metadata": {
  "kernelspec": {
   "display_name": "base",
   "language": "python",
   "name": "python3"
  },
  "language_info": {
   "codemirror_mode": {
    "name": "ipython",
    "version": 3
   },
   "file_extension": ".py",
   "mimetype": "text/x-python",
   "name": "python",
   "nbconvert_exporter": "python",
   "pygments_lexer": "ipython3",
   "version": "3.11.5"
  },
  "orig_nbformat": 4
 },
 "nbformat": 4,
 "nbformat_minor": 2
}
