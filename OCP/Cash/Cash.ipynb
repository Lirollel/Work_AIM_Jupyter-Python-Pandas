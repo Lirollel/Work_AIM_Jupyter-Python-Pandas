{
 "cells": [
  {
   "cell_type": "markdown",
   "id": "e4040b33",
   "metadata": {},
   "source": [
    "Заполните данные о необходимых переменных:"
   ]
  },
  {
   "cell_type": "code",
   "execution_count": 1,
   "id": "c600f085",
   "metadata": {},
   "outputs": [],
   "source": [
    "import sys\n",
    "sys.path.append(\"C:\\\\Users\\\\KlimovaAnnaA\\\\Documents\\\\MyFiles\\\\Projects\\\\Working_attributes\")\n",
    "from Imports import * "
   ]
  },
  {
   "cell_type": "code",
   "execution_count": 2,
   "id": "c824f67c",
   "metadata": {},
   "outputs": [
    {
     "name": "stderr",
     "output_type": "stream",
     "text": [
      "C:\\Users\\KlimovaAnnaA\\Documents\\MyFiles\\Projects\\Working_attributes\\Defs.py:92: UserWarning: pandas only supports SQLAlchemy connectable (engine/connection) or database string URI or sqlite3 DBAPI2 connection. Other DBAPI2 objects are not tested. Please consider using SQLAlchemy.\n",
      "  data_export = pd.read_sql(query, con=connection)\n"
     ]
    },
    {
     "data": {
      "text/plain": [
       "'2024-10-31'"
      ]
     },
     "execution_count": 2,
     "metadata": {},
     "output_type": "execute_result"
    }
   ],
   "source": [
    "Today = '31/10/24'\n",
    "\n",
    "query = f\"\"\"\n",
    "select MAX(\"reportDate\") AS max_date\n",
    "from \"RISKACCESS\".\"bankAccountsBalanceDaily\"\n",
    "where \"reportDate\" <= TO_DATE('{Today}', 'DD/MM/YY')\n",
    "\"\"\"\n",
    "data_export = export_from_RISKCUSTOM(query)\n",
    "Today = str(data_export.iloc[0,0])[:10]\n",
    "\n",
    "print_to_excel = True\n",
    "excel_tofolder_on_Z = True\n",
    "\n",
    "Today"
   ]
  },
  {
   "cell_type": "markdown",
   "id": "e3a68f4a",
   "metadata": {},
   "source": [
    "Открываю следующие файлы:"
   ]
  },
  {
   "cell_type": "code",
   "execution_count": 3,
   "id": "2f58abe5",
   "metadata": {},
   "outputs": [
    {
     "data": {
      "text/html": [
       "<div>\n",
       "<style scoped>\n",
       "    .dataframe tbody tr th:only-of-type {\n",
       "        vertical-align: middle;\n",
       "    }\n",
       "\n",
       "    .dataframe tbody tr th {\n",
       "        vertical-align: top;\n",
       "    }\n",
       "\n",
       "    .dataframe thead th {\n",
       "        text-align: right;\n",
       "    }\n",
       "</style>\n",
       "<table border=\"1\" class=\"dataframe\">\n",
       "  <thead>\n",
       "    <tr style=\"text-align: right;\">\n",
       "      <th></th>\n",
       "      <th>##batch_id</th>\n",
       "      <th>##deleted</th>\n",
       "      <th>##inserted</th>\n",
       "      <th>##origin_name</th>\n",
       "      <th>reportDate</th>\n",
       "      <th>holding</th>\n",
       "      <th>buCode</th>\n",
       "      <th>buCountryGroup</th>\n",
       "      <th>buCountryCode</th>\n",
       "      <th>buName</th>\n",
       "      <th>bankName</th>\n",
       "      <th>bankId</th>\n",
       "      <th>bankCountryCode</th>\n",
       "      <th>bankCountryGroup</th>\n",
       "      <th>accountCurrency</th>\n",
       "      <th>accountNumber</th>\n",
       "      <th>accountStatus</th>\n",
       "      <th>balance</th>\n",
       "      <th>balanceUsd</th>\n",
       "      <th>statementDate</th>\n",
       "    </tr>\n",
       "  </thead>\n",
       "  <tbody>\n",
       "    <tr>\n",
       "      <th>0</th>\n",
       "      <td>41633746@WHPROD</td>\n",
       "      <td>N</td>\n",
       "      <td>2024-11-01 16:40:16</td>\n",
       "      <td>WHFLEX</td>\n",
       "      <td>2024-10-31</td>\n",
       "      <td>EUROCHEM</td>\n",
       "      <td>USBFC</td>\n",
       "      <td>(4) US</td>\n",
       "      <td>US</td>\n",
       "      <td>EuroChem North America Corp.</td>\n",
       "      <td>Vast</td>\n",
       "      <td>103902717</td>\n",
       "      <td>US</td>\n",
       "      <td>(4) US</td>\n",
       "      <td>USD</td>\n",
       "      <td>1087053</td>\n",
       "      <td>active</td>\n",
       "      <td>56718.62</td>\n",
       "      <td>56718.62</td>\n",
       "      <td>2024-10-15</td>\n",
       "    </tr>\n",
       "    <tr>\n",
       "      <th>1</th>\n",
       "      <td>41633746@WHPROD</td>\n",
       "      <td>N</td>\n",
       "      <td>2024-11-01 16:40:16</td>\n",
       "      <td>WHFLEX</td>\n",
       "      <td>2024-10-31</td>\n",
       "      <td>EUROCHEM</td>\n",
       "      <td>7100</td>\n",
       "      <td>(1) CH</td>\n",
       "      <td>CH</td>\n",
       "      <td>SUEK AG (Swiss)</td>\n",
       "      <td>An Binh</td>\n",
       "      <td>ABBKVN</td>\n",
       "      <td>VN</td>\n",
       "      <td>(9) other</td>\n",
       "      <td>USD</td>\n",
       "      <td>1221027172080</td>\n",
       "      <td>active</td>\n",
       "      <td>72.92</td>\n",
       "      <td>72.92</td>\n",
       "      <td>2023-08-28</td>\n",
       "    </tr>\n",
       "  </tbody>\n",
       "</table>\n",
       "</div>"
      ],
      "text/plain": [
       "        ##batch_id ##deleted          ##inserted ##origin_name reportDate  \\\n",
       "0  41633746@WHPROD         N 2024-11-01 16:40:16        WHFLEX 2024-10-31   \n",
       "1  41633746@WHPROD         N 2024-11-01 16:40:16        WHFLEX 2024-10-31   \n",
       "\n",
       "    holding buCode buCountryGroup buCountryCode                        buName  \\\n",
       "0  EUROCHEM  USBFC         (4) US            US  EuroChem North America Corp.   \n",
       "1  EUROCHEM   7100         (1) CH            CH               SUEK AG (Swiss)   \n",
       "\n",
       "  bankName     bankId bankCountryCode bankCountryGroup accountCurrency  \\\n",
       "0     Vast  103902717              US           (4) US             USD   \n",
       "1  An Binh     ABBKVN              VN        (9) other             USD   \n",
       "\n",
       "   accountNumber accountStatus   balance  balanceUsd statementDate  \n",
       "0        1087053        active  56718.62    56718.62    2024-10-15  \n",
       "1  1221027172080        active     72.92       72.92    2023-08-28  "
      ]
     },
     "execution_count": 3,
     "metadata": {},
     "output_type": "execute_result"
    }
   ],
   "source": [
    "query = f\"\"\"select * from \"RISKACCESS\".\"bankAccountsBalanceDaily\" where \"reportDate\" = TO_DATE('{Today}', 'YYYY-MM-DD')\"\"\"\n",
    "data_export = export_from_RISKCUSTOM(query)\n",
    "data_export.head(2)"
   ]
  },
  {
   "cell_type": "code",
   "execution_count": 4,
   "id": "0f59c6c5",
   "metadata": {},
   "outputs": [],
   "source": [
    "data_ecl = pd.read_excel('Поправка_по_ECL_Frozen_Cash_(гибкий).xlsx', sheet_name='Общая инф', header=3).drop(index=[5,6,7,8],axis=0)\n",
    "data_ecl['impairment'] = data_ecl['Kusd.1']/data_ecl['Kusd']\n",
    "data_ecl['impairment'] = data_ecl['impairment'].abs().astype('float64').round(3)"
   ]
  },
  {
   "cell_type": "markdown",
   "id": "491c72f5",
   "metadata": {},
   "source": [
    "Произвожу расчеты:"
   ]
  },
  {
   "cell_type": "code",
   "execution_count": 5,
   "id": "636a451d-2097-426a-8ce5-65150fca88a1",
   "metadata": {},
   "outputs": [
    {
     "name": "stderr",
     "output_type": "stream",
     "text": [
      "C:\\Users\\KlimovaAnnaA\\Documents\\MyFiles\\Projects\\Working_attributes\\Defs.py:92: UserWarning: pandas only supports SQLAlchemy connectable (engine/connection) or database string URI or sqlite3 DBAPI2 connection. Other DBAPI2 objects are not tested. Please consider using SQLAlchemy.\n",
      "  data_export = pd.read_sql(query, con=connection)\n",
      "C:\\Users\\KlimovaAnnaA\\Documents\\MyFiles\\Projects\\Working_attributes\\Defs.py:33: FutureWarning: Setting an item of incompatible dtype is deprecated and will raise an error in a future version of pandas. Value '['NAMSALES' 'EX SUEK AG' 'EX SUEK AG' ... 'SUEK RU' 'SUEK RU' 'SUEK RU']' has dtype incompatible with float64, please explicitly cast to a compatible dtype first.\n",
      "  merge_data.loc[merge_data[f'{id_colmn}_merge'] != 'External', 'last_merge'] = merge_data.loc[merge_data[f'{id_colmn}_merge'] != 'External', f'{id_colmn}_merge']\n"
     ]
    }
   ],
   "source": [
    "data_work = data_export\n",
    "data_work['Segment'] = merge_SalesUnits(data_work, col='buCode', merge_col='ocpSegment')\n",
    "data_work['Period'] = '<1M'\n",
    "data_work['impairment'] = data_work.merge(data_ecl, how='left', left_on=['buCode', 'bankName'], right_on=['code EK', 'Bank account'])['impairment'].fillna(0)\n",
    "data_work['Balance_USD'] = data_work['balanceUsd']\n",
    "data_work['balanceUSD_im'] = data_work['Balance_USD'] * (1-data_work['impairment'])\n",
    "# Аня, еще небольшая корректировка, сделай порядок полей для кэша вот таким, пожалуйста:\n",
    "data_work = data_work[['##batch_id','##deleted','##inserted','##origin_name','holding','buCountryGroup','buCountryCode','buCode','buName','bankName','bankId','bankCountryCode','bankCountryGroup','accountCurrency','accountNumber','accountStatus','balance','reportDate','balanceUSD_im','statementDate','Segment','Period','impairment','Balance_USD']]\n",
    "\n",
    "for i in ['EUROCHEM', 'SUEK']:\n",
    "    data_work_h = data_work[data_work['holding'] == i].reset_index(drop=True)\n",
    "    if i == 'SUEK':\n",
    "        data_work_SUEK = data_work_h\n",
    "    if i == 'EUROCHEM':\n",
    "        data_work_Ech = data_work_h"
   ]
  },
  {
   "cell_type": "markdown",
   "id": "cb093e42",
   "metadata": {},
   "source": [
    "Записываю данные в output file:"
   ]
  },
  {
   "cell_type": "code",
   "execution_count": 6,
   "id": "f1d2788c-6389-4bb6-985d-070b4384a3ff",
   "metadata": {},
   "outputs": [],
   "source": [
    "Output_file_SUEK = \"_\".join([str(date.today()), 'SUEK_Cash.xlsx'])\n",
    "Output_file_Ech = \"_\".join([str(date.today()), 'Ech_Cash.xlsx'])\n",
    "Sheet_in_output_file = 'Cash'\n",
    "if excel_tofolder_on_Z == True:\n",
    "    Output_path = 'z:\\\\Anna_Klimova\\\\OCP\\\\Archive\\\\'\n",
    "    Output_file_SUEK = Output_path + Output_file_SUEK\n",
    "    Output_file_Ech = Output_path + Output_file_Ech\n",
    "\n",
    "\n",
    "if print_to_excel == True:\n",
    "    data_work_SUEK.to_excel(Output_file_SUEK, sheet_name = Sheet_in_output_file, index = False)\n",
    "    data_work_Ech.to_excel(Output_file_Ech, sheet_name = Sheet_in_output_file, index = False)"
   ]
  }
 ],
 "metadata": {
  "kernelspec": {
   "display_name": "base",
   "language": "python",
   "name": "python3"
  },
  "language_info": {
   "codemirror_mode": {
    "name": "ipython",
    "version": 3
   },
   "file_extension": ".py",
   "mimetype": "text/x-python",
   "name": "python",
   "nbconvert_exporter": "python",
   "pygments_lexer": "ipython3",
   "version": "3.11.5"
  }
 },
 "nbformat": 4,
 "nbformat_minor": 5
}
