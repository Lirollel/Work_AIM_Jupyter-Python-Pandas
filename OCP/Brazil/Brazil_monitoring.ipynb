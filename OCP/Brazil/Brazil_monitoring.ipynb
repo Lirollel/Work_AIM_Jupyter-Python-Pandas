{
 "cells": [
  {
   "cell_type": "code",
   "execution_count": 1,
   "metadata": {},
   "outputs": [],
   "source": [
    "import sys\n",
    "sys.path.append(\"C:\\\\Users\\\\KlimovaAnnaA\\\\Documents\\\\MyFiles\\\\Projects\\\\Working_attributes\")\n",
    "from Imports import * "
   ]
  },
  {
   "cell_type": "markdown",
   "metadata": {},
   "source": [
    "Variables"
   ]
  },
  {
   "cell_type": "code",
   "execution_count": 305,
   "metadata": {},
   "outputs": [],
   "source": [
    "print_to_excel = True\n",
    "\n",
    "sheet_name = 'FX Exposure_Balance Sheet'\n",
    "month = ['nov','dec']\n",
    "month = month[0]"
   ]
  },
  {
   "cell_type": "code",
   "execution_count": null,
   "metadata": {},
   "outputs": [
    {
     "data": {
      "text/plain": [
       "['BRFTO FX Exposure Model 28.11.2024 - With Pnl & Tax Credit -New Model.xlsx',\n",
       " 'BRSFT FX Exposure Model 28.11.2024 - With Pnl & Tax Credit.xlsx',\n",
       " 'Cópia de BRFHRG FX Exposure 28.11.2024 - With pnl  Tax Credit - New model.xlsx',\n",
       " 'BRFHRG FX Exposure 29.11.2024 - With pnl  Tax Credit - New model.xlsx',\n",
       " 'BRFTO FX Exposure Model 29.11.2024 - With Pnl & Tax Credit -New Model.xlsx',\n",
       " 'BRSFT FX Exposure Model 29.11.2024 - With Pnl & Tax Credit.xlsx']"
      ]
     },
     "execution_count": 284,
     "metadata": {},
     "output_type": "execute_result"
    }
   ],
   "source": [
    "folders = [x for x in os.listdir() if month in x]\n",
    "files_list = []\n",
    "folders_for_df = []\n",
    "for count in range(len(folders)):\n",
    "    files_folder_list = os.listdir(f'{folders[count]}')\n",
    "    files_folder_list = [x for x in files_folder_list if '~' not in x]\n",
    "    files_list += files_folder_list\n",
    "    folders_for_df += [folders[count] for x in range(len(files_folder_list))]\n",
    "files_list"
   ]
  },
  {
   "cell_type": "code",
   "execution_count": 287,
   "metadata": {},
   "outputs": [
    {
     "data": {
      "text/html": [
       "<div>\n",
       "<style scoped>\n",
       "    .dataframe tbody tr th:only-of-type {\n",
       "        vertical-align: middle;\n",
       "    }\n",
       "\n",
       "    .dataframe tbody tr th {\n",
       "        vertical-align: top;\n",
       "    }\n",
       "\n",
       "    .dataframe thead th {\n",
       "        text-align: right;\n",
       "    }\n",
       "</style>\n",
       "<table border=\"1\" class=\"dataframe\">\n",
       "  <thead>\n",
       "    <tr style=\"text-align: right;\">\n",
       "      <th></th>\n",
       "      <th>files</th>\n",
       "      <th>folder</th>\n",
       "      <th>day</th>\n",
       "      <th>company</th>\n",
       "    </tr>\n",
       "  </thead>\n",
       "  <tbody>\n",
       "    <tr>\n",
       "      <th>0</th>\n",
       "      <td>BRFTO FX Exposure Model 28.11.2024 - With Pnl ...</td>\n",
       "      <td>28 nov</td>\n",
       "      <td>28.11.2024</td>\n",
       "      <td>BRFTO</td>\n",
       "    </tr>\n",
       "    <tr>\n",
       "      <th>1</th>\n",
       "      <td>BRSFT FX Exposure Model 28.11.2024 - With Pnl ...</td>\n",
       "      <td>28 nov</td>\n",
       "      <td>28.11.2024</td>\n",
       "      <td>BRSFT</td>\n",
       "    </tr>\n",
       "    <tr>\n",
       "      <th>2</th>\n",
       "      <td>Cópia de BRFHRG FX Exposure 28.11.2024 - With ...</td>\n",
       "      <td>28 nov</td>\n",
       "      <td>28.11.2024</td>\n",
       "      <td>BRFHRG</td>\n",
       "    </tr>\n",
       "    <tr>\n",
       "      <th>3</th>\n",
       "      <td>BRFHRG FX Exposure 29.11.2024 - With pnl  Tax ...</td>\n",
       "      <td>29 nov</td>\n",
       "      <td>29.11.2024</td>\n",
       "      <td>BRFHRG</td>\n",
       "    </tr>\n",
       "    <tr>\n",
       "      <th>4</th>\n",
       "      <td>BRFTO FX Exposure Model 29.11.2024 - With Pnl ...</td>\n",
       "      <td>29 nov</td>\n",
       "      <td>29.11.2024</td>\n",
       "      <td>BRFTO</td>\n",
       "    </tr>\n",
       "    <tr>\n",
       "      <th>5</th>\n",
       "      <td>BRSFT FX Exposure Model 29.11.2024 - With Pnl ...</td>\n",
       "      <td>29 nov</td>\n",
       "      <td>29.11.2024</td>\n",
       "      <td>BRSFT</td>\n",
       "    </tr>\n",
       "  </tbody>\n",
       "</table>\n",
       "</div>"
      ],
      "text/plain": [
       "                                               files  folder         day  \\\n",
       "0  BRFTO FX Exposure Model 28.11.2024 - With Pnl ...  28 nov  28.11.2024   \n",
       "1  BRSFT FX Exposure Model 28.11.2024 - With Pnl ...  28 nov  28.11.2024   \n",
       "2  Cópia de BRFHRG FX Exposure 28.11.2024 - With ...  28 nov  28.11.2024   \n",
       "3  BRFHRG FX Exposure 29.11.2024 - With pnl  Tax ...  29 nov  29.11.2024   \n",
       "4  BRFTO FX Exposure Model 29.11.2024 - With Pnl ...  29 nov  29.11.2024   \n",
       "5  BRSFT FX Exposure Model 29.11.2024 - With Pnl ...  29 nov  29.11.2024   \n",
       "\n",
       "   company  \n",
       "0   BRFTO   \n",
       "1   BRSFT   \n",
       "2  BRFHRG   \n",
       "3  BRFHRG   \n",
       "4   BRFTO   \n",
       "5   BRSFT   "
      ]
     },
     "execution_count": 287,
     "metadata": {},
     "output_type": "execute_result"
    }
   ],
   "source": [
    "files_df = pd.DataFrame({'files':files_list, 'folder':folders_for_df})\n",
    "files_df['day'] = files_df.files.str.extract(r'([0-9]{2}.[0-9]{2}.[0-9]{4})')\n",
    "files_df['company'] = files_df.files.str.extract(r'(BR\\w* )')\n",
    "files_df"
   ]
  },
  {
   "cell_type": "code",
   "execution_count": 292,
   "metadata": {},
   "outputs": [
    {
     "data": {
      "text/html": [
       "<div>\n",
       "<style scoped>\n",
       "    .dataframe tbody tr th:only-of-type {\n",
       "        vertical-align: middle;\n",
       "    }\n",
       "\n",
       "    .dataframe tbody tr th {\n",
       "        vertical-align: top;\n",
       "    }\n",
       "\n",
       "    .dataframe thead th {\n",
       "        text-align: right;\n",
       "    }\n",
       "</style>\n",
       "<table border=\"1\" class=\"dataframe\">\n",
       "  <thead>\n",
       "    <tr style=\"text-align: right;\">\n",
       "      <th></th>\n",
       "      <th>files_old</th>\n",
       "      <th>folder_old</th>\n",
       "      <th>day_old</th>\n",
       "      <th>company</th>\n",
       "      <th>files_new</th>\n",
       "      <th>folder_new</th>\n",
       "      <th>day_new</th>\n",
       "    </tr>\n",
       "  </thead>\n",
       "  <tbody>\n",
       "    <tr>\n",
       "      <th>0</th>\n",
       "      <td>BRFTO FX Exposure Model 28.11.2024 - With Pnl ...</td>\n",
       "      <td>28 nov</td>\n",
       "      <td>28.11.2024</td>\n",
       "      <td>BRFTO</td>\n",
       "      <td>BRFTO FX Exposure Model 29.11.2024 - With Pnl ...</td>\n",
       "      <td>29 nov</td>\n",
       "      <td>29.11.2024</td>\n",
       "    </tr>\n",
       "    <tr>\n",
       "      <th>1</th>\n",
       "      <td>BRSFT FX Exposure Model 28.11.2024 - With Pnl ...</td>\n",
       "      <td>28 nov</td>\n",
       "      <td>28.11.2024</td>\n",
       "      <td>BRSFT</td>\n",
       "      <td>BRSFT FX Exposure Model 29.11.2024 - With Pnl ...</td>\n",
       "      <td>29 nov</td>\n",
       "      <td>29.11.2024</td>\n",
       "    </tr>\n",
       "    <tr>\n",
       "      <th>2</th>\n",
       "      <td>Cópia de BRFHRG FX Exposure 28.11.2024 - With ...</td>\n",
       "      <td>28 nov</td>\n",
       "      <td>28.11.2024</td>\n",
       "      <td>BRFHRG</td>\n",
       "      <td>BRFHRG FX Exposure 29.11.2024 - With pnl  Tax ...</td>\n",
       "      <td>29 nov</td>\n",
       "      <td>29.11.2024</td>\n",
       "    </tr>\n",
       "  </tbody>\n",
       "</table>\n",
       "</div>"
      ],
      "text/plain": [
       "                                           files_old folder_old     day_old  \\\n",
       "0  BRFTO FX Exposure Model 28.11.2024 - With Pnl ...     28 nov  28.11.2024   \n",
       "1  BRSFT FX Exposure Model 28.11.2024 - With Pnl ...     28 nov  28.11.2024   \n",
       "2  Cópia de BRFHRG FX Exposure 28.11.2024 - With ...     28 nov  28.11.2024   \n",
       "\n",
       "   company                                          files_new folder_new  \\\n",
       "0   BRFTO   BRFTO FX Exposure Model 29.11.2024 - With Pnl ...     29 nov   \n",
       "1   BRSFT   BRSFT FX Exposure Model 29.11.2024 - With Pnl ...     29 nov   \n",
       "2  BRFHRG   BRFHRG FX Exposure 29.11.2024 - With pnl  Tax ...     29 nov   \n",
       "\n",
       "      day_new  \n",
       "0  29.11.2024  \n",
       "1  29.11.2024  \n",
       "2  29.11.2024  "
      ]
     },
     "execution_count": 292,
     "metadata": {},
     "output_type": "execute_result"
    }
   ],
   "source": [
    "files_df_merge = files_df.merge(files_df, on='company', suffixes=['_old','_new'])\n",
    "files_df_couple = files_df_merge[(files_df_merge.day_old!=files_df_merge.day_new)&(files_df_merge.day_old<files_df_merge.day_new)]\n",
    "files_df_couple = files_df_couple.reset_index(drop=True)\n",
    "files_df_couple"
   ]
  },
  {
   "cell_type": "markdown",
   "metadata": {},
   "source": [
    "Counting"
   ]
  },
  {
   "cell_type": "code",
   "execution_count": 358,
   "metadata": {},
   "outputs": [
    {
     "name": "stdout",
     "output_type": "stream",
     "text": [
      "28 nov\\BRFTO FX Exposure Model 28.11.2024 - With Pnl & Tax Credit -New Model.xlsx\n",
      "29 nov\\BRFTO FX Exposure Model 29.11.2024 - With Pnl & Tax Credit -New Model.xlsx\n"
     ]
    },
    {
     "name": "stderr",
     "output_type": "stream",
     "text": [
      "C:\\Users\\KlimovaAnnaA\\AppData\\Local\\Temp\\ipykernel_18252\\1828978621.py:60: FutureWarning: Downcasting object dtype arrays on .fillna, .ffill, .bfill is deprecated and will change in a future version. Call result.infer_objects(copy=False) instead. To opt-in to the future behavior, set `pd.set_option('future.no_silent_downcasting', True)`\n",
      "  concat_data.iloc[:,1:] = concat_data.iloc[:,1:].fillna(0).apply(pd.to_numeric)\n",
      "C:\\Users\\KlimovaAnnaA\\AppData\\Local\\Temp\\ipykernel_18252\\1828978621.py:65: FutureWarning: Series.fillna with 'method' is deprecated and will raise in a future version. Use obj.ffill() or obj.bfill() instead.\n",
      "  concat_data.deal_type = concat_data.deal_type.fillna(method='ffill')\n",
      "C:\\Users\\KlimovaAnnaA\\AppData\\Local\\Temp\\ipykernel_18252\\1828978621.py:60: FutureWarning: Downcasting object dtype arrays on .fillna, .ffill, .bfill is deprecated and will change in a future version. Call result.infer_objects(copy=False) instead. To opt-in to the future behavior, set `pd.set_option('future.no_silent_downcasting', True)`\n",
      "  concat_data.iloc[:,1:] = concat_data.iloc[:,1:].fillna(0).apply(pd.to_numeric)\n",
      "C:\\Users\\KlimovaAnnaA\\AppData\\Local\\Temp\\ipykernel_18252\\1828978621.py:65: FutureWarning: Series.fillna with 'method' is deprecated and will raise in a future version. Use obj.ffill() or obj.bfill() instead.\n",
      "  concat_data.deal_type = concat_data.deal_type.fillna(method='ffill')\n",
      "C:\\Users\\KlimovaAnnaA\\AppData\\Local\\Temp\\ipykernel_18252\\1828978621.py:79: FutureWarning: Downcasting object dtype arrays on .fillna, .ffill, .bfill is deprecated and will change in a future version. Call result.infer_objects(copy=False) instead. To opt-in to the future behavior, set `pd.set_option('future.no_silent_downcasting', True)`\n",
      "  old_data_melt = old_data_melt.fillna(0)[old_data_melt.value!=0]\n",
      "C:\\Users\\KlimovaAnnaA\\AppData\\Local\\Temp\\ipykernel_18252\\1828978621.py:80: FutureWarning: Downcasting object dtype arrays on .fillna, .ffill, .bfill is deprecated and will change in a future version. Call result.infer_objects(copy=False) instead. To opt-in to the future behavior, set `pd.set_option('future.no_silent_downcasting', True)`\n",
      "  new_data_melt = new_data_melt.fillna(0)[new_data_melt.value!=0]\n"
     ]
    },
    {
     "name": "stdout",
     "output_type": "stream",
     "text": [
      "28 nov\\BRSFT FX Exposure Model 28.11.2024 - With Pnl & Tax Credit.xlsx\n",
      "29 nov\\BRSFT FX Exposure Model 29.11.2024 - With Pnl & Tax Credit.xlsx\n"
     ]
    },
    {
     "name": "stderr",
     "output_type": "stream",
     "text": [
      "C:\\Users\\KlimovaAnnaA\\AppData\\Local\\Temp\\ipykernel_18252\\1828978621.py:60: FutureWarning: Downcasting object dtype arrays on .fillna, .ffill, .bfill is deprecated and will change in a future version. Call result.infer_objects(copy=False) instead. To opt-in to the future behavior, set `pd.set_option('future.no_silent_downcasting', True)`\n",
      "  concat_data.iloc[:,1:] = concat_data.iloc[:,1:].fillna(0).apply(pd.to_numeric)\n",
      "C:\\Users\\KlimovaAnnaA\\AppData\\Local\\Temp\\ipykernel_18252\\1828978621.py:65: FutureWarning: Series.fillna with 'method' is deprecated and will raise in a future version. Use obj.ffill() or obj.bfill() instead.\n",
      "  concat_data.deal_type = concat_data.deal_type.fillna(method='ffill')\n",
      "C:\\Users\\KlimovaAnnaA\\AppData\\Local\\Temp\\ipykernel_18252\\1828978621.py:60: FutureWarning: Downcasting object dtype arrays on .fillna, .ffill, .bfill is deprecated and will change in a future version. Call result.infer_objects(copy=False) instead. To opt-in to the future behavior, set `pd.set_option('future.no_silent_downcasting', True)`\n",
      "  concat_data.iloc[:,1:] = concat_data.iloc[:,1:].fillna(0).apply(pd.to_numeric)\n",
      "C:\\Users\\KlimovaAnnaA\\AppData\\Local\\Temp\\ipykernel_18252\\1828978621.py:65: FutureWarning: Series.fillna with 'method' is deprecated and will raise in a future version. Use obj.ffill() or obj.bfill() instead.\n",
      "  concat_data.deal_type = concat_data.deal_type.fillna(method='ffill')\n",
      "C:\\Users\\KlimovaAnnaA\\AppData\\Local\\Temp\\ipykernel_18252\\1828978621.py:79: FutureWarning: Downcasting object dtype arrays on .fillna, .ffill, .bfill is deprecated and will change in a future version. Call result.infer_objects(copy=False) instead. To opt-in to the future behavior, set `pd.set_option('future.no_silent_downcasting', True)`\n",
      "  old_data_melt = old_data_melt.fillna(0)[old_data_melt.value!=0]\n",
      "C:\\Users\\KlimovaAnnaA\\AppData\\Local\\Temp\\ipykernel_18252\\1828978621.py:80: FutureWarning: Downcasting object dtype arrays on .fillna, .ffill, .bfill is deprecated and will change in a future version. Call result.infer_objects(copy=False) instead. To opt-in to the future behavior, set `pd.set_option('future.no_silent_downcasting', True)`\n",
      "  new_data_melt = new_data_melt.fillna(0)[new_data_melt.value!=0]\n"
     ]
    },
    {
     "name": "stdout",
     "output_type": "stream",
     "text": [
      "28 nov\\Cópia de BRFHRG FX Exposure 28.11.2024 - With pnl  Tax Credit - New model.xlsx\n",
      "29 nov\\BRFHRG FX Exposure 29.11.2024 - With pnl  Tax Credit - New model.xlsx\n"
     ]
    },
    {
     "name": "stderr",
     "output_type": "stream",
     "text": [
      "C:\\Users\\KlimovaAnnaA\\AppData\\Local\\Temp\\ipykernel_18252\\1828978621.py:60: FutureWarning: Downcasting object dtype arrays on .fillna, .ffill, .bfill is deprecated and will change in a future version. Call result.infer_objects(copy=False) instead. To opt-in to the future behavior, set `pd.set_option('future.no_silent_downcasting', True)`\n",
      "  concat_data.iloc[:,1:] = concat_data.iloc[:,1:].fillna(0).apply(pd.to_numeric)\n",
      "C:\\Users\\KlimovaAnnaA\\AppData\\Local\\Temp\\ipykernel_18252\\1828978621.py:65: FutureWarning: Series.fillna with 'method' is deprecated and will raise in a future version. Use obj.ffill() or obj.bfill() instead.\n",
      "  concat_data.deal_type = concat_data.deal_type.fillna(method='ffill')\n",
      "C:\\Users\\KlimovaAnnaA\\AppData\\Local\\Temp\\ipykernel_18252\\1828978621.py:60: FutureWarning: Downcasting object dtype arrays on .fillna, .ffill, .bfill is deprecated and will change in a future version. Call result.infer_objects(copy=False) instead. To opt-in to the future behavior, set `pd.set_option('future.no_silent_downcasting', True)`\n",
      "  concat_data.iloc[:,1:] = concat_data.iloc[:,1:].fillna(0).apply(pd.to_numeric)\n",
      "C:\\Users\\KlimovaAnnaA\\AppData\\Local\\Temp\\ipykernel_18252\\1828978621.py:65: FutureWarning: Series.fillna with 'method' is deprecated and will raise in a future version. Use obj.ffill() or obj.bfill() instead.\n",
      "  concat_data.deal_type = concat_data.deal_type.fillna(method='ffill')\n",
      "C:\\Users\\KlimovaAnnaA\\AppData\\Local\\Temp\\ipykernel_18252\\1828978621.py:79: FutureWarning: Downcasting object dtype arrays on .fillna, .ffill, .bfill is deprecated and will change in a future version. Call result.infer_objects(copy=False) instead. To opt-in to the future behavior, set `pd.set_option('future.no_silent_downcasting', True)`\n",
      "  old_data_melt = old_data_melt.fillna(0)[old_data_melt.value!=0]\n",
      "C:\\Users\\KlimovaAnnaA\\AppData\\Local\\Temp\\ipykernel_18252\\1828978621.py:80: FutureWarning: Downcasting object dtype arrays on .fillna, .ffill, .bfill is deprecated and will change in a future version. Call result.infer_objects(copy=False) instead. To opt-in to the future behavior, set `pd.set_option('future.no_silent_downcasting', True)`\n",
      "  new_data_melt = new_data_melt.fillna(0)[new_data_melt.value!=0]\n"
     ]
    }
   ],
   "source": [
    "final_df = pd.DataFrame()\n",
    "for string_id in files_df_couple.index:\n",
    "    try:\n",
    "        # read old data\n",
    "        old_path = f'{files_df_couple.loc[string_id, \"folder_old\"]}\\\\{files_df_couple.loc[string_id, \"files_old\"]}'\n",
    "        old_data = pd.read_excel(old_path, sheet_name=sheet_name)\n",
    "        old_data_date = files_df_couple.loc[string_id, \"day_old\"]\n",
    "        print(old_path)\n",
    "\n",
    "        # read new data\n",
    "        new_path = f'{files_df_couple.loc[string_id, \"folder_new\"]}\\\\{files_df_couple.loc[string_id, \"files_new\"]}'\n",
    "        new_data = pd.read_excel(new_path, sheet_name=sheet_name)\n",
    "        new_data_date = files_df_couple.loc[string_id, \"day_new\"]\n",
    "        print(new_path)\n",
    "\n",
    "        company_name = files_df_couple.loc[string_id, \"company\"]\n",
    "\n",
    "        count_data_date = 0\n",
    "        for data_date in [old_data, new_data]:\n",
    "            \n",
    "            count_data_date += 1\n",
    "\n",
    "            list_to_del = [np.nan, '0', 0]\n",
    "            # del empty rows\n",
    "            data_date = data_date[(~data_date.isin(list_to_del)).any(axis=1)]\n",
    "            # del empty cols\n",
    "            cols_list = (~data_date.isin(list_to_del)).any(axis=0)\n",
    "            cols_list = cols_list[cols_list==True].index.tolist()\n",
    "            data_date = data_date[cols_list]\n",
    "\n",
    "            # find string with will be a header\n",
    "            id_header_row = data_date[data_date.apply(lambda row: row.astype(str).str.lower().str.contains('usd denominated').any(), axis=1)].index.item()\n",
    "            data_date = data_date.loc[id_header_row:, :]\n",
    "\n",
    "            # find col with wiil cut df in two parts\n",
    "            cols_list = data_date.apply(lambda row: row.astype(str).str.lower().str.contains('current liabilities').any(), axis=0)\n",
    "            cut_col = cols_list[cols_list==True].index.item()\n",
    "\n",
    "            asserts_part = data_date.loc[:, :cut_col]\n",
    "            liabilities_part = data_date.loc[:, cut_col:]\n",
    "\n",
    "            count = 0\n",
    "            for data in [asserts_part, liabilities_part]:\n",
    "                count += 1\n",
    "                cols_list = ['deals'] + list(map(str, data.loc[id_header_row, :].tolist()))[1:]\n",
    "                data.columns = cols_list\n",
    "                cols_list = [x for x in cols_list if x != 'nan']\n",
    "\n",
    "                data = data[~data.deals.isna()]\n",
    "                id_tail_row = data[data.apply(lambda row: row.astype(str).str.lower().str.contains('total').any(), axis=1)].index.tolist()[0]\n",
    "                data = data.loc[:id_tail_row,:]\n",
    "\n",
    "                if count == 1:\n",
    "                    asserts_part = data[cols_list]\n",
    "                if count == 2:\n",
    "                    liabilities_part = data[cols_list]\n",
    "\n",
    "            # concat parts \n",
    "            concat_data = pd.concat([asserts_part,liabilities_part], axis = 0, ignore_index=True)\n",
    "            concat_data.iloc[:,1:] = concat_data.iloc[:,1:].fillna(0).apply(pd.to_numeric)\n",
    "            # deal type col\n",
    "            deal_type_list = ['current assets', 'non-current assets', 'current liabilities', 'non-current liabilities']\t\n",
    "            concat_data['deal_type'] = concat_data.deals\n",
    "            concat_data.loc[~concat_data.deal_type.str.lower().isin(deal_type_list), 'deal_type'] = np.nan\n",
    "            concat_data.deal_type = concat_data.deal_type.fillna(method='ffill')\n",
    "            # melt data\n",
    "            concat_data_melt = concat_data.melt(value_vars=concat_data.iloc[:,1:].columns.tolist(), value_name='value', id_vars=['deal_type','deals'], var_name='type')\n",
    "\n",
    "            if count_data_date == 1:\n",
    "                    old_data_melt = concat_data_melt\n",
    "                    old_data_melt['day'] = old_data_date\n",
    "            if count_data_date == 2:\n",
    "                    new_data_melt = concat_data_melt\n",
    "                    new_data_melt['day'] = new_data_date\n",
    "\n",
    "        # concat old and new data\n",
    "        old_data_melt['merge_col'] = old_data_melt['deal_type'].str.strip().str.lower() +old_data_melt['deals'].str.strip().str.lower() + old_data_melt['type'].str.strip().str.lower()\n",
    "        new_data_melt['merge_col'] = new_data_melt['deal_type'].str.strip().str.lower() +new_data_melt['deals'].str.strip().str.lower() + new_data_melt['type'].str.strip().str.lower()\n",
    "        old_data_melt = old_data_melt.fillna(0)[old_data_melt.value!=0]\n",
    "        new_data_melt = new_data_melt.fillna(0)[new_data_melt.value!=0]\n",
    "\n",
    "        merge_old_new_data = old_data_melt.merge(new_data_melt, on='merge_col', how='outer', suffixes=['_old', '_new']).fillna(0)\n",
    "        # data without nulls\n",
    "        merge_old_new_data = merge_old_new_data[(merge_old_new_data.value_old!=0)|(merge_old_new_data.value_new!=0)]\n",
    "        # count the difference\n",
    "        merge_old_new_data['diff'] = abs(merge_old_new_data.value_old.abs() - merge_old_new_data.value_new.abs())\n",
    "        merge_old_new_data = merge_old_new_data.sort_values('diff', ascending=False)\n",
    "        merge_old_new_data['pct_diff'] =  merge_old_new_data['diff'] / abs(merge_old_new_data[['value_old','value_new']]).max(axis=1)\n",
    "        # final strokes\n",
    "        merge_old_new_data['company'] = company_name\n",
    "        merge_old_new_data = merge_old_new_data[['company','deal_type_old','deals_old','type_old','day_old','day_new','value_old','value_new','diff','pct_diff']]\n",
    "\n",
    "        final_df = pd.concat([final_df,merge_old_new_data])\n",
    "    except Exception as e:\n",
    "        print(e, 'in string ',string_id)"
   ]
  },
  {
   "cell_type": "code",
   "execution_count": 304,
   "metadata": {},
   "outputs": [
    {
     "data": {
      "text/plain": [
       "array(['BRFTO ', 'BRSFT ', 'BRFHRG '], dtype=object)"
      ]
     },
     "execution_count": 304,
     "metadata": {},
     "output_type": "execute_result"
    }
   ],
   "source": [
    "final_df.company.unique()"
   ]
  },
  {
   "cell_type": "markdown",
   "metadata": {},
   "source": [
    "To excel"
   ]
  },
  {
   "cell_type": "code",
   "execution_count": 359,
   "metadata": {},
   "outputs": [],
   "source": [
    "if print_to_excel == True:\n",
    "    Output_file = f'{str(date.today())}_Brazil_monitoring.xlsx'\n",
    "    with pd.ExcelWriter(Output_file, engine='openpyxl') as writer:\n",
    "        files_df_couple.to_excel(writer, sheet_name=f'{month}_files', index=False)\n",
    "        final_df.to_excel(writer, sheet_name=f'{month}_data', index=False)"
   ]
  }
 ],
 "metadata": {
  "kernelspec": {
   "display_name": "base",
   "language": "python",
   "name": "python3"
  },
  "language_info": {
   "codemirror_mode": {
    "name": "ipython",
    "version": 3
   },
   "file_extension": ".py",
   "mimetype": "text/x-python",
   "name": "python",
   "nbconvert_exporter": "python",
   "pygments_lexer": "ipython3",
   "version": "3.11.5"
  }
 },
 "nbformat": 4,
 "nbformat_minor": 2
}
