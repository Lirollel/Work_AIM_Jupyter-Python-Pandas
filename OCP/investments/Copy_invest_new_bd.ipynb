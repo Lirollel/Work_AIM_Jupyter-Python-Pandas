{
 "cells": [
  {
   "cell_type": "code",
   "execution_count": 1,
   "metadata": {},
   "outputs": [],
   "source": [
    "import sys\n",
    "sys.path.append(\"C:\\\\Users\\\\KlimovaAnnaA\\\\Documents\\\\MyFiles\\\\Projects\\\\Working_attributes\")\n",
    "from Imports import * "
   ]
  },
  {
   "cell_type": "code",
   "execution_count": 2,
   "metadata": {},
   "outputs": [],
   "source": [
    "print_to_excel = True\n",
    "excel_tofolder_on_Z = True"
   ]
  },
  {
   "cell_type": "code",
   "execution_count": 3,
   "metadata": {},
   "outputs": [],
   "source": [
    "excel_data = pd.read_excel('report_invest_31.08.2024.xlsx', sheet_name='snapshot', header=10)\n",
    "today = '2024-08-31'"
   ]
  },
  {
   "cell_type": "code",
   "execution_count": 4,
   "metadata": {},
   "outputs": [
    {
     "name": "stderr",
     "output_type": "stream",
     "text": [
      "C:\\Users\\KlimovaAnnaA\\Documents\\MyFiles\\Projects\\Working_attributes\\Defs.py:88: UserWarning: pandas only supports SQLAlchemy connectable (engine/connection) or database string URI or sqlite3 DBAPI2 connection. Other DBAPI2 objects are not tested. Please consider using SQLAlchemy.\n",
      "  data_export = pd.read_sql(query, con=connection)\n",
      "C:\\Users\\KlimovaAnnaA\\Documents\\MyFiles\\Projects\\Working_attributes\\Defs.py:33: FutureWarning: Setting an item of incompatible dtype is deprecated and will raise an error in a future version of pandas. Value '['SUEK RU' 'SUEK RU' 'SUEK RU' ... 'SGC' 'SGC' 'SGC']' has dtype incompatible with float64, please explicitly cast to a compatible dtype first.\n",
      "  merge_data.loc[merge_data[f'{id_colmn}_merge'] != 'External', 'last_merge'] = merge_data.loc[merge_data[f'{id_colmn}_merge'] != 'External', f'{id_colmn}_merge']\n",
      "C:\\Users\\KlimovaAnnaA\\Documents\\MyFiles\\Projects\\Working_attributes\\Defs.py:88: UserWarning: pandas only supports SQLAlchemy connectable (engine/connection) or database string URI or sqlite3 DBAPI2 connection. Other DBAPI2 objects are not tested. Please consider using SQLAlchemy.\n",
      "  data_export = pd.read_sql(query, con=connection)\n",
      "C:\\Users\\KlimovaAnnaA\\Documents\\MyFiles\\Projects\\Working_attributes\\Defs.py:33: FutureWarning: Setting an item of incompatible dtype is deprecated and will raise an error in a future version of pandas. Value '['SUEK RU' 'SUEK RU' 'SUEK RU' ... 'SGC' 'SGC' 'SGC']' has dtype incompatible with float64, please explicitly cast to a compatible dtype first.\n",
      "  merge_data.loc[merge_data[f'{id_colmn}_merge'] != 'External', 'last_merge'] = merge_data.loc[merge_data[f'{id_colmn}_merge'] != 'External', f'{id_colmn}_merge']\n",
      "C:\\Users\\KlimovaAnnaA\\Documents\\MyFiles\\Projects\\Working_attributes\\Defs.py:88: UserWarning: pandas only supports SQLAlchemy connectable (engine/connection) or database string URI or sqlite3 DBAPI2 connection. Other DBAPI2 objects are not tested. Please consider using SQLAlchemy.\n",
      "  data_export = pd.read_sql(query, con=connection)\n",
      "C:\\Users\\KlimovaAnnaA\\Documents\\MyFiles\\Projects\\Working_attributes\\Defs.py:33: FutureWarning: Setting an item of incompatible dtype is deprecated and will raise an error in a future version of pandas. Value '['SUEK' 'SUEK' 'SUEK' ... 'SUEK' 'SUEK' 'SUEK']' has dtype incompatible with float64, please explicitly cast to a compatible dtype first.\n",
      "  merge_data.loc[merge_data[f'{id_colmn}_merge'] != 'External', 'last_merge'] = merge_data.loc[merge_data[f'{id_colmn}_merge'] != 'External', f'{id_colmn}_merge']\n"
     ]
    }
   ],
   "source": [
    "excel_data_work = excel_data[:].reset_index(drop=True)\n",
    "excel_data_work = excel_data_work.rename(columns={'ПВК|Тип прогноз. данных':'currency', 'Unnamed: 10':'Cpty', 'Балансовая единица':'Comp_code'})\n",
    "# merge\n",
    "excel_data_work['Cpty_code'] = merge_Mapping(col='Cpty', df=excel_data_work)\n",
    "excel_data_work['Cpty_segment'] = merge_SalesUnits(excel_data_work, col='Cpty_code', merge_col='ocpSegment')\n",
    "excel_data_work['Comp_segment'] = merge_SalesUnits(excel_data_work, col='Comp_code', merge_col='ocpSegment')\n",
    "excel_data_work['holding'] = merge_SalesUnits(excel_data_work,'Comp_code',merge_col='holding') \n",
    "# data\n",
    "excel_data_work['КалендГод/Месяц'] = excel_data_work['КалендГод/Месяц'].astype(str)\n",
    "excel_data_work['КалендГод/Месяц'] = pd.to_datetime(excel_data_work['КалендГод/Месяц'], format='%m.%Y')\n",
    "# to usd\n",
    "excel_data_work['Заказ на поставку'] = excel_data_work['Заказ на поставку'].astype('float64').fillna(0)\n",
    "# excel_data_work = add_in_currency_column(excel_data_work,'USD','currency',False,'Заказ на поставку',today)"
   ]
  },
  {
   "cell_type": "code",
   "execution_count": 5,
   "metadata": {},
   "outputs": [],
   "source": [
    "# excel_data_work[excel_data_work.Контрагент==1000079678]"
   ]
  },
  {
   "cell_type": "code",
   "execution_count": 6,
   "metadata": {},
   "outputs": [
    {
     "name": "stderr",
     "output_type": "stream",
     "text": [
      "C:\\Users\\KlimovaAnnaA\\AppData\\Local\\Temp\\ipykernel_15324\\3410221329.py:7: FutureWarning: The provided callable <built-in function sum> is currently using DataFrameGroupBy.sum. In a future version of pandas, the provided callable will be used directly. To keep current behavior pass the string \"sum\" instead.\n",
      "  excel_data_version_pivot = excel_data_work.pivot_table(index=pivot_index_list, columns='Версия', values='Заказ на поставку', aggfunc=sum).reset_index().sort_values(['Comp_code','Контрагент'])\n"
     ]
    }
   ],
   "source": [
    "# create version columns\n",
    "pivot_index_list=['holding','Comp_segment','Comp_code','Завод',\n",
    "       'ПЕ','СПП-элемент','Контрагент','Cpty_segment','Вид проекта','Профиль проекта',\n",
    "       'Проект','Вид затрат','КалендГод/Месяц', 'Календарный год',\n",
    "       'Календарный месяц','currency']\n",
    "excel_data_work['Версия'] = excel_data_work['Версия'].apply(lambda x: 'Версия_0' + str(x))\n",
    "excel_data_version_pivot = excel_data_work.pivot_table(index=pivot_index_list, columns='Версия', values='Заказ на поставку', aggfunc=sum).reset_index().sort_values(['Comp_code','Контрагент'])\n",
    "new_cols = ['Версия_045', 'Версия_075', 'Версия_035', 'Версия_085']\n",
    "# excel_data_version_pivot"
   ]
  },
  {
   "cell_type": "code",
   "execution_count": 7,
   "metadata": {},
   "outputs": [
    {
     "data": {
      "text/plain": [
       "array(['EUROCHEM', 'SUEK'], dtype=object)"
      ]
     },
     "execution_count": 7,
     "metadata": {},
     "output_type": "execute_result"
    }
   ],
   "source": [
    "excel_data_work['holding'].unique()"
   ]
  },
  {
   "cell_type": "code",
   "execution_count": 8,
   "metadata": {},
   "outputs": [],
   "source": [
    "# compaire values\n",
    "excel_data_version_pivot[new_cols] = excel_data_version_pivot[new_cols].fillna(0)\n",
    "excel_data_version_pivot['Amount'] = np.nan\n",
    "exit_data = pd.DataFrame()\n",
    "for holding in ['EUROCHEM', 'SUEK']:\n",
    "    holding_data = excel_data_version_pivot[excel_data_version_pivot.holding == holding]\n",
    "    if holding == 'EUROCHEM':\n",
    "    # Для БЕ из holding = Eurochem:\n",
    "        # Если сумма платежей (значение поля \" версия \" = 075) меньше или равна сумме освоения (значение поля \" версия \" = 085), то берем платежи (значение поля \" версия \" = 075).\n",
    "        holding_data.loc[holding_data['Версия_075']<=holding_data['Версия_085'], 'Amount'] = holding_data.loc[holding_data['Версия_075']<=holding_data['Версия_085'], 'Версия_075']\n",
    "        # Если сумма платежей (значение поля \" версия \" = 075) больше суммы освоения (значение поля \" версия \" = 085), то берем сумму освоения (значение поля \" версия \" = 085).\n",
    "        holding_data.loc[holding_data['Версия_075']>holding_data['Версия_085'], 'Amount'] = holding_data.loc[holding_data['Версия_075']>holding_data['Версия_085'], 'Версия_085']\n",
    "    if holding == 'SUEK':\n",
    "    # Для БЕ из holding = SUEK:\n",
    "        # Если сумма платежей (значение поля \" версия \" = 045) меньше или равна сумме освоения (значение поля \" версия \" = 035), то берем платежи (значение поля \" версия \" = 045).\n",
    "        holding_data.loc[holding_data['Версия_045']<=holding_data['Версия_035'], 'Amount'] = holding_data.loc[holding_data['Версия_045']<=holding_data['Версия_035'], 'Версия_045']\n",
    "        # Если сумма платежей (значение поля \" версия \" = 045) больше суммы освоения (значение поля \" версия \" = 035), то берем сумму освоения (значение поля \" версия \" = 035).\n",
    "        holding_data.loc[holding_data['Версия_045']>holding_data['Версия_035'], 'Amount'] = holding_data.loc[holding_data['Версия_045']>holding_data['Версия_035'], 'Версия_035']\n",
    "    exit_data = pd.concat([exit_data, holding_data])"
   ]
  },
  {
   "cell_type": "code",
   "execution_count": 9,
   "metadata": {},
   "outputs": [
    {
     "name": "stderr",
     "output_type": "stream",
     "text": [
      "C:\\Users\\KlimovaAnnaA\\Documents\\MyFiles\\Projects\\Working_attributes\\Defs.py:88: UserWarning: pandas only supports SQLAlchemy connectable (engine/connection) or database string URI or sqlite3 DBAPI2 connection. Other DBAPI2 objects are not tested. Please consider using SQLAlchemy.\n",
      "  data_export = pd.read_sql(query, con=connection)\n",
      "C:\\Users\\KlimovaAnnaA\\Documents\\MyFiles\\Projects\\Working_attributes\\Defs.py:158: FutureWarning: Downcasting behavior in `replace` is deprecated and will be removed in a future version. To retain the old behavior, explicitly call `result.infer_objects(copy=False)`. To opt-in to the future behavior, set `pd.set_option('future.no_silent_downcasting', True)`\n",
      "  df[f'Coef_to_{CCY_to}'] = df.date_CCY_from.replace(coef_dict).fillna(0)\n"
     ]
    }
   ],
   "source": [
    "exit_data = add_in_currency_column(exit_data, CCY_to='USD', col_with_CCY='currency', col_with_VAL='Amount', DATE=today, date_is_column=False)"
   ]
  },
  {
   "cell_type": "code",
   "execution_count": 15,
   "metadata": {},
   "outputs": [
    {
     "name": "stderr",
     "output_type": "stream",
     "text": [
      "C:\\Users\\KlimovaAnnaA\\AppData\\Local\\Temp\\ipykernel_15324\\2994966810.py:4: FutureWarning: The provided callable <built-in function sum> is currently using DataFrameGroupBy.sum. In a future version of pandas, the provided callable will be used directly. To keep current behavior pass the string \"sum\" instead.\n",
      "  pivot_data = pivot_data.groupby(as_index=False, by=['holding','Comp_code','Comp_segment','currency','Календарный год','Календарный месяц','Cpty_segment','КалендГод/Месяц'])[['Amount','Amount_in_USD']].agg(sum)\n"
     ]
    }
   ],
   "source": [
    "# Аня, в файлик по инвестициям надо добавить еще одну страницу, куда положить агрегированный набор данных по сокращенному списку полей. \n",
    "# Поля следующие. По расчётным полям amount поставить фильтр <>0\n",
    "pivot_data = exit_data[exit_data.Amount!=0]\n",
    "pivot_data = pivot_data.groupby(as_index=False, by=['holding','Comp_code','Comp_segment','currency','Календарный год','Календарный месяц','Cpty_segment','КалендГод/Месяц'])[['Amount','Amount_in_USD']].agg(sum)"
   ]
  },
  {
   "cell_type": "code",
   "execution_count": 16,
   "metadata": {},
   "outputs": [],
   "source": [
    "### to excel\n",
    "for holding in ['EUROCHEM', 'SUEK']:\n",
    "    data = 0\n",
    "    if print_to_excel == True:\n",
    "        Output_file = f'{str(date.today())}_Invest_nv_{holding}.xlsx'\n",
    "        if excel_tofolder_on_Z == True:\n",
    "            Output_path = 'z:\\\\Anna_Klimova\\\\OCP\\\\Archive\\\\'\n",
    "            Output_file = Output_path + Output_file\n",
    "        data = exit_data[exit_data.holding==holding]\n",
    "        data.to_excel(Output_file, sheet_name='Invest', index=False)\n",
    "        new_list(pivot_data[pivot_data.holding==holding], Output_file, sheet_name='pivot')"
   ]
  }
 ],
 "metadata": {
  "kernelspec": {
   "display_name": "base",
   "language": "python",
   "name": "python3"
  },
  "language_info": {
   "codemirror_mode": {
    "name": "ipython",
    "version": 3
   },
   "file_extension": ".py",
   "mimetype": "text/x-python",
   "name": "python",
   "nbconvert_exporter": "python",
   "pygments_lexer": "ipython3",
   "version": "3.11.5"
  },
  "orig_nbformat": 4
 },
 "nbformat": 4,
 "nbformat_minor": 2
}
