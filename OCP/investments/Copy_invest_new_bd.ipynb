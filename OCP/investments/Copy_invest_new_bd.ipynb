{
 "cells": [
  {
   "cell_type": "code",
   "execution_count": 1,
   "metadata": {},
   "outputs": [],
   "source": [
    "import os\n",
    "import pandas as pd\n",
    "import numpy as np\n",
    "from datetime import date\n",
    "import sys\n",
    "sys.path.append(\"C:\\\\Users\\\\KlimovaAnnaA\\\\Documents\\\\MyFiles\\\\Projects\\\\OCP\")\n",
    "from Defs import merge_SalesUnits\n",
    "from Defs import merge_Mapping\n",
    "from Defs import Period\n",
    "from Defs import new_list\n",
    "from Defs import export_from_RISKCUSTOM\n",
    "from Defs import add_in_currency_column\n",
    "from Defs import concat_columns\n",
    "from Defs import export_from_WHWEEK\n",
    "from Defs import CCY_tech_dict"
   ]
  },
  {
   "cell_type": "code",
   "execution_count": 2,
   "metadata": {},
   "outputs": [],
   "source": [
    "print_to_excel = True\n",
    "excel_tofolder_on_Z = True"
   ]
  },
  {
   "cell_type": "code",
   "execution_count": 3,
   "metadata": {},
   "outputs": [],
   "source": [
    "excel_data = pd.read_excel('report_invest_31.07.2024.xlsx', sheet_name='snapshot', header=10)\n",
    "today = '2024-07-31'"
   ]
  },
  {
   "cell_type": "code",
   "execution_count": 4,
   "metadata": {},
   "outputs": [
    {
     "name": "stderr",
     "output_type": "stream",
     "text": [
      "C:\\Users\\KlimovaAnnaA\\Documents\\MyFiles\\Projects\\OCP\\Defs.py:99: UserWarning: pandas only supports SQLAlchemy connectable (engine/connection) or database string URI or sqlite3 DBAPI2 connection. Other DBAPI2 objects are not tested. Please consider using SQLAlchemy.\n",
      "  data_export = pd.read_sql(query, con=connection)\n",
      "C:\\Users\\KlimovaAnnaA\\Documents\\MyFiles\\Projects\\OCP\\Defs.py:44: FutureWarning: Setting an item of incompatible dtype is deprecated and will raise an error in a future version of pandas. Value '['SUEK RU' 'SUEK RU' 'SUEK RU' ... 'SGC' 'SGC' 'SGC']' has dtype incompatible with float64, please explicitly cast to a compatible dtype first.\n",
      "  merge_data.loc[merge_data[f'{id_colmn}_merge'] != 'External', 'last_merge'] = merge_data.loc[merge_data[f'{id_colmn}_merge'] != 'External', f'{id_colmn}_merge']\n",
      "C:\\Users\\KlimovaAnnaA\\Documents\\MyFiles\\Projects\\OCP\\Defs.py:99: UserWarning: pandas only supports SQLAlchemy connectable (engine/connection) or database string URI or sqlite3 DBAPI2 connection. Other DBAPI2 objects are not tested. Please consider using SQLAlchemy.\n",
      "  data_export = pd.read_sql(query, con=connection)\n",
      "C:\\Users\\KlimovaAnnaA\\Documents\\MyFiles\\Projects\\OCP\\Defs.py:44: FutureWarning: Setting an item of incompatible dtype is deprecated and will raise an error in a future version of pandas. Value '['SUEK RU' 'SUEK RU' 'SUEK RU' ... 'SGC' 'SGC' 'SGC']' has dtype incompatible with float64, please explicitly cast to a compatible dtype first.\n",
      "  merge_data.loc[merge_data[f'{id_colmn}_merge'] != 'External', 'last_merge'] = merge_data.loc[merge_data[f'{id_colmn}_merge'] != 'External', f'{id_colmn}_merge']\n",
      "C:\\Users\\KlimovaAnnaA\\Documents\\MyFiles\\Projects\\OCP\\Defs.py:99: UserWarning: pandas only supports SQLAlchemy connectable (engine/connection) or database string URI or sqlite3 DBAPI2 connection. Other DBAPI2 objects are not tested. Please consider using SQLAlchemy.\n",
      "  data_export = pd.read_sql(query, con=connection)\n",
      "C:\\Users\\KlimovaAnnaA\\Documents\\MyFiles\\Projects\\OCP\\Defs.py:44: FutureWarning: Setting an item of incompatible dtype is deprecated and will raise an error in a future version of pandas. Value '['SUEK' 'SUEK' 'SUEK' ... 'SUEK' 'SUEK' 'SUEK']' has dtype incompatible with float64, please explicitly cast to a compatible dtype first.\n",
      "  merge_data.loc[merge_data[f'{id_colmn}_merge'] != 'External', 'last_merge'] = merge_data.loc[merge_data[f'{id_colmn}_merge'] != 'External', f'{id_colmn}_merge']\n"
     ]
    }
   ],
   "source": [
    "excel_data_work = excel_data[:].reset_index(drop=True)\n",
    "excel_data_work = excel_data_work.rename(columns={'ПВК|Тип прогноз. данных':'currency', 'Unnamed: 10':'Cpty', 'Балансовая единица':'Comp_code'})\n",
    "# merge\n",
    "excel_data_work['Cpty_code'] = merge_Mapping(col='Cpty', df=excel_data_work)\n",
    "excel_data_work['Cpty_segment'] = merge_SalesUnits(excel_data_work, col='Cpty_code', merge_col='ocpSegment')\n",
    "excel_data_work['Comp_segment'] = merge_SalesUnits(excel_data_work, col='Comp_code', merge_col='ocpSegment')\n",
    "excel_data_work['holding'] = merge_SalesUnits(excel_data_work,'Comp_code',merge_col='holding') \n",
    "# data\n",
    "excel_data_work['КалендГод/Месяц'] = excel_data_work['КалендГод/Месяц'].astype(str)\n",
    "excel_data_work['КалендГод/Месяц'] = pd.to_datetime(excel_data_work['КалендГод/Месяц'], format='%m.%Y')\n",
    "# to usd\n",
    "excel_data_work['Заказ на поставку'] = excel_data_work['Заказ на поставку'].astype('float64').fillna(0)\n",
    "# excel_data_work = add_in_currency_column(excel_data_work,'USD','currency',False,'Заказ на поставку',today)"
   ]
  },
  {
   "cell_type": "code",
   "execution_count": 5,
   "metadata": {},
   "outputs": [],
   "source": [
    "# excel_data_work[excel_data_work.Контрагент==1000079678]"
   ]
  },
  {
   "cell_type": "code",
   "execution_count": 6,
   "metadata": {},
   "outputs": [
    {
     "name": "stderr",
     "output_type": "stream",
     "text": [
      "C:\\Users\\KlimovaAnnaA\\AppData\\Local\\Temp\\ipykernel_20112\\3410221329.py:7: FutureWarning: The provided callable <built-in function sum> is currently using DataFrameGroupBy.sum. In a future version of pandas, the provided callable will be used directly. To keep current behavior pass the string \"sum\" instead.\n",
      "  excel_data_version_pivot = excel_data_work.pivot_table(index=pivot_index_list, columns='Версия', values='Заказ на поставку', aggfunc=sum).reset_index().sort_values(['Comp_code','Контрагент'])\n"
     ]
    }
   ],
   "source": [
    "# create version columns\n",
    "pivot_index_list=['holding','Comp_segment','Comp_code','Завод',\n",
    "       'ПЕ','СПП-элемент','Контрагент','Cpty_segment','Вид проекта','Профиль проекта',\n",
    "       'Проект','Вид затрат','КалендГод/Месяц', 'Календарный год',\n",
    "       'Календарный месяц','currency']\n",
    "excel_data_work['Версия'] = excel_data_work['Версия'].apply(lambda x: 'Версия_0' + str(x))\n",
    "excel_data_version_pivot = excel_data_work.pivot_table(index=pivot_index_list, columns='Версия', values='Заказ на поставку', aggfunc=sum).reset_index().sort_values(['Comp_code','Контрагент'])\n",
    "new_cols = ['Версия_045', 'Версия_075', 'Версия_035', 'Версия_085']\n",
    "# excel_data_version_pivot"
   ]
  },
  {
   "cell_type": "code",
   "execution_count": 7,
   "metadata": {},
   "outputs": [
    {
     "data": {
      "text/plain": [
       "array(['EUROCHEM', 'SUEK'], dtype=object)"
      ]
     },
     "execution_count": 7,
     "metadata": {},
     "output_type": "execute_result"
    }
   ],
   "source": [
    "excel_data_work['holding'].unique()"
   ]
  },
  {
   "cell_type": "code",
   "execution_count": 8,
   "metadata": {},
   "outputs": [],
   "source": [
    "# compaire values\n",
    "excel_data_version_pivot[new_cols] = excel_data_version_pivot[new_cols].fillna(0)\n",
    "excel_data_version_pivot['Amount'] = np.nan\n",
    "exit_data = pd.DataFrame()\n",
    "for holding in ['EUROCHEM', 'SUEK']:\n",
    "    holding_data = excel_data_version_pivot[excel_data_version_pivot.holding == holding]\n",
    "    if holding == 'EUROCHEM':\n",
    "    # Для БЕ из holding = Eurochem:\n",
    "        # Если сумма платежей (значение поля \" версия \" = 075) меньше или равна сумме освоения (значение поля \" версия \" = 085), то берем платежи (значение поля \" версия \" = 075).\n",
    "        holding_data.loc[holding_data['Версия_075']<=holding_data['Версия_085'], 'Amount'] = holding_data.loc[holding_data['Версия_075']<=holding_data['Версия_085'], 'Версия_075']\n",
    "        # Если сумма платежей (значение поля \" версия \" = 075) больше суммы освоения (значение поля \" версия \" = 085), то берем сумму освоения (значение поля \" версия \" = 085).\n",
    "        holding_data.loc[holding_data['Версия_075']>holding_data['Версия_085'], 'Amount'] = holding_data.loc[holding_data['Версия_075']>holding_data['Версия_085'], 'Версия_085']\n",
    "    if holding == 'SUEK':\n",
    "    # Для БЕ из holding = SUEK:\n",
    "        # Если сумма платежей (значение поля \" версия \" = 045) меньше или равна сумме освоения (значение поля \" версия \" = 035), то берем платежи (значение поля \" версия \" = 045).\n",
    "        holding_data.loc[holding_data['Версия_045']<=holding_data['Версия_035'], 'Amount'] = holding_data.loc[holding_data['Версия_045']<=holding_data['Версия_035'], 'Версия_045']\n",
    "        # Если сумма платежей (значение поля \" версия \" = 045) больше суммы освоения (значение поля \" версия \" = 035), то берем сумму освоения (значение поля \" версия \" = 035).\n",
    "        holding_data.loc[holding_data['Версия_045']>holding_data['Версия_035'], 'Amount'] = holding_data.loc[holding_data['Версия_045']>holding_data['Версия_035'], 'Версия_035']\n",
    "    exit_data = pd.concat([exit_data, holding_data])"
   ]
  },
  {
   "cell_type": "code",
   "execution_count": 9,
   "metadata": {},
   "outputs": [],
   "source": [
    "# exit_data[exit_data.Контрагент==1000079678]\n",
    "# exit_data[exit_data.holding=='SUEK']"
   ]
  },
  {
   "cell_type": "code",
   "execution_count": 10,
   "metadata": {},
   "outputs": [
    {
     "name": "stderr",
     "output_type": "stream",
     "text": [
      "C:\\Users\\KlimovaAnnaA\\Documents\\MyFiles\\Projects\\OCP\\Defs.py:99: UserWarning: pandas only supports SQLAlchemy connectable (engine/connection) or database string URI or sqlite3 DBAPI2 connection. Other DBAPI2 objects are not tested. Please consider using SQLAlchemy.\n",
      "  data_export = pd.read_sql(query, con=connection)\n",
      "C:\\Users\\KlimovaAnnaA\\Documents\\MyFiles\\Projects\\OCP\\Defs.py:168: FutureWarning: Downcasting behavior in `replace` is deprecated and will be removed in a future version. To retain the old behavior, explicitly call `result.infer_objects(copy=False)`. To opt-in to the future behavior, set `pd.set_option('future.no_silent_downcasting', True)`\n",
      "  df[f'Coef_to_{CCY_to}'] = df.date_CCY_from.replace(coef_dict).fillna(0)\n"
     ]
    }
   ],
   "source": [
    "exit_data = add_in_currency_column(exit_data, CCY_to='USD', col_with_CCY='currency', col_with_VAL='Amount', DATE=today, date_is_column=False)"
   ]
  },
  {
   "cell_type": "code",
   "execution_count": 11,
   "metadata": {},
   "outputs": [
    {
     "data": {
      "text/html": [
       "<div>\n",
       "<style scoped>\n",
       "    .dataframe tbody tr th:only-of-type {\n",
       "        vertical-align: middle;\n",
       "    }\n",
       "\n",
       "    .dataframe tbody tr th {\n",
       "        vertical-align: top;\n",
       "    }\n",
       "\n",
       "    .dataframe thead th {\n",
       "        text-align: right;\n",
       "    }\n",
       "</style>\n",
       "<table border=\"1\" class=\"dataframe\">\n",
       "  <thead>\n",
       "    <tr style=\"text-align: right;\">\n",
       "      <th>Версия</th>\n",
       "      <th>holding</th>\n",
       "      <th>Comp_segment</th>\n",
       "      <th>Comp_code</th>\n",
       "      <th>Завод</th>\n",
       "      <th>ПЕ</th>\n",
       "      <th>СПП-элемент</th>\n",
       "      <th>Контрагент</th>\n",
       "      <th>Cpty_segment</th>\n",
       "      <th>Вид проекта</th>\n",
       "      <th>Профиль проекта</th>\n",
       "      <th>...</th>\n",
       "      <th>Календарный год</th>\n",
       "      <th>Календарный месяц</th>\n",
       "      <th>currency</th>\n",
       "      <th>Версия_035</th>\n",
       "      <th>Версия_045</th>\n",
       "      <th>Версия_075</th>\n",
       "      <th>Версия_085</th>\n",
       "      <th>Amount</th>\n",
       "      <th>Coef_to_USD</th>\n",
       "      <th>Amount_in_USD</th>\n",
       "    </tr>\n",
       "  </thead>\n",
       "  <tbody>\n",
       "  </tbody>\n",
       "</table>\n",
       "<p>0 rows × 23 columns</p>\n",
       "</div>"
      ],
      "text/plain": [
       "Empty DataFrame\n",
       "Columns: [holding, Comp_segment, Comp_code, Завод, ПЕ, СПП-элемент, Контрагент, Cpty_segment, Вид проекта, Профиль проекта, Проект, Вид затрат, КалендГод/Месяц, Календарный год, Календарный месяц, currency, Версия_035, Версия_045, Версия_075, Версия_085, Amount, Coef_to_USD, Amount_in_USD]\n",
       "Index: []\n",
       "\n",
       "[0 rows x 23 columns]"
      ]
     },
     "execution_count": 11,
     "metadata": {},
     "output_type": "execute_result"
    }
   ],
   "source": [
    "exit_data.loc[exit_data.Coef_to_USD.isna(), 'currency'].drop_duplicates()\n",
    "exit_data.loc[exit_data.Coef_to_USD.isna()]"
   ]
  },
  {
   "cell_type": "code",
   "execution_count": 12,
   "metadata": {},
   "outputs": [],
   "source": [
    "### to excel\n",
    "for holding in ['EUROCHEM', 'SUEK']:\n",
    "    data = 0\n",
    "    if print_to_excel == True:\n",
    "        Output_file = f'{str(date.today())}_Invest_nv_{holding}.xlsx'\n",
    "        if excel_tofolder_on_Z == True:\n",
    "            Output_path = 'z:\\\\Anna_Klimova\\\\OCP\\\\Archive\\\\'\n",
    "            Output_file = Output_path + Output_file\n",
    "        data = exit_data[exit_data.holding==holding]\n",
    "        data.to_excel(Output_file, sheet_name='Invest', index=False)"
   ]
  },
  {
   "cell_type": "code",
   "execution_count": 13,
   "metadata": {},
   "outputs": [
    {
     "ename": "AssertionError",
     "evalue": "",
     "output_type": "error",
     "traceback": [
      "\u001b[1;31m---------------------------------------------------------------------------\u001b[0m",
      "\u001b[1;31mAssertionError\u001b[0m                            Traceback (most recent call last)",
      "Cell \u001b[1;32mIn[13], line 1\u001b[0m\n\u001b[1;32m----> 1\u001b[0m \u001b[38;5;28;01massert\u001b[39;00m \u001b[38;5;241m2\u001b[39m\u001b[38;5;241m==\u001b[39m\u001b[38;5;241m1\u001b[39m\n",
      "\u001b[1;31mAssertionError\u001b[0m: "
     ]
    }
   ],
   "source": [
    "assert 2==1"
   ]
  },
  {
   "cell_type": "code",
   "execution_count": null,
   "metadata": {},
   "outputs": [
    {
     "name": "stderr",
     "output_type": "stream",
     "text": [
      "C:\\Users\\KlimovaAnnaA\\AppData\\Local\\Temp\\ipykernel_22624\\4027979718.py:3: FutureWarning: The provided callable <built-in function sum> is currently using DataFrameGroupBy.sum. In a future version of pandas, the provided callable will be used directly. To keep current behavior pass the string \"sum\" instead.\n",
      "  old_BD_data_SUEK_pivot = old_BD_data_SUEK.pivot_table(index='Unnamed: 5',values='Законтрактовано.2',aggfunc=sum).reset_index().rename(columns={'Unnamed: 5':'БЕ','Законтрактовано.2':'Сумма_итого_законтрактровнано'})\n",
      "C:\\Users\\KlimovaAnnaA\\AppData\\Local\\Temp\\ipykernel_22624\\4027979718.py:5: FutureWarning: The provided callable <built-in function sum> is currently using DataFrameGroupBy.sum. In a future version of pandas, the provided callable will be used directly. To keep current behavior pass the string \"sum\" instead.\n",
      "  old_BD_data_EURO_pivot = old_BD_data_EURO.pivot_table(index='Unnamed: 5',values='Законтрактовано.2',aggfunc=sum).reset_index().rename(columns={'Unnamed: 5':'БЕ','Законтрактовано.2':'Сумма_итого_законтрактровнано'})\n"
     ]
    },
    {
     "data": {
      "text/html": [
       "<div>\n",
       "<style scoped>\n",
       "    .dataframe tbody tr th:only-of-type {\n",
       "        vertical-align: middle;\n",
       "    }\n",
       "\n",
       "    .dataframe tbody tr th {\n",
       "        vertical-align: top;\n",
       "    }\n",
       "\n",
       "    .dataframe thead th {\n",
       "        text-align: right;\n",
       "    }\n",
       "</style>\n",
       "<table border=\"1\" class=\"dataframe\">\n",
       "  <thead>\n",
       "    <tr style=\"text-align: right;\">\n",
       "      <th></th>\n",
       "      <th>БЕ</th>\n",
       "      <th>Сумма_итого_законтрактровнано</th>\n",
       "    </tr>\n",
       "  </thead>\n",
       "  <tbody>\n",
       "    <tr>\n",
       "      <th>0</th>\n",
       "      <td>1100</td>\n",
       "      <td>156069493.09</td>\n",
       "    </tr>\n",
       "    <tr>\n",
       "      <th>1</th>\n",
       "      <td>1300</td>\n",
       "      <td>72101.36</td>\n",
       "    </tr>\n",
       "    <tr>\n",
       "      <th>2</th>\n",
       "      <td>1600</td>\n",
       "      <td>19216.02</td>\n",
       "    </tr>\n",
       "    <tr>\n",
       "      <th>3</th>\n",
       "      <td>1I00</td>\n",
       "      <td>104629.4</td>\n",
       "    </tr>\n",
       "    <tr>\n",
       "      <th>4</th>\n",
       "      <td>1M00</td>\n",
       "      <td>1584353.68</td>\n",
       "    </tr>\n",
       "    <tr>\n",
       "      <th>...</th>\n",
       "      <td>...</td>\n",
       "      <td>...</td>\n",
       "    </tr>\n",
       "    <tr>\n",
       "      <th>76</th>\n",
       "      <td>Y100</td>\n",
       "      <td>155526600.61</td>\n",
       "    </tr>\n",
       "    <tr>\n",
       "      <th>77</th>\n",
       "      <td>Y300</td>\n",
       "      <td>18343444.65</td>\n",
       "    </tr>\n",
       "    <tr>\n",
       "      <th>78</th>\n",
       "      <td>Y500</td>\n",
       "      <td>26009.73</td>\n",
       "    </tr>\n",
       "    <tr>\n",
       "      <th>79</th>\n",
       "      <td>Y600</td>\n",
       "      <td>0</td>\n",
       "    </tr>\n",
       "    <tr>\n",
       "      <th>80</th>\n",
       "      <td>Y800</td>\n",
       "      <td>58092.71</td>\n",
       "    </tr>\n",
       "  </tbody>\n",
       "</table>\n",
       "<p>81 rows × 2 columns</p>\n",
       "</div>"
      ],
      "text/plain": [
       "      БЕ Сумма_итого_законтрактровнано\n",
       "0   1100                  156069493.09\n",
       "1   1300                      72101.36\n",
       "2   1600                      19216.02\n",
       "3   1I00                      104629.4\n",
       "4   1M00                    1584353.68\n",
       "..   ...                           ...\n",
       "76  Y100                  155526600.61\n",
       "77  Y300                   18343444.65\n",
       "78  Y500                      26009.73\n",
       "79  Y600                             0\n",
       "80  Y800                      58092.71\n",
       "\n",
       "[81 rows x 2 columns]"
      ]
     },
     "execution_count": 103,
     "metadata": {},
     "output_type": "execute_result"
    }
   ],
   "source": [
    "# compaire with old BD\n",
    "old_BD_data_SUEK = pd.read_excel('2024-06-13_SUEK_Invest.xlsx',header=3).drop(0,axis=0) \n",
    "old_BD_data_SUEK_pivot = old_BD_data_SUEK.pivot_table(index='Unnamed: 5',values='Законтрактовано.2',aggfunc=sum).reset_index().rename(columns={'Unnamed: 5':'БЕ','Законтрактовано.2':'Сумма_итого_законтрактровнано'})\n",
    "old_BD_data_EURO = pd.read_excel('2024-06-13_EUROCHEM_Invest.xlsx',header=3).drop(0,axis=0) \n",
    "old_BD_data_EURO_pivot = old_BD_data_EURO.pivot_table(index='Unnamed: 5',values='Законтрактовано.2',aggfunc=sum).reset_index().rename(columns={'Unnamed: 5':'БЕ','Законтрактовано.2':'Сумма_итого_законтрактровнано'})\n",
    "old_BD_data_SUEK_pivot"
   ]
  },
  {
   "cell_type": "code",
   "execution_count": null,
   "metadata": {},
   "outputs": [
    {
     "name": "stderr",
     "output_type": "stream",
     "text": [
      "C:\\Users\\KlimovaAnnaA\\AppData\\Local\\Temp\\ipykernel_22624\\307249084.py:1: FutureWarning: The provided callable <built-in function sum> is currently using DataFrameGroupBy.sum. In a future version of pandas, the provided callable will be used directly. To keep current behavior pass the string \"sum\" instead.\n",
      "  compaire_to_print = df_to_print.pivot_table(index='Балансовая единица',aggfunc=sum,values='amount').reset_index().merge(old_BD_data_SUEK_pivot,how='outer',left_on='Балансовая единица',right_on='БЕ').sort_values('amount',ascending=False)\n",
      "C:\\Users\\KlimovaAnnaA\\AppData\\Local\\Temp\\ipykernel_22624\\307249084.py:2: FutureWarning: Downcasting object dtype arrays on .fillna, .ffill, .bfill is deprecated and will change in a future version. Call result.infer_objects(copy=False) instead. To opt-in to the future behavior, set `pd.set_option('future.no_silent_downcasting', True)`\n",
      "  compaire_to_print = compaire_to_print.fillna(0)\n"
     ]
    }
   ],
   "source": [
    "compaire_to_print = df_to_print.pivot_table(index='Балансовая единица',aggfunc=sum,values='amount').reset_index().merge(old_BD_data_SUEK_pivot,how='outer',left_on='Балансовая единица',right_on='БЕ').sort_values('amount',ascending=False)\n",
    "compaire_to_print = compaire_to_print.fillna(0)\n",
    "compaire_to_print['is_equal'] = compaire_to_print.amount.astype(int)==compaire_to_print['Сумма_итого_законтрактровнано'].astype(int)\n",
    "compaire_to_print = compaire_to_print[compaire_to_print.Сумма_итого_законтрактровнано!=0]\n",
    "if print_to_excel==True:\n",
    "    Output_file = f'{str(date.today())}_Invest_from_report_invest_30.05.2024.xlsx'\n",
    "    compaire_to_print.to_excel(Output_file,sheet_name='compaire',index=False)\n",
    "    new_list(df_to_print,Output_file,'data')"
   ]
  },
  {
   "cell_type": "code",
   "execution_count": null,
   "metadata": {},
   "outputs": [],
   "source": [
    "new_list(excel_data_version_pivot[(excel_data_version_pivot.Версия_045==0)&(excel_data_version_pivot.Версия_075!=0)],Output_file,'errors')"
   ]
  }
 ],
 "metadata": {
  "kernelspec": {
   "display_name": "base",
   "language": "python",
   "name": "python3"
  },
  "language_info": {
   "codemirror_mode": {
    "name": "ipython",
    "version": 3
   },
   "file_extension": ".py",
   "mimetype": "text/x-python",
   "name": "python",
   "nbconvert_exporter": "python",
   "pygments_lexer": "ipython3",
   "version": "3.11.5"
  },
  "orig_nbformat": 4
 },
 "nbformat": 4,
 "nbformat_minor": 2
}
