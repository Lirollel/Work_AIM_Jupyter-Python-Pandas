{
 "cells": [
  {
   "cell_type": "code",
   "execution_count": 1,
   "metadata": {},
   "outputs": [],
   "source": [
    "import sys\n",
    "sys.path.append(\"C:\\\\Users\\\\KlimovaAnnaA\\\\Documents\\\\MyFiles\\\\Projects\\\\Working_attributes\")\n",
    "from Imports import * "
   ]
  },
  {
   "cell_type": "code",
   "execution_count": 2,
   "metadata": {},
   "outputs": [],
   "source": [
    "today = '2024-10-31'\n",
    "\n",
    "print_to_excel = False\n",
    "excel_tofolder_on_Z = False"
   ]
  },
  {
   "cell_type": "code",
   "execution_count": 25,
   "metadata": {},
   "outputs": [
    {
     "name": "stderr",
     "output_type": "stream",
     "text": [
      "C:\\Users\\KlimovaAnnaA\\Documents\\MyFiles\\Projects\\Working_attributes\\Defs.py:176: UserWarning: pandas only supports SQLAlchemy connectable (engine/connection) or database string URI or sqlite3 DBAPI2 connection. Other DBAPI2 objects are not tested. Please consider using SQLAlchemy.\n",
      "  data_export = pd.read_sql(query, con=connection)\n"
     ]
    },
    {
     "data": {
      "text/plain": [
       "(37032, 40)"
      ]
     },
     "execution_count": 25,
     "metadata": {},
     "output_type": "execute_result"
    }
   ],
   "source": [
    "base = 'RISKACCESS'\n",
    "base = 'xxwh'\n",
    "export_data = export_from_WHWEEK(f'''select * \n",
    "from {base}.\"unifiedOcp\"\n",
    "where \"sourceTable\" = 'sapBwInvestmentReport'\n",
    "and \"reportDate\" = TO_DATE('{today}', 'YYYY-MM-DD')\n",
    "--fetch first 10 rows only''')\n",
    "export_data.shape"
   ]
  },
  {
   "cell_type": "code",
   "execution_count": 28,
   "metadata": {},
   "outputs": [],
   "source": [
    "data_work = export_data.copy(deep=True) # copy export data\n",
    "data_work[['Завод','Вид_проекта','Версия_035','Версия_045','Версия_075','Версия_085']] = np.nan #add empty cols\n",
    "# work with cols\n",
    "data_work['Проект'] = data_work['recordId'].str.split('-').str[0]\n",
    "data_work.maturityDateTo = data_work.maturityDateTo.astype(str).apply(lambda x: '-'.join([x[:-3],'01']))\n",
    "data_work.maturityDateTo = pd.to_datetime(data_work.maturityDateTo)\n",
    "data_work['Календарный_год'] = data_work['maturityDateTo'].dt.year\n",
    "data_work['Календарный_месяц'] = data_work['maturityDateTo'].dt.month\n",
    "data_work = data_work[['holding','ocpSegment','salesUnitsId','Завод','recordId','counterpartyCode','counterpartySegment','Вид_проекта','accountSubtype','Проект','accountCode','maturityDateTo','Календарный_год','Календарный_месяц','effectiveCurrency','Версия_035','Версия_045','Версия_075','Версия_085','volumeNotionalCurrency','usdRate','volumeUsd']]\n",
    "data_work = data_work.rename(columns={'recordId':'СПП-элемент','accountSubtype':'Профиль_проекта','accountCode':'Вид_затрат'})"
   ]
  },
  {
   "cell_type": "code",
   "execution_count": 5,
   "metadata": {},
   "outputs": [
    {
     "name": "stderr",
     "output_type": "stream",
     "text": [
      "C:\\Users\\KlimovaAnnaA\\AppData\\Local\\Temp\\ipykernel_4080\\3280017617.py:4: FutureWarning: The provided callable <built-in function sum> is currently using DataFrameGroupBy.sum. In a future version of pandas, the provided callable will be used directly. To keep current behavior pass the string \"sum\" instead.\n",
      "  pivot_data = pivot_data.groupby(as_index=False, by=['holding','salesUnitsId','ocpSegment','effectiveCurrency','Календарный_год','Календарный_месяц','counterpartySegment','maturityDateTo'])[['volumeNotionalCurrency','volumeUsd']].agg(sum)\n"
     ]
    }
   ],
   "source": [
    "# Аня, в файлик по инвестициям надо добавить еще одну страницу, куда положить агрегированный набор данных по сокращенному списку полей. \n",
    "# Поля следующие. По расчётным полям amount поставить фильтр <>0\n",
    "pivot_data = data_work[data_work.volumeNotionalCurrency!=0]\n",
    "pivot_data = pivot_data.groupby(as_index=False, by=['holding','salesUnitsId','ocpSegment','effectiveCurrency','Календарный_год','Календарный_месяц','counterpartySegment','maturityDateTo'])[['volumeNotionalCurrency','volumeUsd']].agg(sum)"
   ]
  },
  {
   "cell_type": "code",
   "execution_count": 6,
   "metadata": {},
   "outputs": [],
   "source": [
    "### to excel\n",
    "for holding in ['EUROCHEM', 'SUEK']:\n",
    "    data = 0\n",
    "    if print_to_excel == True:\n",
    "        Output_file = f'{str(date.today())}_Invest_nv_{holding}.xlsx'\n",
    "        if excel_tofolder_on_Z == True:\n",
    "            Output_path = 'z:\\\\Anna_Klimova\\\\OCP\\\\Archive\\\\'\n",
    "            Output_file = Output_path + Output_file\n",
    "        data = data_work[data_work.holding==holding]\n",
    "        data.to_excel(Output_file, sheet_name='Invest', index=False)\n",
    "        new_list(pivot_data[pivot_data.holding==holding], Output_file, sheet_name='pivot')"
   ]
  },
  {
   "cell_type": "markdown",
   "metadata": {},
   "source": [
    "Проверка counterpartySegment"
   ]
  },
  {
   "cell_type": "code",
   "execution_count": null,
   "metadata": {},
   "outputs": [],
   "source": [
    "# introgroupCounterpartyCode\n",
    "# если upper(\"mdgBuNameIdMapping\".\"buName\") = upper(\"unifiedOcp\".\"counterpartyName\"), то \"mdgBuNameIdMapping\".\"salesUnitId\"\n",
    "\n",
    "# counterpartySegment\n",
    "# если \"unifiedOcp\".\"introgroupCounterpartyCode\" is null , тогда 'External'\n",
    "# иначе xxmdg.\"salesUnits\".\"OCPsegment\"  по связи  \"unifiedOcp\".\"introgroupCounterpartyCode\" = xxmdg.\"salesUnits\".\"id\""
   ]
  },
  {
   "cell_type": "code",
   "execution_count": 14,
   "metadata": {},
   "outputs": [
    {
     "name": "stderr",
     "output_type": "stream",
     "text": [
      "C:\\Users\\KlimovaAnnaA\\Documents\\MyFiles\\Projects\\Working_attributes\\Defs.py:92: UserWarning: pandas only supports SQLAlchemy connectable (engine/connection) or database string URI or sqlite3 DBAPI2 connection. Other DBAPI2 objects are not tested. Please consider using SQLAlchemy.\n",
      "  data_export = pd.read_sql(query, con=connection)\n",
      "C:\\Users\\KlimovaAnnaA\\Documents\\MyFiles\\Projects\\Working_attributes\\Defs.py:33: FutureWarning: Setting an item of incompatible dtype is deprecated and will raise an error in a future version of pandas. Value '['SUEK RU' 'SUEK RU' 'SUEK RU' 'SUEK RU' 'SUEK RU' 'SUEK RU' 'SUEK RU'\n",
      " 'SUEK RU' 'SGC' 'SGC' 'RUFERT' 'SUEK RU' 'SUEK RU' 'SUEK RU' 'NTC'\n",
      " 'SUEK RU' 'SGC' 'SGC' 'NTC' 'SGC' 'SGC' 'RUFERT' 'NTC' 'RUFERT' 'RUFERT'\n",
      " 'RUFERT' 'NTC' 'RUFERT' 'RUFERT' 'RUFERT' 'RUFERT' 'RUFERT' 'TRADING'\n",
      " 'SGC' 'RUFERT' 'RUFERT' 'SGC' 'SGC' 'SGC' 'SGC' 'SGC' 'SGC']' has dtype incompatible with float64, please explicitly cast to a compatible dtype first.\n",
      "  merge_data.loc[merge_data[f'{id_colmn}_merge'] != 'External', 'last_merge'] = merge_data.loc[merge_data[f'{id_colmn}_merge'] != 'External', f'{id_colmn}_merge']\n"
     ]
    },
    {
     "data": {
      "text/html": [
       "<div>\n",
       "<style scoped>\n",
       "    .dataframe tbody tr th:only-of-type {\n",
       "        vertical-align: middle;\n",
       "    }\n",
       "\n",
       "    .dataframe tbody tr th {\n",
       "        vertical-align: top;\n",
       "    }\n",
       "\n",
       "    .dataframe thead th {\n",
       "        text-align: right;\n",
       "    }\n",
       "</style>\n",
       "<table border=\"1\" class=\"dataframe\">\n",
       "  <thead>\n",
       "    <tr style=\"text-align: right;\">\n",
       "      <th></th>\n",
       "      <th>counterpartyName</th>\n",
       "      <th>introgroupCounterpartyCode</th>\n",
       "      <th>counterpartySegment</th>\n",
       "      <th>cty_code_Anna</th>\n",
       "      <th>cty_segment_Anna</th>\n",
       "    </tr>\n",
       "  </thead>\n",
       "  <tbody>\n",
       "    <tr>\n",
       "      <th>0</th>\n",
       "      <td>ООО \"Офис-Проджект\"</td>\n",
       "      <td>1100</td>\n",
       "      <td>SUEK RU</td>\n",
       "      <td>External</td>\n",
       "      <td>External</td>\n",
       "    </tr>\n",
       "    <tr>\n",
       "      <th>1</th>\n",
       "      <td>ООО \"ЦентрЭксим\"</td>\n",
       "      <td>1100</td>\n",
       "      <td>SUEK RU</td>\n",
       "      <td>External</td>\n",
       "      <td>External</td>\n",
       "    </tr>\n",
       "    <tr>\n",
       "      <th>2</th>\n",
       "      <td>ООО \"Пожтехпроект\"</td>\n",
       "      <td>1100</td>\n",
       "      <td>SUEK RU</td>\n",
       "      <td>External</td>\n",
       "      <td>External</td>\n",
       "    </tr>\n",
       "    <tr>\n",
       "      <th>3</th>\n",
       "      <td>ООО \"Номари Сиайэс\"</td>\n",
       "      <td>1100</td>\n",
       "      <td>SUEK RU</td>\n",
       "      <td>External</td>\n",
       "      <td>External</td>\n",
       "    </tr>\n",
       "    <tr>\n",
       "      <th>4</th>\n",
       "      <td>ООО \"НеваСитиСервис\"</td>\n",
       "      <td>3200</td>\n",
       "      <td>SUEK RU</td>\n",
       "      <td>External</td>\n",
       "      <td>External</td>\n",
       "    </tr>\n",
       "    <tr>\n",
       "      <th>...</th>\n",
       "      <td>...</td>\n",
       "      <td>...</td>\n",
       "      <td>...</td>\n",
       "      <td>...</td>\n",
       "      <td>...</td>\n",
       "    </tr>\n",
       "    <tr>\n",
       "      <th>4407</th>\n",
       "      <td>ООО Фирма \"ПАЛИТРА</td>\n",
       "      <td>RUEMO</td>\n",
       "      <td>RUFERT</td>\n",
       "      <td>External</td>\n",
       "      <td>External</td>\n",
       "    </tr>\n",
       "    <tr>\n",
       "      <th>4408</th>\n",
       "      <td>ТОО \"Expo</td>\n",
       "      <td>KZKRT</td>\n",
       "      <td>RUFERT</td>\n",
       "      <td>External</td>\n",
       "      <td>External</td>\n",
       "    </tr>\n",
       "    <tr>\n",
       "      <th>4409</th>\n",
       "      <td>ТОО \"DigiTech Group\"</td>\n",
       "      <td>KZKRT</td>\n",
       "      <td>RUFERT</td>\n",
       "      <td>External</td>\n",
       "      <td>External</td>\n",
       "    </tr>\n",
       "    <tr>\n",
       "      <th>4410</th>\n",
       "      <td>АО \"Кселл\"</td>\n",
       "      <td>None</td>\n",
       "      <td>External</td>\n",
       "      <td>External</td>\n",
       "      <td>External</td>\n",
       "    </tr>\n",
       "    <tr>\n",
       "      <th>4411</th>\n",
       "      <td>ТОО \"Спектрум\"</td>\n",
       "      <td>None</td>\n",
       "      <td>External</td>\n",
       "      <td>External</td>\n",
       "      <td>External</td>\n",
       "    </tr>\n",
       "  </tbody>\n",
       "</table>\n",
       "<p>4412 rows × 5 columns</p>\n",
       "</div>"
      ],
      "text/plain": [
       "          counterpartyName introgroupCounterpartyCode counterpartySegment  \\\n",
       "0      ООО \"Офис-Проджект\"                       1100             SUEK RU   \n",
       "1         ООО \"ЦентрЭксим\"                       1100             SUEK RU   \n",
       "2       ООО \"Пожтехпроект\"                       1100             SUEK RU   \n",
       "3      ООО \"Номари Сиайэс\"                       1100             SUEK RU   \n",
       "4     ООО \"НеваСитиСервис\"                       3200             SUEK RU   \n",
       "...                    ...                        ...                 ...   \n",
       "4407    ООО Фирма \"ПАЛИТРА                      RUEMO              RUFERT   \n",
       "4408             ТОО \"Expo                      KZKRT              RUFERT   \n",
       "4409  ТОО \"DigiTech Group\"                      KZKRT              RUFERT   \n",
       "4410            АО \"Кселл\"                       None            External   \n",
       "4411        ТОО \"Спектрум\"                       None            External   \n",
       "\n",
       "     cty_code_Anna cty_segment_Anna  \n",
       "0         External         External  \n",
       "1         External         External  \n",
       "2         External         External  \n",
       "3         External         External  \n",
       "4         External         External  \n",
       "...            ...              ...  \n",
       "4407      External         External  \n",
       "4408      External         External  \n",
       "4409      External         External  \n",
       "4410      External         External  \n",
       "4411      External         External  \n",
       "\n",
       "[4412 rows x 5 columns]"
      ]
     },
     "execution_count": 14,
     "metadata": {},
     "output_type": "execute_result"
    }
   ],
   "source": [
    "cty_data = export_data[['counterpartyName','introgroupCounterpartyCode','counterpartySegment']].drop_duplicates(subset='counterpartyName').reset_index(drop=True)\n",
    "cty_data['cty_code_Anna'] = merge_Mapping(cty_data, 'counterpartyName')\n",
    "cty_data['cty_segment_Anna'] = merge_SalesUnits(cty_data, 'cty_code_Anna', merge_col='ocpSegment')\n",
    "cty_data"
   ]
  },
  {
   "cell_type": "code",
   "execution_count": 35,
   "metadata": {},
   "outputs": [
    {
     "name": "stdout",
     "output_type": "stream",
     "text": [
      "37032\n"
     ]
    },
    {
     "name": "stderr",
     "output_type": "stream",
     "text": [
      "C:\\Users\\KlimovaAnnaA\\Documents\\MyFiles\\Projects\\Working_attributes\\Defs.py:92: UserWarning: pandas only supports SQLAlchemy connectable (engine/connection) or database string URI or sqlite3 DBAPI2 connection. Other DBAPI2 objects are not tested. Please consider using SQLAlchemy.\n",
      "  data_export = pd.read_sql(query, con=connection)\n",
      "C:\\Users\\KlimovaAnnaA\\Documents\\MyFiles\\Projects\\Working_attributes\\Defs.py:33: FutureWarning: Setting an item of incompatible dtype is deprecated and will raise an error in a future version of pandas. Value '['SUEK RU' 'SUEK RU' 'SUEK RU' ... 'SUEK RU' 'SUEK RU' 'SUEK RU']' has dtype incompatible with float64, please explicitly cast to a compatible dtype first.\n",
      "  merge_data.loc[merge_data[f'{id_colmn}_merge'] != 'External', 'last_merge'] = merge_data.loc[merge_data[f'{id_colmn}_merge'] != 'External', f'{id_colmn}_merge']\n"
     ]
    }
   ],
   "source": [
    "data_work_new = export_data.copy().reset_index(drop=True)\n",
    "print(data_work_new.shape[0])\n",
    "data_work_new['cty_code_Anna'] = merge_Mapping(data_work_new, 'counterpartyName')\n",
    "data_work_new['cty_segment_Anna'] = merge_SalesUnits(data_work_new, 'cty_code_Anna', merge_col='ocpSegment')\n",
    "data_work_new[['counterpartyName','cty_code_Anna','cty_segment_Anna']]\n",
    "data_work_new['cty_codes_eq'] = data_work_new.cty_code_Anna\t== data_work_new.introgroupCounterpartyCode\n",
    "data_work_new = data_work_new.sort_values('counterpartyName')"
   ]
  },
  {
   "cell_type": "code",
   "execution_count": 37,
   "metadata": {},
   "outputs": [],
   "source": [
    "data_work_new.to_excel('cty_check.xlsx')"
   ]
  },
  {
   "cell_type": "code",
   "execution_count": null,
   "metadata": {},
   "outputs": [],
   "source": []
  }
 ],
 "metadata": {
  "kernelspec": {
   "display_name": "base",
   "language": "python",
   "name": "python3"
  },
  "language_info": {
   "codemirror_mode": {
    "name": "ipython",
    "version": 3
   },
   "file_extension": ".py",
   "mimetype": "text/x-python",
   "name": "python",
   "nbconvert_exporter": "python",
   "pygments_lexer": "ipython3",
   "version": "3.11.5"
  },
  "orig_nbformat": 4
 },
 "nbformat": 4,
 "nbformat_minor": 2
}
