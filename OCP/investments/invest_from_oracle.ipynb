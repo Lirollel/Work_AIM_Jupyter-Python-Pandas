{
 "cells": [
  {
   "cell_type": "code",
   "execution_count": 1,
   "metadata": {},
   "outputs": [],
   "source": [
    "import sys\n",
    "sys.path.append(\"C:\\\\Users\\\\KlimovaAnnaA\\\\Documents\\\\MyFiles\\\\Projects\\\\Working_attributes\")\n",
    "from Imports import * "
   ]
  },
  {
   "cell_type": "code",
   "execution_count": 2,
   "metadata": {},
   "outputs": [],
   "source": [
    "today = '2024-10-31'\n",
    "\n",
    "print_to_excel = True\n",
    "excel_tofolder_on_Z = True"
   ]
  },
  {
   "cell_type": "code",
   "execution_count": 4,
   "metadata": {},
   "outputs": [
    {
     "name": "stderr",
     "output_type": "stream",
     "text": [
      "C:\\Users\\KlimovaAnnaA\\Documents\\MyFiles\\Projects\\Working_attributes\\Defs.py:176: UserWarning: pandas only supports SQLAlchemy connectable (engine/connection) or database string URI or sqlite3 DBAPI2 connection. Other DBAPI2 objects are not tested. Please consider using SQLAlchemy.\n",
      "  data_export = pd.read_sql(query, con=connection)\n"
     ]
    },
    {
     "data": {
      "text/plain": [
       "37032"
      ]
     },
     "execution_count": 4,
     "metadata": {},
     "output_type": "execute_result"
    }
   ],
   "source": [
    "base = 'RISKACCESS'\n",
    "base = 'xxwh'\n",
    "export_data = export_from_WHWEEK(f'''select * \n",
    "from {base}.\"unifiedOcp\"\n",
    "where \"sourceTable\" = 'sapBwInvestmentReport'\n",
    "and \"reportDate\" = TO_DATE('{today}', 'YYYY-MM-DD')\n",
    "--fetch first 10 rows only''')\n",
    "export_data.shape"
   ]
  },
  {
   "cell_type": "code",
   "execution_count": 30,
   "metadata": {},
   "outputs": [],
   "source": [
    "data_work = export_data.copy() # copy export data\n",
    "data_work[['Завод','Вид_проекта','Версия_035','Версия_045','Версия_075','Версия_085']] = np.nan #add empty cols\n",
    "# work with cols\n",
    "data_work['Проект'] = data_work['recordId'].str.split('-').str[0]\n",
    "data_work.maturityDateTo = data_work.maturityDateTo.astype(str).apply(lambda x: '-'.join([x[:-3],'01']))\n",
    "data_work.maturityDateTo = pd.to_datetime(data_work.maturityDateTo)\n",
    "data_work['Календарный_год'] = data_work['maturityDateTo'].dt.year\n",
    "data_work['Календарный_месяц'] = data_work['maturityDateTo'].dt.month\n",
    "data_work = data_work[['holding','ocpSegment','salesUnitsId','Завод','recordId','counterpartyCode','counterpartySegment','Вид_проекта','accountSubtype','Проект','accountCode','maturityDateTo','Календарный_год','Календарный_месяц','effectiveCurrency','Версия_035','Версия_045','Версия_075','Версия_085','volumeNotionalCurrency','usdRate','volumeUsd']]\n",
    "data_work = data_work.rename(columns={'recordId':'СПП-элемент','accountSubtype':'Профиль_проекта','accountCode':'Вид_затрат'})"
   ]
  },
  {
   "cell_type": "code",
   "execution_count": 32,
   "metadata": {},
   "outputs": [
    {
     "name": "stderr",
     "output_type": "stream",
     "text": [
      "C:\\Users\\KlimovaAnnaA\\AppData\\Local\\Temp\\ipykernel_23332\\3280017617.py:4: FutureWarning: The provided callable <built-in function sum> is currently using DataFrameGroupBy.sum. In a future version of pandas, the provided callable will be used directly. To keep current behavior pass the string \"sum\" instead.\n",
      "  pivot_data = pivot_data.groupby(as_index=False, by=['holding','salesUnitsId','ocpSegment','effectiveCurrency','Календарный_год','Календарный_месяц','counterpartySegment','maturityDateTo'])[['volumeNotionalCurrency','volumeUsd']].agg(sum)\n"
     ]
    }
   ],
   "source": [
    "# Аня, в файлик по инвестициям надо добавить еще одну страницу, куда положить агрегированный набор данных по сокращенному списку полей. \n",
    "# Поля следующие. По расчётным полям amount поставить фильтр <>0\n",
    "pivot_data = data_work[data_work.volumeNotionalCurrency!=0]\n",
    "pivot_data = pivot_data.groupby(as_index=False, by=['holding','salesUnitsId','ocpSegment','effectiveCurrency','Календарный_год','Календарный_месяц','counterpartySegment','maturityDateTo'])[['volumeNotionalCurrency','volumeUsd']].agg(sum)"
   ]
  },
  {
   "cell_type": "code",
   "execution_count": 34,
   "metadata": {},
   "outputs": [],
   "source": [
    "### to excel\n",
    "for holding in ['EUROCHEM', 'SUEK']:\n",
    "    data = 0\n",
    "    if print_to_excel == True:\n",
    "        Output_file = f'{str(date.today())}_Invest_nv_{holding}.xlsx'\n",
    "        if excel_tofolder_on_Z == True:\n",
    "            Output_path = 'z:\\\\Anna_Klimova\\\\OCP\\\\Archive\\\\'\n",
    "            Output_file = Output_path + Output_file\n",
    "        data = data_work[data_work.holding==holding]\n",
    "        data.to_excel(Output_file, sheet_name='Invest', index=False)\n",
    "        new_list(pivot_data[pivot_data.holding==holding], Output_file, sheet_name='pivot')"
   ]
  }
 ],
 "metadata": {
  "kernelspec": {
   "display_name": "base",
   "language": "python",
   "name": "python3"
  },
  "language_info": {
   "codemirror_mode": {
    "name": "ipython",
    "version": 3
   },
   "file_extension": ".py",
   "mimetype": "text/x-python",
   "name": "python",
   "nbconvert_exporter": "python",
   "pygments_lexer": "ipython3",
   "version": "3.11.5"
  },
  "orig_nbformat": 4
 },
 "nbformat": 4,
 "nbformat_minor": 2
}
