{
 "cells": [
  {
   "cell_type": "code",
   "execution_count": 1,
   "metadata": {},
   "outputs": [],
   "source": [
    "import os\n",
    "import pandas as pd\n",
    "import numpy as np\n",
    "from datetime import date\n",
    "import sys\n",
    "sys.path.append(\"C:\\\\Users\\\\KlimovaAnnaA\\\\Documents\\\\MyFiles\\\\Projects\\\\OCP\")\n",
    "from Defs import merge_SalesUnits\n",
    "from Defs import merge_Mapping\n",
    "from Defs import Period\n",
    "from Defs import new_list\n",
    "from Defs import export_from_RISKCUSTOM\n",
    "from Defs import add_in_currency_column\n",
    "from Defs import concat_columns\n",
    "from Defs import export_from_WHWEEK"
   ]
  },
  {
   "cell_type": "code",
   "execution_count": 2,
   "metadata": {},
   "outputs": [],
   "source": [
    "print_to_excel = True\n",
    "excel_tofolder_on_Z = True"
   ]
  },
  {
   "cell_type": "code",
   "execution_count": 3,
   "metadata": {},
   "outputs": [],
   "source": [
    "excel_data = pd.read_excel('report_invest_30.06.2024.xlsx', sheet_name='snapshot', header=10)"
   ]
  },
  {
   "cell_type": "code",
   "execution_count": 4,
   "metadata": {},
   "outputs": [
    {
     "name": "stderr",
     "output_type": "stream",
     "text": [
      "C:\\Users\\KlimovaAnnaA\\Documents\\MyFiles\\Projects\\OCP\\Defs.py:98: UserWarning: pandas only supports SQLAlchemy connectable (engine/connection) or database string URI or sqlite3 DBAPI2 connection. Other DBAPI2 objects are not tested. Please consider using SQLAlchemy.\n",
      "  data_export = pd.read_sql(query, con=connection)\n"
     ]
    }
   ],
   "source": [
    "excel_data_work = excel_data\n",
    "# to usd\n",
    "excel_data_work['Заказ на поставку'] = excel_data_work['Заказ на поставку'].astype('float').fillna(0)\n",
    "excel_data_work = add_in_currency_column(excel_data_work,'USD','ПВК|Тип прогноз. данных',False,'Заказ на поставку','2024-05-30')"
   ]
  },
  {
   "cell_type": "code",
   "execution_count": 5,
   "metadata": {},
   "outputs": [
    {
     "name": "stderr",
     "output_type": "stream",
     "text": [
      "C:\\Users\\KlimovaAnnaA\\Documents\\MyFiles\\Projects\\OCP\\Defs.py:98: UserWarning: pandas only supports SQLAlchemy connectable (engine/connection) or database string URI or sqlite3 DBAPI2 connection. Other DBAPI2 objects are not tested. Please consider using SQLAlchemy.\n",
      "  data_export = pd.read_sql(query, con=connection)\n",
      "C:\\Users\\KlimovaAnnaA\\Documents\\MyFiles\\Projects\\OCP\\Defs.py:43: FutureWarning: Setting an item of incompatible dtype is deprecated and will raise an error in a future version of pandas. Value '['SUEK' 'SUEK' 'SUEK' ... 'SUEK' 'SUEK' 'SUEK']' has dtype incompatible with float64, please explicitly cast to a compatible dtype first.\n",
      "  merge_data.loc[merge_data[f'{id_colmn}_merge'] != 'External', 'last_merge'] = merge_data.loc[merge_data[f'{id_colmn}_merge'] != 'External', f'{id_colmn}_merge']\n",
      "C:\\Users\\KlimovaAnnaA\\AppData\\Local\\Temp\\ipykernel_8388\\3713946399.py:1: SettingWithCopyWarning: \n",
      "A value is trying to be set on a copy of a slice from a DataFrame.\n",
      "Try using .loc[row_indexer,col_indexer] = value instead\n",
      "\n",
      "See the caveats in the documentation: https://pandas.pydata.org/pandas-docs/stable/user_guide/indexing.html#returning-a-view-versus-a-copy\n",
      "  excel_data_work['holding'] = merge_SalesUnits(excel_data_work,'Балансовая единица',merge_col='holding') # merge holding\n",
      "C:\\Users\\KlimovaAnnaA\\AppData\\Local\\Temp\\ipykernel_8388\\3713946399.py:4: SettingWithCopyWarning: \n",
      "A value is trying to be set on a copy of a slice from a DataFrame.\n",
      "Try using .loc[row_indexer,col_indexer] = value instead\n",
      "\n",
      "See the caveats in the documentation: https://pandas.pydata.org/pandas-docs/stable/user_guide/indexing.html#returning-a-view-versus-a-copy\n",
      "  excel_data_work[new_cols] = None\n",
      "C:\\Users\\KlimovaAnnaA\\AppData\\Local\\Temp\\ipykernel_8388\\3713946399.py:4: SettingWithCopyWarning: \n",
      "A value is trying to be set on a copy of a slice from a DataFrame.\n",
      "Try using .loc[row_indexer,col_indexer] = value instead\n",
      "\n",
      "See the caveats in the documentation: https://pandas.pydata.org/pandas-docs/stable/user_guide/indexing.html#returning-a-view-versus-a-copy\n",
      "  excel_data_work[new_cols] = None\n",
      "C:\\Users\\KlimovaAnnaA\\AppData\\Local\\Temp\\ipykernel_8388\\3713946399.py:7: FutureWarning: The provided callable <built-in function sum> is currently using DataFrameGroupBy.sum. In a future version of pandas, the provided callable will be used directly. To keep current behavior pass the string \"sum\" instead.\n",
      "  excel_data_version_pivot = excel_data_work.pivot_table(index=['Балансовая единица','Завод',\n"
     ]
    }
   ],
   "source": [
    "excel_data_work['holding'] = merge_SalesUnits(excel_data_work,'Балансовая единица',merge_col='holding') # merge holding\n",
    "# create version columns\n",
    "new_cols = ['Версия_045', 'Версия_075', 'Версия_035', 'Версия_085']\n",
    "excel_data_work[new_cols] = None\n",
    "for i in excel_data_work.index:\n",
    "    excel_data_work.loc[i, [x for x in new_cols if str(excel_data_work.loc[i,'Версия']) in x][0]] = excel_data_work.loc[i,'Заказ на поставку_in_USD']\n",
    "excel_data_version_pivot = excel_data_work.pivot_table(index=['Балансовая единица','Завод',\n",
    "       'ПЕ','СПП-элемент','Контрагент','Вид проекта','Профиль проекта',\n",
    "       'Проект','Вид затрат','КалендГод/Месяц', 'Календарный год',\n",
    "       'Календарный месяц','holding'], values=new_cols, aggfunc=sum).reset_index().sort_values(['Балансовая единица','Контрагент'])\n",
    "# compaire values"
   ]
  },
  {
   "cell_type": "code",
   "execution_count": 6,
   "metadata": {},
   "outputs": [
    {
     "data": {
      "text/plain": [
       "array(['EUROCHEM', 'SUEK', 'External'], dtype=object)"
      ]
     },
     "execution_count": 6,
     "metadata": {},
     "output_type": "execute_result"
    }
   ],
   "source": [
    "excel_data_work['holding'].unique()"
   ]
  },
  {
   "cell_type": "code",
   "execution_count": 16,
   "metadata": {},
   "outputs": [
    {
     "name": "stderr",
     "output_type": "stream",
     "text": [
      "C:\\Users\\KlimovaAnnaA\\AppData\\Local\\Temp\\ipykernel_8388\\1992252099.py:5: FutureWarning: The provided callable <built-in function sum> is currently using DataFrameGroupBy.sum. In a future version of pandas, the provided callable will be used directly. To keep current behavior pass the string \"sum\" instead.\n",
      "  excel_data_contract_pivot = excel_data_version_pivot.pivot_table(index=['concat_columns','holding'],values=new_cols,aggfunc=['count',sum]).reset_index()\n",
      "C:\\Users\\KlimovaAnnaA\\AppData\\Local\\Temp\\ipykernel_8388\\1992252099.py:41: FutureWarning: The provided callable <built-in function sum> is currently using DataFrameGroupBy.sum. In a future version of pandas, the provided callable will be used directly. To keep current behavior pass the string \"sum\" instead.\n",
      "  df_3th = exit_df.pivot_table(index=['Балансовая единица','Завод','ПЕ','СПП-элемент','Контрагент','Вид проекта','Профиль проекта','Проект','Вид затрат','holding'],values=new_cols+['amount'],aggfunc=sum).reset_index()\n",
      "C:\\Users\\KlimovaAnnaA\\AppData\\Local\\Temp\\ipykernel_8388\\1992252099.py:44: FutureWarning: The provided callable <built-in function sum> is currently using DataFrameGroupBy.sum. In a future version of pandas, the provided callable will be used directly. To keep current behavior pass the string \"sum\" instead.\n",
      "  for_conditions_pivot = excel_data_version_pivot.pivot_table(index=['Балансовая единица','Завод','ПЕ','СПП-элемент','Контрагент','Вид проекта','Профиль проекта','Проект','Вид затрат','holding'],values=new_cols+['amount'],aggfunc=sum).reset_index()\n",
      "C:\\Users\\KlimovaAnnaA\\AppData\\Local\\Temp\\ipykernel_8388\\1992252099.py:51: SettingWithCopyWarning: \n",
      "A value is trying to be set on a copy of a slice from a DataFrame.\n",
      "Try using .loc[row_indexer,col_indexer] = value instead\n",
      "\n",
      "See the caveats in the documentation: https://pandas.pydata.org/pandas-docs/stable/user_guide/indexing.html#returning-a-view-versus-a-copy\n",
      "  df_1_2th['amount'] = df_1_2th['Версия_045']\n"
     ]
    }
   ],
   "source": [
    "for version_col in new_cols:\n",
    "    excel_data_version_pivot.loc[excel_data_version_pivot[version_col]==0,version_col]=np.NaN\n",
    "excel_data_version_pivot = excel_data_version_pivot[~excel_data_version_pivot.Версия_045.isna()]\n",
    "excel_data_version_pivot = concat_columns(excel_data_version_pivot,['Балансовая единица','Завод','ПЕ','СПП-элемент','Контрагент','Вид проекта','Профиль проекта','Проект','Вид затрат','holding'])\n",
    "excel_data_contract_pivot = excel_data_version_pivot.pivot_table(index=['concat_columns','holding'],values=new_cols,aggfunc=['count',sum]).reset_index()\n",
    "# Если сумма платежей (значение поля \" версия \" = 075) больше суммы освоения (значение поля \" версия \" = 035 для БЕ из holding = SUEK; либо \" версия \" = 085 для БЕ из holding = Eurochem), то берем сумму освоения (035 или 085) и равномерно распределяем по срокам, соответствующим будущим платежам (075), начиная с самого дальнего. Т.к. объём освоения меньше, чем платежей, то таким образом будет \"заполнена\" только какая-то часть платежей. В итоге в unifiedOCP надо забрать платежи c НДС (045), взятые в той же пропорции, в которой были заполнены платежи без НДС (075)\n",
    "excel_data_contract_pivot_3th = excel_data_contract_pivot[((excel_data_contract_pivot.holding=='SUEK')\\\n",
    "                                                           &(excel_data_contract_pivot['sum']['Версия_035']<excel_data_contract_pivot['sum']['Версия_075']))\\\n",
    "                                                            |((excel_data_contract_pivot.holding=='EUROCHEM')&\\\n",
    "                                                              (excel_data_contract_pivot['sum']['Версия_085']<excel_data_contract_pivot['sum']['Версия_075']))]\n",
    "# 035>1 и не равна 075 (тогда процент равен 1)\n",
    "df_3th_full = pd.DataFrame()\n",
    "version_col = ''\n",
    "for hold in ['SUEK','EUROCHEM']:\n",
    "    if hold == 'SUEK':\n",
    "        version = 'Версия_075'\n",
    "    if hold == 'EUROCHEM':\n",
    "        version = 'Версия_085'\n",
    "\n",
    "    excel_data_contract_pivot_3th = excel_data_contract_pivot_3th[((excel_data_contract_pivot_3th['count']['Версия_035']>1)&(excel_data_contract_pivot_3th['count']['Версия_035']!=excel_data_contract_pivot_3th['count'][version]))&(excel_data_contract_pivot_3th.holding==hold)]\n",
    "\n",
    "    excel_data_contract_pivot_3th['number_of_45_rows_need_to_get'] = (excel_data_contract_pivot_3th['count']['Версия_035']/excel_data_contract_pivot_3th['count'][version]) * excel_data_contract_pivot_3th['count']['Версия_045']\n",
    "\n",
    "    excel_data_contract_pivot_3th.loc[excel_data_contract_pivot_3th['count']['Версия_045']<=excel_data_contract_pivot_3th.number_of_45_rows_need_to_get,'number_of_45_rows_need_to_get'] = np.NaN\n",
    "\n",
    "    excel_data_contract_pivot_3th = excel_data_contract_pivot_3th[~excel_data_contract_pivot_3th.number_of_45_rows_need_to_get.isna()]\n",
    "    if len(excel_data_contract_pivot_3th) == 0:\n",
    "        continue\n",
    "    \n",
    "    excel_data_contract_pivot_3th['index_045_from'] = excel_data_contract_pivot_3th['count']['Версия_045'] - excel_data_contract_pivot_3th.number_of_45_rows_need_to_get\n",
    "    # create dict\n",
    "    dict_for_3th = {x:y for x,y in zip(excel_data_contract_pivot_3th.concat_columns.values.tolist(), excel_data_contract_pivot_3th.index_045_from.values.tolist())}\n",
    "    # full data\n",
    "    exit_df = pd.DataFrame()\n",
    "    excel_data_version_pivot['amount'] = None\n",
    "    for contract in list(dict_for_3th.keys()):\n",
    "        contract_df = excel_data_version_pivot[excel_data_version_pivot.concat_columns==contract].reset_index(drop=True)\n",
    "        contract_df.loc[dict_for_3th[contract]:,'amount'] = contract_df.loc[dict_for_3th[contract]:,'Версия_045']\n",
    "        # excel_data_version_pivot[(excel_data_version_pivot.concat_columns==contract)&(~contract_df.Версия_045.isna())] = contract_df\n",
    "        exit_df = pd.concat([exit_df,contract_df],axis=0)\n",
    "    df_3th = exit_df.pivot_table(index=['Балансовая единица','Завод','ПЕ','СПП-элемент','Контрагент','Вид проекта','Профиль проекта','Проект','Вид затрат','holding'],values=new_cols+['amount'],aggfunc=sum).reset_index()\n",
    "    df_3th_full = pd.concat([df_3th_full,df_3th])\n",
    "\n",
    "for_conditions_pivot = excel_data_version_pivot.pivot_table(index=['Балансовая единица','Завод','ПЕ','СПП-элемент','Контрагент','Вид проекта','Профиль проекта','Проект','Вид затрат','holding'],values=new_cols+['amount'],aggfunc=sum).reset_index()\n",
    "# Если сумма платежей (значение поля \" версия \" = 075) равна сумме освоения (значение поля \" версия \" = 035 для БЕ из holding = SUEK; либо \" версия \" = 085 для БЕ из holding = Eurochem), то берем платежи с НДС (значение поля \" версия \" = 045)\n",
    "# Если сумма платежей (значение поля \" версия \" = 075) меньше суммы освоения (значение поля \" версия \" = 035 для БЕ из holding = SUEK; либо \" версия \" = 085 для БЕ из holding = Eurochem), то берем платежи с НДС (значение поля \" версия \" = 045)\n",
    "df_1_2th = for_conditions_pivot[((for_conditions_pivot.holding=='SUEK')\\\n",
    "                                &(for_conditions_pivot['Версия_035']>=for_conditions_pivot['Версия_075']))\\\n",
    "                                    |((for_conditions_pivot.holding=='EUROCHEM')\\\n",
    "                                &(for_conditions_pivot['Версия_035']>=for_conditions_pivot['Версия_085']))]\n",
    "df_1_2th['amount'] = df_1_2th['Версия_045']\n",
    "\n",
    "df_to_print = pd.concat([df_1_2th,df_3th],axis=0)"
   ]
  },
  {
   "cell_type": "code",
   "execution_count": 30,
   "metadata": {},
   "outputs": [
    {
     "data": {
      "text/plain": [
       "['SUEK', 'EUROCHEM']"
      ]
     },
     "execution_count": 30,
     "metadata": {},
     "output_type": "execute_result"
    }
   ],
   "source": [
    "list(filter(lambda x: 'Ex' not in x ,df_to_print.holding.unique().tolist()))"
   ]
  },
  {
   "cell_type": "code",
   "execution_count": 31,
   "metadata": {},
   "outputs": [],
   "source": [
    "### to excel\n",
    "hold = ''\n",
    "hold_list = list(filter(lambda x: 'Ex' not in x ,df_to_print.holding.unique().tolist()))\n",
    "for hold in hold_list:\n",
    "    data = 0\n",
    "    if print_to_excel == True:\n",
    "        Output_file = f'{str(date.today())}_Invest_nv_{hold}.xlsx'\n",
    "        if excel_tofolder_on_Z == True:\n",
    "            Output_path = 'z:\\\\Anna_Klimova\\\\OCP\\\\Archive\\\\'\n",
    "            Output_file = Output_path + Output_file\n",
    "        data = df_to_print[df_to_print.holding==hold]\n",
    "        data.to_excel(Output_file, sheet_name='Invest', index=False)"
   ]
  },
  {
   "cell_type": "code",
   "execution_count": 19,
   "metadata": {},
   "outputs": [
    {
     "ename": "AssertionError",
     "evalue": "",
     "output_type": "error",
     "traceback": [
      "\u001b[1;31m---------------------------------------------------------------------------\u001b[0m",
      "\u001b[1;31mAssertionError\u001b[0m                            Traceback (most recent call last)",
      "\u001b[1;32mc:\\Users\\KlimovaAnnaA\\Documents\\MyFiles\\Projects\\OCP\\investments\\invest_new_bd.ipynb Cell 10\u001b[0m line \u001b[0;36m1\n\u001b[1;32m----> <a href='vscode-notebook-cell:/c%3A/Users/KlimovaAnnaA/Documents/MyFiles/Projects/OCP/investments/invest_new_bd.ipynb#X21sZmlsZQ%3D%3D?line=0'>1</a>\u001b[0m \u001b[39massert\u001b[39;00m \u001b[39m2\u001b[39m\u001b[39m==\u001b[39m\u001b[39m1\u001b[39m\n",
      "\u001b[1;31mAssertionError\u001b[0m: "
     ]
    }
   ],
   "source": [
    "assert 2==1"
   ]
  },
  {
   "cell_type": "code",
   "execution_count": null,
   "metadata": {},
   "outputs": [
    {
     "name": "stderr",
     "output_type": "stream",
     "text": [
      "C:\\Users\\KlimovaAnnaA\\AppData\\Local\\Temp\\ipykernel_22624\\4027979718.py:3: FutureWarning: The provided callable <built-in function sum> is currently using DataFrameGroupBy.sum. In a future version of pandas, the provided callable will be used directly. To keep current behavior pass the string \"sum\" instead.\n",
      "  old_BD_data_SUEK_pivot = old_BD_data_SUEK.pivot_table(index='Unnamed: 5',values='Законтрактовано.2',aggfunc=sum).reset_index().rename(columns={'Unnamed: 5':'БЕ','Законтрактовано.2':'Сумма_итого_законтрактровнано'})\n",
      "C:\\Users\\KlimovaAnnaA\\AppData\\Local\\Temp\\ipykernel_22624\\4027979718.py:5: FutureWarning: The provided callable <built-in function sum> is currently using DataFrameGroupBy.sum. In a future version of pandas, the provided callable will be used directly. To keep current behavior pass the string \"sum\" instead.\n",
      "  old_BD_data_EURO_pivot = old_BD_data_EURO.pivot_table(index='Unnamed: 5',values='Законтрактовано.2',aggfunc=sum).reset_index().rename(columns={'Unnamed: 5':'БЕ','Законтрактовано.2':'Сумма_итого_законтрактровнано'})\n"
     ]
    },
    {
     "data": {
      "text/html": [
       "<div>\n",
       "<style scoped>\n",
       "    .dataframe tbody tr th:only-of-type {\n",
       "        vertical-align: middle;\n",
       "    }\n",
       "\n",
       "    .dataframe tbody tr th {\n",
       "        vertical-align: top;\n",
       "    }\n",
       "\n",
       "    .dataframe thead th {\n",
       "        text-align: right;\n",
       "    }\n",
       "</style>\n",
       "<table border=\"1\" class=\"dataframe\">\n",
       "  <thead>\n",
       "    <tr style=\"text-align: right;\">\n",
       "      <th></th>\n",
       "      <th>БЕ</th>\n",
       "      <th>Сумма_итого_законтрактровнано</th>\n",
       "    </tr>\n",
       "  </thead>\n",
       "  <tbody>\n",
       "    <tr>\n",
       "      <th>0</th>\n",
       "      <td>1100</td>\n",
       "      <td>156069493.09</td>\n",
       "    </tr>\n",
       "    <tr>\n",
       "      <th>1</th>\n",
       "      <td>1300</td>\n",
       "      <td>72101.36</td>\n",
       "    </tr>\n",
       "    <tr>\n",
       "      <th>2</th>\n",
       "      <td>1600</td>\n",
       "      <td>19216.02</td>\n",
       "    </tr>\n",
       "    <tr>\n",
       "      <th>3</th>\n",
       "      <td>1I00</td>\n",
       "      <td>104629.4</td>\n",
       "    </tr>\n",
       "    <tr>\n",
       "      <th>4</th>\n",
       "      <td>1M00</td>\n",
       "      <td>1584353.68</td>\n",
       "    </tr>\n",
       "    <tr>\n",
       "      <th>...</th>\n",
       "      <td>...</td>\n",
       "      <td>...</td>\n",
       "    </tr>\n",
       "    <tr>\n",
       "      <th>76</th>\n",
       "      <td>Y100</td>\n",
       "      <td>155526600.61</td>\n",
       "    </tr>\n",
       "    <tr>\n",
       "      <th>77</th>\n",
       "      <td>Y300</td>\n",
       "      <td>18343444.65</td>\n",
       "    </tr>\n",
       "    <tr>\n",
       "      <th>78</th>\n",
       "      <td>Y500</td>\n",
       "      <td>26009.73</td>\n",
       "    </tr>\n",
       "    <tr>\n",
       "      <th>79</th>\n",
       "      <td>Y600</td>\n",
       "      <td>0</td>\n",
       "    </tr>\n",
       "    <tr>\n",
       "      <th>80</th>\n",
       "      <td>Y800</td>\n",
       "      <td>58092.71</td>\n",
       "    </tr>\n",
       "  </tbody>\n",
       "</table>\n",
       "<p>81 rows × 2 columns</p>\n",
       "</div>"
      ],
      "text/plain": [
       "      БЕ Сумма_итого_законтрактровнано\n",
       "0   1100                  156069493.09\n",
       "1   1300                      72101.36\n",
       "2   1600                      19216.02\n",
       "3   1I00                      104629.4\n",
       "4   1M00                    1584353.68\n",
       "..   ...                           ...\n",
       "76  Y100                  155526600.61\n",
       "77  Y300                   18343444.65\n",
       "78  Y500                      26009.73\n",
       "79  Y600                             0\n",
       "80  Y800                      58092.71\n",
       "\n",
       "[81 rows x 2 columns]"
      ]
     },
     "execution_count": 103,
     "metadata": {},
     "output_type": "execute_result"
    }
   ],
   "source": [
    "# compaire with old BD\n",
    "old_BD_data_SUEK = pd.read_excel('2024-06-13_SUEK_Invest.xlsx',header=3).drop(0,axis=0) \n",
    "old_BD_data_SUEK_pivot = old_BD_data_SUEK.pivot_table(index='Unnamed: 5',values='Законтрактовано.2',aggfunc=sum).reset_index().rename(columns={'Unnamed: 5':'БЕ','Законтрактовано.2':'Сумма_итого_законтрактровнано'})\n",
    "old_BD_data_EURO = pd.read_excel('2024-06-13_EUROCHEM_Invest.xlsx',header=3).drop(0,axis=0) \n",
    "old_BD_data_EURO_pivot = old_BD_data_EURO.pivot_table(index='Unnamed: 5',values='Законтрактовано.2',aggfunc=sum).reset_index().rename(columns={'Unnamed: 5':'БЕ','Законтрактовано.2':'Сумма_итого_законтрактровнано'})\n",
    "old_BD_data_SUEK_pivot"
   ]
  },
  {
   "cell_type": "code",
   "execution_count": null,
   "metadata": {},
   "outputs": [
    {
     "name": "stderr",
     "output_type": "stream",
     "text": [
      "C:\\Users\\KlimovaAnnaA\\AppData\\Local\\Temp\\ipykernel_22624\\307249084.py:1: FutureWarning: The provided callable <built-in function sum> is currently using DataFrameGroupBy.sum. In a future version of pandas, the provided callable will be used directly. To keep current behavior pass the string \"sum\" instead.\n",
      "  compaire_to_print = df_to_print.pivot_table(index='Балансовая единица',aggfunc=sum,values='amount').reset_index().merge(old_BD_data_SUEK_pivot,how='outer',left_on='Балансовая единица',right_on='БЕ').sort_values('amount',ascending=False)\n",
      "C:\\Users\\KlimovaAnnaA\\AppData\\Local\\Temp\\ipykernel_22624\\307249084.py:2: FutureWarning: Downcasting object dtype arrays on .fillna, .ffill, .bfill is deprecated and will change in a future version. Call result.infer_objects(copy=False) instead. To opt-in to the future behavior, set `pd.set_option('future.no_silent_downcasting', True)`\n",
      "  compaire_to_print = compaire_to_print.fillna(0)\n"
     ]
    }
   ],
   "source": [
    "compaire_to_print = df_to_print.pivot_table(index='Балансовая единица',aggfunc=sum,values='amount').reset_index().merge(old_BD_data_SUEK_pivot,how='outer',left_on='Балансовая единица',right_on='БЕ').sort_values('amount',ascending=False)\n",
    "compaire_to_print = compaire_to_print.fillna(0)\n",
    "compaire_to_print['is_equal'] = compaire_to_print.amount.astype(int)==compaire_to_print['Сумма_итого_законтрактровнано'].astype(int)\n",
    "compaire_to_print = compaire_to_print[compaire_to_print.Сумма_итого_законтрактровнано!=0]\n",
    "if print_to_excel==True:\n",
    "    Output_file = f'{str(date.today())}_Invest_from_report_invest_30.05.2024.xlsx'\n",
    "    compaire_to_print.to_excel(Output_file,sheet_name='compaire',index=False)\n",
    "    new_list(df_to_print,Output_file,'data')"
   ]
  },
  {
   "cell_type": "code",
   "execution_count": null,
   "metadata": {},
   "outputs": [],
   "source": [
    "new_list(excel_data_version_pivot[(excel_data_version_pivot.Версия_045==0)&(excel_data_version_pivot.Версия_075!=0)],Output_file,'errors')"
   ]
  }
 ],
 "metadata": {
  "kernelspec": {
   "display_name": "base",
   "language": "python",
   "name": "python3"
  },
  "language_info": {
   "codemirror_mode": {
    "name": "ipython",
    "version": 3
   },
   "file_extension": ".py",
   "mimetype": "text/x-python",
   "name": "python",
   "nbconvert_exporter": "python",
   "pygments_lexer": "ipython3",
   "version": "3.11.5"
  },
  "orig_nbformat": 4
 },
 "nbformat": 4,
 "nbformat_minor": 2
}
