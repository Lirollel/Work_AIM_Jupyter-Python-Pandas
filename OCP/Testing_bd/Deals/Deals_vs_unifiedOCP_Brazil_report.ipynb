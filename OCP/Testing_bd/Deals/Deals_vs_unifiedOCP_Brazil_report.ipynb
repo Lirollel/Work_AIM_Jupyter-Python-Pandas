{
 "cells": [
  {
   "cell_type": "code",
   "execution_count": 2,
   "metadata": {},
   "outputs": [],
   "source": [
    "import sys\n",
    "sys.path.append(\"C:\\\\Users\\\\KlimovaAnnaA\\\\Documents\\\\MyFiles\\\\Projects\\\\Working_attributes\")\n",
    "from Imports import * "
   ]
  },
  {
   "cell_type": "code",
   "execution_count": 3,
   "metadata": {},
   "outputs": [
    {
     "name": "stderr",
     "output_type": "stream",
     "text": [
      "C:\\Users\\KlimovaAnnaA\\Documents\\MyFiles\\Projects\\Working_attributes\\Defs.py:92: UserWarning: pandas only supports SQLAlchemy connectable (engine/connection) or database string URI or sqlite3 DBAPI2 connection. Other DBAPI2 objects are not tested. Please consider using SQLAlchemy.\n",
      "  data_export = pd.read_sql(query, con=connection)\n"
     ]
    },
    {
     "data": {
      "text/html": [
       "<div>\n",
       "<style scoped>\n",
       "    .dataframe tbody tr th:only-of-type {\n",
       "        vertical-align: middle;\n",
       "    }\n",
       "\n",
       "    .dataframe tbody tr th {\n",
       "        vertical-align: top;\n",
       "    }\n",
       "\n",
       "    .dataframe thead th {\n",
       "        text-align: right;\n",
       "    }\n",
       "</style>\n",
       "<table border=\"1\" class=\"dataframe\">\n",
       "  <thead>\n",
       "    <tr style=\"text-align: right;\">\n",
       "      <th></th>\n",
       "      <th>reportDate</th>\n",
       "    </tr>\n",
       "  </thead>\n",
       "  <tbody>\n",
       "    <tr>\n",
       "      <th>0</th>\n",
       "      <td>2024-09-01</td>\n",
       "    </tr>\n",
       "    <tr>\n",
       "      <th>1</th>\n",
       "      <td>2024-09-02</td>\n",
       "    </tr>\n",
       "    <tr>\n",
       "      <th>2</th>\n",
       "      <td>2024-09-03</td>\n",
       "    </tr>\n",
       "    <tr>\n",
       "      <th>3</th>\n",
       "      <td>2024-09-04</td>\n",
       "    </tr>\n",
       "    <tr>\n",
       "      <th>4</th>\n",
       "      <td>2024-09-05</td>\n",
       "    </tr>\n",
       "  </tbody>\n",
       "</table>\n",
       "</div>"
      ],
      "text/plain": [
       "  reportDate\n",
       "0 2024-09-01\n",
       "1 2024-09-02\n",
       "2 2024-09-03\n",
       "3 2024-09-04\n",
       "4 2024-09-05"
      ]
     },
     "execution_count": 3,
     "metadata": {},
     "output_type": "execute_result"
    }
   ],
   "source": [
    "days = export_from_RISKCUSTOM(f\"\"\"select distinct \"reportDate\"\n",
    "from \"RISKACCESS\".\"unifiedOcp\" \n",
    "where \"sourceTable\" in ('unifiedDealsBrazil_externalPurchasesRecap','unifiedDealsBrazil_externalSalesOrders')\n",
    "order by \"reportDate\"\n",
    "\"\"\")\n",
    "days.head(5)"
   ]
  },
  {
   "cell_type": "code",
   "execution_count": 4,
   "metadata": {},
   "outputs": [
    {
     "name": "stderr",
     "output_type": "stream",
     "text": [
      "C:\\Users\\KlimovaAnnaA\\Documents\\MyFiles\\Projects\\Working_attributes\\Defs.py:92: UserWarning: pandas only supports SQLAlchemy connectable (engine/connection) or database string URI or sqlite3 DBAPI2 connection. Other DBAPI2 objects are not tested. Please consider using SQLAlchemy.\n",
      "  data_export = pd.read_sql(query, con=connection)\n"
     ]
    },
    {
     "data": {
      "text/plain": [
       "(9282, 40)"
      ]
     },
     "execution_count": 4,
     "metadata": {},
     "output_type": "execute_result"
    }
   ],
   "source": [
    "query = f\"\"\"select * \n",
    "from \"RISKACCESS\".\"unifiedOcp\" \n",
    "where \"sourceTable\" in ('unifiedDealsBrazil_externalPurchasesRecap','unifiedDealsBrazil_externalSalesOrders')\n",
    "and \"reportDate\" = TO_DATE('{days.iloc[0,:].astype(str).item()}', 'YYYY-MM-DD')\n",
    "--fetch first 10 rows only\"\"\"\n",
    "data_OCP_export = export_from_RISKCUSTOM(query)\n",
    "data_OCP_export.shape"
   ]
  },
  {
   "cell_type": "code",
   "execution_count": 5,
   "metadata": {},
   "outputs": [
    {
     "data": {
      "text/html": [
       "<div>\n",
       "<style scoped>\n",
       "    .dataframe tbody tr th:only-of-type {\n",
       "        vertical-align: middle;\n",
       "    }\n",
       "\n",
       "    .dataframe tbody tr th {\n",
       "        vertical-align: top;\n",
       "    }\n",
       "\n",
       "    .dataframe thead th {\n",
       "        text-align: right;\n",
       "    }\n",
       "</style>\n",
       "<table border=\"1\" class=\"dataframe\">\n",
       "  <thead>\n",
       "    <tr style=\"text-align: right;\">\n",
       "      <th></th>\n",
       "      <th>salesUnitsId</th>\n",
       "      <th>sourceTable</th>\n",
       "      <th>volumeUsd</th>\n",
       "    </tr>\n",
       "  </thead>\n",
       "  <tbody>\n",
       "    <tr>\n",
       "      <th>0</th>\n",
       "      <td>AECOR</td>\n",
       "      <td>unifiedDealsBrazil_externalPurchasesRecap</td>\n",
       "      <td>1.669245e+08</td>\n",
       "    </tr>\n",
       "    <tr>\n",
       "      <th>1</th>\n",
       "      <td>AETRD</td>\n",
       "      <td>unifiedDealsBrazil_externalPurchasesRecap</td>\n",
       "      <td>3.215486e+06</td>\n",
       "    </tr>\n",
       "    <tr>\n",
       "      <th>2</th>\n",
       "      <td>BRFTO</td>\n",
       "      <td>unifiedDealsBrazil_externalPurchasesRecap</td>\n",
       "      <td>-5.497500e+08</td>\n",
       "    </tr>\n",
       "    <tr>\n",
       "      <th>3</th>\n",
       "      <td>BRFTO</td>\n",
       "      <td>unifiedDealsBrazil_externalSalesOrders</td>\n",
       "      <td>9.333603e+14</td>\n",
       "    </tr>\n",
       "    <tr>\n",
       "      <th>4</th>\n",
       "      <td>BRSFT</td>\n",
       "      <td>unifiedDealsBrazil_externalPurchasesRecap</td>\n",
       "      <td>8.374083e+06</td>\n",
       "    </tr>\n",
       "  </tbody>\n",
       "</table>\n",
       "</div>"
      ],
      "text/plain": [
       "  salesUnitsId                                sourceTable     volumeUsd\n",
       "0        AECOR  unifiedDealsBrazil_externalPurchasesRecap  1.669245e+08\n",
       "1        AETRD  unifiedDealsBrazil_externalPurchasesRecap  3.215486e+06\n",
       "2        BRFTO  unifiedDealsBrazil_externalPurchasesRecap -5.497500e+08\n",
       "3        BRFTO     unifiedDealsBrazil_externalSalesOrders  9.333603e+14\n",
       "4        BRSFT  unifiedDealsBrazil_externalPurchasesRecap  8.374083e+06"
      ]
     },
     "execution_count": 5,
     "metadata": {},
     "output_type": "execute_result"
    }
   ],
   "source": [
    "# effectiveCurrency,volumeEffectiveCurrency\n",
    "data_OCP_export.groupby(as_index=False, dropna=False, by=['salesUnitsId','sourceTable'])['volumeUsd'].agg('sum')"
   ]
  },
  {
   "cell_type": "code",
   "execution_count": 12,
   "metadata": {},
   "outputs": [],
   "source": [
    "# FTO\n",
    "# Pur\n",
    "pur_str = '''AN 0\n",
    "AS 208\n",
    "MAP 87\n",
    "MOP G 209\n",
    "NK 13\n",
    "NP 40\n",
    "NPK MOP 102\n",
    "SSP 116\n",
    "TSP 60\n",
    "UREA GRAN 214\n",
    "OTHER 14'''\n",
    "# Sales\n",
    "sales_str = \"\"\"AN -13\n",
    "AS -228\n",
    "CAN -5\n",
    "MAP -139\n",
    "MOP G -348\n",
    "NK -25\n",
    "NP -7\n",
    "NPK MOP -46\n",
    "NPK OTHER -11\n",
    "NPS -25\n",
    "SSP -113\n",
    "TSP -48\n",
    "UREA GRAN -217\n",
    "OTHER -22\n",
    "\"\"\"\n",
    "prices_str = \"\"\"MOP G\t12 \t$283 \n",
    "UREA GRAN\t-62 \t$375 \n",
    "AN\t8 \t$205 \n",
    "AS\t22 \t$183 \n",
    "CAN\t2 \t$246 \n",
    "MAP\t-42 \t$612 \n",
    "SSP\t50 \t$187 \n",
    "TSP\t27 \t$440 \n",
    "NP\t35 \t$564 \n",
    "PHOSPHATE ROCK\t2 \t$137 \n",
    "NPK 21:1:21 [MOP] COMP\t-3 \t$337 \n",
    "NPK 19:4:19 [MOP] COMP\t1 \t$297 \n",
    "NPK 15:15:15 [MOP] COMP\t2 \t$394 \n",
    "NPK 16:16:16 [MOP] COMP\t8 \t$358 \n",
    "NPS\t1 \t$468 \n",
    "CN WS (19CA) GRAN\t-0 \t$403 \n",
    "OTHER\t40 \t$462\"\"\"\n"
   ]
  },
  {
   "cell_type": "code",
   "execution_count": 14,
   "metadata": {},
   "outputs": [],
   "source": [
    "data_pur = pd.DataFrame([x.rsplit(' ', 1) for x in pur_str.split('\\n')]).rename(columns={0:'BRFTO',1:'Purchases'})\n",
    "data_sales = pd.DataFrame([x.rsplit(' ', 1) for x in sales_str.split('\\n')]).rename(columns={0:'BRFTO',1:'Sales'})\n",
    "data_merge_BRFTO = data_sales.merge(data_pur, how='outer', on='BRFTO').loc[1:,:]"
   ]
  },
  {
   "cell_type": "code",
   "execution_count": 16,
   "metadata": {},
   "outputs": [],
   "source": [
    "# pd.DataFrame().rename(columns={0:'BRFTO',1:'Purchases'})\n",
    "data_prices = pd.DataFrame([x.split('\\t') for x in prices_str.split('\\n')]).rename(columns={0:'BRFTO',2:'Prices'}).drop(columns=1)\n",
    "data_prices.Prices = data_prices.Prices.str[1:4]\n",
    "data_merge = data_prices.merge(data_merge_BRFTO, how='outer', on='BRFTO')"
   ]
  },
  {
   "cell_type": "code",
   "execution_count": 27,
   "metadata": {},
   "outputs": [
    {
     "data": {
      "text/plain": [
       "BRFTO               ANASCANCN WS (19CA) GRANMAPMOP GNKNPNPK 15:15:...\n",
       "Prices                                                         5951.0\n",
       "Sales                                                         -1247.0\n",
       "Purchases                                                      1063.0\n",
       "amount_Purchases                                             307825.0\n",
       "amount_Sales                                                -378609.0\n",
       "dtype: object"
      ]
     },
     "execution_count": 27,
     "metadata": {},
     "output_type": "execute_result"
    }
   ],
   "source": [
    "# data_merge = data_merge.fillna(0)\n",
    "data_merge[['Prices','Sales','Purchases']] = data_merge[['Prices','Sales','Purchases']].astype(float)\n",
    "data_merge['amount_Purchases'] = data_merge.Prices * data_merge.Purchases\n",
    "data_merge['amount_Sales'] = data_merge.Prices * data_merge.Sales\n",
    "data_merge.sum()"
   ]
  },
  {
   "cell_type": "code",
   "execution_count": 29,
   "metadata": {},
   "outputs": [
    {
     "data": {
      "text/html": [
       "<div>\n",
       "<style scoped>\n",
       "    .dataframe tbody tr th:only-of-type {\n",
       "        vertical-align: middle;\n",
       "    }\n",
       "\n",
       "    .dataframe tbody tr th {\n",
       "        vertical-align: top;\n",
       "    }\n",
       "\n",
       "    .dataframe thead th {\n",
       "        text-align: right;\n",
       "    }\n",
       "</style>\n",
       "<table border=\"1\" class=\"dataframe\">\n",
       "  <thead>\n",
       "    <tr style=\"text-align: right;\">\n",
       "      <th></th>\n",
       "      <th>sourceTable</th>\n",
       "    </tr>\n",
       "  </thead>\n",
       "  <tbody>\n",
       "    <tr>\n",
       "      <th>0</th>\n",
       "      <td>flowDealsReportChanges</td>\n",
       "    </tr>\n",
       "    <tr>\n",
       "      <th>1</th>\n",
       "      <td>unifiedDealsMarketSuek</td>\n",
       "    </tr>\n",
       "    <tr>\n",
       "      <th>2</th>\n",
       "      <td>unifiedDealsBrazil_sapSalesOrders</td>\n",
       "    </tr>\n",
       "    <tr>\n",
       "      <th>3</th>\n",
       "      <td>unifiedDealsMarketSuek_inventory</td>\n",
       "    </tr>\n",
       "    <tr>\n",
       "      <th>4</th>\n",
       "      <td>unifiedDealsBrazil_inventory_sapSalesOrders</td>\n",
       "    </tr>\n",
       "    <tr>\n",
       "      <th>5</th>\n",
       "      <td>unifiedDealsBrazil_inventory_externalPurchases...</td>\n",
       "    </tr>\n",
       "    <tr>\n",
       "      <th>6</th>\n",
       "      <td>unifiedDealsBrazil_purchasesRecapBRHRG</td>\n",
       "    </tr>\n",
       "    <tr>\n",
       "      <th>7</th>\n",
       "      <td>unifiedDealsBrazil_inventory_externalSalesOrders</td>\n",
       "    </tr>\n",
       "    <tr>\n",
       "      <th>8</th>\n",
       "      <td>flowDealsReportChanges_inventory</td>\n",
       "    </tr>\n",
       "    <tr>\n",
       "      <th>9</th>\n",
       "      <td>bankAccountsBalance</td>\n",
       "    </tr>\n",
       "    <tr>\n",
       "      <th>10</th>\n",
       "      <td>quantumDebt</td>\n",
       "    </tr>\n",
       "    <tr>\n",
       "      <th>11</th>\n",
       "      <td>unifiedARReport</td>\n",
       "    </tr>\n",
       "    <tr>\n",
       "      <th>12</th>\n",
       "      <td>unifiedDealsBrazil_externalPurchasesRecap</td>\n",
       "    </tr>\n",
       "    <tr>\n",
       "      <th>13</th>\n",
       "      <td>unifiedDealsBrazil_externalSalesOrders</td>\n",
       "    </tr>\n",
       "    <tr>\n",
       "      <th>14</th>\n",
       "      <td>quantumSwaps</td>\n",
       "    </tr>\n",
       "    <tr>\n",
       "      <th>15</th>\n",
       "      <td>quantumForwards</td>\n",
       "    </tr>\n",
       "    <tr>\n",
       "      <th>16</th>\n",
       "      <td>sapBwInvestmentReport</td>\n",
       "    </tr>\n",
       "    <tr>\n",
       "      <th>17</th>\n",
       "      <td>unifiedDealsBrazil_inventory_purchasesRecapBRHRG</td>\n",
       "    </tr>\n",
       "    <tr>\n",
       "      <th>18</th>\n",
       "      <td>unifiedMaterialMovementSlice_inventory</td>\n",
       "    </tr>\n",
       "    <tr>\n",
       "      <th>19</th>\n",
       "      <td>inventoryStockReportCoal_inventory</td>\n",
       "    </tr>\n",
       "  </tbody>\n",
       "</table>\n",
       "</div>"
      ],
      "text/plain": [
       "                                          sourceTable\n",
       "0                              flowDealsReportChanges\n",
       "1                              unifiedDealsMarketSuek\n",
       "2                   unifiedDealsBrazil_sapSalesOrders\n",
       "3                    unifiedDealsMarketSuek_inventory\n",
       "4         unifiedDealsBrazil_inventory_sapSalesOrders\n",
       "5   unifiedDealsBrazil_inventory_externalPurchases...\n",
       "6              unifiedDealsBrazil_purchasesRecapBRHRG\n",
       "7    unifiedDealsBrazil_inventory_externalSalesOrders\n",
       "8                    flowDealsReportChanges_inventory\n",
       "9                                 bankAccountsBalance\n",
       "10                                        quantumDebt\n",
       "11                                    unifiedARReport\n",
       "12          unifiedDealsBrazil_externalPurchasesRecap\n",
       "13             unifiedDealsBrazil_externalSalesOrders\n",
       "14                                       quantumSwaps\n",
       "15                                    quantumForwards\n",
       "16                              sapBwInvestmentReport\n",
       "17   unifiedDealsBrazil_inventory_purchasesRecapBRHRG\n",
       "18             unifiedMaterialMovementSlice_inventory\n",
       "19                 inventoryStockReportCoal_inventory"
      ]
     },
     "execution_count": 29,
     "metadata": {},
     "output_type": "execute_result"
    }
   ],
   "source": [
    "query = f\"\"\"select distinct \"sourceTable\"\n",
    "from \"RISKACCESS\".\"unifiedOcp\" \n",
    "\"\"\"\n",
    "data_sourceTable = export_from_RISKCUSTOM(query)\n",
    "data_sourceTable"
   ]
  },
  {
   "cell_type": "code",
   "execution_count": null,
   "metadata": {},
   "outputs": [],
   "source": [
    "# unifiedDealsBrazil_purchasesRecapBRHRG\n",
    "# unifiedDealsBrazil_externalPurchasesRecap\n",
    "# unifiedDealsBrazil_externalSalesOrders\n",
    "# unifiedDealsBrazil_sapSalesOrders\n",
    "# flowDealsReportChanges\n",
    "# unifiedDealsBrazil_inventory_purchasesRecapBRHRG"
   ]
  }
 ],
 "metadata": {
  "kernelspec": {
   "display_name": "base",
   "language": "python",
   "name": "python3"
  },
  "language_info": {
   "codemirror_mode": {
    "name": "ipython",
    "version": 3
   },
   "file_extension": ".py",
   "mimetype": "text/x-python",
   "name": "python",
   "nbconvert_exporter": "python",
   "pygments_lexer": "ipython3",
   "version": "3.11.5"
  }
 },
 "nbformat": 4,
 "nbformat_minor": 2
}
