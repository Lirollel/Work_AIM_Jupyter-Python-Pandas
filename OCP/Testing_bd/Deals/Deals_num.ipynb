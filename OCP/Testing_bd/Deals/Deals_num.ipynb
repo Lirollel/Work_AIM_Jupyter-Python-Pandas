{
 "cells": [
  {
   "cell_type": "code",
   "execution_count": 2,
   "metadata": {},
   "outputs": [],
   "source": [
    "import sys\n",
    "sys.path.append(\"C:\\\\Users\\\\KlimovaAnnaA\\\\Documents\\\\MyFiles\\\\Projects\\\\Working_attributes\")\n",
    "from Imports import * "
   ]
  },
  {
   "cell_type": "code",
   "execution_count": 98,
   "metadata": {},
   "outputs": [],
   "source": [
    "print_excel = True"
   ]
  },
  {
   "cell_type": "code",
   "execution_count": 27,
   "metadata": {},
   "outputs": [
    {
     "name": "stderr",
     "output_type": "stream",
     "text": [
      "C:\\Users\\KlimovaAnnaA\\Documents\\MyFiles\\Projects\\Working_attributes\\Defs.py:176: UserWarning: pandas only supports SQLAlchemy connectable (engine/connection) or database string URI or sqlite3 DBAPI2 connection. Other DBAPI2 objects are not tested. Please consider using SQLAlchemy.\n",
      "  data_export = pd.read_sql(query, con=connection)\n"
     ]
    },
    {
     "data": {
      "text/plain": [
       "(543, 10)"
      ]
     },
     "execution_count": 27,
     "metadata": {},
     "output_type": "execute_result"
    }
   ],
   "source": [
    "# export_from_WHWEEK(\n",
    "query = f'''with table_1 as (\n",
    "select \"supplier_company_id\",\"mediator_sales_unit\",\"trader_sales_unit\",\"sales_model\",\"sales_unit\",\"customer_company\",\"to_customers_seller_id\", \"##inserted\", \"deal_id\", trunc(\"##inserted\") as \"reportDate\"\n",
    "from \"XXWH\".\"flowDealsReportChanges\" \n",
    "where \"deal_state\" = 'Confirmed'\n",
    "and \"##deleted\" = 'N'\n",
    "and \"is_closed\" = 'No'\n",
    "--fetch first 10 rows only\n",
    ")\n",
    "select * from table_1\n",
    "where \"reportDate\" = TO_DATE('2024-08-31', 'YYYY-MM-DD')\n",
    "'''\n",
    "data_XXWH = export_from_WHWEEK(query)\n",
    "data_XXWH.shape"
   ]
  },
  {
   "cell_type": "code",
   "execution_count": 95,
   "metadata": {},
   "outputs": [
    {
     "data": {
      "text/plain": [
       "(114, 12)"
      ]
     },
     "execution_count": 95,
     "metadata": {},
     "output_type": "execute_result"
    }
   ],
   "source": [
    "# исключаем строки\n",
    "# 1 условие\n",
    "data_XXWH['customer_buCode'] = merge_Mapping(data_XXWH, 'customer_company')\n",
    "con_1 = data_XXWH[(data_XXWH.supplier_company_id.isna())&(data_XXWH.mediator_sales_unit.isna())&(data_XXWH.trader_sales_unit.isna())]\n",
    "indexes_list_1 = con_1[con_1.sales_model=='Replenishment'].index.tolist()\n",
    "indexes_list_2 = con_1[con_1.customer_buCode==con_1.sales_unit].index.tolist()\n",
    "# indexes_list_2 = con_1[con_1.to_customers_seller_id==con_1.sales_unit].index.tolist()\n",
    "indexes_list = list(set(indexes_list_1+indexes_list_2))\n",
    "data_XXWH_work = data_XXWH[~data_XXWH.index.isin(indexes_list)].reset_index(drop=True)\n",
    "# 2 условие\n",
    "data_XXWH_work = data_XXWH_work[~data_XXWH_work.customer_buCode.isin(['BRFTO', 'BRHRG'])]\n",
    "# последняя запись на дату сделки\n",
    "data_XXWH_work['max_inserted'] = data_XXWH_work.groupby(dropna=False, as_index=False, by='deal_id')['##inserted'].transform('max')\n",
    "data_XXWH_work = data_XXWH_work[data_XXWH_work['##inserted']==data_XXWH_work.max_inserted]\n",
    "data_XXWH_work.shape"
   ]
  },
  {
   "cell_type": "code",
   "execution_count": 96,
   "metadata": {},
   "outputs": [
    {
     "data": {
      "text/plain": [
       "114"
      ]
     },
     "execution_count": 96,
     "metadata": {},
     "output_type": "execute_result"
    }
   ],
   "source": [
    "# достаем список строк\n",
    "deals_list_BD = data_XXWH_work.deal_id.unique().tolist()\n",
    "len(deals_list_BD)"
   ]
  },
  {
   "cell_type": "code",
   "execution_count": 77,
   "metadata": {},
   "outputs": [
    {
     "data": {
      "text/plain": [
       "(4791, 40)"
      ]
     },
     "execution_count": 77,
     "metadata": {},
     "output_type": "execute_result"
    }
   ],
   "source": [
    "query = f'''\n",
    "select *\n",
    "from \"RISKACCESS\".\"unifiedOcp\"\n",
    "where \"sourceTable\" = 'flowDealsReportChanges'\n",
    "and \"reportDate\" = TO_DATE('2024-08-31', 'YYYY-MM-DD')\n",
    "--fetch first 1 rows only\n",
    "'''\n",
    "data_OCP = export_from_RISKCUSTOM(query)\n",
    "data_OCP.shape"
   ]
  },
  {
   "cell_type": "code",
   "execution_count": 89,
   "metadata": {},
   "outputs": [
    {
     "data": {
      "text/plain": [
       "1953"
      ]
     },
     "execution_count": 89,
     "metadata": {},
     "output_type": "execute_result"
    }
   ],
   "source": [
    "data_OCP_deals_list = data_OCP.recordId.unique().astype(int).tolist()\n",
    "len(data_OCP_deals_list)"
   ]
  },
  {
   "cell_type": "code",
   "execution_count": 104,
   "metadata": {},
   "outputs": [],
   "source": [
    "list_not_in_OCP = [x for x in deals_list_BD if x not in data_OCP_deals_list]\n",
    "list_in_OCP = [x for x in deals_list_BD if x in data_OCP_deals_list]"
   ]
  },
  {
   "cell_type": "code",
   "execution_count": 105,
   "metadata": {},
   "outputs": [],
   "source": [
    "# to excel\n",
    "if print_excel == True:\n",
    "    Output_file = f'{str(date.today())}_Deals_recodID_vs_OCP.xlsx'\n",
    "    with pd.ExcelWriter(Output_file, engine='openpyxl') as writer:\n",
    "        data_XXWH_work.to_excel(writer, index=False, sheet_name='data_XXWH')\n",
    "        data_OCP.to_excel(writer, index=False, sheet_name='data_unOCP')\n",
    "        pd.DataFrame({'XXWH_deals':deals_list_BD}).to_excel(writer, index=False, sheet_name='deals_list', startcol=0)\n",
    "        pd.DataFrame({'unOCP_deals':data_OCP_deals_list}).to_excel(writer, index=False, sheet_name='deals_list', startcol=2)\n",
    "        pd.DataFrame({'deals_not_in_unOCP':list_not_in_OCP}).to_excel(writer, index=False, sheet_name='deals_list', startcol=5)\n",
    "        pd.DataFrame({'deals_in_unOCP':list_in_OCP}).to_excel(writer, index=False, sheet_name='deals_list', startcol=7)"
   ]
  }
 ],
 "metadata": {
  "kernelspec": {
   "display_name": "base",
   "language": "python",
   "name": "python3"
  },
  "language_info": {
   "codemirror_mode": {
    "name": "ipython",
    "version": 3
   },
   "file_extension": ".py",
   "mimetype": "text/x-python",
   "name": "python",
   "nbconvert_exporter": "python",
   "pygments_lexer": "ipython3",
   "version": "3.11.5"
  }
 },
 "nbformat": 4,
 "nbformat_minor": 2
}
