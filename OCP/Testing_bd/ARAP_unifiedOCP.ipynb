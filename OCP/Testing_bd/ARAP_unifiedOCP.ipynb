{
 "cells": [
  {
   "cell_type": "code",
   "execution_count": 1,
   "metadata": {},
   "outputs": [],
   "source": [
    "import sys\n",
    "sys.path.append(\"C:\\\\Users\\\\KlimovaAnnaA\\\\Documents\\\\MyFiles\\\\Projects\\\\Working_attributes\")\n",
    "from Imports import * \n",
    "import pandas as pd"
   ]
  },
  {
   "cell_type": "code",
   "execution_count": 18,
   "metadata": {},
   "outputs": [],
   "source": [
    "Today = '2024-07-31'\n",
    "\n",
    "print_to_excel = True"
   ]
  },
  {
   "cell_type": "code",
   "execution_count": 3,
   "metadata": {},
   "outputs": [
    {
     "data": {
      "text/plain": [
       "['2024-09-04_SQL_query.txt', '2024-09-05_SQL_query.txt']"
      ]
     },
     "execution_count": 3,
     "metadata": {},
     "output_type": "execute_result"
    }
   ],
   "source": [
    "path = 'C:\\\\Users\\\\KlimovaAnnaA\\\\Documents\\\\MyFiles\\\\Projects\\\\OCP\\\\ARAP\\\\SQL'\n",
    "SQL_folder_list = os.listdir(path)\n",
    "query_files_list = [x for x in SQL_folder_list if '.txt' in x and 'query' in x]\n",
    "query_files_list"
   ]
  },
  {
   "cell_type": "code",
   "execution_count": 4,
   "metadata": {},
   "outputs": [
    {
     "name": "stderr",
     "output_type": "stream",
     "text": [
      "C:\\Users\\KlimovaAnnaA\\Documents\\MyFiles\\Projects\\Working_attributes\\Defs.py:88: UserWarning: pandas only supports SQLAlchemy connectable (engine/connection) or database string URI or sqlite3 DBAPI2 connection. Other DBAPI2 objects are not tested. Please consider using SQLAlchemy.\n",
      "  data_export = pd.read_sql(query, con=connection)\n"
     ]
    },
    {
     "data": {
      "text/html": [
       "<div>\n",
       "<style scoped>\n",
       "    .dataframe tbody tr th:only-of-type {\n",
       "        vertical-align: middle;\n",
       "    }\n",
       "\n",
       "    .dataframe tbody tr th {\n",
       "        vertical-align: top;\n",
       "    }\n",
       "\n",
       "    .dataframe thead th {\n",
       "        text-align: right;\n",
       "    }\n",
       "</style>\n",
       "<table border=\"1\" class=\"dataframe\">\n",
       "  <thead>\n",
       "    <tr style=\"text-align: right;\">\n",
       "      <th></th>\n",
       "      <th>customerName</th>\n",
       "      <th>orgName</th>\n",
       "      <th>companyCode</th>\n",
       "      <th>codeBUsap</th>\n",
       "      <th>dueDate</th>\n",
       "      <th>presentAmountUSD</th>\n",
       "      <th>holding</th>\n",
       "      <th>currencyCode</th>\n",
       "      <th>accountPurpose</th>\n",
       "    </tr>\n",
       "  </thead>\n",
       "  <tbody>\n",
       "    <tr>\n",
       "      <th>0</th>\n",
       "      <td>DE KEYSER THORNTON NV</td>\n",
       "      <td>BEELI: UAB Eurochem Logistics International</td>\n",
       "      <td>LTEBL</td>\n",
       "      <td>None</td>\n",
       "      <td>None</td>\n",
       "      <td>-432.27</td>\n",
       "      <td>EUROCHEM</td>\n",
       "      <td>EUR</td>\n",
       "      <td>Trade payables</td>\n",
       "    </tr>\n",
       "    <tr>\n",
       "      <th>1</th>\n",
       "      <td>TELENET BVBA</td>\n",
       "      <td>BEELI: UAB Eurochem Logistics International</td>\n",
       "      <td>LTEBL</td>\n",
       "      <td>None</td>\n",
       "      <td>None</td>\n",
       "      <td>71.54</td>\n",
       "      <td>EUROCHEM</td>\n",
       "      <td>EUR</td>\n",
       "      <td>Trade payables</td>\n",
       "    </tr>\n",
       "  </tbody>\n",
       "</table>\n",
       "</div>"
      ],
      "text/plain": [
       "            customerName                                      orgName  \\\n",
       "0  DE KEYSER THORNTON NV  BEELI: UAB Eurochem Logistics International   \n",
       "1           TELENET BVBA  BEELI: UAB Eurochem Logistics International   \n",
       "\n",
       "  companyCode codeBUsap dueDate  presentAmountUSD   holding currencyCode  \\\n",
       "0       LTEBL      None    None           -432.27  EUROCHEM          EUR   \n",
       "1       LTEBL      None    None             71.54  EUROCHEM          EUR   \n",
       "\n",
       "   accountPurpose  \n",
       "0  Trade payables  \n",
       "1  Trade payables  "
      ]
     },
     "execution_count": 4,
     "metadata": {},
     "output_type": "execute_result"
    }
   ],
   "source": [
    "with open(path + '\\\\' + query_files_list[1], 'r') as file:\n",
    "    query = file.read()\n",
    "data_export = export_from_RISKCUSTOM(f'''SELECT \"customerName\",\"orgName\", \"companyCode\",\"codeBUsap\", \"dueDate\", \"presentAmountUSD\",\"holding\",\"currencyCode\",\n",
    "                                            {query}\n",
    "                                            AND \"reportDate\" = TO_DATE('{Today}', 'YYYY-MM-DD')''')    \n",
    "data_export.head(2)"
   ]
  },
  {
   "cell_type": "code",
   "execution_count": 5,
   "metadata": {},
   "outputs": [],
   "source": [
    "# query = f'''select \n",
    "#     \"customerName\",\"orgName\", \"companyCode\",\"codeBUsap\", \"dueDate\", \"presentAmountUSD\",\"holding\",\"currencyCode\",\n",
    "# CASE\n",
    "#         WHEN \"bscCode\" in ('130','135','BSC130','BSC135') \n",
    "#         THEN 'Trade receivables'\n",
    "#         WHEN \"bscCode\" in ('160','165','BSC160','BSC165') \n",
    "#         THEN 'Advances to suppliers'\n",
    "#         WHEN \"bscCode\" in ('170','175','BSC170','BSC175')\n",
    "#         THEN 'Capital advances'\n",
    "#         WHEN \"bscCode\" in ('140','145','BSC140','BSC145') \n",
    "#         THEN 'Other receivables'\n",
    "#         WHEN \"bscCode\" in ('330','BSC330')\n",
    "#         THEN 'Provisions'\n",
    "#         WHEN \"bscCode\" in ('300','305','BSC300','BSC305') \n",
    "#         THEN 'Trade payables'\n",
    "#         WHEN \"bscCode\" in ('310','315','BSC310','BSC315') \n",
    "#         THEN 'Other payables'\n",
    "#         WHEN \"bscCode\" in ('360','365','BSC360','BSC365') \n",
    "#         THEN 'Advances received'\n",
    "#         WHEN \"bscCode\" in ('350','355','BSC350','BSC355') \n",
    "#         THEN 'Loans received'\n",
    "#         WHEN \"bscCode\" in ('210','215','BSC210','BSC215') \n",
    "#         THEN 'Loans issued'\n",
    "#         WHEN \"bscCode\" in ('340','BSC340') \n",
    "#         THEN 'Tax'\n",
    "#         WHEN \"bscCode\" in ('410','BSC410') \n",
    "#         THEN 'Pension'\n",
    "#         ELSE 'Unknown'\n",
    "#     END AS \"accountPurpose\"\n",
    "# from RISKACCESS.\"unifiedARReport\"\n",
    "# where \n",
    "#     \"sourceSystem\" in ('OEBS12_EU','ETL document loader','SAP_HRG') and\n",
    "#     \"rowType\" = 'M' and\n",
    "#     \"reportDate\" = TO_DATE('{Today}', 'YYYY-MM-DD')  \n",
    "# union all select\n",
    "#      \"customerName\",\"orgName\", \"companyCode\",\"codeBUsap\", \"dueDate\", \"presentAmountUSD\",\"holding\",\"currencyCode\",\n",
    "# CASE\n",
    "#         WHEN (\"glAccount\" like '62%' or \"glAccount\" IN (7699200310, 7699100210,4601000000, 4611000000, 1501010009, 1501010019, 1501010109, 1501010119, 2201010000,\n",
    "#         2201010008, 2201010009, 2201010010, 2201010018, 2201010019, 2201011000, 2201011008, 2201011009, 2201011010, 2201011018, 2201011019, 2201010098, 2201010099,\n",
    "#         2201020000, 2201020008, 2201030000, 2201030008, 2201010090, 2201010190, 2110000000, 2110000900, 2130000000, 2130000900, 2151000000, 2151000900, 2170000000,\n",
    "#         2170000900, 1210000000, 1210000900, 1260000000, 2181000000, 2181000900))\n",
    "#         THEN 'Trade receivables'\n",
    "#         WHEN \"glAccount\" IN (6002770900, 6002090900, 6002020000, 6002020099, 6002080000, 6002090000, 6002050000, 6002020900, 6002070000, 6002070099, 6002770000,\n",
    "#         6002050900, 6002070900, 6099000215, 6099000224, 6099000212, 6099000217, 6099000219, 6099000619, 6099000120, 6099000123, 6099000820, 6099000430, 6099000460,\n",
    "#         6099000470, 6099000490, 7699100410, 6099000830, 6099000810, 6002030000, 6002040000, 6002030900, 6002040900, 6099000440, 6099000450, 6099000203, 6099000615, \n",
    "#         6002140000, 6002140099, 6099000616, 6002150000, 7610001900, 7610001000, 7610001099, 2301010100, 2301010108, 2301010110, 2301010118, 2301010200, 2301010208,\n",
    "#         2301010210, 2301010218, 2301010300, 2301010308, 2301010400, 2301010408, 2301011100, 2301011108, 2301011110, 2301011118, 2301011200, 2301011208, 2301011210,\n",
    "#         2301011218, 2301011300, 2301011308, 2302010000, 2302010007, 1611000000, 1613000000, 1615000000, 7610007900, 7610007000, 7610005000, 7699100620, 7699100420)\n",
    "#         THEN 'Advances to suppliers'\n",
    "#         WHEN \"glAccount\" IN (6002010000, 6002010099, 6002010900, 6099000612, 6099000211, 2301020100, 2301020108, 2301020110, 2301020118, 2301020200, 2301020208,\n",
    "#         2301020210, 2301020218, 2301020300, 2301020308, 2301020310, 2301020318, 2301021100, 2301021108, 2301021110, 2301021118, 2301021200, 2301021208, 2301021210,\n",
    "#         2301021218, 2301021300, 2301021308, 2301021310, 2301021318, 2301000008, 2301001008, 2302020000, 2302020007, 1612000000, 1614000000)\n",
    "#         THEN 'Capital advances'\n",
    "#         WHEN \"glAccount\" IN (6001089000, 7625003000, 7610003000, 7615003000, 7699100550, 6099000710, 7699200500, 7615004000, 7629009000, 7625013000, 7625013900,\n",
    "#         7699100200, 7629000900, 7610406000, 7610406900, 7610405000, 7610405900, 7630707000, 7622020000, 7620801000, 7620801900, 7630705000, 7629000099, 7629000000,\n",
    "#         7610004000, 7618000900, 7618000000, 6001080900, 6001080000, 7622010000, 7620703000, 7620704000, 7620701000, 7620701900, 7620702000, 7622030000, 7622040000,\n",
    "#         7699900000, 7610500000, 7610500099, 7699100240, 7630702000, 7630703000, 7630706000, 7625006000, 7625007000, 7625001000, 7625001900, 7620200000, 7620200900,\n",
    "#         2601030000, 2601030008, 2601040000, 2601040008, 2601050009, 2602000000, 2602000008, 2602000009, 2602000010, 2602000018, 2602000019, 2602001000, 2602001008,\n",
    "#         2602001010, 2602001018, 2602010000, 2602010009, 2602060100, 2602000090, 2603000000, 2603000100, 36307060, 1284000000, 1284000900, 1630000000, 1282000000, \n",
    "#         1282000900, 1251000000, 2601010009, 2601020009)\n",
    "#         THEN 'Other receivables'\n",
    "#         WHEN \"glAccount\" IN (2201910000, 1290000000, 2190000000, 2301910100, 2602900000)\n",
    "#         THEN 'Provisions'\n",
    "#         WHEN (\"glAccount\" IN (1022200000))\n",
    "#         THEN 'FX Spot'\n",
    "#         WHEN (\"glAccount\" IN (1110009000, 1270000000, 1271000000, 2204000000, 2604010100, 2604020100, 2604021110, 2604021200, 7621156000))\n",
    "#         THEN 'Loans issued'\n",
    "#         WHEN (\"glAccount\" IN (1410000000, 1430010000, 1430030000, 1430050000, 1430060000, 1430070000))\n",
    "#         THEN 'Tax'\n",
    "#         WHEN (\"glAccount\" IN (2602000020))\n",
    "#         THEN 'MTM Derivatives'        \n",
    "#         WHEN (\"glAccount\" IN (7610300000))\n",
    "#         THEN 'Dividends'        \n",
    "#         WHEN (\"glAccount\" IN (7611102000))\n",
    "#         THEN 'Capital expenses'       \n",
    "#         ELSE 'Unknown'\n",
    "#     END AS \"accountPurpose\"\n",
    "# from RISKACCESS.\"unifiedARReport\"\n",
    "# where \n",
    "#     (\"sourceSystem\" = 'SAP ERP' or \"sourceSystem\" = 'SAP ECP') and\n",
    "#     \"rowType\" = 'M' and\n",
    "#     \"reportType\" = 'AR' and \n",
    "#     \"reportDate\" = TO_DATE('{Today}', 'YYYY-MM-DD')  \n",
    "# union all select\n",
    "#  \"customerName\",\"orgName\", \"companyCode\",\"codeBUsap\", \"dueDate\", \"presentAmountUSD\",\"holding\", \"currencyCode\",\n",
    "# CASE\n",
    "#         WHEN \"glAccount\" like '63%'\n",
    "#         THEN 'Provisions'\n",
    "#         WHEN (\"glAccount\" IN (5201010100, 5201010110, 5201010200, 5201011100, 5201011110, 5201011200))\n",
    "#         THEN 'Trade payables'\n",
    "#         WHEN (\"glAccount\" IN (5501000000, 5501010000, 5502000000, 5503020000, 5503030000, 5503030010, 5503010000))\n",
    "#         THEN 'Other payables'\n",
    "#         WHEN (\"glAccount\" like '62%' or \"glAccount\" IN (5301010000, 5301010010, 7620002000, 0035100000))\n",
    "#         THEN 'Advances received'\n",
    "#         WHEN (\"glAccount\" like '60%' or \"glAccount\" IN (5101010100, 5101020110, 5101021110, 5104040000, 5109000000, 5503050000, 5505010200, 5505010210, 5505011210, 5505020100, \n",
    "#         7610101000, 7610402000, 7610404000, 7610405000, 7610601000, 7610603000, 7610691000, 7619000000, 7620002000, 0033970000, 0033500000, 0033600000, 0033960000, 0033140000,\n",
    "#         0033130000, 0033120000, 0033110000, 0033800000, 0033950000, 0033970100))\n",
    "#         THEN 'Other payables'\n",
    "#         WHEN (\"glAccount\" IN (0032200000, 0032310000))\n",
    "#         THEN 'Pension'\n",
    "#         WHEN (\"glAccount\" IN (0032300000, 0032150000, 0032140000, 0032130000, 0032120000, 0032110000, 0031500000, 0033970200))\n",
    "#         THEN 'Social'\n",
    "#         WHEN (\"glAccount\" IN (0031940000, 0031930000, 0031920000, 0031910000, 0031800000, 0031700000, 0031600000, 0031330000, 0031320000, 0031220000, 0031210000, 0031100000))\n",
    "#         THEN 'Tax'\n",
    "#         WHEN (\"glAccount\" IN (0030200000))\n",
    "#         THEN 'Loans received'\n",
    "#         ELSE 'Unknown'\n",
    "#     END AS \"accountPurpose\"\n",
    "# from RISKACCESS.\"unifiedARReport\"\n",
    "# where \n",
    "#     (\"sourceSystem\" = 'SAP ERP' or \"sourceSystem\" = 'SAP ECP') and\n",
    "#     \"rowType\" = 'M' and\n",
    "#     \"reportType\" = 'AP' and \n",
    "#     \"reportDate\" = TO_DATE('{Today}', 'YYYY-MM-DD')  \n",
    "#     '''\n",
    "\n",
    "# data_export = export_from_RISKCUSTOM(query)    "
   ]
  },
  {
   "cell_type": "code",
   "execution_count": 6,
   "metadata": {},
   "outputs": [
    {
     "name": "stderr",
     "output_type": "stream",
     "text": [
      "C:\\Users\\KlimovaAnnaA\\Documents\\MyFiles\\Projects\\Working_attributes\\Defs.py:88: UserWarning: pandas only supports SQLAlchemy connectable (engine/connection) or database string URI or sqlite3 DBAPI2 connection. Other DBAPI2 objects are not tested. Please consider using SQLAlchemy.\n",
      "  data_export = pd.read_sql(query, con=connection)\n",
      "C:\\Users\\KlimovaAnnaA\\Documents\\MyFiles\\Projects\\Working_attributes\\Defs.py:33: FutureWarning: Setting an item of incompatible dtype is deprecated and will raise an error in a future version of pandas. Value '['EURSALES' 'EURSALES' 'EURSALES' ... 'SAMSALES' 'SAMSALES' 'SAMSALES']' has dtype incompatible with float64, please explicitly cast to a compatible dtype first.\n",
      "  merge_data.loc[merge_data[f'{id_colmn}_merge'] != 'External', 'last_merge'] = merge_data.loc[merge_data[f'{id_colmn}_merge'] != 'External', f'{id_colmn}_merge']\n",
      "C:\\Users\\KlimovaAnnaA\\Documents\\MyFiles\\Projects\\Working_attributes\\Defs.py:88: UserWarning: pandas only supports SQLAlchemy connectable (engine/connection) or database string URI or sqlite3 DBAPI2 connection. Other DBAPI2 objects are not tested. Please consider using SQLAlchemy.\n",
      "  data_export = pd.read_sql(query, con=connection)\n",
      "C:\\Users\\KlimovaAnnaA\\Documents\\MyFiles\\Projects\\Working_attributes\\Defs.py:33: FutureWarning: Setting an item of incompatible dtype is deprecated and will raise an error in a future version of pandas. Value '['RUFERT' 'RUFERT' 'TRADING' ... 'SAMSALES' 'SAMSALES' 'SAMSALES']' has dtype incompatible with float64, please explicitly cast to a compatible dtype first.\n",
      "  merge_data.loc[merge_data[f'{id_colmn}_merge'] != 'External', 'last_merge'] = merge_data.loc[merge_data[f'{id_colmn}_merge'] != 'External', f'{id_colmn}_merge']\n",
      "C:\\Users\\KlimovaAnnaA\\Documents\\MyFiles\\Projects\\Working_attributes\\Defs.py:88: UserWarning: pandas only supports SQLAlchemy connectable (engine/connection) or database string URI or sqlite3 DBAPI2 connection. Other DBAPI2 objects are not tested. Please consider using SQLAlchemy.\n",
      "  data_export = pd.read_sql(query, con=connection)\n",
      "C:\\Users\\KlimovaAnnaA\\Documents\\MyFiles\\Projects\\Working_attributes\\Defs.py:33: FutureWarning: Setting an item of incompatible dtype is deprecated and will raise an error in a future version of pandas. Value '['EUROCHEM' 'EUROCHEM' 'EUROCHEM' ... 'EUROCHEM' 'EUROCHEM' 'EUROCHEM']' has dtype incompatible with float64, please explicitly cast to a compatible dtype first.\n",
      "  merge_data.loc[merge_data[f'{id_colmn}_merge'] != 'External', 'last_merge'] = merge_data.loc[merge_data[f'{id_colmn}_merge'] != 'External', f'{id_colmn}_merge']\n"
     ]
    }
   ],
   "source": [
    "### ARAP:\n",
    "data_work = data_export[:]\n",
    "del data_export\n",
    "data_work = data_work[data_work.holding!=\"EXTERNAL\"].reset_index(drop=True)\n",
    "# filter to only AR or AP and provisions\n",
    "data_work = data_work[data_work.accountPurpose.isin(['Trade receivables', 'Other receivables', 'Provisions','Trade payables', 'Other payables'])]\n",
    "# tech ccy to normal\n",
    "data_work.currencyCode = data_work.currencyCode.replace(CCY_tech_dict) \n",
    "# drop na\n",
    "data_work = data_work[~(data_work.orgName.isna() & data_work.companyCode.isna())].reset_index(drop=True)\n",
    "# merge\n",
    "data_work['CompCode_concat'] = data_work['companyCode'].fillna('External')\n",
    "data_work['codeBUsap'] = data_work['codeBUsap'].fillna('External')\n",
    "data_work.loc[data_work.CompCode_concat == 'External','CompCode_concat'] = data_work.loc[data_work.CompCode_concat == 'External','codeBUsap']\n",
    "data_work['org_code'] = merge_Mapping(data_work, col='orgName')\n",
    "data_work.loc[data_work.CompCode_concat == 'External','CompCode_concat'] = data_work.loc[data_work.CompCode_concat == 'External','org_code']\n",
    "# data_work['CompCode_concat'] = data_work['companyCode'].fillna('')\n",
    "# data_work.loc[data_work.CompCode_concat == '','CompCode_concat'] = data_work.loc[data_work.CompCode_concat == '','org_code']\n",
    "data_work['CompMap'] = merge_SalesUnits(data_work, col='CompCode_concat', merge_col='ocpSegment')\n",
    "\n",
    "data_work['CtyCode'] = merge_Mapping(data_work, col='customerName').fillna('External')\n",
    "data_work['CtyMap'] = merge_SalesUnits(data_work, col='CtyCode', merge_col='ocpSegment').fillna('External')\n",
    "data_work['Cty_holding'] = merge_SalesUnits(data_work,'CtyCode',merge_col='holding').fillna('External')\n",
    "\n",
    "data_work['Amount_USD'] = data_work['presentAmountUSD'].replace({np.nan : 0})\n",
    "\n",
    "index_list=['holding','customerName', 'Cty_holding', 'orgName', 'CompCode_concat', 'currencyCode','accountPurpose', 'CompMap', 'CtyCode', 'CtyMap','dueDate']\n",
    "# data_work_pivot = data_work.pivot_table(dropna=False, index=index_list,values='Amount_USD',aggfunc=sum).reset_index()\n",
    "data_work_pivot = data_work.groupby(index_list, as_index=False,dropna=False).Amount_USD.apply('sum')\n",
    "del data_work\n",
    "\n",
    "# data_work_pivot['AR_flag'] = data_work_pivot['accountPurpose']\\\n",
    "#                                             .isin(['Trade receivables', 'Other receivables', 'Provisions'])\\\n",
    "#                                             .astype(int)\n",
    "# data_work_pivot['AP_flag'] = data_work_pivot['accountPurpose']\\\n",
    "#                                             .isin(['Trade payables', 'Other payables'])\\\n",
    "#                                             .astype(int)\n",
    "\n",
    "# data_work_pivot['Amount_AR_USD'] = data_work_pivot['Amount_USD'] * data_work_pivot['AR_flag']\n",
    "# data_work_pivot['Amount_AP_USD'] = data_work_pivot['Amount_USD'] * data_work_pivot['AP_flag']\n",
    "\n",
    "data_work_pivot = Period(data_work_pivot, day_for_count=Today, col_with_date='dueDate')\n",
    "\n",
    "#change order of columns\n",
    "data_work_ARAP = data_work_pivot[['holding', 'customerName', 'CompCode_concat','currencyCode','accountPurpose','CompMap','CtyCode','CtyMap','Amount_USD', 'Days', 'Period']]\n",
    "del data_work_pivot"
   ]
  },
  {
   "cell_type": "code",
   "execution_count": 24,
   "metadata": {},
   "outputs": [
    {
     "name": "stderr",
     "output_type": "stream",
     "text": [
      "C:\\Users\\KlimovaAnnaA\\Documents\\MyFiles\\Projects\\Working_attributes\\Defs.py:88: UserWarning: pandas only supports SQLAlchemy connectable (engine/connection) or database string URI or sqlite3 DBAPI2 connection. Other DBAPI2 objects are not tested. Please consider using SQLAlchemy.\n",
      "  data_export = pd.read_sql(query, con=connection)\n"
     ]
    }
   ],
   "source": [
    "query = f'''\n",
    "select \n",
    "\"holding\",\"counterpartyName\",\"buCode\",\"effectiveCurrency\",\"accountSubtype\",\"ocpSegment\",\"introgroupCounterpartyCode\",\"counterpartySegment\",\"volumeUsd\",\"maturityDateToDays\",\"timeBucket\"\n",
    "--\"effectiveCurrency\"\n",
    "--\"notionalCurrency\"\n",
    "\n",
    "from RISKACCESS.\"unifiedOcp\"\n",
    "where \n",
    "\"sourceTable\" = 'unifiedARReport' and\n",
    "\"reportDate\" = TO_DATE('{Today}', 'YYYY-MM-DD') and\n",
    "\"rowType\" = 'M'\n",
    "'''\n",
    "\n",
    "data_export_OCP = export_from_RISKCUSTOM(query)"
   ]
  },
  {
   "cell_type": "code",
   "execution_count": 26,
   "metadata": {},
   "outputs": [
    {
     "name": "stderr",
     "output_type": "stream",
     "text": [
      "C:\\Users\\KlimovaAnnaA\\AppData\\Local\\Temp\\ipykernel_13956\\3202179491.py:2: UserWarning: Pandas doesn't allow columns to be created via a new attribute name - see https://pandas.pydata.org/pandas-docs/stable/indexing.html#attribute-access\n",
      "  data_export_OCP.notionalCurrency = data_export_OCP[ccy_col].replace(CCY_tech_dict)  # techdict\n"
     ]
    }
   ],
   "source": [
    "ccy_col = 'effectiveCurrency'\n",
    "data_export_OCP.notionalCurrency = data_export_OCP[ccy_col].replace(CCY_tech_dict)  # techdict\n",
    "data_export_OCP = data_export_OCP[data_export_OCP.holding!=\"EXTERNAL\"] # holding filter\n",
    "#pivot\n",
    "cols_list = data_export_OCP.columns.tolist()\n",
    "\n",
    "cols_list_pivot = cols_list[:]\n",
    "cols_list_pivot.remove('volumeUsd')\n",
    "# data_work_OCP = data_export_OCP.pivot_table(index=cols_list_pivot, values='volumeUsd',aggfunc=sum, dropna=False).reset_index()\n",
    "data_work_OCP = data_export_OCP.groupby(cols_list_pivot, as_index=False,dropna=False).volumeUsd.apply('sum')\n",
    "del data_export_OCP\n",
    "# fillna CtyCode\n",
    "data_work_OCP.introgroupCounterpartyCode = data_work_OCP.introgroupCounterpartyCode.fillna('External')"
   ]
  },
  {
   "cell_type": "code",
   "execution_count": 27,
   "metadata": {},
   "outputs": [
    {
     "data": {
      "text/plain": [
       "-1683"
      ]
     },
     "execution_count": 27,
     "metadata": {},
     "output_type": "execute_result"
    }
   ],
   "source": [
    "# dropna\n",
    "data_work_OCP = data_work_OCP[data_work_OCP.volumeUsd!=0].reset_index(drop=True)\n",
    "data_work_ARAP = data_work_ARAP[data_work_ARAP.Amount_USD!=0].reset_index(drop=True)\n",
    "data_work_ARAP.shape[0] - data_work_OCP.shape[0]"
   ]
  },
  {
   "cell_type": "code",
   "execution_count": 39,
   "metadata": {},
   "outputs": [
    {
     "name": "stderr",
     "output_type": "stream",
     "text": [
      "C:\\Users\\KlimovaAnnaA\\AppData\\Local\\Temp\\ipykernel_13956\\2525991584.py:4: FutureWarning: The provided callable <built-in function sum> is currently using np.sum. In a future version of pandas, the provided callable will be used directly. To keep current behavior pass the string np.sum instead.\n",
      "  data_work_ARAP_pivot = data_work_ARAP.groupby(data_work_ARAP_index, dropna=False, as_index=False)['Amount_USD'].apply(sum)\n",
      "C:\\Users\\KlimovaAnnaA\\AppData\\Local\\Temp\\ipykernel_13956\\2525991584.py:5: FutureWarning: The provided callable <built-in function sum> is currently using np.sum. In a future version of pandas, the provided callable will be used directly. To keep current behavior pass the string np.sum instead.\n",
      "  data_work_OCP_pivot = data_work_OCP.groupby(data_work_OCP_index, dropna=False, as_index=False)['volumeUsd'].apply(sum)\n",
      "C:\\Users\\KlimovaAnnaA\\AppData\\Local\\Temp\\ipykernel_13956\\2525991584.py:34: FutureWarning: The provided callable <built-in function sum> is currently using SeriesGroupBy.sum. In a future version of pandas, the provided callable will be used directly. To keep current behavior pass the string \"sum\" instead.\n",
      "  data_work_ARAP_pivot = data_work_ARAP.groupby(data_work_ARAP_index, dropna=False, as_index=False)[['Amount_USD', 'index_ARAP']].agg({'Amount_USD':sum, 'index_ARAP':list})\n",
      "C:\\Users\\KlimovaAnnaA\\AppData\\Local\\Temp\\ipykernel_13956\\2525991584.py:35: FutureWarning: The provided callable <built-in function sum> is currently using np.sum. In a future version of pandas, the provided callable will be used directly. To keep current behavior pass the string np.sum instead.\n",
      "  data_work_OCP_pivot = data_work_OCP.groupby(data_work_OCP_index, dropna=False, as_index=False)['volumeUsd'].apply(sum)\n"
     ]
    }
   ],
   "source": [
    "## pivot by segments\n",
    "data_work_ARAP_index = ['holding','CompMap','currencyCode','accountPurpose']\n",
    "data_work_OCP_index = ['holding','ocpSegment',ccy_col,'accountSubtype']\n",
    "data_work_ARAP_pivot = data_work_ARAP.groupby(data_work_ARAP_index, dropna=False, as_index=False)['Amount_USD'].apply(sum)\n",
    "data_work_OCP_pivot = data_work_OCP.groupby(data_work_OCP_index, dropna=False, as_index=False)['volumeUsd'].apply(sum)\n",
    "# merge\n",
    "data_BD_merge = data_work_ARAP_pivot.merge(data_work_OCP_pivot, how='outer', left_on=data_work_ARAP_index, right_on=data_work_OCP_index)\n",
    "# fill na on the left side\n",
    "map_list = ['CompMap','currencyCode','accountPurpose']\n",
    "drop_list = ['ocpSegment',ccy_col,'accountSubtype']\n",
    "conditiin = data_BD_merge.Amount_USD.isna()\n",
    "for counter in range(len(map_list)):\n",
    "    data_BD_merge.loc[conditiin, map_list[counter]] = data_BD_merge.loc[conditiin, drop_list[counter]]\n",
    "data_BD_merge = data_BD_merge.drop(columns=drop_list)\n",
    "# del variables to keep memory\n",
    "del data_work_ARAP_pivot, data_work_OCP_pivot\n",
    "# choose data with huge differences\n",
    "data_BD_merge[['Amount_USD','volumeUsd']] = data_BD_merge[['Amount_USD','volumeUsd']].fillna(0)\n",
    "data_BD_merge = is_approximately_equal_for_cols(data_BD_merge, 'Amount_USD', 'volumeUsd', tolerance=0.25)\n",
    "# data_BD_merge_false = data_BD_merge[data_BD_merge['Diff_more_0.25']==True]\n",
    "## concat columns to find them on the next step\n",
    "# data_BD_merge_false = concat_columns(data_BD_merge_false, data_work_ARAP_index)\n",
    "# concat_list = data_BD_merge_false.concat_columns.unique().tolist()\n",
    "## concat columns in main data\n",
    "# data_work_ARAP = concat_columns(data_work_ARAP, data_work_ARAP_index)\n",
    "# data_work_OCP = concat_columns(data_work_OCP, data_work_OCP_index)\n",
    "\n",
    "## pivot by BU and cpty\n",
    "data_work_ARAP_index = data_work_ARAP_index + ['CompCode_concat', 'CtyCode']\n",
    "data_work_OCP_index = data_work_OCP_index  + ['buCode', 'introgroupCounterpartyCode']\n",
    "data_work_ARAP['index_ARAP'] = data_work_ARAP.index\n",
    "# data_work_ARAP_pivot = data_work_ARAP[data_work_ARAP.concat_columns.isin(concat_list)].groupby(data_work_ARAP_index, dropna=False, as_index=False)[['Amount_USD', 'index_ARAP']].agg({'Amount_USD':sum, 'index_ARAP':list})\n",
    "# data_work_OCP_pivot = data_work_OCP[data_work_OCP.concat_columns.isin(concat_list)].groupby(data_work_OCP_index, dropna=False, as_index=False)['volumeUsd'].apply(sum)\n",
    "data_work_ARAP_pivot = data_work_ARAP.groupby(data_work_ARAP_index, dropna=False, as_index=False)[['Amount_USD', 'index_ARAP']].agg({'Amount_USD':sum, 'index_ARAP':list})\n",
    "data_work_OCP_pivot = data_work_OCP.groupby(data_work_OCP_index, dropna=False, as_index=False)['volumeUsd'].apply(sum)\n",
    "# merge\n",
    "data_BD_merge_C_E = data_work_ARAP_pivot.merge(data_work_OCP_pivot, how='outer', left_on=data_work_ARAP_index, right_on=data_work_OCP_index)\n",
    "# drop na from the left\n",
    "del_list = ['ocpSegment',ccy_col,'accountSubtype','buCode','introgroupCounterpartyCode']\n",
    "map_list = ['CompMap','currencyCode','accountPurpose','CompCode_concat','CtyCode']\n",
    "conditiin = data_BD_merge_C_E.Amount_USD.isna()\n",
    "for counter in range(len(map_list)):\n",
    "    data_BD_merge_C_E.loc[conditiin, map_list[counter]] = data_BD_merge_C_E.loc[conditiin, del_list[counter]]\n",
    "data_BD_merge_C_E = data_BD_merge_C_E.drop(columns=del_list)\n",
    "# compaire values\n",
    "data_BD_merge_C_E[['Amount_USD','volumeUsd']] = data_BD_merge_C_E[['Amount_USD','volumeUsd']].fillna(0)\n",
    "data_BD_merge_C_E = is_approximately_equal_for_cols(data_BD_merge_C_E, 'Amount_USD','volumeUsd')\n",
    "data_BD_merge_C_E_false = data_BD_merge_C_E[data_BD_merge_C_E['Diff_more_0.4']==True]\n",
    "# data_BD_merge_C_E_false[(data_BD_merge_C_E_false.Amount_USD!=0)&(data_BD_merge_C_E_false.volumeUsd!=0)]"
   ]
  },
  {
   "cell_type": "code",
   "execution_count": 41,
   "metadata": {},
   "outputs": [],
   "source": [
    "# data_BD_merge_C_E_false[data_BD_merge_C_E_false.CtyCode.isna()]\n",
    "# data_work_OCP_pivot[data_work_OCP_pivot.volumeUsd.isna()]\n",
    "# data_work_ARAP_pivot[data_work_ARAP_pivot.Amount_USD.isna()]\n",
    "# # data_work_ARAP_pivot\n",
    "# data_BD_merge_C_E[data_BD_merge_C_E.CtyCode.isna()]\n",
    "# data_BD_merge\n",
    "ccy_pivot_ARAP = data_work_ARAP.groupby('currencyCode',dropna=False,as_index=False)['Amount_USD'].agg('count')\n",
    "ccy_pivot_OCP = data_work_OCP.groupby('effectiveCurrency',dropna=False,as_index=False)['volumeUsd'].agg('count')\n",
    "ccy_merge = ccy_pivot_ARAP.merge(ccy_pivot_OCP, how='outer', left_on='currencyCode', right_on='effectiveCurrency')\n",
    "ccy_merge_false = ccy_merge[ccy_merge.Amount_USD!=ccy_merge.volumeUsd]"
   ]
  },
  {
   "cell_type": "code",
   "execution_count": 43,
   "metadata": {},
   "outputs": [],
   "source": [
    "### to excel\n",
    "data_BD_merge_print = data_BD_merge[(data_BD_merge.Amount_USD!=0)|(data_BD_merge.volumeUsd!=0)]\n",
    "if print_to_excel == True:\n",
    "    Output_file = f'{str(date.today())}_unifiedOcp_vs_unifiedARReport_.xlsx'\n",
    "    with pd.ExcelWriter(engine='openpyxl', path=Output_file) as writer:\n",
    "        data_BD_merge_print.to_excel(writer, index= False, sheet_name='Segment_to_segment')\n",
    "        data_work_ARAP.to_excel(writer, index= False, sheet_name='unifiedARReport')\n",
    "        data_work_OCP.to_excel(writer, index= False, sheet_name='unifiedOcp')\n",
    "        data_BD_merge_C_E_false.to_excel(writer, index= False, sheet_name='BU_to_cty')\n",
    "        ccy_merge_false.to_excel(writer, index= False, sheet_name='CCY_count')\n"
   ]
  },
  {
   "cell_type": "markdown",
   "metadata": {},
   "source": [
    "Как мэтчатся холдинги"
   ]
  },
  {
   "cell_type": "code",
   "execution_count": 23,
   "metadata": {},
   "outputs": [
    {
     "data": {
      "text/html": [
       "<div>\n",
       "<style scoped>\n",
       "    .dataframe tbody tr th:only-of-type {\n",
       "        vertical-align: middle;\n",
       "    }\n",
       "\n",
       "    .dataframe tbody tr th {\n",
       "        vertical-align: top;\n",
       "    }\n",
       "\n",
       "    .dataframe thead th {\n",
       "        text-align: right;\n",
       "    }\n",
       "</style>\n",
       "<table border=\"1\" class=\"dataframe\">\n",
       "  <thead>\n",
       "    <tr style=\"text-align: right;\">\n",
       "      <th></th>\n",
       "      <th>holding_x</th>\n",
       "      <th>CompCode_concat</th>\n",
       "      <th>holding_y</th>\n",
       "      <th>buCode</th>\n",
       "    </tr>\n",
       "  </thead>\n",
       "  <tbody>\n",
       "  </tbody>\n",
       "</table>\n",
       "</div>"
      ],
      "text/plain": [
       "Empty DataFrame\n",
       "Columns: [holding_x, CompCode_concat, holding_y, buCode]\n",
       "Index: []"
      ]
     },
     "execution_count": 23,
     "metadata": {},
     "output_type": "execute_result"
    }
   ],
   "source": [
    "data_hold = data_work_ARAP[['holding','CompCode_concat']].drop_duplicates().merge(data_work_OCP[['holding','buCode']].drop_duplicates(), how='outer', left_on='CompCode_concat', right_on='buCode')\n",
    "data_hold[data_hold.holding_x!=data_hold.holding_y]"
   ]
  },
  {
   "cell_type": "markdown",
   "metadata": {},
   "source": [
    "Комания на компанию - не хвататет ли отдбельных компаний в какой-то из баз:"
   ]
  },
  {
   "cell_type": "code",
   "execution_count": 14,
   "metadata": {},
   "outputs": [
    {
     "data": {
      "text/html": [
       "<div>\n",
       "<style scoped>\n",
       "    .dataframe tbody tr th:only-of-type {\n",
       "        vertical-align: middle;\n",
       "    }\n",
       "\n",
       "    .dataframe tbody tr th {\n",
       "        vertical-align: top;\n",
       "    }\n",
       "\n",
       "    .dataframe thead th {\n",
       "        text-align: right;\n",
       "    }\n",
       "</style>\n",
       "<table border=\"1\" class=\"dataframe\">\n",
       "  <thead>\n",
       "    <tr style=\"text-align: right;\">\n",
       "      <th></th>\n",
       "      <th>holding</th>\n",
       "      <th>buCode</th>\n",
       "      <th>CompCode_concat</th>\n",
       "    </tr>\n",
       "  </thead>\n",
       "  <tbody>\n",
       "  </tbody>\n",
       "</table>\n",
       "</div>"
      ],
      "text/plain": [
       "Empty DataFrame\n",
       "Columns: [holding, buCode, CompCode_concat]\n",
       "Index: []"
      ]
     },
     "execution_count": 14,
     "metadata": {},
     "output_type": "execute_result"
    }
   ],
   "source": [
    "BUcodes_merge = data_work_OCP[['holding','buCode']].drop_duplicates().reset_index(drop=True).merge(data_work_ARAP[['holding','CompCode_concat']].drop_duplicates().reset_index(drop=True), how='outer', left_on=['holding','buCode'], right_on=['holding','CompCode_concat'])\n",
    "BUcodes_merge[(BUcodes_merge.buCode.isna())|(BUcodes_merge.CompCode_concat.isna())]\n",
    "# .to_excel('Map.xlsx')"
   ]
  },
  {
   "cell_type": "markdown",
   "metadata": {},
   "source": [
    "Ошибка в мердже OCP:"
   ]
  },
  {
   "cell_type": "code",
   "execution_count": 15,
   "metadata": {},
   "outputs": [
    {
     "name": "stderr",
     "output_type": "stream",
     "text": [
      "C:\\Users\\KlimovaAnnaA\\Documents\\MyFiles\\Projects\\Working_attributes\\Defs.py:88: UserWarning: pandas only supports SQLAlchemy connectable (engine/connection) or database string URI or sqlite3 DBAPI2 connection. Other DBAPI2 objects are not tested. Please consider using SQLAlchemy.\n",
      "  data_export = pd.read_sql(query, con=connection)\n",
      "C:\\Users\\KlimovaAnnaA\\Documents\\MyFiles\\Projects\\Working_attributes\\Defs.py:88: UserWarning: pandas only supports SQLAlchemy connectable (engine/connection) or database string URI or sqlite3 DBAPI2 connection. Other DBAPI2 objects are not tested. Please consider using SQLAlchemy.\n",
      "  data_export = pd.read_sql(query, con=connection)\n",
      "C:\\Users\\KlimovaAnnaA\\Documents\\MyFiles\\Projects\\Working_attributes\\Defs.py:33: FutureWarning: Setting an item of incompatible dtype is deprecated and will raise an error in a future version of pandas. Value '['SUEK RU' 'NTC' 'SUEK RU' 'SUEK RU' 'TRADING' 'SUEK RU' 'RUFERT'\n",
      " 'SUEK RU' 'RUFERT' 'SPV' 'RUFERT' 'SGC' 'RUFERT' 'RUFERT' 'SUEK RU' 'NTC'\n",
      " 'NTC' 'SGC' 'RUFERT' 'SUEK RU' 'SUEK RU' 'SUEK RU' 'EURPROD' 'RUFERT'\n",
      " 'EX SUEK AG' 'EURSALES' 'EURPROD' 'EX SUEK AG' 'SAMSALES' 'EURSALES'\n",
      " 'EURSALES' 'EX SUEK AG' 'RUFERT' 'SUEK RU' 'SUEK RU' 'SGC' 'TRADING'\n",
      " 'RUFERT' 'SUEK RU' 'SUEK RU' 'RUFERT' 'RUFERT' 'SUEK RU' 'RUFERT'\n",
      " 'RUFERT' 'SGC' 'SGC' 'RUFERT' 'SGC' 'SPV' 'RUFERT' 'SGC' 'SGC' 'SGC'\n",
      " 'SGC' 'SGC' 'SGC' 'NAMSALES' 'EURSALES' 'NTC' 'EURSALES' 'EX SUEK AG'\n",
      " 'RUFERT' 'SUEK RU' 'SUEK RU' 'RUFERT' 'RUFERT' 'RUFERT' 'EX SUEK AG'\n",
      " 'NTC' 'RUFERT' 'NTC' 'SGC' 'RUFERT' 'RUFERT' 'SUEK RU' 'EURSALES'\n",
      " 'SAMSALES' 'EURSALES' 'NAMSALES' 'RUFERT' 'RUFERT' 'RUFERT' 'EX SUEK AG'\n",
      " 'EX SUEK AG' 'RUFERT' 'RUFERT' 'SUEK RU' 'SGC' 'SGC' 'SUEK INT' 'RUFERT'\n",
      " 'TRADING' 'EX SUEK AG' 'TRADING' 'RUFERT' 'SGC' 'TRADING' 'EURSALES'\n",
      " 'SAMSALES' 'RUFERT' 'EURSALES' 'SAMSALES' 'TRADING' 'EURSALES' 'TRADING'\n",
      " 'SGC' 'RUFERT' 'RUFERT' 'SUEK RU' 'RUFERT' 'SUEK RU' 'SUEK RU' 'SUEK RU'\n",
      " 'SUEK RU' 'SGC' 'SGC' 'SUEK RU' 'SUEK RU' 'NTC' 'SUEK RU' 'RUFERT'\n",
      " 'RUFERT' 'SPV' 'NTC' 'SGC' 'RUFERT' 'RUFERT' 'SUEK RU' 'TRADING'\n",
      " 'TRADING' 'EX SUEK AG' 'SAMSALES' 'EURSALES' 'RUFERT' 'SPV' 'EURSALES'\n",
      " 'TRADING' 'SAMSALES' 'SAMSALES' 'NTC' 'SGC' 'SGC' 'RUFERT' 'SGC'\n",
      " 'SUEK RU' 'SGC' 'NTC' 'SUEK RU' 'SGC' 'SUEK RU' 'RUFERT' 'SPV' 'EURSALES'\n",
      " 'SPV' 'EURSALES' 'EURSALES' 'EX SUEK AG' 'EX SUEK AG' 'SGC' 'SUEK RU'\n",
      " 'SUEK RU' 'SUEK RU' 'SGC' 'SUEK RU' 'SUEK RU' 'NTC' 'SGC' 'EX SUEK AG'\n",
      " 'SUEK RU' 'NTC' 'RUFERT' 'RUFERT' 'RUFERT' 'NTC' 'RUFERT' 'RUFERT'\n",
      " 'SAMSALES' 'TRADING' 'EURPROD' 'EX SUEK AG' 'SAMSALES' 'TRADING'\n",
      " 'EURPROD' 'SGC' 'EX SUEK AG' 'RUFERT' 'EX SUEK AG' 'SGC' 'SUEK RU' 'SPV'\n",
      " 'SGC' 'RUFERT' 'SGC' 'SUEK RU' 'SGC' 'SGC' 'TRADING' 'TRADING' 'RUFERT'\n",
      " 'RUFERT' 'RUFERT' 'SAMSALES' 'SAMSALES' 'SPV' 'RUFERT' 'SGC']' has dtype incompatible with float64, please explicitly cast to a compatible dtype first.\n",
      "  merge_data.loc[merge_data[f'{id_colmn}_merge'] != 'External', 'last_merge'] = merge_data.loc[merge_data[f'{id_colmn}_merge'] != 'External', f'{id_colmn}_merge']\n"
     ]
    },
    {
     "data": {
      "text/html": [
       "<div>\n",
       "<style scoped>\n",
       "    .dataframe tbody tr th:only-of-type {\n",
       "        vertical-align: middle;\n",
       "    }\n",
       "\n",
       "    .dataframe tbody tr th {\n",
       "        vertical-align: top;\n",
       "    }\n",
       "\n",
       "    .dataframe thead th {\n",
       "        text-align: right;\n",
       "    }\n",
       "</style>\n",
       "<table border=\"1\" class=\"dataframe\">\n",
       "  <thead>\n",
       "    <tr style=\"text-align: right;\">\n",
       "      <th></th>\n",
       "      <th>counterpartyName</th>\n",
       "      <th>introgroupCounterpartyCode</th>\n",
       "      <th>counterpartySegment</th>\n",
       "      <th>merge_code</th>\n",
       "      <th>merge_code_S</th>\n",
       "    </tr>\n",
       "  </thead>\n",
       "  <tbody>\n",
       "    <tr>\n",
       "      <th>9102</th>\n",
       "      <td>Eurochem Group AG  (former Eurochem Trading GmbH)</td>\n",
       "      <td>External</td>\n",
       "      <td>External</td>\n",
       "      <td>CHEAG</td>\n",
       "      <td>TRADING</td>\n",
       "    </tr>\n",
       "  </tbody>\n",
       "</table>\n",
       "</div>"
      ],
      "text/plain": [
       "                                       counterpartyName  \\\n",
       "9102  Eurochem Group AG  (former Eurochem Trading GmbH)   \n",
       "\n",
       "     introgroupCounterpartyCode counterpartySegment merge_code merge_code_S  \n",
       "9102                   External            External      CHEAG      TRADING  "
      ]
     },
     "execution_count": 15,
     "metadata": {},
     "output_type": "execute_result"
    }
   ],
   "source": [
    "query = f'''\n",
    "select distinct\n",
    "\"counterpartyName\",\"introgroupCounterpartyCode\",\"counterpartySegment\"\n",
    "from RISKACCESS.\"unifiedOcp\"\n",
    "where \n",
    "\"sourceTable\" = 'unifiedARReport' and\n",
    "\"reportDate\" = TO_DATE('{Today}', 'YYYY-MM-DD') and\n",
    "\"rowType\" = 'M'\n",
    "'''\n",
    "data_cpty_ocp = export_from_RISKCUSTOM(query)\n",
    "\n",
    "# data_cpty_ocp['introgroupCounterpartyCode_s'] = merge_SalesUnits(data_cpty_ocp, 'introgroupCounterpartyCode', merge_col='ocpSegment')\n",
    "data_cpty_ocp['merge_code'] = merge_Mapping(data_cpty_ocp, 'counterpartyName')\n",
    "data_cpty_ocp['merge_code_S'] = merge_SalesUnits(data_cpty_ocp, 'merge_code', merge_col='ocpSegment')\n",
    "\n",
    "\n",
    "data_cpty_ocp.introgroupCounterpartyCode = data_cpty_ocp.introgroupCounterpartyCode.fillna('External')\n",
    "\n",
    "data_cpty_ocp[data_cpty_ocp.introgroupCounterpartyCode!=data_cpty_ocp.merge_code]\n",
    "# .to_excel('map_2.1.xlsx')"
   ]
  },
  {
   "cell_type": "markdown",
   "metadata": {},
   "source": [
    "Мердж компаний на сегменты:"
   ]
  },
  {
   "cell_type": "code",
   "execution_count": 16,
   "metadata": {},
   "outputs": [
    {
     "data": {
      "text/html": [
       "<div>\n",
       "<style scoped>\n",
       "    .dataframe tbody tr th:only-of-type {\n",
       "        vertical-align: middle;\n",
       "    }\n",
       "\n",
       "    .dataframe tbody tr th {\n",
       "        vertical-align: top;\n",
       "    }\n",
       "\n",
       "    .dataframe thead th {\n",
       "        text-align: right;\n",
       "    }\n",
       "</style>\n",
       "<table border=\"1\" class=\"dataframe\">\n",
       "  <thead>\n",
       "    <tr style=\"text-align: right;\">\n",
       "      <th></th>\n",
       "      <th>CompCode_concat</th>\n",
       "      <th>CompMap</th>\n",
       "      <th>buCode</th>\n",
       "      <th>ocpSegment</th>\n",
       "    </tr>\n",
       "  </thead>\n",
       "  <tbody>\n",
       "    <tr>\n",
       "      <th>4</th>\n",
       "      <td>1I00</td>\n",
       "      <td>SPV</td>\n",
       "      <td>1I00</td>\n",
       "      <td>SUEK RU</td>\n",
       "    </tr>\n",
       "    <tr>\n",
       "      <th>73</th>\n",
       "      <td>CYHAR</td>\n",
       "      <td>SPV</td>\n",
       "      <td>CYHAR</td>\n",
       "      <td>EURSALES</td>\n",
       "    </tr>\n",
       "  </tbody>\n",
       "</table>\n",
       "</div>"
      ],
      "text/plain": [
       "   CompCode_concat CompMap buCode ocpSegment\n",
       "4             1I00     SPV   1I00    SUEK RU\n",
       "73           CYHAR     SPV  CYHAR   EURSALES"
      ]
     },
     "execution_count": 16,
     "metadata": {},
     "output_type": "execute_result"
    }
   ],
   "source": [
    "merge_segment = data_work_ARAP[['CompCode_concat','CompMap']].drop_duplicates().merge(data_work_OCP[['buCode','ocpSegment']].drop_duplicates(), how='outer', left_on='CompCode_concat', right_on='buCode')\n",
    "merge_segment[merge_segment.CompMap!=merge_segment.ocpSegment]"
   ]
  },
  {
   "cell_type": "markdown",
   "metadata": {},
   "source": [
    "Работа с зпросами:"
   ]
  },
  {
   "cell_type": "code",
   "execution_count": 17,
   "metadata": {},
   "outputs": [],
   "source": [
    "# query = f'''\n",
    "# select \n",
    "# \"sourceSystem\",\"accountType\",\"accountSubtype\",\"accountCode\"\n",
    "# from RISKACCESS.\"unifiedOcp\"\n",
    "# where \n",
    "# \"sourceTable\" = 'unifiedARReport' and\n",
    "# \"reportDate\" = TO_DATE('{Today}', 'YYYY-MM-DD') and\n",
    "# \"rowType\" = 'M'\n",
    "# --fetch first 3 rows only\n",
    "# '''\n",
    "\n",
    "# data = export_from_RISKCUSTOM(query)\n",
    "# pivot_1 = data.groupby(['accountCode','accountType'],dropna=False,as_index=False)[['sourceSystem','accountSubtype']].agg(lambda x: str(set(x)))\n",
    "# pivot_2 = pivot_1.groupby(dropna=False, as_index=False, by=['sourceSystem','accountType','accountSubtype'])['accountCode'].agg(lambda x: str(set(x)))\n",
    "\n",
    "\n",
    "# pivot_2\n",
    "# pivot_2 = pivot_2.replace({'{':'', '}':'', '\\\"':'','nan,':'', 'nan':np.nan}, regex=True)\n",
    "# pivot_2\n",
    "# path = 'C:\\\\Users\\\\KlimovaAnnaA\\\\Documents\\\\MyFiles\\\\Projects\\\\OCP\\\\ARAP\\\\SQL\\\\'\n",
    "# data_2 = pd.read_csv(path+os.listdir(path)[2]).drop(columns='Unnamed: 0')\n",
    "# # запрос OCP сделан по ограниченным данным на дату. Это нормально, если там чего-то нет, но не нормально, если запросы противоречат друг другу\n",
    "# pivot_2 = pivot_2.rename(columns={'accountType':'reportType',\t'accountSubtype':'type'})\n",
    "# data_merge = data_2.merge(pivot_2, how='outer', on=['sourceSystem','reportType','type'], suffixes=['_Accounts','_OCP'])\n",
    "# data_merge['Have_only_Accounts'] = np.nan\n",
    "# data_merge['Have_only_OCP'] = np.nan\n",
    "# data_merge_no_small = data_merge[~((~data_merge.accountCode_Accounts.isna())&(~data_merge.accountCode_OCP.isna()))]\n",
    "# # data_merge_no_small\n",
    "# small_data = data_merge[(~data_merge.accountCode_Accounts.isna())&(~data_merge.accountCode_OCP.isna())]\n",
    "\n",
    "# for row in small_data.index:\n",
    "#     accountCode_Accounts_list = small_data.loc[row, 'accountCode_Accounts'].split(', ')\n",
    "#     accountCode_OCP_list = small_data.loc[row, 'accountCode_OCP'].split(', ')\n",
    "#     small_data.loc[row,'Have_only_Accounts'] = str([x for x in accountCode_Accounts_list if x not in accountCode_OCP_list])\n",
    "#     small_data.loc[row,'Have_only_OCP'] = str([x for x in accountCode_OCP_list if x not in accountCode_Accounts_list])\n",
    "# # small_data\n",
    "# data_merge = pd.concat([data_merge_no_small, small_data])\n",
    "# data_merge.to_excel(f'{str(date.today())}_compaire_SQL.xlsx')"
   ]
  }
 ],
 "metadata": {
  "kernelspec": {
   "display_name": "base",
   "language": "python",
   "name": "python3"
  },
  "language_info": {
   "codemirror_mode": {
    "name": "ipython",
    "version": 3
   },
   "file_extension": ".py",
   "mimetype": "text/x-python",
   "name": "python",
   "nbconvert_exporter": "python",
   "pygments_lexer": "ipython3",
   "version": "3.11.5"
  }
 },
 "nbformat": 4,
 "nbformat_minor": 2
}
