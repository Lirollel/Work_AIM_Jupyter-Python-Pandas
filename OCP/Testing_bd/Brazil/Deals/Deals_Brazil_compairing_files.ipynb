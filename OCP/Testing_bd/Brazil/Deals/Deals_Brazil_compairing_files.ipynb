{
 "cells": [
  {
   "cell_type": "code",
   "execution_count": 1,
   "metadata": {},
   "outputs": [],
   "source": [
    "import sys\n",
    "sys.path.append(\"C:\\\\Users\\\\KlimovaAnnaA\\\\Documents\\\\MyFiles\\\\Projects\\\\Working_attributes\")\n",
    "from Imports import * "
   ]
  },
  {
   "cell_type": "code",
   "execution_count": 117,
   "metadata": {},
   "outputs": [],
   "source": [
    "print_to_excel = False\n",
    "print_to_excel_alerts = True"
   ]
  },
  {
   "cell_type": "markdown",
   "metadata": {},
   "source": [
    "Creature 1"
   ]
  },
  {
   "cell_type": "code",
   "execution_count": 3,
   "metadata": {},
   "outputs": [
    {
     "name": "stderr",
     "output_type": "stream",
     "text": [
      "C:\\Users\\KlimovaAnnaA\\AppData\\Local\\Temp\\ipykernel_8516\\2742008193.py:12: SettingWithCopyWarning: \n",
      "A value is trying to be set on a copy of a slice from a DataFrame.\n",
      "Try using .loc[row_indexer,col_indexer] = value instead\n",
      "\n",
      "See the caveats in the documentation: https://pandas.pydata.org/pandas-docs/stable/user_guide/indexing.html#returning-a-view-versus-a-copy\n",
      "  creature_1_df_ECFH_work['customerName'] = creature_1_df_ECFH_work.customer.str.extract(r'^([A-Z, a-z]*)')\n",
      "C:\\Users\\KlimovaAnnaA\\AppData\\Local\\Temp\\ipykernel_8516\\2742008193.py:13: SettingWithCopyWarning: \n",
      "A value is trying to be set on a copy of a slice from a DataFrame.\n",
      "Try using .loc[row_indexer,col_indexer] = value instead\n",
      "\n",
      "See the caveats in the documentation: https://pandas.pydata.org/pandas-docs/stable/user_guide/indexing.html#returning-a-view-versus-a-copy\n",
      "  creature_1_df_ECFH_work['customerCode'] = creature_1_df_ECFH_work.customer.str.extract(r'\\(([0-9]*)\\)')\n"
     ]
    }
   ],
   "source": [
    "file_name = 'Credit_Orderbook_20-09-2024_Not_Scheduled_(1).xlsx'\n",
    "sheets_list = ['ECFH - Carteira Total', 'FTO - Carteira Total']\n",
    "\n",
    "# reading ECFH\n",
    "creature_1_df_ECFH = pd.read_excel(file_name, sheet_name=sheets_list[0], header=1)\n",
    "assert len(creature_1_df_ECFH) == 6820\n",
    "# rename and choose columns\n",
    "rename_dict = {'Customer':'customer','Sales Order':'orderId','Order Date (DD/MM/YYYY)':'agreementDate','Product code':'productCode','Sold Volume':'quantity','Unit price':'productUnitPrice','Shipping Type':'deliveryIncoterms','Vlr.Total Sale':'replacementCost'}\n",
    "creature_1_df_ECFH = creature_1_df_ECFH.rename(columns=rename_dict)\n",
    "creature_1_df_ECFH_work = creature_1_df_ECFH[list(rename_dict.values())]\n",
    "# work with customer\n",
    "creature_1_df_ECFH_work['customerName'] = creature_1_df_ECFH_work.customer.str.extract(r'^([A-Z, a-z]*)')\n",
    "creature_1_df_ECFH_work['customerCode'] = creature_1_df_ECFH_work.customer.str.extract(r'\\(([0-9]*)\\)')\n",
    "creature_1_df_ECFH_work = creature_1_df_ECFH_work.drop(columns='customer')\n",
    "# add source\n",
    "creature_1_df_ECFH_work['source_sheet'] = sheets_list[0]\n",
    "creature_1_df_ECFH_work['source_file'] = file_name\n",
    "# types\n",
    "# int\n",
    "creature_1_df_ECFH_work[['orderId','customerCode']] = creature_1_df_ECFH_work[['orderId','customerCode']].astype(int)\n",
    "# float \n",
    "creature_1_df_ECFH_work[['quantity','productUnitPrice','replacementCost']] = creature_1_df_ECFH_work[['quantity','productUnitPrice','replacementCost']].astype(float)\n",
    "# str \n",
    "creature_1_df_ECFH_work['productCode'] = creature_1_df_ECFH_work['productCode'].astype(str)\n",
    "# add ccy\n",
    "creature_1_df_ECFH_work['replacementCostCurrency'] = 'BRL'"
   ]
  },
  {
   "cell_type": "code",
   "execution_count": 4,
   "metadata": {},
   "outputs": [
    {
     "name": "stderr",
     "output_type": "stream",
     "text": [
      "C:\\Users\\KlimovaAnnaA\\AppData\\Local\\Temp\\ipykernel_8516\\503980640.py:9: SettingWithCopyWarning: \n",
      "A value is trying to be set on a copy of a slice from a DataFrame.\n",
      "Try using .loc[row_indexer,col_indexer] = value instead\n",
      "\n",
      "See the caveats in the documentation: https://pandas.pydata.org/pandas-docs/stable/user_guide/indexing.html#returning-a-view-versus-a-copy\n",
      "  creature_1_df_FTO_work['source_sheet'] = sheets_list[0]\n",
      "C:\\Users\\KlimovaAnnaA\\AppData\\Local\\Temp\\ipykernel_8516\\503980640.py:10: SettingWithCopyWarning: \n",
      "A value is trying to be set on a copy of a slice from a DataFrame.\n",
      "Try using .loc[row_indexer,col_indexer] = value instead\n",
      "\n",
      "See the caveats in the documentation: https://pandas.pydata.org/pandas-docs/stable/user_guide/indexing.html#returning-a-view-versus-a-copy\n",
      "  creature_1_df_FTO_work['source_file'] = file_name\n",
      "C:\\Users\\KlimovaAnnaA\\AppData\\Local\\Temp\\ipykernel_8516\\503980640.py:13: SettingWithCopyWarning: \n",
      "A value is trying to be set on a copy of a slice from a DataFrame.\n",
      "Try using .loc[row_indexer,col_indexer] = value instead\n",
      "\n",
      "See the caveats in the documentation: https://pandas.pydata.org/pandas-docs/stable/user_guide/indexing.html#returning-a-view-versus-a-copy\n",
      "  creature_1_df_FTO_work['sfOrderId'] = creature_1_df_FTO_work['sfOrderId'].astype(int)\n",
      "C:\\Users\\KlimovaAnnaA\\AppData\\Local\\Temp\\ipykernel_8516\\503980640.py:15: SettingWithCopyWarning: \n",
      "A value is trying to be set on a copy of a slice from a DataFrame.\n",
      "Try using .loc[row_indexer,col_indexer] = value instead\n",
      "\n",
      "See the caveats in the documentation: https://pandas.pydata.org/pandas-docs/stable/user_guide/indexing.html#returning-a-view-versus-a-copy\n",
      "  creature_1_df_FTO_work[['quantity','productUnitPrice']] = creature_1_df_FTO_work[['quantity','productUnitPrice']].astype(float)\n",
      "C:\\Users\\KlimovaAnnaA\\AppData\\Local\\Temp\\ipykernel_8516\\503980640.py:17: SettingWithCopyWarning: \n",
      "A value is trying to be set on a copy of a slice from a DataFrame.\n",
      "Try using .loc[row_indexer,col_indexer] = value instead\n",
      "\n",
      "See the caveats in the documentation: https://pandas.pydata.org/pandas-docs/stable/user_guide/indexing.html#returning-a-view-versus-a-copy\n",
      "  creature_1_df_FTO_work['productCode'] = creature_1_df_FTO_work['productCode'].astype(str)\n",
      "C:\\Users\\KlimovaAnnaA\\AppData\\Local\\Temp\\ipykernel_8516\\503980640.py:19: SettingWithCopyWarning: \n",
      "A value is trying to be set on a copy of a slice from a DataFrame.\n",
      "Try using .loc[row_indexer,col_indexer] = value instead\n",
      "\n",
      "See the caveats in the documentation: https://pandas.pydata.org/pandas-docs/stable/user_guide/indexing.html#returning-a-view-versus-a-copy\n",
      "  creature_1_df_FTO_work['replacementCost'] = creature_1_df_FTO_work['productUnitPrice'] * creature_1_df_FTO_work['quantity']\n"
     ]
    }
   ],
   "source": [
    "# reading FTO\n",
    "creature_1_df_FTO = pd.read_excel(file_name, sheet_name=sheets_list[1], header=1)\n",
    "assert len(creature_1_df_FTO) == 822\n",
    "# rename and choose columns\n",
    "rename_dict = {'Customer':'customerName','ERP Contract Number':'sfOrderId','Negotiation date ':'agreementDate','Code Product':'productCode','Total Sales Volume':'quantity','Unit price':'productUnitPrice','Type of Shipping':'deliveryIncoterms', 'Currency':'replacementCostCurrency'}\n",
    "creature_1_df_FTO = creature_1_df_FTO.rename(columns=rename_dict)\n",
    "creature_1_df_FTO_work = creature_1_df_FTO[list(rename_dict.values())]\n",
    "# add source\n",
    "creature_1_df_FTO_work['source_sheet'] = sheets_list[0]\n",
    "creature_1_df_FTO_work['source_file'] = file_name\n",
    "# types\n",
    "# int\n",
    "creature_1_df_FTO_work['sfOrderId'] = creature_1_df_FTO_work['sfOrderId'].astype(int)\n",
    "# float \n",
    "creature_1_df_FTO_work[['quantity','productUnitPrice']] = creature_1_df_FTO_work[['quantity','productUnitPrice']].astype(float)\n",
    "# str \n",
    "creature_1_df_FTO_work['productCode'] = creature_1_df_FTO_work['productCode'].astype(str)\n",
    "# work with final cost\n",
    "creature_1_df_FTO_work['replacementCost'] = creature_1_df_FTO_work['productUnitPrice'] * creature_1_df_FTO_work['quantity']"
   ]
  },
  {
   "cell_type": "markdown",
   "metadata": {},
   "source": [
    "Creature 2"
   ]
  },
  {
   "cell_type": "code",
   "execution_count": 5,
   "metadata": {},
   "outputs": [
    {
     "name": "stderr",
     "output_type": "stream",
     "text": [
      "C:\\Users\\KlimovaAnnaA\\AppData\\Local\\Temp\\ipykernel_8516\\2451622962.py:12: SettingWithCopyWarning: \n",
      "A value is trying to be set on a copy of a slice from a DataFrame.\n",
      "Try using .loc[row_indexer,col_indexer] = value instead\n",
      "\n",
      "See the caveats in the documentation: https://pandas.pydata.org/pandas-docs/stable/user_guide/indexing.html#returning-a-view-versus-a-copy\n",
      "  creature_2_df_ECFH_work['customerName'] = creature_2_df_ECFH_work.customer.str.extract(r'^([A-Z, a-z]*)')\n",
      "C:\\Users\\KlimovaAnnaA\\AppData\\Local\\Temp\\ipykernel_8516\\2451622962.py:13: SettingWithCopyWarning: \n",
      "A value is trying to be set on a copy of a slice from a DataFrame.\n",
      "Try using .loc[row_indexer,col_indexer] = value instead\n",
      "\n",
      "See the caveats in the documentation: https://pandas.pydata.org/pandas-docs/stable/user_guide/indexing.html#returning-a-view-versus-a-copy\n",
      "  creature_2_df_ECFH_work['customerCode'] = creature_2_df_ECFH_work.customer.str.extract(r'\\(([0-9]*)\\)')\n",
      "c:\\Users\\KlimovaAnnaA\\AppData\\Local\\miniconda3\\Lib\\site-packages\\pandas\\core\\strings\\accessor.py:2738: FutureWarning: Possible nested set at position 3\n",
      "  regex = re.compile(pat, flags=flags)\n",
      "C:\\Users\\KlimovaAnnaA\\AppData\\Local\\Temp\\ipykernel_8516\\2451622962.py:14: SettingWithCopyWarning: \n",
      "A value is trying to be set on a copy of a slice from a DataFrame.\n",
      "Try using .loc[row_indexer,col_indexer] = value instead\n",
      "\n",
      "See the caveats in the documentation: https://pandas.pydata.org/pandas-docs/stable/user_guide/indexing.html#returning-a-view-versus-a-copy\n",
      "  creature_2_df_ECFH_work['productCode'] = creature_2_df_ECFH_work['product'].str.extract(r'^([[0-9, A-Z, a-z]*) ')\n"
     ]
    }
   ],
   "source": [
    "file_name = 'Contracts_-_FH_-_Oct_01,_2024.xlsx'\n",
    "sheets_name = 'ECFH - Carteira Total'\n",
    "\n",
    "# reading ECFH\n",
    "creature_2_df_ECFH = pd.read_excel(file_name, sheet_name=sheets_name, header=1)\n",
    "assert len(creature_2_df_ECFH) == 11553\n",
    "# rename and choose columns\n",
    "rename_dict = {'Cliente':'customer','Ordem de Venda':'orderId','Data Pedido (DD/MM/AAAA)':'agreementDate','Material':'product','Qtde Vendida':'quantity','Vlr.Unit.Venda':'productUnitPrice','Tipo Frete':'deliveryIncoterms','Vlr.Total Venda':'replacementCost'}\n",
    "creature_2_df_ECFH = creature_2_df_ECFH.rename(columns=rename_dict)\n",
    "creature_2_df_ECFH_work = creature_2_df_ECFH[list(rename_dict.values())]\n",
    "# work with customer\n",
    "creature_2_df_ECFH_work['customerName'] = creature_2_df_ECFH_work.customer.str.extract(r'^([A-Z, a-z]*)')\n",
    "creature_2_df_ECFH_work['customerCode'] = creature_2_df_ECFH_work.customer.str.extract(r'\\(([0-9]*)\\)')\n",
    "creature_2_df_ECFH_work['productCode'] = creature_2_df_ECFH_work['product'].str.extract(r'^([[0-9, A-Z, a-z]*) ')\n",
    "creature_2_df_ECFH_work = creature_2_df_ECFH_work.drop(columns=['customer','product'])\n",
    "# add source\n",
    "creature_2_df_ECFH_work['source_sheet'] = sheets_name\n",
    "creature_2_df_ECFH_work['source_file'] = file_name\n",
    "# types\n",
    "# int\n",
    "creature_2_df_ECFH_work[['orderId','customerCode']] = creature_2_df_ECFH_work[['orderId','customerCode']].astype(int)\n",
    "# float \n",
    "creature_2_df_ECFH_work[['quantity','productUnitPrice','replacementCost']] = creature_2_df_ECFH_work[['quantity','productUnitPrice','replacementCost']].astype(float)\n",
    "# str \n",
    "creature_2_df_ECFH_work['productCode'] = creature_2_df_ECFH_work['productCode'].astype(str)\n",
    "# add ccy\n",
    "creature_2_df_ECFH_work['replacementCostCurrency'] = 'BRL'"
   ]
  },
  {
   "cell_type": "code",
   "execution_count": 6,
   "metadata": {},
   "outputs": [
    {
     "name": "stderr",
     "output_type": "stream",
     "text": [
      "C:\\Users\\KlimovaAnnaA\\AppData\\Local\\Temp\\ipykernel_8516\\1484741969.py:12: SettingWithCopyWarning: \n",
      "A value is trying to be set on a copy of a slice from a DataFrame.\n",
      "Try using .loc[row_indexer,col_indexer] = value instead\n",
      "\n",
      "See the caveats in the documentation: https://pandas.pydata.org/pandas-docs/stable/user_guide/indexing.html#returning-a-view-versus-a-copy\n",
      "  creature_2_df_BRFTO_work['source_sheet'] = sheets_name\n",
      "C:\\Users\\KlimovaAnnaA\\AppData\\Local\\Temp\\ipykernel_8516\\1484741969.py:13: SettingWithCopyWarning: \n",
      "A value is trying to be set on a copy of a slice from a DataFrame.\n",
      "Try using .loc[row_indexer,col_indexer] = value instead\n",
      "\n",
      "See the caveats in the documentation: https://pandas.pydata.org/pandas-docs/stable/user_guide/indexing.html#returning-a-view-versus-a-copy\n",
      "  creature_2_df_BRFTO_work['source_file'] = file_name\n",
      "C:\\Users\\KlimovaAnnaA\\AppData\\Local\\Temp\\ipykernel_8516\\1484741969.py:16: SettingWithCopyWarning: \n",
      "A value is trying to be set on a copy of a slice from a DataFrame.\n",
      "Try using .loc[row_indexer,col_indexer] = value instead\n",
      "\n",
      "See the caveats in the documentation: https://pandas.pydata.org/pandas-docs/stable/user_guide/indexing.html#returning-a-view-versus-a-copy\n",
      "  creature_2_df_BRFTO_work[['sfOrderId','orderId']] = creature_2_df_BRFTO_work[['sfOrderId','orderId']].astype(int)\n",
      "C:\\Users\\KlimovaAnnaA\\AppData\\Local\\Temp\\ipykernel_8516\\1484741969.py:18: SettingWithCopyWarning: \n",
      "A value is trying to be set on a copy of a slice from a DataFrame.\n",
      "Try using .loc[row_indexer,col_indexer] = value instead\n",
      "\n",
      "See the caveats in the documentation: https://pandas.pydata.org/pandas-docs/stable/user_guide/indexing.html#returning-a-view-versus-a-copy\n",
      "  creature_2_df_BRFTO_work['replacementCost'] = creature_2_df_BRFTO_work['replacementCost'].astype(float)\n"
     ]
    }
   ],
   "source": [
    "file_name = 'BRFTO_FX_Exposure_Model_20.09.2024.xlsx'\n",
    "sheets_name = 'Contracts'\n",
    "\n",
    "# reading FTO\n",
    "creature_2_df_BRFTO = pd.read_excel(file_name, sheet_name=sheets_name)\n",
    "assert len(creature_2_df_BRFTO) == 712\n",
    "# rename and choose columns\n",
    "rename_dict = {'Razao Social':'customerName','Contrato Venda':'sfOrderId','Numero Pedido':'orderId', 'Emitido Em':'orderDate','Saldo Devido':'replacementCost', 'Moeda':'replacementCostCurrency'}\n",
    "creature_2_df_BRFTO = creature_2_df_BRFTO.rename(columns=rename_dict)\n",
    "creature_2_df_BRFTO_work = creature_2_df_BRFTO[list(rename_dict.values())]\n",
    "# add source\n",
    "creature_2_df_BRFTO_work['source_sheet'] = sheets_name\n",
    "creature_2_df_BRFTO_work['source_file'] = file_name\n",
    "# types\n",
    "# int\n",
    "creature_2_df_BRFTO_work[['sfOrderId','orderId']] = creature_2_df_BRFTO_work[['sfOrderId','orderId']].astype(int)\n",
    "# float \n",
    "creature_2_df_BRFTO_work['replacementCost'] = creature_2_df_BRFTO_work['replacementCost'].astype(float)"
   ]
  },
  {
   "cell_type": "markdown",
   "metadata": {},
   "source": [
    "Creature 3"
   ]
  },
  {
   "cell_type": "code",
   "execution_count": 7,
   "metadata": {},
   "outputs": [
    {
     "name": "stderr",
     "output_type": "stream",
     "text": [
      "C:\\Users\\KlimovaAnnaA\\Documents\\MyFiles\\Projects\\Working_attributes\\Defs.py:92: UserWarning: pandas only supports SQLAlchemy connectable (engine/connection) or database string URI or sqlite3 DBAPI2 connection. Other DBAPI2 objects are not tested. Please consider using SQLAlchemy.\n",
      "  data_export = pd.read_sql(query, con=connection)\n"
     ]
    },
    {
     "data": {
      "text/plain": [
       "(59992, 147)"
      ]
     },
     "execution_count": 7,
     "metadata": {},
     "output_type": "execute_result"
    }
   ],
   "source": [
    "query = \"\"\"\n",
    "select * \n",
    "from \"RISKACCESS\".\"OPRECBrazilDaily\" \n",
    "where \"salesUnitCode\" in ('BRFTO','BRHRG') \n",
    "and \"reportDate\" = TO_DATE('20.09.24', 'DD.MM.YY')\n",
    "and \"mtmOrderBookType\" = 'Sales'\n",
    "\"\"\"\n",
    "creature_3_df = export_from_RISKCUSTOM(query)\n",
    "creature_3_df.shape"
   ]
  },
  {
   "cell_type": "code",
   "execution_count": 8,
   "metadata": {},
   "outputs": [
    {
     "name": "stderr",
     "output_type": "stream",
     "text": [
      "C:\\Users\\KlimovaAnnaA\\AppData\\Local\\Temp\\ipykernel_8516\\819585449.py:3: SettingWithCopyWarning: \n",
      "A value is trying to be set on a copy of a slice from a DataFrame.\n",
      "Try using .loc[row_indexer,col_indexer] = value instead\n",
      "\n",
      "See the caveats in the documentation: https://pandas.pydata.org/pandas-docs/stable/user_guide/indexing.html#returning-a-view-versus-a-copy\n",
      "  creature_3_df_work['source'] = 'OPRECBrazilDaily'\n",
      "C:\\Users\\KlimovaAnnaA\\AppData\\Local\\Temp\\ipykernel_8516\\819585449.py:6: SettingWithCopyWarning: \n",
      "A value is trying to be set on a copy of a slice from a DataFrame.\n",
      "Try using .loc[row_indexer,col_indexer] = value instead\n",
      "\n",
      "See the caveats in the documentation: https://pandas.pydata.org/pandas-docs/stable/user_guide/indexing.html#returning-a-view-versus-a-copy\n",
      "  creature_3_df_work[['orderId','customerCode', 'sfOrderId']] = creature_3_df_work[['orderId','customerCode', 'sfOrderId']].fillna(0).astype(int)\n",
      "C:\\Users\\KlimovaAnnaA\\AppData\\Local\\Temp\\ipykernel_8516\\819585449.py:8: SettingWithCopyWarning: \n",
      "A value is trying to be set on a copy of a slice from a DataFrame.\n",
      "Try using .loc[row_indexer,col_indexer] = value instead\n",
      "\n",
      "See the caveats in the documentation: https://pandas.pydata.org/pandas-docs/stable/user_guide/indexing.html#returning-a-view-versus-a-copy\n",
      "  creature_3_df_work[['quantity','productUnitPrice','replacementCost']] = creature_3_df_work[['quantity','productUnitPrice','replacementCost']].astype(float)\n",
      "C:\\Users\\KlimovaAnnaA\\AppData\\Local\\Temp\\ipykernel_8516\\819585449.py:10: SettingWithCopyWarning: \n",
      "A value is trying to be set on a copy of a slice from a DataFrame.\n",
      "Try using .loc[row_indexer,col_indexer] = value instead\n",
      "\n",
      "See the caveats in the documentation: https://pandas.pydata.org/pandas-docs/stable/user_guide/indexing.html#returning-a-view-versus-a-copy\n",
      "  creature_3_df_work['productCode'] = creature_3_df_work['productCode'].astype(str)\n"
     ]
    }
   ],
   "source": [
    "# work with cols\n",
    "creature_3_df_work = creature_3_df[['customerCode', 'customerName', 'orderId', 'sfOrderId', 'agreementDate', 'orderDate','productCode', 'quantity', 'productUnitPrice', 'deliveryIncoterms', 'replacementCost','replacementCostCurrency']]\n",
    "creature_3_df_work['source'] = 'OPRECBrazilDaily'\n",
    "# types\n",
    "# int\n",
    "creature_3_df_work[['orderId','customerCode', 'sfOrderId']] = creature_3_df_work[['orderId','customerCode', 'sfOrderId']].fillna(0).astype(int)\n",
    "# float \n",
    "creature_3_df_work[['quantity','productUnitPrice','replacementCost']] = creature_3_df_work[['quantity','productUnitPrice','replacementCost']].astype(float)\n",
    "# str \n",
    "creature_3_df_work['productCode'] = creature_3_df_work['productCode'].astype(str)"
   ]
  },
  {
   "cell_type": "markdown",
   "metadata": {},
   "source": [
    "мердж"
   ]
  },
  {
   "cell_type": "code",
   "execution_count": 9,
   "metadata": {},
   "outputs": [
    {
     "data": {
      "text/plain": [
       "(58279, 11552, 6820)"
      ]
     },
     "execution_count": 9,
     "metadata": {},
     "output_type": "execute_result"
    }
   ],
   "source": [
    "# preparation\n",
    "creature_3_df_work = creature_3_df_work.drop_duplicates().reset_index(drop=True)\n",
    "creature_2_df_ECFH_work = creature_2_df_ECFH_work.drop_duplicates().reset_index(drop=True)\n",
    "creature_1_df_ECFH_work = creature_1_df_ECFH_work.drop_duplicates().reset_index(drop=True)\n",
    "\n",
    "creature_3_df_work.shape[0], creature_2_df_ECFH_work.shape[0], creature_1_df_ECFH_work.shape[0]"
   ]
  },
  {
   "cell_type": "code",
   "execution_count": 10,
   "metadata": {},
   "outputs": [
    {
     "data": {
      "text/plain": [
       "(19009, 11465, 6818)"
      ]
     },
     "execution_count": 10,
     "metadata": {},
     "output_type": "execute_result"
    }
   ],
   "source": [
    "# pivots\n",
    "creature_3_df_work_pivot = creature_3_df_work.groupby(as_index=False, dropna=False, by=['customerCode', 'customerName', 'orderId', 'agreementDate','productCode','deliveryIncoterms','replacementCostCurrency', 'source']).agg({'quantity':'sum', 'productUnitPrice':'mean', 'replacementCost':'sum'})\n",
    "creature_2_df_ECFH_work_pivot = creature_2_df_ECFH_work.groupby(as_index=False, dropna=False, by=['orderId', 'agreementDate','deliveryIncoterms','customerName', 'customerCode','productCode','replacementCostCurrency', 'source_sheet', 'source_file']).agg({'quantity':'sum', 'productUnitPrice':'mean', 'replacementCost':'sum'})\n",
    "creature_1_df_ECFH_work_pivot = creature_1_df_ECFH_work.groupby(as_index=False, dropna=False, by=['orderId', 'agreementDate','deliveryIncoterms','customerName', 'customerCode','productCode','replacementCostCurrency', 'source_sheet', 'source_file']).agg({'quantity':'sum', 'productUnitPrice':'mean', 'replacementCost':'sum'})\n",
    "\n",
    "creature_3_df_work_pivot.shape[0], creature_2_df_ECFH_work_pivot.shape[0], creature_1_df_ECFH_work_pivot.shape[0]"
   ]
  },
  {
   "cell_type": "code",
   "execution_count": 11,
   "metadata": {},
   "outputs": [],
   "source": [
    "merge_2_to_3 = creature_2_df_ECFH_work_pivot.merge(creature_3_df_work_pivot, on=['orderId', 'customerCode', 'productCode','replacementCostCurrency'], how='outer', suffixes=['_2d', '_3d']).sort_values(['customerName_2d'])\n",
    "merge_2_to_3 = is_approximately_equal_for_cols(merge_2_to_3, 'quantity_2d', 'quantity_3d')"
   ]
  },
  {
   "cell_type": "code",
   "execution_count": 12,
   "metadata": {},
   "outputs": [
    {
     "data": {
      "text/plain": [
       "20544"
      ]
     },
     "execution_count": 12,
     "metadata": {},
     "output_type": "execute_result"
    }
   ],
   "source": [
    "merge_2_to_3.shape[0]"
   ]
  },
  {
   "cell_type": "code",
   "execution_count": 13,
   "metadata": {},
   "outputs": [],
   "source": [
    "merge_2_to_1 = creature_2_df_ECFH_work_pivot.merge(creature_1_df_ECFH_work, on=['orderId', 'customerCode', 'productCode','replacementCostCurrency'], how='outer', suffixes=['_2d', '_1d']).sort_values(['customerName_2d'])\n",
    "merge_2_to_1 = is_approximately_equal_for_cols(merge_2_to_1, 'quantity_2d', 'quantity_1d', name_col_with_diff='2_to_1')"
   ]
  },
  {
   "cell_type": "code",
   "execution_count": 14,
   "metadata": {},
   "outputs": [],
   "source": [
    "merge_2_to_1_to_3 = merge_2_to_1.merge(creature_3_df_work_pivot, on=['orderId', 'customerCode', 'productCode','replacementCostCurrency'], how='outer').sort_values(['customerName_2d', 'customerName_1d'])\n",
    "# merge_2_to_1_to_3 = is_approximately_equal_for_cols(merge_2_to_1_to_3, 'quantity_2d', 'quantity_1d', name_col_with_diff='2_to_1')\n",
    "merge_2_to_1_to_3 = is_approximately_equal_for_cols(merge_2_to_1_to_3, 'quantity_2d', 'quantity', name_col_with_diff='2_to_3')\n",
    "merge_2_to_1_to_3 = is_approximately_equal_for_cols(merge_2_to_1_to_3, 'quantity_1d', 'quantity', name_col_with_diff='1_to_3')"
   ]
  },
  {
   "cell_type": "markdown",
   "metadata": {},
   "source": [
    "Алерты хелинджер"
   ]
  },
  {
   "cell_type": "code",
   "execution_count": 34,
   "metadata": {},
   "outputs": [
    {
     "name": "stderr",
     "output_type": "stream",
     "text": [
      "C:\\Users\\KlimovaAnnaA\\AppData\\Local\\Temp\\ipykernel_8516\\4278245321.py:3: SettingWithCopyWarning: \n",
      "A value is trying to be set on a copy of a slice from a DataFrame.\n",
      "Try using .loc[row_indexer,col_indexer] = value instead\n",
      "\n",
      "See the caveats in the documentation: https://pandas.pydata.org/pandas-docs/stable/user_guide/indexing.html#returning-a-view-versus-a-copy\n",
      "  not_in_3['reportDate'] = np.nan\n",
      "C:\\Users\\KlimovaAnnaA\\Documents\\MyFiles\\Projects\\Working_attributes\\Defs.py:92: UserWarning: pandas only supports SQLAlchemy connectable (engine/connection) or database string URI or sqlite3 DBAPI2 connection. Other DBAPI2 objects are not tested. Please consider using SQLAlchemy.\n",
      "  data_export = pd.read_sql(query, con=connection)\n"
     ]
    }
   ],
   "source": [
    "merge_2_to_3[merge_2_to_3['Diff__more_0.4']==True] # differences in quantity\n",
    "not_in_3 = merge_2_to_3[merge_2_to_3['quantity_3d'].isna()]\n",
    "not_in_3['reportDate'] = np.nan\n",
    "# for string_id in not_in_3.index.tolist():\n",
    "query = f'''\n",
    "with table_1 as\n",
    "(select \"reportDate\",\"orderId\",\"agreementDate\",\"deliveryIncoterms\",\"customerName\",\"customerCode\",\"productCode\",\"replacementCostCurrency\",\"quantity\",\"productUnitPrice\",\"replacementCost\",max(\"reportDate\") over (partition by \"orderId\") as \"max_report\"\n",
    "from \"RISKACCESS\".\"OPRECBrazilDaily\" \n",
    "where \"salesUnitCode\" in ('BRFTO','BRHRG') \n",
    "and \"mtmOrderBookType\" = 'Sales'\n",
    "and \"orderId\" in ({str(not_in_3.orderId.unique().tolist())[1:-1]})\n",
    ")\n",
    "\n",
    "select * from table_1\n",
    "where \"reportDate\" = \"max_report\"\n",
    "'''\n",
    "data_3 = export_from_RISKCUSTOM(query)"
   ]
  },
  {
   "cell_type": "code",
   "execution_count": 36,
   "metadata": {},
   "outputs": [
    {
     "data": {
      "text/plain": [
       "(1535, 3960)"
      ]
     },
     "execution_count": 36,
     "metadata": {},
     "output_type": "execute_result"
    }
   ],
   "source": [
    "not_in_3.shape[0], data_3.shape[0]"
   ]
  },
  {
   "cell_type": "code",
   "execution_count": 49,
   "metadata": {},
   "outputs": [],
   "source": [
    "data_3[['orderId', 'customerCode']] = data_3[['orderId', 'customerCode']].astype(int) #types\n",
    "# pivot\n",
    "data_3_pivot = data_3.groupby(as_index=False, dropna=False, by=['customerCode', 'customerName', 'orderId', 'agreementDate','productCode','deliveryIncoterms','replacementCostCurrency','reportDate']).agg({'quantity':'sum', 'productUnitPrice':'mean', 'replacementCost':'sum'})\n",
    "# merge\n",
    "in_3_by_new_date = not_in_3.loc[:,:'replacementCost_2d'].merge(data_3_pivot, on=['orderId', 'customerCode', 'productCode','replacementCostCurrency'], how='left', suffixes=['_2d', '_3d']).sort_values(['customerName_2d'])\n",
    "# still not in 3\n",
    "still_not_in_3 = in_3_by_new_date[in_3_by_new_date.quantity.isna()]"
   ]
  },
  {
   "cell_type": "code",
   "execution_count": 52,
   "metadata": {},
   "outputs": [
    {
     "data": {
      "text/html": [
       "<div>\n",
       "<style scoped>\n",
       "    .dataframe tbody tr th:only-of-type {\n",
       "        vertical-align: middle;\n",
       "    }\n",
       "\n",
       "    .dataframe tbody tr th {\n",
       "        vertical-align: top;\n",
       "    }\n",
       "\n",
       "    .dataframe thead th {\n",
       "        text-align: right;\n",
       "    }\n",
       "</style>\n",
       "<table border=\"1\" class=\"dataframe\">\n",
       "  <thead>\n",
       "    <tr style=\"text-align: right;\">\n",
       "      <th></th>\n",
       "      <th>orderId</th>\n",
       "      <th>agreementDate_2d</th>\n",
       "      <th>deliveryIncoterms_2d</th>\n",
       "      <th>customerName_2d</th>\n",
       "      <th>customerCode</th>\n",
       "      <th>productCode</th>\n",
       "      <th>replacementCostCurrency</th>\n",
       "      <th>source_sheet</th>\n",
       "      <th>source_file</th>\n",
       "      <th>quantity_2d</th>\n",
       "      <th>productUnitPrice_2d</th>\n",
       "      <th>replacementCost_2d</th>\n",
       "      <th>customerName</th>\n",
       "      <th>agreementDate</th>\n",
       "      <th>deliveryIncoterms</th>\n",
       "      <th>reportDate</th>\n",
       "      <th>quantity</th>\n",
       "      <th>productUnitPrice</th>\n",
       "      <th>replacementCost</th>\n",
       "    </tr>\n",
       "  </thead>\n",
       "  <tbody>\n",
       "    <tr>\n",
       "      <th>1202</th>\n",
       "      <td>21928744</td>\n",
       "      <td>2024-04-05</td>\n",
       "      <td>CIF</td>\n",
       "      <td>PATRICIA KYOKO PORTOLESE MORINAGA</td>\n",
       "      <td>30201493</td>\n",
       "      <td>22000000000100</td>\n",
       "      <td>BRL</td>\n",
       "      <td>ECFH - Carteira Total</td>\n",
       "      <td>Contracts_-_FH_-_Oct_01,_2024.xlsx</td>\n",
       "      <td>615.0</td>\n",
       "      <td>1331.28</td>\n",
       "      <td>818737.2</td>\n",
       "      <td>NaN</td>\n",
       "      <td>NaT</td>\n",
       "      <td>NaN</td>\n",
       "      <td>NaT</td>\n",
       "      <td>NaN</td>\n",
       "      <td>NaN</td>\n",
       "      <td>NaN</td>\n",
       "    </tr>\n",
       "  </tbody>\n",
       "</table>\n",
       "</div>"
      ],
      "text/plain": [
       "       orderId agreementDate_2d deliveryIncoterms_2d  \\\n",
       "1202  21928744       2024-04-05                  CIF   \n",
       "\n",
       "                         customerName_2d  customerCode     productCode  \\\n",
       "1202  PATRICIA KYOKO PORTOLESE MORINAGA       30201493  22000000000100   \n",
       "\n",
       "     replacementCostCurrency           source_sheet  \\\n",
       "1202                     BRL  ECFH - Carteira Total   \n",
       "\n",
       "                             source_file  quantity_2d  productUnitPrice_2d  \\\n",
       "1202  Contracts_-_FH_-_Oct_01,_2024.xlsx        615.0              1331.28   \n",
       "\n",
       "      replacementCost_2d customerName agreementDate deliveryIncoterms  \\\n",
       "1202            818737.2          NaN           NaT               NaN   \n",
       "\n",
       "     reportDate  quantity  productUnitPrice  replacementCost  \n",
       "1202        NaT       NaN               NaN              NaN  "
      ]
     },
     "execution_count": 52,
     "metadata": {},
     "output_type": "execute_result"
    }
   ],
   "source": [
    "still_not_in_3[still_not_in_3.orderId==21928744]"
   ]
  },
  {
   "cell_type": "code",
   "execution_count": 74,
   "metadata": {},
   "outputs": [
    {
     "name": "stderr",
     "output_type": "stream",
     "text": [
      "C:\\Users\\KlimovaAnnaA\\Documents\\MyFiles\\Projects\\Working_attributes\\Defs.py:92: UserWarning: pandas only supports SQLAlchemy connectable (engine/connection) or database string URI or sqlite3 DBAPI2 connection. Other DBAPI2 objects are not tested. Please consider using SQLAlchemy.\n",
      "  data_export = pd.read_sql(query, con=connection)\n"
     ]
    },
    {
     "data": {
      "text/plain": [
       "(219, 11)"
      ]
     },
     "execution_count": 74,
     "metadata": {},
     "output_type": "execute_result"
    }
   ],
   "source": [
    "query = f'''\n",
    "with table_1 as\n",
    "(select \"reportDate\",\"orderId\",\"agreementDate\",\"deliveryIncoterms\",\"customerName\",\"customerCode\",\"productCode\",\"replacementCostCurrency\",\"quantity\",\"productUnitPrice\",\"replacementCost\",max(\"reportDate\") over (partition by \"orderId\") as \"max_report\"\n",
    "from \"RISKACCESS\".\"OPRECBrazilDaily\" \n",
    "where \"salesUnitCode\" in ('BRFTO','BRHRG') \n",
    "and \"mtmOrderBookType\" = 'Sales'\n",
    "and \"orderId\" in ({str(still_not_in_3.orderId.unique().tolist())[1:-1]})\n",
    ")\n",
    "\n",
    "select \"reportDate\",\"orderId\",\"agreementDate\",\"deliveryIncoterms\",\"customerName\",\"customerCode\",\"productCode\",\"replacementCostCurrency\",\n",
    "sum(\"quantity\") as \"quantity\",\n",
    "avg(\"productUnitPrice\") as \"productUnitPrice\",\n",
    "sum(\"replacementCost\") as \"replacementCost\"\n",
    "from table_1\n",
    "where \"reportDate\" = \"max_report\"\n",
    "group by \"reportDate\",\"orderId\",\"agreementDate\",\"deliveryIncoterms\",\"customerName\",\"customerCode\",\"productCode\",\"replacementCostCurrency\"\n",
    "'''\n",
    "data_3 = export_from_RISKCUSTOM(query)\n",
    "data_3.shape"
   ]
  },
  {
   "cell_type": "code",
   "execution_count": 78,
   "metadata": {},
   "outputs": [
    {
     "data": {
      "text/plain": [
       "(317, 19)"
      ]
     },
     "execution_count": 78,
     "metadata": {},
     "output_type": "execute_result"
    }
   ],
   "source": [
    "still_not_in_3.shape"
   ]
  },
  {
   "cell_type": "code",
   "execution_count": null,
   "metadata": {},
   "outputs": [],
   "source": [
    "data_3[['orderId', 'customerCode']] = data_3[['orderId', 'customerCode']].astype(int) #types\n",
    "not_equal_customers = still_not_in_3.merge(data_3, on='orderId', how='left').sort_values(['customerName_2d'])\n",
    "still_not_in_3 = not_equal_customers[not_equal_customers.customerCode_y.isna()]"
   ]
  },
  {
   "cell_type": "code",
   "execution_count": 93,
   "metadata": {},
   "outputs": [
    {
     "name": "stderr",
     "output_type": "stream",
     "text": [
      "C:\\Users\\KlimovaAnnaA\\Documents\\MyFiles\\Projects\\Working_attributes\\Defs.py:92: UserWarning: pandas only supports SQLAlchemy connectable (engine/connection) or database string URI or sqlite3 DBAPI2 connection. Other DBAPI2 objects are not tested. Please consider using SQLAlchemy.\n",
      "  data_export = pd.read_sql(query, con=connection)\n"
     ]
    },
    {
     "data": {
      "text/plain": [
       "(0, 11)"
      ]
     },
     "execution_count": 93,
     "metadata": {},
     "output_type": "execute_result"
    }
   ],
   "source": [
    "query = f'''\n",
    "with table_1 as\n",
    "(select \"reportDate\",\"orderId\",\"agreementDate\",\"deliveryIncoterms\",\"customerName\",\"customerCode\",\"productCode\",\"replacementCostCurrency\",\"quantity\",\"productUnitPrice\",\"replacementCost\",max(\"reportDate\") over (partition by \"orderId\") as \"max_report\"\n",
    "from \"RISKACCESS\".\"OPRECBrazilDaily\" \n",
    "where \"salesUnitCode\" in ('BRFTO','BRHRG') \n",
    "and \"mtmOrderBookType\" = 'Sales'\n",
    "and \"orderId\" in ({str(still_not_in_3.orderId.unique().tolist())[1:-1]})\n",
    ")\n",
    "\n",
    "select \"reportDate\",\"orderId\",\"agreementDate\",\"deliveryIncoterms\",\"customerName\",\"customerCode\",\"productCode\",\"replacementCostCurrency\",\n",
    "sum(\"quantity\") as \"quantity\",\n",
    "avg(\"productUnitPrice\") as \"productUnitPrice\",\n",
    "sum(\"replacementCost\") as \"replacementCost\"\n",
    "from table_1\n",
    "where \"reportDate\" = \"max_report\"\n",
    "group by \"reportDate\",\"orderId\",\"agreementDate\",\"deliveryIncoterms\",\"customerName\",\"customerCode\",\"productCode\",\"replacementCostCurrency\"\n",
    "'''\n",
    "data_3 = export_from_RISKCUSTOM(query)\n",
    "data_3.shape"
   ]
  },
  {
   "cell_type": "code",
   "execution_count": 115,
   "metadata": {},
   "outputs": [],
   "source": [
    "creature_2_df_ECFH_not_in_3 = creature_2_df_ECFH[creature_2_df_ECFH.orderId.isin(still_not_in_3.orderId.unique().tolist())]"
   ]
  },
  {
   "cell_type": "markdown",
   "metadata": {},
   "source": [
    "alerts not in 2"
   ]
  },
  {
   "cell_type": "code",
   "execution_count": 135,
   "metadata": {},
   "outputs": [],
   "source": [
    "not_in_2 = creature_3_df_work[~creature_3_df_work.orderId.isin(creature_2_df_ECFH.orderId.unique().tolist())]"
   ]
  },
  {
   "cell_type": "markdown",
   "metadata": {},
   "source": [
    "merge FTO"
   ]
  },
  {
   "cell_type": "code",
   "execution_count": 15,
   "metadata": {},
   "outputs": [
    {
     "data": {
      "text/plain": [
       "(58279, 712, 719)"
      ]
     },
     "execution_count": 15,
     "metadata": {},
     "output_type": "execute_result"
    }
   ],
   "source": [
    "# preparation\n",
    "creature_3_df_work = creature_3_df_work.drop_duplicates().reset_index(drop=True)\n",
    "creature_2_df_BRFTO_work = creature_2_df_BRFTO_work.drop_duplicates().reset_index(drop=True)\n",
    "creature_1_df_FTO_work = creature_1_df_FTO_work.drop_duplicates().reset_index(drop=True)\n",
    "\n",
    "creature_3_df_work.shape[0], creature_2_df_BRFTO_work.shape[0], creature_1_df_FTO_work.shape[0]"
   ]
  },
  {
   "cell_type": "code",
   "execution_count": 16,
   "metadata": {},
   "outputs": [
    {
     "data": {
      "text/plain": [
       "(19009, 712, 501)"
      ]
     },
     "execution_count": 16,
     "metadata": {},
     "output_type": "execute_result"
    }
   ],
   "source": [
    "# pivots\n",
    "creature_3_df_work_pivot = creature_3_df_work.groupby(as_index=False, dropna=False, by=['customerName', 'sfOrderId', 'orderId','agreementDate','orderDate','productCode','deliveryIncoterms','replacementCostCurrency', 'source']).agg({'quantity':'sum', 'productUnitPrice':'mean', 'replacementCost':'sum'})\n",
    "creature_2_df_BRFTO_work_pivot = creature_2_df_BRFTO_work.groupby(as_index=False, dropna=False, by=['sfOrderId', 'orderId','orderDate','customerName','replacementCostCurrency', 'source_sheet', 'source_file']).agg({'replacementCost':'sum'})\n",
    "creature_1_df_FTO_work_pivot = creature_1_df_FTO_work.groupby(as_index=False, dropna=False, by=['sfOrderId', 'agreementDate','deliveryIncoterms','customerName','productCode','replacementCostCurrency', 'source_sheet', 'source_file']).agg({'quantity':'sum', 'productUnitPrice':'mean', 'replacementCost':'sum'})\n",
    "\n",
    "creature_3_df_work_pivot.shape[0], creature_2_df_BRFTO_work_pivot.shape[0], creature_1_df_FTO_work_pivot.shape[0]"
   ]
  },
  {
   "cell_type": "code",
   "execution_count": 17,
   "metadata": {},
   "outputs": [],
   "source": [
    "merge_1_to_3_FTO = creature_1_df_FTO_work_pivot.merge(creature_3_df_work_pivot, on=['sfOrderId', 'productCode','replacementCostCurrency'], how='outer', suffixes=['_1d', '_3d']).sort_values(['customerName_1d'])\n",
    "merge_1_to_3_FTO = is_approximately_equal_for_cols(merge_1_to_3_FTO, 'quantity_1d', 'quantity_3d')"
   ]
  },
  {
   "cell_type": "code",
   "execution_count": 18,
   "metadata": {},
   "outputs": [],
   "source": [
    "# pivot to 2_d size\n",
    "creature_3_df_work_pivot_for_2d = creature_3_df_work.groupby(as_index=False, dropna=False, by=['customerName', 'sfOrderId', 'orderId', 'agreementDate','orderDate','replacementCostCurrency', 'source']).agg({'quantity':'sum', 'productUnitPrice':'mean', 'replacementCost':'sum'})\n",
    "creature_1_df_FTO_work_pivot_foe_2d = creature_1_df_FTO_work.groupby(as_index=False, dropna=False, by=['sfOrderId','agreementDate','customerName','replacementCostCurrency', 'source_sheet', 'source_file']).agg({'quantity':'sum', 'productUnitPrice':'mean', 'replacementCost':'sum'})"
   ]
  },
  {
   "cell_type": "code",
   "execution_count": 19,
   "metadata": {},
   "outputs": [],
   "source": [
    "merge_2_to_3_FTO = creature_2_df_BRFTO_work_pivot.merge(creature_3_df_work_pivot_for_2d, on=['sfOrderId','orderId','replacementCostCurrency'], how='outer', suffixes=['_2d', '_3d']).sort_values(['customerName_2d'])\n",
    "merge_2_to_3_FTO = is_approximately_equal_for_cols(merge_2_to_3_FTO, 'replacementCost_2d', 'replacementCost_3d', name_col_with_diff='2_to_3')"
   ]
  },
  {
   "cell_type": "code",
   "execution_count": 20,
   "metadata": {},
   "outputs": [],
   "source": [
    "merge_2_to_3_to_1_FTO = merge_2_to_3_FTO.merge(creature_1_df_FTO_work_pivot_foe_2d, on=['sfOrderId','replacementCostCurrency'], how='outer', suffixes=['', '_1d']).sort_values(['replacementCost_2d', 'replacementCost_3d', 'replacementCost'], ascending=False)\n",
    "merge_2_to_3_to_1_FTO = is_approximately_equal_for_cols(merge_2_to_3_to_1_FTO, 'replacementCost_2d', 'replacementCost', name_col_with_diff='2_to_1')\n",
    "merge_2_to_3_to_1_FTO = is_approximately_equal_for_cols(merge_2_to_3_to_1_FTO, 'quantity', 'quantity_1d', name_col_with_diff='3_to_1')\n",
    "# merge_2_to_1_to_3 = is_approximately_equal_for_cols(merge_2_to_1_to_3, 'quantity_1d', 'quantity', name_col_with_diff='1_to_3')\n",
    "# merge_2_to_3_to_1_FTO.to_excel('w.xlsx')"
   ]
  },
  {
   "cell_type": "markdown",
   "metadata": {},
   "source": [
    "алерты fto"
   ]
  },
  {
   "cell_type": "code",
   "execution_count": 100,
   "metadata": {},
   "outputs": [
    {
     "data": {
      "text/plain": [
       "(1264, 12)"
      ]
     },
     "execution_count": 100,
     "metadata": {},
     "output_type": "execute_result"
    }
   ],
   "source": [
    "not_in_3 = merge_2_to_3_FTO[merge_2_to_3_FTO.customerName_3d.isna()]\n",
    "query = f'''\n",
    "with table_1 as\n",
    "(select \"sfOrderId\",\"reportDate\",\"orderId\",\"agreementDate\",\"deliveryIncoterms\",\"customerName\",\"customerCode\",\"productCode\",\"replacementCostCurrency\",\"quantity\",\"productUnitPrice\",\"replacementCost\",max(\"reportDate\") over (partition by \"orderId\") as \"max_report\"\n",
    "from \"RISKACCESS\".\"OPRECBrazilDaily\" \n",
    "where \"salesUnitCode\" in ('BRFTO','BRHRG') \n",
    "and \"mtmOrderBookType\" = 'Sales'\n",
    "and (\"orderId\" in ({str(not_in_3.orderId.unique().tolist())[1:-1]}) \n",
    "or \"sfOrderId\" in ({str(not_in_3.sfOrderId.unique().tolist())[1:-1]}))\n",
    ")\n",
    "\n",
    "select \"sfOrderId\",\"reportDate\",\"orderId\",\"agreementDate\",\"deliveryIncoterms\",\"customerName\",\"customerCode\",\"productCode\",\"replacementCostCurrency\",\n",
    "sum(\"quantity\") as \"quantity\",\n",
    "avg(\"productUnitPrice\") as \"productUnitPrice\",\n",
    "sum(\"replacementCost\") as \"replacementCost\"\n",
    "from table_1\n",
    "where \"reportDate\" = \"max_report\"\n",
    "group by \"reportDate\",\"sfOrderId\",\"orderId\",\"agreementDate\",\"deliveryIncoterms\",\"customerName\",\"customerCode\",\"productCode\",\"replacementCostCurrency\"\n",
    "'''\n",
    "data_3 = export_from_RISKCUSTOM(query)\n",
    "data_3.shape"
   ]
  },
  {
   "cell_type": "code",
   "execution_count": 101,
   "metadata": {},
   "outputs": [
    {
     "data": {
      "text/plain": [
       "(551, 16)"
      ]
     },
     "execution_count": 101,
     "metadata": {},
     "output_type": "execute_result"
    }
   ],
   "source": [
    "not_in_3.shape"
   ]
  },
  {
   "cell_type": "code",
   "execution_count": 114,
   "metadata": {},
   "outputs": [],
   "source": [
    "data_3[['orderId', 'sfOrderId']] = data_3[['orderId', 'sfOrderId']].fillna(0).astype(int) #types\n",
    "not_equal_strings = not_in_3.merge(data_3, how='left', on='sfOrderId')"
   ]
  },
  {
   "cell_type": "markdown",
   "metadata": {},
   "source": [
    "not in 2"
   ]
  },
  {
   "cell_type": "code",
   "execution_count": 140,
   "metadata": {},
   "outputs": [
    {
     "data": {
      "text/plain": [
       "(19919, 13)"
      ]
     },
     "execution_count": 140,
     "metadata": {},
     "output_type": "execute_result"
    }
   ],
   "source": [
    "not_in_2.shape"
   ]
  },
  {
   "cell_type": "code",
   "execution_count": 145,
   "metadata": {},
   "outputs": [
    {
     "data": {
      "text/html": [
       "<div>\n",
       "<style scoped>\n",
       "    .dataframe tbody tr th:only-of-type {\n",
       "        vertical-align: middle;\n",
       "    }\n",
       "\n",
       "    .dataframe tbody tr th {\n",
       "        vertical-align: top;\n",
       "    }\n",
       "\n",
       "    .dataframe thead th {\n",
       "        text-align: right;\n",
       "    }\n",
       "</style>\n",
       "<table border=\"1\" class=\"dataframe\">\n",
       "  <thead>\n",
       "    <tr style=\"text-align: right;\">\n",
       "      <th></th>\n",
       "      <th>customerCode</th>\n",
       "      <th>customerName_3d</th>\n",
       "      <th>orderId</th>\n",
       "      <th>sfOrderId</th>\n",
       "      <th>agreementDate_3d</th>\n",
       "      <th>orderDate</th>\n",
       "      <th>productCode</th>\n",
       "      <th>quantity_3d</th>\n",
       "      <th>productUnitPrice_3d</th>\n",
       "      <th>deliveryIncoterms_3d</th>\n",
       "      <th>...</th>\n",
       "      <th>replacementCostCurrency</th>\n",
       "      <th>source</th>\n",
       "      <th>agreementDate_1d</th>\n",
       "      <th>quantity_1d</th>\n",
       "      <th>productUnitPrice_1d</th>\n",
       "      <th>deliveryIncoterms_1d</th>\n",
       "      <th>replacementCost_1d</th>\n",
       "      <th>customerName_1d</th>\n",
       "      <th>source_sheet</th>\n",
       "      <th>source_file</th>\n",
       "    </tr>\n",
       "  </thead>\n",
       "  <tbody>\n",
       "    <tr>\n",
       "      <th>0</th>\n",
       "      <td>2550008</td>\n",
       "      <td>JOAO MANOEL MESQUITA COUTO</td>\n",
       "      <td>224186</td>\n",
       "      <td>2067146</td>\n",
       "      <td>2024-09-19</td>\n",
       "      <td>2024-09-19 17:24:35</td>\n",
       "      <td>1010217161101</td>\n",
       "      <td>-257.80500</td>\n",
       "      <td>2550.00</td>\n",
       "      <td>CIF</td>\n",
       "      <td>...</td>\n",
       "      <td>USD</td>\n",
       "      <td>OPRECBrazilDaily</td>\n",
       "      <td>NaT</td>\n",
       "      <td>NaN</td>\n",
       "      <td>NaN</td>\n",
       "      <td>NaN</td>\n",
       "      <td>NaN</td>\n",
       "      <td>NaN</td>\n",
       "      <td>NaN</td>\n",
       "      <td>NaN</td>\n",
       "    </tr>\n",
       "    <tr>\n",
       "      <th>1</th>\n",
       "      <td>2550008</td>\n",
       "      <td>JOAO MANOEL MESQUITA COUTO</td>\n",
       "      <td>224186</td>\n",
       "      <td>2067146</td>\n",
       "      <td>2024-09-19</td>\n",
       "      <td>2024-09-19 17:24:35</td>\n",
       "      <td>1010217161101</td>\n",
       "      <td>-2.29500</td>\n",
       "      <td>2550.00</td>\n",
       "      <td>CIF</td>\n",
       "      <td>...</td>\n",
       "      <td>BRL</td>\n",
       "      <td>OPRECBrazilDaily</td>\n",
       "      <td>NaT</td>\n",
       "      <td>NaN</td>\n",
       "      <td>NaN</td>\n",
       "      <td>NaN</td>\n",
       "      <td>NaN</td>\n",
       "      <td>NaN</td>\n",
       "      <td>NaN</td>\n",
       "      <td>NaN</td>\n",
       "    </tr>\n",
       "    <tr>\n",
       "      <th>2</th>\n",
       "      <td>3363733</td>\n",
       "      <td>COOPERATIVA AGRO-INDUSTRIAL HOLAMBRA</td>\n",
       "      <td>224040</td>\n",
       "      <td>2066940</td>\n",
       "      <td>2024-09-11</td>\n",
       "      <td>2024-09-18 21:33:02</td>\n",
       "      <td>1010291451101</td>\n",
       "      <td>-0.99750</td>\n",
       "      <td>2461.56</td>\n",
       "      <td>FOB</td>\n",
       "      <td>...</td>\n",
       "      <td>USD</td>\n",
       "      <td>OPRECBrazilDaily</td>\n",
       "      <td>NaT</td>\n",
       "      <td>NaN</td>\n",
       "      <td>NaN</td>\n",
       "      <td>NaN</td>\n",
       "      <td>NaN</td>\n",
       "      <td>NaN</td>\n",
       "      <td>NaN</td>\n",
       "      <td>NaN</td>\n",
       "    </tr>\n",
       "    <tr>\n",
       "      <th>3</th>\n",
       "      <td>3363733</td>\n",
       "      <td>COOPERATIVA AGRO-INDUSTRIAL HOLAMBRA</td>\n",
       "      <td>224040</td>\n",
       "      <td>2066940</td>\n",
       "      <td>2024-09-11</td>\n",
       "      <td>2024-09-18 21:33:02</td>\n",
       "      <td>1010291451101</td>\n",
       "      <td>-995.50500</td>\n",
       "      <td>2461.56</td>\n",
       "      <td>FOB</td>\n",
       "      <td>...</td>\n",
       "      <td>USD</td>\n",
       "      <td>OPRECBrazilDaily</td>\n",
       "      <td>NaT</td>\n",
       "      <td>NaN</td>\n",
       "      <td>NaN</td>\n",
       "      <td>NaN</td>\n",
       "      <td>NaN</td>\n",
       "      <td>NaN</td>\n",
       "      <td>NaN</td>\n",
       "      <td>NaN</td>\n",
       "    </tr>\n",
       "    <tr>\n",
       "      <th>4</th>\n",
       "      <td>3363733</td>\n",
       "      <td>COOPERATIVA AGRO-INDUSTRIAL HOLAMBRA</td>\n",
       "      <td>224040</td>\n",
       "      <td>2066940</td>\n",
       "      <td>2024-09-11</td>\n",
       "      <td>2024-09-18 21:33:02</td>\n",
       "      <td>1010291451101</td>\n",
       "      <td>-0.00250</td>\n",
       "      <td>2461.56</td>\n",
       "      <td>FOB</td>\n",
       "      <td>...</td>\n",
       "      <td>BRL</td>\n",
       "      <td>OPRECBrazilDaily</td>\n",
       "      <td>NaT</td>\n",
       "      <td>NaN</td>\n",
       "      <td>NaN</td>\n",
       "      <td>NaN</td>\n",
       "      <td>NaN</td>\n",
       "      <td>NaN</td>\n",
       "      <td>NaN</td>\n",
       "      <td>NaN</td>\n",
       "    </tr>\n",
       "    <tr>\n",
       "      <th>...</th>\n",
       "      <td>...</td>\n",
       "      <td>...</td>\n",
       "      <td>...</td>\n",
       "      <td>...</td>\n",
       "      <td>...</td>\n",
       "      <td>...</td>\n",
       "      <td>...</td>\n",
       "      <td>...</td>\n",
       "      <td>...</td>\n",
       "      <td>...</td>\n",
       "      <td>...</td>\n",
       "      <td>...</td>\n",
       "      <td>...</td>\n",
       "      <td>...</td>\n",
       "      <td>...</td>\n",
       "      <td>...</td>\n",
       "      <td>...</td>\n",
       "      <td>...</td>\n",
       "      <td>...</td>\n",
       "      <td>...</td>\n",
       "      <td>...</td>\n",
       "    </tr>\n",
       "    <tr>\n",
       "      <th>1989</th>\n",
       "      <td>1502000</td>\n",
       "      <td>LUIZ CARLOS BAPTISTA DOS SANTOS E OUTRO(S)</td>\n",
       "      <td>213406</td>\n",
       "      <td>2060799</td>\n",
       "      <td>2024-06-07</td>\n",
       "      <td>2024-06-19 16:48:37</td>\n",
       "      <td>1010177241101</td>\n",
       "      <td>-0.17119</td>\n",
       "      <td>2792.00</td>\n",
       "      <td>FOB</td>\n",
       "      <td>...</td>\n",
       "      <td>USD</td>\n",
       "      <td>OPRECBrazilDaily</td>\n",
       "      <td>NaT</td>\n",
       "      <td>NaN</td>\n",
       "      <td>NaN</td>\n",
       "      <td>NaN</td>\n",
       "      <td>NaN</td>\n",
       "      <td>NaN</td>\n",
       "      <td>NaN</td>\n",
       "      <td>NaN</td>\n",
       "    </tr>\n",
       "    <tr>\n",
       "      <th>1990</th>\n",
       "      <td>1502000</td>\n",
       "      <td>LUIZ CARLOS BAPTISTA DOS SANTOS E OUTRO(S)</td>\n",
       "      <td>213406</td>\n",
       "      <td>2060799</td>\n",
       "      <td>2024-06-07</td>\n",
       "      <td>2024-06-19 16:48:37</td>\n",
       "      <td>1010177241101</td>\n",
       "      <td>-0.12093</td>\n",
       "      <td>2792.00</td>\n",
       "      <td>FOB</td>\n",
       "      <td>...</td>\n",
       "      <td>BRL</td>\n",
       "      <td>OPRECBrazilDaily</td>\n",
       "      <td>NaT</td>\n",
       "      <td>NaN</td>\n",
       "      <td>NaN</td>\n",
       "      <td>NaN</td>\n",
       "      <td>NaN</td>\n",
       "      <td>NaN</td>\n",
       "      <td>NaN</td>\n",
       "      <td>NaN</td>\n",
       "    </tr>\n",
       "    <tr>\n",
       "      <th>1991</th>\n",
       "      <td>1502000</td>\n",
       "      <td>LUIZ CARLOS BAPTISTA DOS SANTOS E OUTRO(S)</td>\n",
       "      <td>213406</td>\n",
       "      <td>2060799</td>\n",
       "      <td>2024-06-07</td>\n",
       "      <td>2024-06-19 16:48:37</td>\n",
       "      <td>1010177241101</td>\n",
       "      <td>-4.96451</td>\n",
       "      <td>2792.00</td>\n",
       "      <td>FOB</td>\n",
       "      <td>...</td>\n",
       "      <td>USD</td>\n",
       "      <td>OPRECBrazilDaily</td>\n",
       "      <td>NaT</td>\n",
       "      <td>NaN</td>\n",
       "      <td>NaN</td>\n",
       "      <td>NaN</td>\n",
       "      <td>NaN</td>\n",
       "      <td>NaN</td>\n",
       "      <td>NaN</td>\n",
       "      <td>NaN</td>\n",
       "    </tr>\n",
       "    <tr>\n",
       "      <th>1992</th>\n",
       "      <td>1502000</td>\n",
       "      <td>LUIZ CARLOS BAPTISTA DOS SANTOS E OUTRO(S)</td>\n",
       "      <td>213406</td>\n",
       "      <td>2060799</td>\n",
       "      <td>2024-06-07</td>\n",
       "      <td>2024-06-19 16:48:37</td>\n",
       "      <td>1010177241101</td>\n",
       "      <td>-0.34916</td>\n",
       "      <td>2792.00</td>\n",
       "      <td>FOB</td>\n",
       "      <td>...</td>\n",
       "      <td>BRL</td>\n",
       "      <td>OPRECBrazilDaily</td>\n",
       "      <td>NaT</td>\n",
       "      <td>NaN</td>\n",
       "      <td>NaN</td>\n",
       "      <td>NaN</td>\n",
       "      <td>NaN</td>\n",
       "      <td>NaN</td>\n",
       "      <td>NaN</td>\n",
       "      <td>NaN</td>\n",
       "    </tr>\n",
       "    <tr>\n",
       "      <th>1993</th>\n",
       "      <td>1914000</td>\n",
       "      <td>AGROPECUARIA BOM JESUS CULTIVO DE GRAOS LTDA</td>\n",
       "      <td>211068</td>\n",
       "      <td>2059713</td>\n",
       "      <td>2024-05-24</td>\n",
       "      <td>2024-05-24 17:11:47</td>\n",
       "      <td>1010324141101</td>\n",
       "      <td>-25.00000</td>\n",
       "      <td>2978.00</td>\n",
       "      <td>FOB</td>\n",
       "      <td>...</td>\n",
       "      <td>USD</td>\n",
       "      <td>OPRECBrazilDaily</td>\n",
       "      <td>NaT</td>\n",
       "      <td>NaN</td>\n",
       "      <td>NaN</td>\n",
       "      <td>NaN</td>\n",
       "      <td>NaN</td>\n",
       "      <td>NaN</td>\n",
       "      <td>NaN</td>\n",
       "      <td>NaN</td>\n",
       "    </tr>\n",
       "  </tbody>\n",
       "</table>\n",
       "<p>1994 rows × 21 columns</p>\n",
       "</div>"
      ],
      "text/plain": [
       "      customerCode                               customerName_3d  orderId  \\\n",
       "0          2550008                    JOAO MANOEL MESQUITA COUTO   224186   \n",
       "1          2550008                    JOAO MANOEL MESQUITA COUTO   224186   \n",
       "2          3363733          COOPERATIVA AGRO-INDUSTRIAL HOLAMBRA   224040   \n",
       "3          3363733          COOPERATIVA AGRO-INDUSTRIAL HOLAMBRA   224040   \n",
       "4          3363733          COOPERATIVA AGRO-INDUSTRIAL HOLAMBRA   224040   \n",
       "...            ...                                           ...      ...   \n",
       "1989       1502000    LUIZ CARLOS BAPTISTA DOS SANTOS E OUTRO(S)   213406   \n",
       "1990       1502000    LUIZ CARLOS BAPTISTA DOS SANTOS E OUTRO(S)   213406   \n",
       "1991       1502000    LUIZ CARLOS BAPTISTA DOS SANTOS E OUTRO(S)   213406   \n",
       "1992       1502000    LUIZ CARLOS BAPTISTA DOS SANTOS E OUTRO(S)   213406   \n",
       "1993       1914000  AGROPECUARIA BOM JESUS CULTIVO DE GRAOS LTDA   211068   \n",
       "\n",
       "      sfOrderId agreementDate_3d           orderDate    productCode  \\\n",
       "0       2067146       2024-09-19 2024-09-19 17:24:35  1010217161101   \n",
       "1       2067146       2024-09-19 2024-09-19 17:24:35  1010217161101   \n",
       "2       2066940       2024-09-11 2024-09-18 21:33:02  1010291451101   \n",
       "3       2066940       2024-09-11 2024-09-18 21:33:02  1010291451101   \n",
       "4       2066940       2024-09-11 2024-09-18 21:33:02  1010291451101   \n",
       "...         ...              ...                 ...            ...   \n",
       "1989    2060799       2024-06-07 2024-06-19 16:48:37  1010177241101   \n",
       "1990    2060799       2024-06-07 2024-06-19 16:48:37  1010177241101   \n",
       "1991    2060799       2024-06-07 2024-06-19 16:48:37  1010177241101   \n",
       "1992    2060799       2024-06-07 2024-06-19 16:48:37  1010177241101   \n",
       "1993    2059713       2024-05-24 2024-05-24 17:11:47  1010324141101   \n",
       "\n",
       "      quantity_3d  productUnitPrice_3d deliveryIncoterms_3d  ...  \\\n",
       "0      -257.80500              2550.00                  CIF  ...   \n",
       "1        -2.29500              2550.00                  CIF  ...   \n",
       "2        -0.99750              2461.56                  FOB  ...   \n",
       "3      -995.50500              2461.56                  FOB  ...   \n",
       "4        -0.00250              2461.56                  FOB  ...   \n",
       "...           ...                  ...                  ...  ...   \n",
       "1989     -0.17119              2792.00                  FOB  ...   \n",
       "1990     -0.12093              2792.00                  FOB  ...   \n",
       "1991     -4.96451              2792.00                  FOB  ...   \n",
       "1992     -0.34916              2792.00                  FOB  ...   \n",
       "1993    -25.00000              2978.00                  FOB  ...   \n",
       "\n",
       "      replacementCostCurrency            source agreementDate_1d quantity_1d  \\\n",
       "0                         USD  OPRECBrazilDaily              NaT         NaN   \n",
       "1                         BRL  OPRECBrazilDaily              NaT         NaN   \n",
       "2                         USD  OPRECBrazilDaily              NaT         NaN   \n",
       "3                         USD  OPRECBrazilDaily              NaT         NaN   \n",
       "4                         BRL  OPRECBrazilDaily              NaT         NaN   \n",
       "...                       ...               ...              ...         ...   \n",
       "1989                      USD  OPRECBrazilDaily              NaT         NaN   \n",
       "1990                      BRL  OPRECBrazilDaily              NaT         NaN   \n",
       "1991                      USD  OPRECBrazilDaily              NaT         NaN   \n",
       "1992                      BRL  OPRECBrazilDaily              NaT         NaN   \n",
       "1993                      USD  OPRECBrazilDaily              NaT         NaN   \n",
       "\n",
       "      productUnitPrice_1d  deliveryIncoterms_1d replacementCost_1d  \\\n",
       "0                     NaN                   NaN                NaN   \n",
       "1                     NaN                   NaN                NaN   \n",
       "2                     NaN                   NaN                NaN   \n",
       "3                     NaN                   NaN                NaN   \n",
       "4                     NaN                   NaN                NaN   \n",
       "...                   ...                   ...                ...   \n",
       "1989                  NaN                   NaN                NaN   \n",
       "1990                  NaN                   NaN                NaN   \n",
       "1991                  NaN                   NaN                NaN   \n",
       "1992                  NaN                   NaN                NaN   \n",
       "1993                  NaN                   NaN                NaN   \n",
       "\n",
       "      customerName_1d source_sheet source_file  \n",
       "0                 NaN          NaN         NaN  \n",
       "1                 NaN          NaN         NaN  \n",
       "2                 NaN          NaN         NaN  \n",
       "3                 NaN          NaN         NaN  \n",
       "4                 NaN          NaN         NaN  \n",
       "...               ...          ...         ...  \n",
       "1989              NaN          NaN         NaN  \n",
       "1990              NaN          NaN         NaN  \n",
       "1991              NaN          NaN         NaN  \n",
       "1992              NaN          NaN         NaN  \n",
       "1993              NaN          NaN         NaN  \n",
       "\n",
       "[1994 rows x 21 columns]"
      ]
     },
     "execution_count": 145,
     "metadata": {},
     "output_type": "execute_result"
    }
   ],
   "source": [
    "not_in_2 = not_in_2[not_in_2.sfOrderId.isin(creature_2_df_BRFTO.sfOrderId.unique().tolist())]\n",
    "not_in_2.merge(creature_1_df_ECFH_work, on=['orderId', 'customerCode', 'productCode','replacementCostCurrency'], how='left', suffixes=['_3d', '_1d'])"
   ]
  },
  {
   "cell_type": "markdown",
   "metadata": {},
   "source": [
    "alerts excel"
   ]
  },
  {
   "cell_type": "code",
   "execution_count": 142,
   "metadata": {},
   "outputs": [],
   "source": [
    "if print_to_excel_alerts == True:\n",
    "    Output_file = f'{str(date.today())}_Brazil_alerts.xlsx'\n",
    "    with pd.ExcelWriter(Output_file, engine='openpyxl') as writer:\n",
    "        not_equal_strings.to_excel(writer, index=False, sheet_name='FTO_merge_2_to_3')\n",
    "        creature_2_df_ECFH_not_in_3.to_excel(writer, index=False, sheet_name='CFH_not_in_3')\n",
    "        not_equal_customers.to_excel(writer, index=False, sheet_name='CFH_merge_2_to_3')\n",
    "        not_in_2.to_excel(writer, index=False, sheet_name='3_not_in_2')"
   ]
  },
  {
   "cell_type": "markdown",
   "metadata": {},
   "source": [
    "excel"
   ]
  },
  {
   "cell_type": "code",
   "execution_count": 21,
   "metadata": {},
   "outputs": [],
   "source": [
    "if print_to_excel == True:\n",
    "    Output_file = f'{str(date.today())}_Brazil_deals.xlsx'\n",
    "    with pd.ExcelWriter(Output_file, engine='openpyxl') as writer:\n",
    "        merge_2_to_3.to_excel(writer, index=False, sheet_name='merge_2_to_3')\n",
    "        merge_2_to_1.to_excel(writer, index=False, sheet_name='merge_2_to_1')\n",
    "        merge_2_to_1_to_3.to_excel(writer, index=False, sheet_name='merge_2_to_1_to_3')\n",
    "        creature_3_df_work.to_excel(writer, index=False, sheet_name='3d_work_data')\n",
    "        pd.concat([creature_2_df_ECFH_work,creature_2_df_BRFTO_work]).to_excel(writer, index=False, sheet_name='2d_work_data')\n",
    "        pd.concat([creature_1_df_ECFH_work,creature_1_df_FTO_work]).to_excel(writer, index=False, sheet_name='1d_work_data')\n",
    "        merge_1_to_3_FTO.to_excel(writer, index=False, sheet_name='merge_1_to_3_FTO')\n",
    "        merge_2_to_3_FTO.to_excel(writer, index=False, sheet_name='merge_2_to_3_FTO')\n",
    "        merge_2_to_3_to_1_FTO.to_excel(writer, index=False, sheet_name='merge_2_to_3_to_1_FTO')\n",
    "        # merge_2_to_3.to_excel(writer, index=False, sheet_name='merge_2_to_3')"
   ]
  }
 ],
 "metadata": {
  "kernelspec": {
   "display_name": "base",
   "language": "python",
   "name": "python3"
  },
  "language_info": {
   "codemirror_mode": {
    "name": "ipython",
    "version": 3
   },
   "file_extension": ".py",
   "mimetype": "text/x-python",
   "name": "python",
   "nbconvert_exporter": "python",
   "pygments_lexer": "ipython3",
   "version": "3.11.5"
  }
 },
 "nbformat": 4,
 "nbformat_minor": 2
}
