{
 "cells": [
  {
   "cell_type": "code",
   "execution_count": 121,
   "metadata": {},
   "outputs": [],
   "source": [
    "import sys\n",
    "sys.path.append(\"C:\\\\Users\\\\KlimovaAnnaA\\\\Documents\\\\MyFiles\\\\Projects\\\\Working_attributes\")\n",
    "from Imports import * "
   ]
  },
  {
   "cell_type": "code",
   "execution_count": 122,
   "metadata": {},
   "outputs": [],
   "source": [
    "print_to_excel = True\n",
    "# all numbers are int"
   ]
  },
  {
   "cell_type": "markdown",
   "metadata": {},
   "source": [
    "Creature 1"
   ]
  },
  {
   "cell_type": "code",
   "execution_count": 123,
   "metadata": {},
   "outputs": [
    {
     "name": "stderr",
     "output_type": "stream",
     "text": [
      "C:\\Users\\KlimovaAnnaA\\AppData\\Local\\Temp\\ipykernel_14412\\2742008193.py:12: SettingWithCopyWarning: \n",
      "A value is trying to be set on a copy of a slice from a DataFrame.\n",
      "Try using .loc[row_indexer,col_indexer] = value instead\n",
      "\n",
      "See the caveats in the documentation: https://pandas.pydata.org/pandas-docs/stable/user_guide/indexing.html#returning-a-view-versus-a-copy\n",
      "  creature_1_df_ECFH_work['customerName'] = creature_1_df_ECFH_work.customer.str.extract(r'^([A-Z, a-z]*)')\n",
      "C:\\Users\\KlimovaAnnaA\\AppData\\Local\\Temp\\ipykernel_14412\\2742008193.py:13: SettingWithCopyWarning: \n",
      "A value is trying to be set on a copy of a slice from a DataFrame.\n",
      "Try using .loc[row_indexer,col_indexer] = value instead\n",
      "\n",
      "See the caveats in the documentation: https://pandas.pydata.org/pandas-docs/stable/user_guide/indexing.html#returning-a-view-versus-a-copy\n",
      "  creature_1_df_ECFH_work['customerCode'] = creature_1_df_ECFH_work.customer.str.extract(r'\\(([0-9]*)\\)')\n"
     ]
    }
   ],
   "source": [
    "file_name = 'Credit_Orderbook_20-09-2024_Not_Scheduled_(1).xlsx'\n",
    "sheets_list = ['ECFH - Carteira Total', 'FTO - Carteira Total']\n",
    "\n",
    "# reading ECFH\n",
    "creature_1_df_ECFH = pd.read_excel(file_name, sheet_name=sheets_list[0], header=1)\n",
    "assert len(creature_1_df_ECFH) == 6820\n",
    "# rename and choose columns\n",
    "rename_dict = {'Customer':'customer','Sales Order':'orderId','Order Date (DD/MM/YYYY)':'agreementDate','Product code':'productCode','Sold Volume':'quantity','Unit price':'productUnitPrice','Shipping Type':'deliveryIncoterms','Vlr.Total Sale':'replacementCost'}\n",
    "creature_1_df_ECFH = creature_1_df_ECFH.rename(columns=rename_dict)\n",
    "creature_1_df_ECFH_work = creature_1_df_ECFH[list(rename_dict.values())]\n",
    "# work with customer\n",
    "creature_1_df_ECFH_work['customerName'] = creature_1_df_ECFH_work.customer.str.extract(r'^([A-Z, a-z]*)')\n",
    "creature_1_df_ECFH_work['customerCode'] = creature_1_df_ECFH_work.customer.str.extract(r'\\(([0-9]*)\\)')\n",
    "creature_1_df_ECFH_work = creature_1_df_ECFH_work.drop(columns='customer')\n",
    "# add source\n",
    "creature_1_df_ECFH_work['source_sheet'] = sheets_list[0]\n",
    "creature_1_df_ECFH_work['source_file'] = file_name\n",
    "# types\n",
    "# int\n",
    "creature_1_df_ECFH_work[['orderId','customerCode']] = creature_1_df_ECFH_work[['orderId','customerCode']].astype(int)\n",
    "# float \n",
    "creature_1_df_ECFH_work[['quantity','productUnitPrice','replacementCost']] = creature_1_df_ECFH_work[['quantity','productUnitPrice','replacementCost']].astype(float)\n",
    "# str \n",
    "creature_1_df_ECFH_work['productCode'] = creature_1_df_ECFH_work['productCode'].astype(str)\n",
    "# add ccy\n",
    "creature_1_df_ECFH_work['replacementCostCurrency'] = 'BRL'"
   ]
  },
  {
   "cell_type": "code",
   "execution_count": 124,
   "metadata": {},
   "outputs": [
    {
     "name": "stderr",
     "output_type": "stream",
     "text": [
      "C:\\Users\\KlimovaAnnaA\\AppData\\Local\\Temp\\ipykernel_14412\\503980640.py:9: SettingWithCopyWarning: \n",
      "A value is trying to be set on a copy of a slice from a DataFrame.\n",
      "Try using .loc[row_indexer,col_indexer] = value instead\n",
      "\n",
      "See the caveats in the documentation: https://pandas.pydata.org/pandas-docs/stable/user_guide/indexing.html#returning-a-view-versus-a-copy\n",
      "  creature_1_df_FTO_work['source_sheet'] = sheets_list[0]\n",
      "C:\\Users\\KlimovaAnnaA\\AppData\\Local\\Temp\\ipykernel_14412\\503980640.py:10: SettingWithCopyWarning: \n",
      "A value is trying to be set on a copy of a slice from a DataFrame.\n",
      "Try using .loc[row_indexer,col_indexer] = value instead\n",
      "\n",
      "See the caveats in the documentation: https://pandas.pydata.org/pandas-docs/stable/user_guide/indexing.html#returning-a-view-versus-a-copy\n",
      "  creature_1_df_FTO_work['source_file'] = file_name\n",
      "C:\\Users\\KlimovaAnnaA\\AppData\\Local\\Temp\\ipykernel_14412\\503980640.py:13: SettingWithCopyWarning: \n",
      "A value is trying to be set on a copy of a slice from a DataFrame.\n",
      "Try using .loc[row_indexer,col_indexer] = value instead\n",
      "\n",
      "See the caveats in the documentation: https://pandas.pydata.org/pandas-docs/stable/user_guide/indexing.html#returning-a-view-versus-a-copy\n",
      "  creature_1_df_FTO_work['sfOrderId'] = creature_1_df_FTO_work['sfOrderId'].astype(int)\n",
      "C:\\Users\\KlimovaAnnaA\\AppData\\Local\\Temp\\ipykernel_14412\\503980640.py:15: SettingWithCopyWarning: \n",
      "A value is trying to be set on a copy of a slice from a DataFrame.\n",
      "Try using .loc[row_indexer,col_indexer] = value instead\n",
      "\n",
      "See the caveats in the documentation: https://pandas.pydata.org/pandas-docs/stable/user_guide/indexing.html#returning-a-view-versus-a-copy\n",
      "  creature_1_df_FTO_work[['quantity','productUnitPrice']] = creature_1_df_FTO_work[['quantity','productUnitPrice']].astype(float)\n",
      "C:\\Users\\KlimovaAnnaA\\AppData\\Local\\Temp\\ipykernel_14412\\503980640.py:17: SettingWithCopyWarning: \n",
      "A value is trying to be set on a copy of a slice from a DataFrame.\n",
      "Try using .loc[row_indexer,col_indexer] = value instead\n",
      "\n",
      "See the caveats in the documentation: https://pandas.pydata.org/pandas-docs/stable/user_guide/indexing.html#returning-a-view-versus-a-copy\n",
      "  creature_1_df_FTO_work['productCode'] = creature_1_df_FTO_work['productCode'].astype(str)\n",
      "C:\\Users\\KlimovaAnnaA\\AppData\\Local\\Temp\\ipykernel_14412\\503980640.py:19: SettingWithCopyWarning: \n",
      "A value is trying to be set on a copy of a slice from a DataFrame.\n",
      "Try using .loc[row_indexer,col_indexer] = value instead\n",
      "\n",
      "See the caveats in the documentation: https://pandas.pydata.org/pandas-docs/stable/user_guide/indexing.html#returning-a-view-versus-a-copy\n",
      "  creature_1_df_FTO_work['replacementCost'] = creature_1_df_FTO_work['productUnitPrice'] * creature_1_df_FTO_work['quantity']\n"
     ]
    }
   ],
   "source": [
    "# reading FTO\n",
    "creature_1_df_FTO = pd.read_excel(file_name, sheet_name=sheets_list[1], header=1)\n",
    "assert len(creature_1_df_FTO) == 822\n",
    "# rename and choose columns\n",
    "rename_dict = {'Customer':'customerName','ERP Contract Number':'sfOrderId','Negotiation date ':'agreementDate','Code Product':'productCode','Total Sales Volume':'quantity','Unit price':'productUnitPrice','Type of Shipping':'deliveryIncoterms', 'Currency':'replacementCostCurrency'}\n",
    "creature_1_df_FTO = creature_1_df_FTO.rename(columns=rename_dict)\n",
    "creature_1_df_FTO_work = creature_1_df_FTO[list(rename_dict.values())]\n",
    "# add source\n",
    "creature_1_df_FTO_work['source_sheet'] = sheets_list[0]\n",
    "creature_1_df_FTO_work['source_file'] = file_name\n",
    "# types\n",
    "# int\n",
    "creature_1_df_FTO_work['sfOrderId'] = creature_1_df_FTO_work['sfOrderId'].astype(int)\n",
    "# float \n",
    "creature_1_df_FTO_work[['quantity','productUnitPrice']] = creature_1_df_FTO_work[['quantity','productUnitPrice']].astype(float)\n",
    "# str \n",
    "creature_1_df_FTO_work['productCode'] = creature_1_df_FTO_work['productCode'].astype(str)\n",
    "# work with final cost\n",
    "creature_1_df_FTO_work['replacementCost'] = creature_1_df_FTO_work['productUnitPrice'] * creature_1_df_FTO_work['quantity']"
   ]
  },
  {
   "cell_type": "markdown",
   "metadata": {},
   "source": [
    "Creature 2"
   ]
  },
  {
   "cell_type": "code",
   "execution_count": 125,
   "metadata": {},
   "outputs": [
    {
     "name": "stderr",
     "output_type": "stream",
     "text": [
      "C:\\Users\\KlimovaAnnaA\\AppData\\Local\\Temp\\ipykernel_14412\\2451622962.py:12: SettingWithCopyWarning: \n",
      "A value is trying to be set on a copy of a slice from a DataFrame.\n",
      "Try using .loc[row_indexer,col_indexer] = value instead\n",
      "\n",
      "See the caveats in the documentation: https://pandas.pydata.org/pandas-docs/stable/user_guide/indexing.html#returning-a-view-versus-a-copy\n",
      "  creature_2_df_ECFH_work['customerName'] = creature_2_df_ECFH_work.customer.str.extract(r'^([A-Z, a-z]*)')\n",
      "C:\\Users\\KlimovaAnnaA\\AppData\\Local\\Temp\\ipykernel_14412\\2451622962.py:13: SettingWithCopyWarning: \n",
      "A value is trying to be set on a copy of a slice from a DataFrame.\n",
      "Try using .loc[row_indexer,col_indexer] = value instead\n",
      "\n",
      "See the caveats in the documentation: https://pandas.pydata.org/pandas-docs/stable/user_guide/indexing.html#returning-a-view-versus-a-copy\n",
      "  creature_2_df_ECFH_work['customerCode'] = creature_2_df_ECFH_work.customer.str.extract(r'\\(([0-9]*)\\)')\n",
      "c:\\Users\\KlimovaAnnaA\\AppData\\Local\\miniconda3\\Lib\\site-packages\\pandas\\core\\strings\\accessor.py:2738: FutureWarning: Possible nested set at position 3\n",
      "  regex = re.compile(pat, flags=flags)\n",
      "C:\\Users\\KlimovaAnnaA\\AppData\\Local\\Temp\\ipykernel_14412\\2451622962.py:14: SettingWithCopyWarning: \n",
      "A value is trying to be set on a copy of a slice from a DataFrame.\n",
      "Try using .loc[row_indexer,col_indexer] = value instead\n",
      "\n",
      "See the caveats in the documentation: https://pandas.pydata.org/pandas-docs/stable/user_guide/indexing.html#returning-a-view-versus-a-copy\n",
      "  creature_2_df_ECFH_work['productCode'] = creature_2_df_ECFH_work['product'].str.extract(r'^([[0-9, A-Z, a-z]*) ')\n"
     ]
    }
   ],
   "source": [
    "file_name = 'Contracts_-_FH_-_Oct_01,_2024.xlsx'\n",
    "sheets_name = 'ECFH - Carteira Total'\n",
    "\n",
    "# reading ECFH\n",
    "creature_2_df_ECFH = pd.read_excel(file_name, sheet_name=sheets_name, header=1)\n",
    "assert len(creature_2_df_ECFH) == 11553\n",
    "# rename and choose columns\n",
    "rename_dict = {'Cliente':'customer','Ordem de Venda':'orderId','Data Pedido (DD/MM/AAAA)':'agreementDate','Material':'product','Qtde Vendida':'quantity','Vlr.Unit.Venda':'productUnitPrice','Tipo Frete':'deliveryIncoterms','Vlr.Total Venda':'replacementCost'}\n",
    "creature_2_df_ECFH = creature_2_df_ECFH.rename(columns=rename_dict)\n",
    "creature_2_df_ECFH_work = creature_2_df_ECFH[list(rename_dict.values())]\n",
    "# work with customer\n",
    "creature_2_df_ECFH_work['customerName'] = creature_2_df_ECFH_work.customer.str.extract(r'^([A-Z, a-z]*)')\n",
    "creature_2_df_ECFH_work['customerCode'] = creature_2_df_ECFH_work.customer.str.extract(r'\\(([0-9]*)\\)')\n",
    "creature_2_df_ECFH_work['productCode'] = creature_2_df_ECFH_work['product'].str.extract(r'^([[0-9, A-Z, a-z]*) ')\n",
    "creature_2_df_ECFH_work = creature_2_df_ECFH_work.drop(columns=['customer','product'])\n",
    "# add source\n",
    "creature_2_df_ECFH_work['source_sheet'] = sheets_name\n",
    "creature_2_df_ECFH_work['source_file'] = file_name\n",
    "# types\n",
    "# int\n",
    "creature_2_df_ECFH_work[['orderId','customerCode']] = creature_2_df_ECFH_work[['orderId','customerCode']].astype(int)\n",
    "# float \n",
    "creature_2_df_ECFH_work[['quantity','productUnitPrice','replacementCost']] = creature_2_df_ECFH_work[['quantity','productUnitPrice','replacementCost']].astype(float)\n",
    "# str \n",
    "creature_2_df_ECFH_work['productCode'] = creature_2_df_ECFH_work['productCode'].astype(str)\n",
    "# add ccy\n",
    "creature_2_df_ECFH_work['replacementCostCurrency'] = 'BRL'"
   ]
  },
  {
   "cell_type": "code",
   "execution_count": 126,
   "metadata": {},
   "outputs": [
    {
     "name": "stderr",
     "output_type": "stream",
     "text": [
      "C:\\Users\\KlimovaAnnaA\\AppData\\Local\\Temp\\ipykernel_14412\\1484741969.py:12: SettingWithCopyWarning: \n",
      "A value is trying to be set on a copy of a slice from a DataFrame.\n",
      "Try using .loc[row_indexer,col_indexer] = value instead\n",
      "\n",
      "See the caveats in the documentation: https://pandas.pydata.org/pandas-docs/stable/user_guide/indexing.html#returning-a-view-versus-a-copy\n",
      "  creature_2_df_BRFTO_work['source_sheet'] = sheets_name\n",
      "C:\\Users\\KlimovaAnnaA\\AppData\\Local\\Temp\\ipykernel_14412\\1484741969.py:13: SettingWithCopyWarning: \n",
      "A value is trying to be set on a copy of a slice from a DataFrame.\n",
      "Try using .loc[row_indexer,col_indexer] = value instead\n",
      "\n",
      "See the caveats in the documentation: https://pandas.pydata.org/pandas-docs/stable/user_guide/indexing.html#returning-a-view-versus-a-copy\n",
      "  creature_2_df_BRFTO_work['source_file'] = file_name\n",
      "C:\\Users\\KlimovaAnnaA\\AppData\\Local\\Temp\\ipykernel_14412\\1484741969.py:16: SettingWithCopyWarning: \n",
      "A value is trying to be set on a copy of a slice from a DataFrame.\n",
      "Try using .loc[row_indexer,col_indexer] = value instead\n",
      "\n",
      "See the caveats in the documentation: https://pandas.pydata.org/pandas-docs/stable/user_guide/indexing.html#returning-a-view-versus-a-copy\n",
      "  creature_2_df_BRFTO_work[['sfOrderId','orderId']] = creature_2_df_BRFTO_work[['sfOrderId','orderId']].astype(int)\n",
      "C:\\Users\\KlimovaAnnaA\\AppData\\Local\\Temp\\ipykernel_14412\\1484741969.py:18: SettingWithCopyWarning: \n",
      "A value is trying to be set on a copy of a slice from a DataFrame.\n",
      "Try using .loc[row_indexer,col_indexer] = value instead\n",
      "\n",
      "See the caveats in the documentation: https://pandas.pydata.org/pandas-docs/stable/user_guide/indexing.html#returning-a-view-versus-a-copy\n",
      "  creature_2_df_BRFTO_work['replacementCost'] = creature_2_df_BRFTO_work['replacementCost'].astype(float)\n"
     ]
    }
   ],
   "source": [
    "file_name = 'BRFTO_FX_Exposure_Model_20.09.2024.xlsx'\n",
    "sheets_name = 'Contracts'\n",
    "\n",
    "# reading FTO\n",
    "creature_2_df_BRFTO = pd.read_excel(file_name, sheet_name=sheets_name)\n",
    "assert len(creature_2_df_BRFTO) == 712\n",
    "# rename and choose columns\n",
    "rename_dict = {'Razao Social':'customerName','Contrato Venda':'sfOrderId','Numero Pedido':'orderId', 'Emitido Em':'orderDate','Saldo Devido':'replacementCost', 'Moeda':'replacementCostCurrency'}\n",
    "creature_2_df_BRFTO = creature_2_df_BRFTO.rename(columns=rename_dict)\n",
    "creature_2_df_BRFTO_work = creature_2_df_BRFTO[list(rename_dict.values())]\n",
    "# add source\n",
    "creature_2_df_BRFTO_work['source_sheet'] = sheets_name\n",
    "creature_2_df_BRFTO_work['source_file'] = file_name\n",
    "# types\n",
    "# int\n",
    "creature_2_df_BRFTO_work[['sfOrderId','orderId']] = creature_2_df_BRFTO_work[['sfOrderId','orderId']].astype(int)\n",
    "# float \n",
    "creature_2_df_BRFTO_work['replacementCost'] = creature_2_df_BRFTO_work['replacementCost'].astype(float)"
   ]
  },
  {
   "cell_type": "markdown",
   "metadata": {},
   "source": [
    "Creature 3"
   ]
  },
  {
   "cell_type": "code",
   "execution_count": 127,
   "metadata": {},
   "outputs": [
    {
     "name": "stderr",
     "output_type": "stream",
     "text": [
      "C:\\Users\\KlimovaAnnaA\\Documents\\MyFiles\\Projects\\Working_attributes\\Defs.py:92: UserWarning: pandas only supports SQLAlchemy connectable (engine/connection) or database string URI or sqlite3 DBAPI2 connection. Other DBAPI2 objects are not tested. Please consider using SQLAlchemy.\n",
      "  data_export = pd.read_sql(query, con=connection)\n"
     ]
    },
    {
     "data": {
      "text/plain": [
       "(59992, 147)"
      ]
     },
     "execution_count": 127,
     "metadata": {},
     "output_type": "execute_result"
    }
   ],
   "source": [
    "query = \"\"\"\n",
    "select * \n",
    "from \"RISKACCESS\".\"OPRECBrazilDaily\" \n",
    "where \"salesUnitCode\" in ('BRFTO','BRHRG') \n",
    "and \"reportDate\" = TO_DATE('20.09.24', 'DD.MM.YY')\n",
    "and \"mtmOrderBookType\" = 'Sales'\n",
    "\"\"\"\n",
    "creature_3_df = export_from_RISKCUSTOM(query)\n",
    "creature_3_df.shape"
   ]
  },
  {
   "cell_type": "code",
   "execution_count": 128,
   "metadata": {},
   "outputs": [
    {
     "name": "stderr",
     "output_type": "stream",
     "text": [
      "C:\\Users\\KlimovaAnnaA\\AppData\\Local\\Temp\\ipykernel_14412\\819585449.py:3: SettingWithCopyWarning: \n",
      "A value is trying to be set on a copy of a slice from a DataFrame.\n",
      "Try using .loc[row_indexer,col_indexer] = value instead\n",
      "\n",
      "See the caveats in the documentation: https://pandas.pydata.org/pandas-docs/stable/user_guide/indexing.html#returning-a-view-versus-a-copy\n",
      "  creature_3_df_work['source'] = 'OPRECBrazilDaily'\n",
      "C:\\Users\\KlimovaAnnaA\\AppData\\Local\\Temp\\ipykernel_14412\\819585449.py:6: SettingWithCopyWarning: \n",
      "A value is trying to be set on a copy of a slice from a DataFrame.\n",
      "Try using .loc[row_indexer,col_indexer] = value instead\n",
      "\n",
      "See the caveats in the documentation: https://pandas.pydata.org/pandas-docs/stable/user_guide/indexing.html#returning-a-view-versus-a-copy\n",
      "  creature_3_df_work[['orderId','customerCode', 'sfOrderId']] = creature_3_df_work[['orderId','customerCode', 'sfOrderId']].fillna(0).astype(int)\n",
      "C:\\Users\\KlimovaAnnaA\\AppData\\Local\\Temp\\ipykernel_14412\\819585449.py:8: SettingWithCopyWarning: \n",
      "A value is trying to be set on a copy of a slice from a DataFrame.\n",
      "Try using .loc[row_indexer,col_indexer] = value instead\n",
      "\n",
      "See the caveats in the documentation: https://pandas.pydata.org/pandas-docs/stable/user_guide/indexing.html#returning-a-view-versus-a-copy\n",
      "  creature_3_df_work[['quantity','productUnitPrice','replacementCost']] = creature_3_df_work[['quantity','productUnitPrice','replacementCost']].astype(float)\n",
      "C:\\Users\\KlimovaAnnaA\\AppData\\Local\\Temp\\ipykernel_14412\\819585449.py:10: SettingWithCopyWarning: \n",
      "A value is trying to be set on a copy of a slice from a DataFrame.\n",
      "Try using .loc[row_indexer,col_indexer] = value instead\n",
      "\n",
      "See the caveats in the documentation: https://pandas.pydata.org/pandas-docs/stable/user_guide/indexing.html#returning-a-view-versus-a-copy\n",
      "  creature_3_df_work['productCode'] = creature_3_df_work['productCode'].astype(str)\n"
     ]
    }
   ],
   "source": [
    "# work with cols\n",
    "creature_3_df_work = creature_3_df[['customerCode', 'customerName', 'orderId', 'sfOrderId', 'agreementDate', 'orderDate','productCode', 'quantity', 'productUnitPrice', 'deliveryIncoterms', 'replacementCost','replacementCostCurrency']]\n",
    "creature_3_df_work['source'] = 'OPRECBrazilDaily'\n",
    "# types\n",
    "# int\n",
    "creature_3_df_work[['orderId','customerCode', 'sfOrderId']] = creature_3_df_work[['orderId','customerCode', 'sfOrderId']].fillna(0).astype(int)\n",
    "# float \n",
    "creature_3_df_work[['quantity','productUnitPrice','replacementCost']] = creature_3_df_work[['quantity','productUnitPrice','replacementCost']].astype(float)\n",
    "# str \n",
    "creature_3_df_work['productCode'] = creature_3_df_work['productCode'].astype(str)"
   ]
  },
  {
   "cell_type": "markdown",
   "metadata": {},
   "source": [
    "мердж"
   ]
  },
  {
   "cell_type": "code",
   "execution_count": 129,
   "metadata": {},
   "outputs": [
    {
     "data": {
      "text/plain": [
       "(58279, 11552, 6820)"
      ]
     },
     "execution_count": 129,
     "metadata": {},
     "output_type": "execute_result"
    }
   ],
   "source": [
    "# preparation\n",
    "creature_3_df_work = creature_3_df_work.drop_duplicates().reset_index(drop=True)\n",
    "creature_2_df_ECFH_work = creature_2_df_ECFH_work.drop_duplicates().reset_index(drop=True)\n",
    "creature_1_df_ECFH_work = creature_1_df_ECFH_work.drop_duplicates().reset_index(drop=True)\n",
    "\n",
    "creature_3_df_work.shape[0], creature_2_df_ECFH_work.shape[0], creature_1_df_ECFH_work.shape[0]"
   ]
  },
  {
   "cell_type": "code",
   "execution_count": 130,
   "metadata": {},
   "outputs": [
    {
     "data": {
      "text/plain": [
       "(19009, 11465, 6818)"
      ]
     },
     "execution_count": 130,
     "metadata": {},
     "output_type": "execute_result"
    }
   ],
   "source": [
    "# pivots\n",
    "creature_3_df_work_pivot = creature_3_df_work.groupby(as_index=False, dropna=False, by=['customerCode', 'customerName', 'orderId', 'agreementDate','productCode','deliveryIncoterms','replacementCostCurrency', 'source']).agg({'quantity':'sum', 'productUnitPrice':'mean', 'replacementCost':'sum'})\n",
    "creature_2_df_ECFH_work_pivot = creature_2_df_ECFH_work.groupby(as_index=False, dropna=False, by=['orderId', 'agreementDate','deliveryIncoterms','customerName', 'customerCode','productCode','replacementCostCurrency', 'source_sheet', 'source_file']).agg({'quantity':'sum', 'productUnitPrice':'mean', 'replacementCost':'sum'})\n",
    "creature_1_df_ECFH_work_pivot = creature_1_df_ECFH_work.groupby(as_index=False, dropna=False, by=['orderId', 'agreementDate','deliveryIncoterms','customerName', 'customerCode','productCode','replacementCostCurrency', 'source_sheet', 'source_file']).agg({'quantity':'sum', 'productUnitPrice':'mean', 'replacementCost':'sum'})\n",
    "\n",
    "creature_3_df_work_pivot.shape[0], creature_2_df_ECFH_work_pivot.shape[0], creature_1_df_ECFH_work_pivot.shape[0]"
   ]
  },
  {
   "cell_type": "code",
   "execution_count": 131,
   "metadata": {},
   "outputs": [],
   "source": [
    "merge_2_to_3 = creature_2_df_ECFH_work_pivot.merge(creature_3_df_work_pivot, on=['orderId', 'customerCode', 'productCode','replacementCostCurrency'], how='outer', suffixes=['_2d', '_3d']).sort_values(['customerName_2d'])\n",
    "merge_2_to_3 = is_approximately_equal_for_cols(merge_2_to_3, 'quantity_2d', 'quantity_3d')"
   ]
  },
  {
   "cell_type": "code",
   "execution_count": 132,
   "metadata": {},
   "outputs": [],
   "source": [
    "merge_2_to_1 = creature_2_df_ECFH_work_pivot.merge(creature_1_df_ECFH_work, on=['orderId', 'customerCode', 'productCode','replacementCostCurrency'], how='outer', suffixes=['_2d', '_1d']).sort_values(['customerName_2d'])\n",
    "merge_2_to_1 = is_approximately_equal_for_cols(merge_2_to_1, 'quantity_2d', 'quantity_1d', name_col_with_diff='2_to_1')"
   ]
  },
  {
   "cell_type": "code",
   "execution_count": 133,
   "metadata": {},
   "outputs": [],
   "source": [
    "merge_2_to_1_to_3 = merge_2_to_1.merge(creature_3_df_work_pivot, on=['orderId', 'customerCode', 'productCode','replacementCostCurrency'], how='outer').sort_values(['customerName_2d', 'customerName_1d'])\n",
    "# merge_2_to_1_to_3 = is_approximately_equal_for_cols(merge_2_to_1_to_3, 'quantity_2d', 'quantity_1d', name_col_with_diff='2_to_1')\n",
    "merge_2_to_1_to_3 = is_approximately_equal_for_cols(merge_2_to_1_to_3, 'quantity_2d', 'quantity', name_col_with_diff='2_to_3')\n",
    "merge_2_to_1_to_3 = is_approximately_equal_for_cols(merge_2_to_1_to_3, 'quantity_1d', 'quantity', name_col_with_diff='1_to_3')"
   ]
  },
  {
   "cell_type": "markdown",
   "metadata": {},
   "source": [
    "merge FTO"
   ]
  },
  {
   "cell_type": "code",
   "execution_count": 134,
   "metadata": {},
   "outputs": [
    {
     "data": {
      "text/plain": [
       "(58279, 712, 719)"
      ]
     },
     "execution_count": 134,
     "metadata": {},
     "output_type": "execute_result"
    }
   ],
   "source": [
    "# preparation\n",
    "creature_3_df_work = creature_3_df_work.drop_duplicates().reset_index(drop=True)\n",
    "creature_2_df_BRFTO_work = creature_2_df_BRFTO_work.drop_duplicates().reset_index(drop=True)\n",
    "creature_1_df_FTO_work = creature_1_df_FTO_work.drop_duplicates().reset_index(drop=True)\n",
    "\n",
    "creature_3_df_work.shape[0], creature_2_df_BRFTO_work.shape[0], creature_1_df_FTO_work.shape[0]"
   ]
  },
  {
   "cell_type": "code",
   "execution_count": 135,
   "metadata": {},
   "outputs": [
    {
     "data": {
      "text/plain": [
       "(19009, 712, 501)"
      ]
     },
     "execution_count": 135,
     "metadata": {},
     "output_type": "execute_result"
    }
   ],
   "source": [
    "# pivots\n",
    "creature_3_df_work_pivot = creature_3_df_work.groupby(as_index=False, dropna=False, by=['customerName', 'sfOrderId', 'orderId','agreementDate','orderDate','productCode','deliveryIncoterms','replacementCostCurrency', 'source']).agg({'quantity':'sum', 'productUnitPrice':'mean', 'replacementCost':'sum'})\n",
    "creature_2_df_BRFTO_work_pivot = creature_2_df_BRFTO_work.groupby(as_index=False, dropna=False, by=['sfOrderId', 'orderId','orderDate','customerName','replacementCostCurrency', 'source_sheet', 'source_file']).agg({'replacementCost':'sum'})\n",
    "creature_1_df_FTO_work_pivot = creature_1_df_FTO_work.groupby(as_index=False, dropna=False, by=['sfOrderId', 'agreementDate','deliveryIncoterms','customerName','productCode','replacementCostCurrency', 'source_sheet', 'source_file']).agg({'quantity':'sum', 'productUnitPrice':'mean', 'replacementCost':'sum'})\n",
    "\n",
    "creature_3_df_work_pivot.shape[0], creature_2_df_BRFTO_work_pivot.shape[0], creature_1_df_FTO_work_pivot.shape[0]"
   ]
  },
  {
   "cell_type": "code",
   "execution_count": 136,
   "metadata": {},
   "outputs": [],
   "source": [
    "merge_1_to_3_FTO = creature_1_df_FTO_work_pivot.merge(creature_3_df_work_pivot, on=['sfOrderId', 'productCode','replacementCostCurrency'], how='outer', suffixes=['_1d', '_3d']).sort_values(['customerName_1d'])\n",
    "merge_1_to_3_FTO = is_approximately_equal_for_cols(merge_1_to_3_FTO, 'quantity_1d', 'quantity_3d')"
   ]
  },
  {
   "cell_type": "code",
   "execution_count": 137,
   "metadata": {},
   "outputs": [],
   "source": [
    "# pivot to 2_d size\n",
    "creature_3_df_work_pivot_for_2d = creature_3_df_work.groupby(as_index=False, dropna=False, by=['customerName', 'sfOrderId', 'orderId', 'agreementDate','orderDate','replacementCostCurrency', 'source']).agg({'quantity':'sum', 'productUnitPrice':'mean', 'replacementCost':'sum'})\n",
    "creature_1_df_FTO_work_pivot_foe_2d = creature_1_df_FTO_work.groupby(as_index=False, dropna=False, by=['sfOrderId','agreementDate','customerName','replacementCostCurrency', 'source_sheet', 'source_file']).agg({'quantity':'sum', 'productUnitPrice':'mean', 'replacementCost':'sum'})"
   ]
  },
  {
   "cell_type": "code",
   "execution_count": 138,
   "metadata": {},
   "outputs": [],
   "source": [
    "merge_2_to_3_FTO = creature_2_df_BRFTO_work_pivot.merge(creature_3_df_work_pivot_for_2d, on=['sfOrderId','orderId','replacementCostCurrency'], how='outer', suffixes=['_2d', '_3d']).sort_values(['customerName_2d'])\n",
    "merge_2_to_3_FTO = is_approximately_equal_for_cols(merge_2_to_3_FTO, 'replacementCost_2d', 'replacementCost_3d', name_col_with_diff='2_to_3')"
   ]
  },
  {
   "cell_type": "code",
   "execution_count": 140,
   "metadata": {},
   "outputs": [],
   "source": [
    "merge_2_to_3_to_1_FTO = merge_2_to_3_FTO.merge(creature_1_df_FTO_work_pivot_foe_2d, on=['sfOrderId','replacementCostCurrency'], how='outer', suffixes=['', '_1d']).sort_values(['replacementCost_2d', 'replacementCost_3d', 'replacementCost'], ascending=False)\n",
    "merge_2_to_3_to_1_FTO = is_approximately_equal_for_cols(merge_2_to_3_to_1_FTO, 'replacementCost_2d', 'replacementCost', name_col_with_diff='2_to_1')\n",
    "merge_2_to_3_to_1_FTO = is_approximately_equal_for_cols(merge_2_to_3_to_1_FTO, 'quantity', 'quantity_1d', name_col_with_diff='3_to_1')\n",
    "# merge_2_to_1_to_3 = is_approximately_equal_for_cols(merge_2_to_1_to_3, 'quantity_1d', 'quantity', name_col_with_diff='1_to_3')\n",
    "# merge_2_to_3_to_1_FTO.to_excel('w.xlsx')"
   ]
  },
  {
   "cell_type": "markdown",
   "metadata": {},
   "source": [
    "excel"
   ]
  },
  {
   "cell_type": "code",
   "execution_count": 141,
   "metadata": {},
   "outputs": [],
   "source": [
    "if print_to_excel == True:\n",
    "    Output_file = f'{str(date.today())}_Brazil_deals.xlsx'\n",
    "    with pd.ExcelWriter(Output_file, engine='openpyxl') as writer:\n",
    "        merge_2_to_3.to_excel(writer, index=False, sheet_name='merge_2_to_3')\n",
    "        merge_2_to_1.to_excel(writer, index=False, sheet_name='merge_2_to_1')\n",
    "        merge_2_to_1_to_3.to_excel(writer, index=False, sheet_name='merge_2_to_1_to_3')\n",
    "        creature_3_df_work.to_excel(writer, index=False, sheet_name='3d_work_data')\n",
    "        pd.concat([creature_2_df_ECFH_work,creature_2_df_BRFTO_work]).to_excel(writer, index=False, sheet_name='2d_work_data')\n",
    "        pd.concat([creature_1_df_ECFH_work,creature_1_df_FTO_work]).to_excel(writer, index=False, sheet_name='1d_work_data')\n",
    "        merge_1_to_3_FTO.to_excel(writer, index=False, sheet_name='merge_1_to_3_FTO')\n",
    "        merge_2_to_3_FTO.to_excel(writer, index=False, sheet_name='merge_2_to_3_FTO')\n",
    "        merge_2_to_3_to_1_FTO.to_excel(writer, index=False, sheet_name='merge_2_to_3_to_1_FTO')\n",
    "        # merge_2_to_3.to_excel(writer, index=False, sheet_name='merge_2_to_3')"
   ]
  }
 ],
 "metadata": {
  "kernelspec": {
   "display_name": "base",
   "language": "python",
   "name": "python3"
  },
  "language_info": {
   "codemirror_mode": {
    "name": "ipython",
    "version": 3
   },
   "file_extension": ".py",
   "mimetype": "text/x-python",
   "name": "python",
   "nbconvert_exporter": "python",
   "pygments_lexer": "ipython3",
   "version": "3.11.5"
  }
 },
 "nbformat": 4,
 "nbformat_minor": 2
}
