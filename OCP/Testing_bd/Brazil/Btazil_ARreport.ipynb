{
 "cells": [
  {
   "cell_type": "code",
   "execution_count": 202,
   "metadata": {},
   "outputs": [],
   "source": [
    "import pandas as pd\n",
    "import numpy as np\n",
    "from datetime import date, timedelta\n",
    "import seaborn as sns\n",
    "import matplotlib.pyplot as plt\n",
    "import matplotlib.axes as ax\n",
    "import openpyxl\n",
    "from openpyxl.styles import Border, Side, PatternFill, Font, GradientFill, Alignment\n",
    "from openpyxl.drawing.image import Image\n",
    "import win32com.client as win32\n",
    "import os\n",
    "from PIL import ImageGrab\n",
    "import win32com.client\n",
    "\n",
    "olApp = win32.Dispatch('Outlook.Application')\n",
    "olNS = olApp.GetNameSpace('MAPI')\n",
    "\n",
    "import sys\n",
    "sys.path.append(\"C:\\\\Users\\\\KlimovaAnnaA\\\\Documents\\\\MyFiles\\\\Projects\\\\OCP\")\n",
    "from Defs import merge_SalesUnits\n",
    "from Defs import merge_Mapping\n",
    "from Defs import Period\n",
    "from Defs import new_list\n",
    "from Defs import export_from_RISKCUSTOM\n",
    "from Defs import add_in_currency_column\n",
    "from Defs import concat_columns\n",
    "from Defs import export_from_WHWEEK\n"
   ]
  },
  {
   "cell_type": "code",
   "execution_count": 145,
   "metadata": {},
   "outputs": [],
   "source": [
    "print_to_excel = True"
   ]
  },
  {
   "cell_type": "code",
   "execution_count": 207,
   "metadata": {},
   "outputs": [
    {
     "name": "stderr",
     "output_type": "stream",
     "text": [
      "C:\\Users\\KlimovaAnnaA\\Documents\\MyFiles\\Projects\\OCP\\Defs.py:172: UserWarning: pandas only supports SQLAlchemy connectable (engine/connection) or database string URI or sqlite3 DBAPI2 connection. Other DBAPI2 objects are not tested. Please consider using SQLAlchemy.\n",
      "  data_export = pd.read_sql(query, con=connection)\n"
     ]
    }
   ],
   "source": [
    "data_BRFHRG = pd.read_excel('BRFHRG FX Exposure 29.04.2024.xlsx', sheet_name='Balance Sheet')\n",
    "data_BRFTO = pd.read_excel('BRFTO FX Exposure Model 27.04.24.xlsx', sheet_name='Balance Sheet')\n",
    "query = \"\"\"\n",
    "SELECT \"amount\",\"presentAmountUSD\",\"orgName\",\"companyCode\",\"bscCode\",\n",
    "  CASE WHEN \"bscCode\" in ('130','135','BSC130','BSC135') THEN 'Trade receivables'\n",
    "       WHEN \"bscCode\" in ('160','165','BSC160','BSC165') THEN 'Advances to suppliers'\n",
    "       WHEN \"bscCode\" in ('170','175','BSC170','BSC175') THEN 'Capital advances'\n",
    "       WHEN \"bscCode\" in ('140','145','BSC140','BSC145') THEN 'Other receivables'\n",
    "       WHEN \"bscCode\" in ('330','BSC330') THEN 'Provisions'\n",
    "       WHEN \"bscCode\" in ('300','305','BSC300','BSC305') THEN 'Trade payables'\n",
    "       WHEN \"bscCode\" in ('310','315','BSC310','BSC315') THEN 'Other payables'\n",
    "       WHEN \"bscCode\" in ('360','365','BSC360','BSC365') THEN 'Advances received'\n",
    "       WHEN \"bscCode\" in ('350','355','BSC350','BSC355') THEN 'Loans received'\n",
    "       WHEN \"bscCode\" in ('210','215','BSC210','BSC215') THEN 'Loans issued'\n",
    "       WHEN \"bscCode\" in ('340','BSC340') THEN 'Tax'\n",
    "       WHEN \"bscCode\" in ('410','BSC410') THEN 'Pension'\n",
    "       ELSE 'Unknown'\n",
    "    END AS \"accountPurpose\"\n",
    "FROM xxwh.\"unifiedARReport\"\n",
    "WHERE \"reportDate\"=TO_DATE('2024-04-30','YYYY-MM-DD')\n",
    "AND \"companyCode\" in ('BRHRG','BRFTO')\n",
    "\"\"\"\n",
    "data_UnifiedARReport = export_from_WHWEEK(query)"
   ]
  },
  {
   "cell_type": "code",
   "execution_count": null,
   "metadata": {},
   "outputs": [
    {
     "name": "stderr",
     "output_type": "stream",
     "text": [
      "C:\\Users\\KlimovaAnnaA\\AppData\\Local\\Temp\\ipykernel_15992\\874643092.py:2: FutureWarning: The provided callable <built-in function sum> is currently using SeriesGroupBy.sum. In a future version of pandas, the provided callable will be used directly. To keep current behavior pass the string \"sum\" instead.\n",
      "  data_UnifiedARReport_pivot = data_UnifiedARReport.pivot_table(index=['companyCode','accountPurpose'],values=['amount','presentAmountUSD','index'], aggfunc={'amount':sum,'presentAmountUSD':sum,'index':list}).rename(columns={'amount':'sum_amount','presentAmountUSD':'sum_presentAmountUSD','index':'list_index'}).reset_index()\n",
      "C:\\Users\\KlimovaAnnaA\\AppData\\Local\\Temp\\ipykernel_15992\\874643092.py:2: FutureWarning: The provided callable <built-in function sum> is currently using SeriesGroupBy.sum. In a future version of pandas, the provided callable will be used directly. To keep current behavior pass the string \"sum\" instead.\n",
      "  data_UnifiedARReport_pivot = data_UnifiedARReport.pivot_table(index=['companyCode','accountPurpose'],values=['amount','presentAmountUSD','index'], aggfunc={'amount':sum,'presentAmountUSD':sum,'index':list}).rename(columns={'amount':'sum_amount','presentAmountUSD':'sum_presentAmountUSD','index':'list_index'}).reset_index()\n"
     ]
    }
   ],
   "source": [
    "# BD data\n",
    "data_UnifiedARReport['index'] = data_UnifiedARReport.index\n",
    "data_UnifiedARReport_pivot = data_UnifiedARReport.pivot_table(index=['companyCode','accountPurpose'],values=['amount','presentAmountUSD','index'], aggfunc={'amount':sum,'presentAmountUSD':sum,'index':list}).rename(columns={'amount':'sum_amount','presentAmountUSD':'sum_presentAmountUSD','index':'list_index'}).reset_index()\n",
    "data_UnifiedARReport_pivot = concat_columns(data_UnifiedARReport_pivot,['companyCode','accountPurpose'])\n",
    "# excel data\n",
    "counter = 0\n",
    "for excel_data in [data_BRFHRG, data_BRFTO]:\n",
    "    counter += 1\n",
    "    excel_data_work = excel_data[['Balance Name','Saldo Final']]\n",
    "    excel_data_work['index'] = excel_data_work.index\n",
    "    if counter == 1:\n",
    "        excel_data_work['sourse'] = 'BRHRG'\n",
    "        excel_data_work_BRFHRG = excel_data_work\n",
    "    else:\n",
    "        excel_data_work['sourse'] = 'BRFTO'\n",
    "        excel_data_work_BRFTO = excel_data_work\n",
    "# concat excel data\n",
    "excel_concat_data = pd.concat([excel_data_work_BRFHRG,excel_data_work_BRFTO])\n",
    "excel_concat_data = excel_concat_data.dropna()\n",
    "rename_dict = {'Trade payable':'Trade payables','Trade Receivables':'Trade receivables','Trade payables - credit assignment - International':'Trade payables','Trade payables - credit assignment Domestic':'Trade payables','Advances from customers':'Advances received'}\n",
    "excel_concat_data['Balance Name'] = excel_concat_data['Balance Name'].replace(rename_dict)\n",
    "# pivot\n",
    "excel_concat_pivot_data = excel_concat_data.pivot_table(index=['sourse','Balance Name'],values=['Saldo Final','index'],aggfunc={'Saldo Final':'sum','index':list}).reset_index().rename(columns={'Saldo Final':'sum_Saldo_Final','index':'list_index'})\n",
    "excel_concat_pivot_data = concat_columns(excel_concat_pivot_data,['sourse','Balance Name'])\n",
    "# merge\n",
    "excel_BD_merge_data = excel_concat_pivot_data.merge(data_UnifiedARReport_pivot,how='outer',left_on='concat_columns',right_on='concat_columns').drop(['concat_columns'],axis=1).sort_values('companyCode')\n",
    "\n",
    "### to excel\n",
    "if print_to_excel == True:\n",
    "    Output_file=f'{str(date.today())}_Brazil_UnifiedARReport.xlsx'\n",
    "    excel_BD_merge_data.to_excel(Output_file, index=False)"
   ]
  },
  {
   "cell_type": "code",
   "execution_count": 226,
   "metadata": {},
   "outputs": [],
   "source": [
    "data_riskDebtAccounts = pd.read_excel('riskDebtAccounts_(16).xlsx', header=5)\n",
    "data_BCS_mapping = pd.read_excel('SAP ERP-SAP BCS mapping.xlsx', sheet_name='Меппинг_НИт', header=3)\n",
    "# првоерка сочетаемости списка счетов\n",
    "data_riskDebtAccounts_work = data_riskDebtAccounts[['type','codeIFRS','bscCode','bsxCode']]\n",
    "counts_BCS_mapping_list = data_BCS_mapping['Счет ЕПС'].values.tolist()\n",
    "counts_riskDebtAccounts_list = data_riskDebtAccounts_work.codeIFRS.values.tolist()\n",
    "assert len([x for x in counts_riskDebtAccounts_list if x in counts_BCS_mapping_list])>0\n",
    "# merge\n",
    "riskDebtAccounts_BCS_mapping_data_merge = data_BCS_mapping.merge(data_riskDebtAccounts_work,how='inner',left_on='Счет ЕПС',right_on='codeIFRS').reset_index(drop=True)"
   ]
  },
  {
   "cell_type": "code",
   "execution_count": 228,
   "metadata": {},
   "outputs": [],
   "source": [
    "UnifiedARReport_riskDebtAccounts_BCS_mapping_data_merge = data_UnifiedARReport.merge(riskDebtAccounts_BCS_mapping_data_merge,how='inner',left_on='bscCode',right_on='bscCode').sort_values('bsxCode').drop(['accountPurpose','Основной счет','Счет ЕПС','Флаг технического счета','codeIFRS','bsxCode','bscCode','orgName'],axis=1).rename(columns={'Unnamed: 3':'description','Unnamed: 1':'description_full'})\n",
    "\n",
    "excel_concat_data['Balance Name'].unique()\n",
    "UnifiedARReport_riskDebtAccounts_BCS_mapping_data_merge.description_full.unique()\n",
    "# UnifiedARReport_riskDebtAccounts_BCS_mapping_data_merge.to_excel('merge_data.xlsx', index=False)"
   ]
  }
 ],
 "metadata": {
  "kernelspec": {
   "display_name": "base",
   "language": "python",
   "name": "python3"
  },
  "language_info": {
   "codemirror_mode": {
    "name": "ipython",
    "version": 3
   },
   "file_extension": ".py",
   "mimetype": "text/x-python",
   "name": "python",
   "nbconvert_exporter": "python",
   "pygments_lexer": "ipython3",
   "version": "3.11.5"
  },
  "orig_nbformat": 4
 },
 "nbformat": 4,
 "nbformat_minor": 2
}
