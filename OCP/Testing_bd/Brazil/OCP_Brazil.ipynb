{
 "cells": [
  {
   "cell_type": "code",
   "execution_count": 2,
   "metadata": {},
   "outputs": [],
   "source": [
    "import pandas as pd\n",
    "import numpy as np\n",
    "from datetime import date, timedelta\n",
    "import seaborn as sns\n",
    "import matplotlib.pyplot as plt\n",
    "import matplotlib.axes as ax\n",
    "import openpyxl\n",
    "from openpyxl.styles import Border, Side, PatternFill, Font, GradientFill, Alignment\n",
    "from openpyxl.drawing.image import Image\n",
    "import win32com.client as win32\n",
    "import os\n",
    "from PIL import ImageGrab\n",
    "import win32com.client\n",
    "\n",
    "olApp = win32.Dispatch('Outlook.Application')\n",
    "olNS = olApp.GetNameSpace('MAPI')\n",
    "\n",
    "import sys\n",
    "sys.path.append(\"C:\\\\Users\\\\KlimovaAnnaA\\\\Documents\\\\MyFiles\\\\Projects\\\\OCP\")\n",
    "from Defs import merge_SalesUnits\n",
    "from Defs import merge_Mapping\n",
    "from Defs import Period\n",
    "from Defs import new_list\n",
    "from Defs import export_from_RISKCUSTOM\n",
    "from Defs import add_in_currency_column\n",
    "from Defs import concat_columns"
   ]
  },
  {
   "cell_type": "code",
   "execution_count": 73,
   "metadata": {},
   "outputs": [],
   "source": [
    "print_to_excel = True"
   ]
  },
  {
   "cell_type": "code",
   "execution_count": 74,
   "metadata": {},
   "outputs": [
    {
     "data": {
      "text/plain": [
       "{'BRFHRG FX Exposure 24.05.2024.xlsx': 'DE PARA FH',\n",
       " 'BRFTO FX Exposure Model 24.05.2024.xlsx': 'DE PARA FTO',\n",
       " 'BRSFT FX Exposure Model 24.05.2024.xlsx': 'DE PARA SALITRE',\n",
       " 'Cópia de BRFTO FX Exposure Analysis as of 20.03.24 MT comments V2.xlsx': 'DE PARA FTO',\n",
       " 'Cópia de DE PARA FH Commented 07.05.24 21.05.xlsx': 'DE PARA FH'}"
      ]
     },
     "execution_count": 74,
     "metadata": {},
     "output_type": "execute_result"
    }
   ],
   "source": [
    "files_list = [i for i in os.listdir() if \"~\" not in i]\n",
    "excel_files = [i for i in files_list if '.xlsx' in i and ' ' in i]\n",
    "\n",
    "sheets_dict = {}\n",
    "for excel_file in excel_files:\n",
    "    data = pd.read_excel(excel_file, None)\n",
    "    sheets_dict[excel_file] = [i for i in data.keys() if 'DE PARA' in i][0]\n",
    "sheets_dict"
   ]
  },
  {
   "cell_type": "code",
   "execution_count": 90,
   "metadata": {},
   "outputs": [
    {
     "name": "stderr",
     "output_type": "stream",
     "text": [
      "C:\\Users\\KlimovaAnnaA\\AppData\\Local\\Temp\\ipykernel_18800\\1347511787.py:25: FutureWarning: Starting with pandas version 3.0 all arguments of to_excel except for the argument 'excel_writer' will be keyword-only.\n",
      "  data_not_equal_BRFTO.to_excel(Output_file, 'BRFTO', index=False)\n",
      "C:\\Users\\KlimovaAnnaA\\AppData\\Local\\Temp\\ipykernel_18800\\1347511787.py:25: FutureWarning: Starting with pandas version 3.0 all arguments of to_excel except for the argument 'excel_writer' will be keyword-only.\n",
      "  data_not_equal_BRFTO.to_excel(Output_file, 'BRFTO', index=False)\n"
     ]
    }
   ],
   "source": [
    "files_dict = {'BRFTO FX Exposure Model 24.05.2024.xlsx':'Cópia de BRFTO FX Exposure Analysis as of 20.03.24 MT comments V2.xlsx', 'BRFHRG FX Exposure 24.05.2024.xlsx':'Cópia de DE PARA FH Commented 07.05.24 21.05.xlsx'}\n",
    "# loop for files\n",
    "for file_calculated in list(files_dict.keys()):\n",
    "    data_reference_work=0\n",
    "    data_calculated_work=0\n",
    "    # read data\n",
    "    data_calculated = pd.read_excel(file_calculated, sheets_dict[file_calculated])\n",
    "    data_reference = pd.read_excel(files_dict[file_calculated], sheets_dict[files_dict[file_calculated]])\n",
    "    # work data\n",
    "    data_reference_work = data_reference.loc[:,['Seg Conta',data_reference.columns[data_reference.columns.str.contains('MOEDA ')].tolist()[0]]]\n",
    "    data_calculated_work = data_calculated.loc[:,['Seg Conta',data_calculated.columns[data_calculated.columns.str.contains('MOEDA ')].tolist()[0]]]\n",
    "    # merge\n",
    "    data_merge = data_reference_work.merge(data_calculated_work, how='outer', left_on='Seg Conta', right_on='Seg Conta').rename(columns={'MOEDA  Exposição_x':'reference', 'MOEDA  Exposição_y':'calculated'})\n",
    "    data_merge['Cols_is_equal'] = data_merge.iloc[:,1] == data_merge.iloc[:,2]\n",
    "    data_not_equal = data_merge[data_merge.Cols_is_equal==False]\n",
    "    if 'BRFTO' in file_calculated:\n",
    "        data_not_equal_BRFTO = data_not_equal\n",
    "        data_reference_BRFTO = data_reference\n",
    "    elif 'BRFHRG' in file_calculated:\n",
    "        data_not_equal_BRFHRG = data_not_equal\n",
    "        data_reference_BRFHRG = data_reference\n",
    "    # to excel\n",
    "    if print_to_excel == True:\n",
    "        Output_file=f'{str(date.today())}_Brazil_compaire_mapping.xlsx'\n",
    "        data_not_equal_BRFTO.to_excel(Output_file, 'BRFTO', index=False)\n",
    "        new_list(data_not_equal_BRFHRG, Output_file, 'BRFHRG')\n"
   ]
  },
  {
   "cell_type": "code",
   "execution_count": 109,
   "metadata": {},
   "outputs": [
    {
     "data": {
      "text/plain": [
       "[]"
      ]
     },
     "execution_count": 109,
     "metadata": {},
     "output_type": "execute_result"
    }
   ],
   "source": [
    "data_reference_BRFHRG_BRFTO = pd.concat([data_reference_BRFHRG,data_reference_BRFTO])\n",
    "data_reference_work_BRFHRG_BRFTO = data_reference_BRFHRG_BRFTO[['Seg Conta','Descr Conta3',data_calculated.columns[data_calculated.columns.str.contains('MOEDA ')].tolist()[0]]]\n",
    "\n",
    "\n",
    "BRSFT_file = [i for i in excel_files if 'BRSFT' in i][0]\n",
    "data_calculated = pd.read_excel(BRSFT_file, sheets_dict[BRSFT_file])\n",
    "data_calculated_work = data_calculated.loc[:,['Seg Conta','Descr Conta3',data_calculated.columns[data_calculated.columns.str.contains('MOEDA ')].tolist()[0]]]\n",
    "# merge\n",
    "# data_merge = \n",
    "data_calculated_work.merge(data_reference_work_BRFHRG_BRFTO, how='left', left_on='Descr Conta3', right_on='Descr Conta3')\n",
    "# data_merge['Cols_is_equal'] = data_merge.iloc[:,1] == data_merge.iloc[:,2]\n",
    "# data_not_equal = data_merge[data_merge.Cols_is_equal==False]\n",
    "# data_not_equal\n",
    "[i for i in data_calculated_work['Descr Conta3'].tolist() if i in data_reference_work_BRFHRG_BRFTO['Descr Conta3'].tolist()]\n",
    "# data_reference_work_BRFHRG_BRFTO['Descr Conta3'].tolist()\n"
   ]
  }
 ],
 "metadata": {
  "kernelspec": {
   "display_name": "base",
   "language": "python",
   "name": "python3"
  },
  "language_info": {
   "codemirror_mode": {
    "name": "ipython",
    "version": 3
   },
   "file_extension": ".py",
   "mimetype": "text/x-python",
   "name": "python",
   "nbconvert_exporter": "python",
   "pygments_lexer": "ipython3",
   "version": "3.11.5"
  },
  "orig_nbformat": 4
 },
 "nbformat": 4,
 "nbformat_minor": 2
}
