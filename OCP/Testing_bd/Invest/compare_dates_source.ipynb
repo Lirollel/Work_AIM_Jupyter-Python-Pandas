{
 "cells": [
  {
   "cell_type": "code",
   "execution_count": 14,
   "metadata": {},
   "outputs": [],
   "source": [
    "import sys\n",
    "sys.path.append(\"C:\\\\Users\\\\KlimovaAnnaA\\\\Documents\\\\MyFiles\\\\Projects\\\\Working_attributes\")\n",
    "from Imports import * "
   ]
  },
  {
   "cell_type": "code",
   "execution_count": 95,
   "metadata": {},
   "outputs": [],
   "source": [
    "print_to_excel = True\n",
    "file_name = 'invest_source_31.10_to_27.11'"
   ]
  },
  {
   "cell_type": "markdown",
   "metadata": {},
   "source": [
    "Импорт"
   ]
  },
  {
   "cell_type": "code",
   "execution_count": 16,
   "metadata": {},
   "outputs": [
    {
     "name": "stderr",
     "output_type": "stream",
     "text": [
      "C:\\Users\\KlimovaAnnaA\\Documents\\MyFiles\\Projects\\Working_attributes\\Defs.py:92: UserWarning: pandas only supports SQLAlchemy connectable (engine/connection) or database string URI or sqlite3 DBAPI2 connection. Other DBAPI2 objects are not tested. Please consider using SQLAlchemy.\n",
      "  data_export = pd.read_sql(query, con=connection)\n"
     ]
    },
    {
     "data": {
      "text/plain": [
       "(102413, 38)"
      ]
     },
     "execution_count": 16,
     "metadata": {},
     "output_type": "execute_result"
    }
   ],
   "source": [
    "data_manual = export_from_RISKCUSTOM('''select *\n",
    "                                     from \"RISKACCESS\".\"sapBwInvestmentReport\"\n",
    "                                     where \"reportDate\" = TO_DATE('31/10/24', 'DD/MM/YY')\n",
    "                                     ''')\n",
    "data_manual.shape"
   ]
  },
  {
   "cell_type": "code",
   "execution_count": 17,
   "metadata": {},
   "outputs": [
    {
     "data": {
      "text/plain": [
       "(495794, 38)"
      ]
     },
     "execution_count": 17,
     "metadata": {},
     "output_type": "execute_result"
    }
   ],
   "source": [
    "data_auto = export_from_RISKCUSTOM('''select *\n",
    "                                     from \"RISKACCESS\".\"sapBwInvestmentReport\"\n",
    "                                     where \"reportDate\" = TO_DATE('27/11/24', 'DD/MM/YY')\n",
    "                                     ''')\n",
    "data_auto.shape"
   ]
  },
  {
   "cell_type": "markdown",
   "metadata": {},
   "source": [
    "Task"
   ]
  },
  {
   "cell_type": "code",
   "execution_count": 18,
   "metadata": {},
   "outputs": [],
   "source": [
    "            # Аня, надо сравнить данные в \"RISKACCESS\".\"sapBwInvestmentReport\" за \n",
    "            # 31/10 - хорошая, сделана вручную, доверяем\n",
    "            # и 21/11 - автоматическая. За счет чего больше\n",
    "            # по максимальному количеству полей.\n",
    "\n",
    "            # # data = export_from_RISKCUSTOM('select * from \"RISKACCESS\".\"sapBwInvestmentReport\" fetch first 1 rows only')\n",
    "            # data.loc[:,'projectName':]\n",
    "            # data\n",
    "            # # companyName - есть ли различие между датами по спискам компаний\n",
    "            # # actStatus\tforecastType\tgeneralStatus"
   ]
  },
  {
   "cell_type": "code",
   "execution_count": 19,
   "metadata": {},
   "outputs": [
    {
     "data": {
      "text/plain": [
       "(94, 109)"
      ]
     },
     "execution_count": 19,
     "metadata": {},
     "output_type": "execute_result"
    }
   ],
   "source": [
    "data_manual.companyCode.nunique(), data_auto.companyCode.nunique()"
   ]
  },
  {
   "cell_type": "code",
   "execution_count": 48,
   "metadata": {},
   "outputs": [],
   "source": [
    "cols_list = ['companyCode','companyName','plantId','plantName','sector','sectorName','wbsElement','wbsElementName','vendorId','vendorName','projectTypeCode','projectProfile','projectId','costElement','costElementName','versionCode','versionName','calendarYear','calendarMonth','currency','amountIndicators']\n",
    "\n",
    "data_manual['amountIndicators'] = data_manual['amountIndicators'].astype(float)\n",
    "data_manual['index_copy'] = data_manual.index\n",
    "data_manual[cols_list] = data_manual[cols_list].astype(str)\n",
    "data_manual[cols_list] = data_manual[cols_list].apply(lambda x: x.str.strip())\n",
    "\n",
    "data_auto['amountIndicators'] = data_auto['amountIndicators'].astype(float)\n",
    "data_auto['index_copy'] = data_auto.index\n",
    "data_auto[cols_list] = data_auto[cols_list].astype(str)\n",
    "data_auto[cols_list] = data_auto[cols_list].apply(lambda x: x.str.strip())"
   ]
  },
  {
   "cell_type": "code",
   "execution_count": 21,
   "metadata": {},
   "outputs": [],
   "source": [
    "merge_data = data_manual.merge(data_auto, how='outer', on=cols_list, suffixes=['_31/10','_27/11'])"
   ]
  },
  {
   "cell_type": "code",
   "execution_count": 22,
   "metadata": {},
   "outputs": [
    {
     "data": {
      "text/plain": [
       "518656"
      ]
     },
     "execution_count": 22,
     "metadata": {},
     "output_type": "execute_result"
    }
   ],
   "source": [
    "merge_data.shape[0]"
   ]
  },
  {
   "cell_type": "markdown",
   "metadata": {},
   "source": [
    "Компании которых нет в 31"
   ]
  },
  {
   "cell_type": "code",
   "execution_count": 23,
   "metadata": {},
   "outputs": [
    {
     "name": "stdout",
     "output_type": "stream",
     "text": [
      "416243\n"
     ]
    }
   ],
   "source": [
    "print(merge_data[merge_data['##origin_name_31/10'].isna()].shape[0])"
   ]
  },
  {
   "cell_type": "code",
   "execution_count": 24,
   "metadata": {},
   "outputs": [],
   "source": [
    "companyCode_list = [x for x in data_auto.companyCode.unique() if x not in data_manual.companyCode.unique()]"
   ]
  },
  {
   "cell_type": "code",
   "execution_count": 25,
   "metadata": {},
   "outputs": [
    {
     "name": "stdout",
     "output_type": "stream",
     "text": [
      "618\n"
     ]
    }
   ],
   "source": [
    "data_companies_not_in_manual = merge_data[(merge_data['##origin_name_31/10'].isna())&(merge_data.companyCode.isin(companyCode_list))]\n",
    "print(data_companies_not_in_manual.shape[0])"
   ]
  },
  {
   "cell_type": "markdown",
   "metadata": {},
   "source": [
    "неравный объем"
   ]
  },
  {
   "cell_type": "code",
   "execution_count": 49,
   "metadata": {},
   "outputs": [
    {
     "name": "stderr",
     "output_type": "stream",
     "text": [
      "C:\\Users\\KlimovaAnnaA\\AppData\\Local\\Temp\\ipykernel_16920\\1977855083.py:8: FutureWarning: The provided callable <built-in function sum> is currently using SeriesGroupBy.sum. In a future version of pandas, the provided callable will be used directly. To keep current behavior pass the string \"sum\" instead.\n",
      "  data = data.groupby(as_index=False, dropna=False, by=cols_list).agg({'amountIndicators':sum, 'index_copy':list})\n",
      "C:\\Users\\KlimovaAnnaA\\AppData\\Local\\Temp\\ipykernel_16920\\1977855083.py:8: FutureWarning: The provided callable <built-in function sum> is currently using SeriesGroupBy.sum. In a future version of pandas, the provided callable will be used directly. To keep current behavior pass the string \"sum\" instead.\n",
      "  data = data.groupby(as_index=False, dropna=False, by=cols_list).agg({'amountIndicators':sum, 'index_copy':list})\n"
     ]
    },
    {
     "data": {
      "text/plain": [
       "102413"
      ]
     },
     "execution_count": 49,
     "metadata": {},
     "output_type": "execute_result"
    }
   ],
   "source": [
    "cols_list.remove('amountIndicators')\n",
    "data_manual['amountIndicators'] = data_manual['amountIndicators'].astype(float)\n",
    "data_auto['amountIndicators'] = data_auto['amountIndicators'].astype(float)\n",
    "\n",
    "count= 0 \n",
    "for data in [data_auto, data_manual]:\n",
    "    count += 1\n",
    "    data = data.groupby(as_index=False, dropna=False, by=cols_list).agg({'amountIndicators':sum, 'index_copy':list})\n",
    "    if count==1:\n",
    "        data_auto_group = data\n",
    "    if count==2:\n",
    "        data_manual_group = data\n",
    "\n",
    "merge_values = data_manual_group.merge(data_auto_group, how='left', on=cols_list, suffixes=['_31/10','_27/11'])\n",
    "merge_values.shape[0]"
   ]
  },
  {
   "cell_type": "code",
   "execution_count": 51,
   "metadata": {},
   "outputs": [],
   "source": [
    "merge_values = is_approximately_equal_for_cols(merge_values, 'amountIndicators_31/10', 'amountIndicators_27/11')"
   ]
  },
  {
   "cell_type": "code",
   "execution_count": 68,
   "metadata": {},
   "outputs": [
    {
     "data": {
      "text/html": [
       "<div>\n",
       "<style scoped>\n",
       "    .dataframe tbody tr th:only-of-type {\n",
       "        vertical-align: middle;\n",
       "    }\n",
       "\n",
       "    .dataframe tbody tr th {\n",
       "        vertical-align: top;\n",
       "    }\n",
       "\n",
       "    .dataframe thead th {\n",
       "        text-align: right;\n",
       "    }\n",
       "</style>\n",
       "<table border=\"1\" class=\"dataframe\">\n",
       "  <thead>\n",
       "    <tr style=\"text-align: right;\">\n",
       "      <th></th>\n",
       "      <th>companyCode</th>\n",
       "      <th>companyName</th>\n",
       "      <th>plantId</th>\n",
       "      <th>plantName</th>\n",
       "      <th>sector</th>\n",
       "      <th>sectorName</th>\n",
       "      <th>wbsElement</th>\n",
       "      <th>wbsElementName</th>\n",
       "      <th>vendorId</th>\n",
       "      <th>vendorName</th>\n",
       "      <th>...</th>\n",
       "      <th>versionCode</th>\n",
       "      <th>versionName</th>\n",
       "      <th>calendarYear</th>\n",
       "      <th>calendarMonth</th>\n",
       "      <th>currency</th>\n",
       "      <th>amountIndicators_31/10</th>\n",
       "      <th>index_copy_31/10</th>\n",
       "      <th>amountIndicators_27/11</th>\n",
       "      <th>index_copy_27/11</th>\n",
       "      <th>Diff__more_0.4</th>\n",
       "    </tr>\n",
       "  </thead>\n",
       "  <tbody>\n",
       "    <tr>\n",
       "      <th>0</th>\n",
       "      <td>1100</td>\n",
       "      <td>АО \"СУЭК\"</td>\n",
       "      <td>1101</td>\n",
       "      <td>СУЭК - Москва</td>\n",
       "      <td>0A06</td>\n",
       "      <td>головной офис, СУЭК</td>\n",
       "      <td>C.11010002-A.01.075.01</td>\n",
       "      <td>А/С БЕЛАЗ 7530 ЛУР</td>\n",
       "      <td>1000082614</td>\n",
       "      <td>ООО \"Промтехснаб\"</td>\n",
       "      <td>...</td>\n",
       "      <td>045</td>\n",
       "      <td>Платежи. Прогноз</td>\n",
       "      <td>2024</td>\n",
       "      <td>11</td>\n",
       "      <td>RUU</td>\n",
       "      <td>258683.98</td>\n",
       "      <td>[55477]</td>\n",
       "      <td>7957.04</td>\n",
       "      <td>[82613]</td>\n",
       "      <td>True</td>\n",
       "    </tr>\n",
       "    <tr>\n",
       "      <th>1</th>\n",
       "      <td>1100</td>\n",
       "      <td>АО \"СУЭК\"</td>\n",
       "      <td>1101</td>\n",
       "      <td>СУЭК - Москва</td>\n",
       "      <td>0A06</td>\n",
       "      <td>головной офис, СУЭК</td>\n",
       "      <td>C.11010002-A.01.075.01</td>\n",
       "      <td>А/С БЕЛАЗ 7530 ЛУР</td>\n",
       "      <td>1000082614</td>\n",
       "      <td>ООО \"Промтехснаб\"</td>\n",
       "      <td>...</td>\n",
       "      <td>075</td>\n",
       "      <td>Платежи бНДС</td>\n",
       "      <td>2024</td>\n",
       "      <td>11</td>\n",
       "      <td>RUU</td>\n",
       "      <td>215570.02</td>\n",
       "      <td>[55478]</td>\n",
       "      <td>6630.90</td>\n",
       "      <td>[82614]</td>\n",
       "      <td>True</td>\n",
       "    </tr>\n",
       "    <tr>\n",
       "      <th>2</th>\n",
       "      <td>1100</td>\n",
       "      <td>АО \"СУЭК\"</td>\n",
       "      <td>1101</td>\n",
       "      <td>СУЭК - Москва</td>\n",
       "      <td>0A06</td>\n",
       "      <td>головной офис, СУЭК</td>\n",
       "      <td>C.11010002-A.01.076.01</td>\n",
       "      <td>А/С БЕЛАЗ 7530 ЛУР</td>\n",
       "      <td>1000082614</td>\n",
       "      <td>ООО \"Промтехснаб\"</td>\n",
       "      <td>...</td>\n",
       "      <td>045</td>\n",
       "      <td>Платежи. Прогноз</td>\n",
       "      <td>2024</td>\n",
       "      <td>11</td>\n",
       "      <td>RUU</td>\n",
       "      <td>258683.98</td>\n",
       "      <td>[55479]</td>\n",
       "      <td>7957.04</td>\n",
       "      <td>[82617]</td>\n",
       "      <td>True</td>\n",
       "    </tr>\n",
       "    <tr>\n",
       "      <th>3</th>\n",
       "      <td>1100</td>\n",
       "      <td>АО \"СУЭК\"</td>\n",
       "      <td>1101</td>\n",
       "      <td>СУЭК - Москва</td>\n",
       "      <td>0A06</td>\n",
       "      <td>головной офис, СУЭК</td>\n",
       "      <td>C.11010002-A.01.076.01</td>\n",
       "      <td>А/С БЕЛАЗ 7530 ЛУР</td>\n",
       "      <td>1000082614</td>\n",
       "      <td>ООО \"Промтехснаб\"</td>\n",
       "      <td>...</td>\n",
       "      <td>075</td>\n",
       "      <td>Платежи бНДС</td>\n",
       "      <td>2024</td>\n",
       "      <td>11</td>\n",
       "      <td>RUU</td>\n",
       "      <td>215570.02</td>\n",
       "      <td>[55480]</td>\n",
       "      <td>6630.90</td>\n",
       "      <td>[82618]</td>\n",
       "      <td>True</td>\n",
       "    </tr>\n",
       "  </tbody>\n",
       "</table>\n",
       "<p>4 rows × 25 columns</p>\n",
       "</div>"
      ],
      "text/plain": [
       "  companyCode companyName plantId      plantName sector           sectorName  \\\n",
       "0        1100   АО \"СУЭК\"    1101  СУЭК - Москва   0A06  головной офис, СУЭК   \n",
       "1        1100   АО \"СУЭК\"    1101  СУЭК - Москва   0A06  головной офис, СУЭК   \n",
       "2        1100   АО \"СУЭК\"    1101  СУЭК - Москва   0A06  головной офис, СУЭК   \n",
       "3        1100   АО \"СУЭК\"    1101  СУЭК - Москва   0A06  головной офис, СУЭК   \n",
       "\n",
       "               wbsElement      wbsElementName    vendorId         vendorName  \\\n",
       "0  C.11010002-A.01.075.01  А/С БЕЛАЗ 7530 ЛУР  1000082614  ООО \"Промтехснаб\"   \n",
       "1  C.11010002-A.01.075.01  А/С БЕЛАЗ 7530 ЛУР  1000082614  ООО \"Промтехснаб\"   \n",
       "2  C.11010002-A.01.076.01  А/С БЕЛАЗ 7530 ЛУР  1000082614  ООО \"Промтехснаб\"   \n",
       "3  C.11010002-A.01.076.01  А/С БЕЛАЗ 7530 ЛУР  1000082614  ООО \"Промтехснаб\"   \n",
       "\n",
       "   ... versionCode       versionName calendarYear calendarMonth currency  \\\n",
       "0  ...         045  Платежи. Прогноз         2024            11      RUU   \n",
       "1  ...         075      Платежи бНДС         2024            11      RUU   \n",
       "2  ...         045  Платежи. Прогноз         2024            11      RUU   \n",
       "3  ...         075      Платежи бНДС         2024            11      RUU   \n",
       "\n",
       "  amountIndicators_31/10 index_copy_31/10 amountIndicators_27/11  \\\n",
       "0              258683.98          [55477]                7957.04   \n",
       "1              215570.02          [55478]                6630.90   \n",
       "2              258683.98          [55479]                7957.04   \n",
       "3              215570.02          [55480]                6630.90   \n",
       "\n",
       "  index_copy_27/11 Diff__more_0.4  \n",
       "0          [82613]           True  \n",
       "1          [82614]           True  \n",
       "2          [82617]           True  \n",
       "3          [82618]           True  \n",
       "\n",
       "[4 rows x 25 columns]"
      ]
     },
     "execution_count": 68,
     "metadata": {},
     "output_type": "execute_result"
    }
   ],
   "source": [
    "not_equal_values = merge_values[merge_values['Diff__more_0.4']==True].reset_index(drop=True)\n",
    "not_equal_values.head(4)"
   ]
  },
  {
   "cell_type": "code",
   "execution_count": 119,
   "metadata": {},
   "outputs": [
    {
     "data": {
      "text/plain": [
       "array(['RUB', 'RUE', 'RUU', 'JPY', 'RUY', 'CNY', 'USD', 'RUY5', 'RUU3',\n",
       "       'RUE5', 'EUR', 'RUU5', 'RUG', 'RUC', 'RUY3', 'CAD', 'RUK', 'ZAR',\n",
       "       'CNH', 'INR', 'RUK5', 'KZT'], dtype=object)"
      ]
     },
     "execution_count": 119,
     "metadata": {},
     "output_type": "execute_result"
    }
   ],
   "source": [
    "merge_values.loc[merge_values['Diff__more_0.4']==False,'currency'].unique()"
   ]
  },
  {
   "cell_type": "code",
   "execution_count": 69,
   "metadata": {},
   "outputs": [
    {
     "data": {
      "text/plain": [
       "'C.11010002-A.01.075.01'"
      ]
     },
     "execution_count": 69,
     "metadata": {},
     "output_type": "execute_result"
    }
   ],
   "source": [
    "wbs_tocheck = not_equal_values.loc[not_equal_values.index==1,'wbsElement'].item()\n",
    "wbs_tocheck"
   ]
  },
  {
   "cell_type": "markdown",
   "metadata": {},
   "source": [
    "компании есть в обоих, но в 21 больше строк чем в 31 (не нулевых)"
   ]
  },
  {
   "cell_type": "code",
   "execution_count": 38,
   "metadata": {},
   "outputs": [
    {
     "name": "stdout",
     "output_type": "stream",
     "text": [
      "29362\n"
     ]
    }
   ],
   "source": [
    "data_companies_in_manual = merge_data[(merge_data['##origin_name_31/10'].isna())\n",
    "                                      &(~merge_data.companyCode.isin(companyCode_list))\n",
    "                                      &(merge_data['amountIndicators']>'1')].sort_values('amountIndicators', ascending=False)\n",
    "print(data_companies_in_manual.shape[0])"
   ]
  },
  {
   "cell_type": "code",
   "execution_count": 108,
   "metadata": {},
   "outputs": [
    {
     "data": {
      "text/html": [
       "<div>\n",
       "<style scoped>\n",
       "    .dataframe tbody tr th:only-of-type {\n",
       "        vertical-align: middle;\n",
       "    }\n",
       "\n",
       "    .dataframe tbody tr th {\n",
       "        vertical-align: top;\n",
       "    }\n",
       "\n",
       "    .dataframe thead th {\n",
       "        text-align: right;\n",
       "    }\n",
       "</style>\n",
       "<table border=\"1\" class=\"dataframe\">\n",
       "  <thead>\n",
       "    <tr style=\"text-align: right;\">\n",
       "      <th></th>\n",
       "      <th>currency</th>\n",
       "      <th>reportDate_31/10</th>\n",
       "      <th>effectiveFrom_31/10</th>\n",
       "      <th>xlsDate_31/10</th>\n",
       "      <th>loadEventId_31/10</th>\n",
       "      <th>amountIndicators</th>\n",
       "      <th>period_31/10</th>\n",
       "      <th>actStatus_31/10</th>\n",
       "      <th>forecastType_31/10</th>\n",
       "      <th>generalStatus_31/10</th>\n",
       "      <th>...</th>\n",
       "      <th>effectiveFrom_27/11</th>\n",
       "      <th>xlsDate_27/11</th>\n",
       "      <th>loadEventId_27/11</th>\n",
       "      <th>period_27/11</th>\n",
       "      <th>actStatus_27/11</th>\n",
       "      <th>forecastType_27/11</th>\n",
       "      <th>generalStatus_27/11</th>\n",
       "      <th>systemMandant_27/11</th>\n",
       "      <th>periodDate_27/11</th>\n",
       "      <th>index_copy_27/11</th>\n",
       "    </tr>\n",
       "  </thead>\n",
       "  <tbody>\n",
       "    <tr>\n",
       "      <th>3416</th>\n",
       "      <td>RUU</td>\n",
       "      <td>NaT</td>\n",
       "      <td>NaT</td>\n",
       "      <td>NaT</td>\n",
       "      <td>NaN</td>\n",
       "      <td>7957.04</td>\n",
       "      <td>NaN</td>\n",
       "      <td>NaN</td>\n",
       "      <td>NaN</td>\n",
       "      <td>NaN</td>\n",
       "      <td>...</td>\n",
       "      <td>None</td>\n",
       "      <td>None</td>\n",
       "      <td>None</td>\n",
       "      <td>11.2024</td>\n",
       "      <td>E0007</td>\n",
       "      <td>Заказ на поставку</td>\n",
       "      <td>Законтрактовано</td>\n",
       "      <td>BWPCLNT100</td>\n",
       "      <td>2024-11-01</td>\n",
       "      <td>82613.0</td>\n",
       "    </tr>\n",
       "    <tr>\n",
       "      <th>3418</th>\n",
       "      <td>RUU</td>\n",
       "      <td>NaT</td>\n",
       "      <td>NaT</td>\n",
       "      <td>NaT</td>\n",
       "      <td>NaN</td>\n",
       "      <td>6630.9</td>\n",
       "      <td>NaN</td>\n",
       "      <td>NaN</td>\n",
       "      <td>NaN</td>\n",
       "      <td>NaN</td>\n",
       "      <td>...</td>\n",
       "      <td>None</td>\n",
       "      <td>None</td>\n",
       "      <td>None</td>\n",
       "      <td>11.2024</td>\n",
       "      <td>E0007</td>\n",
       "      <td>Заказ на поставку</td>\n",
       "      <td>Законтрактовано</td>\n",
       "      <td>BWPCLNT100</td>\n",
       "      <td>2024-11-01</td>\n",
       "      <td>82614.0</td>\n",
       "    </tr>\n",
       "  </tbody>\n",
       "</table>\n",
       "<p>2 rows × 31 columns</p>\n",
       "</div>"
      ],
      "text/plain": [
       "     currency reportDate_31/10 effectiveFrom_31/10 xlsDate_31/10  \\\n",
       "3416      RUU              NaT                 NaT           NaT   \n",
       "3418      RUU              NaT                 NaT           NaT   \n",
       "\n",
       "      loadEventId_31/10 amountIndicators period_31/10 actStatus_31/10  \\\n",
       "3416                NaN          7957.04          NaN             NaN   \n",
       "3418                NaN           6630.9          NaN             NaN   \n",
       "\n",
       "     forecastType_31/10 generalStatus_31/10  ... effectiveFrom_27/11  \\\n",
       "3416                NaN                 NaN  ...                None   \n",
       "3418                NaN                 NaN  ...                None   \n",
       "\n",
       "     xlsDate_27/11  loadEventId_27/11 period_27/11 actStatus_27/11  \\\n",
       "3416          None               None      11.2024           E0007   \n",
       "3418          None               None      11.2024           E0007   \n",
       "\n",
       "     forecastType_27/11 generalStatus_27/11 systemMandant_27/11  \\\n",
       "3416  Заказ на поставку     Законтрактовано          BWPCLNT100   \n",
       "3418  Заказ на поставку     Законтрактовано          BWPCLNT100   \n",
       "\n",
       "     periodDate_27/11 index_copy_27/11  \n",
       "3416       2024-11-01          82613.0  \n",
       "3418       2024-11-01          82614.0  \n",
       "\n",
       "[2 rows x 31 columns]"
      ]
     },
     "execution_count": 108,
     "metadata": {},
     "output_type": "execute_result"
    }
   ],
   "source": [
    "wbsElement_list = [wbs_tocheck]\n",
    "\n",
    "not_equal_example = data_companies_in_manual.loc[data_companies_in_manual.wbsElement.isin(wbsElement_list), :]\n",
    "not_equal_example.loc[:,'currency':]"
   ]
  },
  {
   "cell_type": "code",
   "execution_count": 109,
   "metadata": {},
   "outputs": [
    {
     "data": {
      "text/html": [
       "<div>\n",
       "<style scoped>\n",
       "    .dataframe tbody tr th:only-of-type {\n",
       "        vertical-align: middle;\n",
       "    }\n",
       "\n",
       "    .dataframe tbody tr th {\n",
       "        vertical-align: top;\n",
       "    }\n",
       "\n",
       "    .dataframe thead th {\n",
       "        text-align: right;\n",
       "    }\n",
       "</style>\n",
       "<table border=\"1\" class=\"dataframe\">\n",
       "  <thead>\n",
       "    <tr style=\"text-align: right;\">\n",
       "      <th></th>\n",
       "      <th>currency</th>\n",
       "      <th>reportDate</th>\n",
       "      <th>effectiveFrom</th>\n",
       "      <th>xlsDate</th>\n",
       "      <th>loadEventId</th>\n",
       "      <th>amountIndicators</th>\n",
       "      <th>period</th>\n",
       "      <th>actStatus</th>\n",
       "      <th>forecastType</th>\n",
       "      <th>generalStatus</th>\n",
       "      <th>systemMandant</th>\n",
       "      <th>periodDate</th>\n",
       "      <th>index_copy</th>\n",
       "    </tr>\n",
       "  </thead>\n",
       "  <tbody>\n",
       "    <tr>\n",
       "      <th>55477</th>\n",
       "      <td>RUU</td>\n",
       "      <td>2024-10-31</td>\n",
       "      <td>2024-11-07</td>\n",
       "      <td>2024-10-31</td>\n",
       "      <td>298607</td>\n",
       "      <td>258683.98</td>\n",
       "      <td>None</td>\n",
       "      <td>None</td>\n",
       "      <td>None</td>\n",
       "      <td>None</td>\n",
       "      <td>None</td>\n",
       "      <td>2024-11-01</td>\n",
       "      <td>55477</td>\n",
       "    </tr>\n",
       "    <tr>\n",
       "      <th>55478</th>\n",
       "      <td>RUU</td>\n",
       "      <td>2024-10-31</td>\n",
       "      <td>2024-11-07</td>\n",
       "      <td>2024-10-31</td>\n",
       "      <td>298607</td>\n",
       "      <td>215570.02</td>\n",
       "      <td>None</td>\n",
       "      <td>None</td>\n",
       "      <td>None</td>\n",
       "      <td>None</td>\n",
       "      <td>None</td>\n",
       "      <td>2024-11-01</td>\n",
       "      <td>55478</td>\n",
       "    </tr>\n",
       "  </tbody>\n",
       "</table>\n",
       "</div>"
      ],
      "text/plain": [
       "      currency reportDate effectiveFrom    xlsDate  loadEventId  \\\n",
       "55477      RUU 2024-10-31    2024-11-07 2024-10-31       298607   \n",
       "55478      RUU 2024-10-31    2024-11-07 2024-10-31       298607   \n",
       "\n",
       "       amountIndicators period actStatus forecastType generalStatus  \\\n",
       "55477         258683.98   None      None         None          None   \n",
       "55478         215570.02   None      None         None          None   \n",
       "\n",
       "      systemMandant periodDate  index_copy  \n",
       "55477          None 2024-11-01       55477  \n",
       "55478          None 2024-11-01       55478  "
      ]
     },
     "execution_count": 109,
     "metadata": {},
     "output_type": "execute_result"
    }
   ],
   "source": [
    "data_manual_example = data_manual.loc[data_manual.wbsElement.isin(wbsElement_list),:]\n",
    "data_manual_example.loc[:,'currency':]"
   ]
  },
  {
   "cell_type": "code",
   "execution_count": 110,
   "metadata": {},
   "outputs": [
    {
     "data": {
      "text/html": [
       "<div>\n",
       "<style scoped>\n",
       "    .dataframe tbody tr th:only-of-type {\n",
       "        vertical-align: middle;\n",
       "    }\n",
       "\n",
       "    .dataframe tbody tr th {\n",
       "        vertical-align: top;\n",
       "    }\n",
       "\n",
       "    .dataframe thead th {\n",
       "        text-align: right;\n",
       "    }\n",
       "</style>\n",
       "<table border=\"1\" class=\"dataframe\">\n",
       "  <thead>\n",
       "    <tr style=\"text-align: right;\">\n",
       "      <th></th>\n",
       "      <th>currency</th>\n",
       "      <th>reportDate</th>\n",
       "      <th>effectiveFrom</th>\n",
       "      <th>xlsDate</th>\n",
       "      <th>loadEventId</th>\n",
       "      <th>amountIndicators</th>\n",
       "      <th>period</th>\n",
       "      <th>actStatus</th>\n",
       "      <th>forecastType</th>\n",
       "      <th>generalStatus</th>\n",
       "      <th>systemMandant</th>\n",
       "      <th>periodDate</th>\n",
       "      <th>index_copy</th>\n",
       "    </tr>\n",
       "  </thead>\n",
       "  <tbody>\n",
       "    <tr>\n",
       "      <th>81800</th>\n",
       "      <td>RUU</td>\n",
       "      <td>2024-11-27</td>\n",
       "      <td>None</td>\n",
       "      <td>None</td>\n",
       "      <td>None</td>\n",
       "      <td>0.00</td>\n",
       "      <td>11.2024</td>\n",
       "      <td>E0007</td>\n",
       "      <td>Заказ на поставку</td>\n",
       "      <td>Законтрактовано</td>\n",
       "      <td>BWPCLNT100</td>\n",
       "      <td>2024-11-01</td>\n",
       "      <td>81800</td>\n",
       "    </tr>\n",
       "    <tr>\n",
       "      <th>82613</th>\n",
       "      <td>RUU</td>\n",
       "      <td>2024-11-27</td>\n",
       "      <td>None</td>\n",
       "      <td>None</td>\n",
       "      <td>None</td>\n",
       "      <td>7957.04</td>\n",
       "      <td>11.2024</td>\n",
       "      <td>E0007</td>\n",
       "      <td>Заказ на поставку</td>\n",
       "      <td>Законтрактовано</td>\n",
       "      <td>BWPCLNT100</td>\n",
       "      <td>2024-11-01</td>\n",
       "      <td>82613</td>\n",
       "    </tr>\n",
       "    <tr>\n",
       "      <th>82614</th>\n",
       "      <td>RUU</td>\n",
       "      <td>2024-11-27</td>\n",
       "      <td>None</td>\n",
       "      <td>None</td>\n",
       "      <td>None</td>\n",
       "      <td>6630.90</td>\n",
       "      <td>11.2024</td>\n",
       "      <td>E0007</td>\n",
       "      <td>Заказ на поставку</td>\n",
       "      <td>Законтрактовано</td>\n",
       "      <td>BWPCLNT100</td>\n",
       "      <td>2024-11-01</td>\n",
       "      <td>82614</td>\n",
       "    </tr>\n",
       "    <tr>\n",
       "      <th>82615</th>\n",
       "      <td>RUU</td>\n",
       "      <td>2024-11-27</td>\n",
       "      <td>None</td>\n",
       "      <td>None</td>\n",
       "      <td>None</td>\n",
       "      <td>0.00</td>\n",
       "      <td>11.2024</td>\n",
       "      <td>E0007</td>\n",
       "      <td>Заказ на поставку</td>\n",
       "      <td>Законтрактовано</td>\n",
       "      <td>BWPCLNT100</td>\n",
       "      <td>2024-11-01</td>\n",
       "      <td>82615</td>\n",
       "    </tr>\n",
       "  </tbody>\n",
       "</table>\n",
       "</div>"
      ],
      "text/plain": [
       "      currency reportDate effectiveFrom xlsDate loadEventId  amountIndicators  \\\n",
       "81800      RUU 2024-11-27          None    None        None              0.00   \n",
       "82613      RUU 2024-11-27          None    None        None           7957.04   \n",
       "82614      RUU 2024-11-27          None    None        None           6630.90   \n",
       "82615      RUU 2024-11-27          None    None        None              0.00   \n",
       "\n",
       "        period actStatus       forecastType    generalStatus systemMandant  \\\n",
       "81800  11.2024     E0007  Заказ на поставку  Законтрактовано    BWPCLNT100   \n",
       "82613  11.2024     E0007  Заказ на поставку  Законтрактовано    BWPCLNT100   \n",
       "82614  11.2024     E0007  Заказ на поставку  Законтрактовано    BWPCLNT100   \n",
       "82615  11.2024     E0007  Заказ на поставку  Законтрактовано    BWPCLNT100   \n",
       "\n",
       "      periodDate  index_copy  \n",
       "81800 2024-11-01       81800  \n",
       "82613 2024-11-01       82613  \n",
       "82614 2024-11-01       82614  \n",
       "82615 2024-11-01       82615  "
      ]
     },
     "execution_count": 110,
     "metadata": {},
     "output_type": "execute_result"
    }
   ],
   "source": [
    "data_auto_example = data_auto.loc[data_auto.wbsElement.isin(wbsElement_list),:]\n",
    "data_auto_example.loc[:,'currency':]"
   ]
  },
  {
   "cell_type": "markdown",
   "metadata": {},
   "source": [
    "отчего зависят расхождения"
   ]
  },
  {
   "cell_type": "code",
   "execution_count": 92,
   "metadata": {},
   "outputs": [
    {
     "data": {
      "text/html": [
       "<div>\n",
       "<style scoped>\n",
       "    .dataframe tbody tr th:only-of-type {\n",
       "        vertical-align: middle;\n",
       "    }\n",
       "\n",
       "    .dataframe tbody tr th {\n",
       "        vertical-align: top;\n",
       "    }\n",
       "\n",
       "    .dataframe thead th {\n",
       "        text-align: right;\n",
       "    }\n",
       "</style>\n",
       "<table border=\"1\" class=\"dataframe\">\n",
       "  <thead>\n",
       "    <tr style=\"text-align: right;\">\n",
       "      <th></th>\n",
       "      <th>col_name</th>\n",
       "      <th>n_unique</th>\n",
       "      <th>unique</th>\n",
       "    </tr>\n",
       "  </thead>\n",
       "  <tbody>\n",
       "    <tr>\n",
       "      <th>0</th>\n",
       "      <td>companyCode</td>\n",
       "      <td>77</td>\n",
       "      <td>['E230', '3D00', 'E110', 'U600', 'E530', '9C00...</td>\n",
       "    </tr>\n",
       "    <tr>\n",
       "      <th>1</th>\n",
       "      <td>companyName</td>\n",
       "      <td>77</td>\n",
       "      <td>['ООО «ЕХСЗ-2»', 'АО \"Разрез Тугнуйский\"', 'ОО...</td>\n",
       "    </tr>\n",
       "    <tr>\n",
       "      <th>2</th>\n",
       "      <td>plantId</td>\n",
       "      <td>190</td>\n",
       "      <td>['E23A', '3D01', 'E11A', 'U636', 'E53A', '3D02...</td>\n",
       "    </tr>\n",
       "    <tr>\n",
       "      <th>3</th>\n",
       "      <td>plantName</td>\n",
       "      <td>174</td>\n",
       "      <td>['ООО ЕХСЗ-2', 'р. Тугнуйский', 'Управление', ...</td>\n",
       "    </tr>\n",
       "  </tbody>\n",
       "</table>\n",
       "</div>"
      ],
      "text/plain": [
       "      col_name  n_unique                                             unique\n",
       "0  companyCode        77  ['E230', '3D00', 'E110', 'U600', 'E530', '9C00...\n",
       "1  companyName        77  ['ООО «ЕХСЗ-2»', 'АО \"Разрез Тугнуйский\"', 'ОО...\n",
       "2      plantId       190  ['E23A', '3D01', 'E11A', 'U636', 'E53A', '3D02...\n",
       "3    plantName       174  ['ООО ЕХСЗ-2', 'р. Тугнуйский', 'Управление', ..."
      ]
     },
     "execution_count": 92,
     "metadata": {},
     "output_type": "execute_result"
    }
   ],
   "source": [
    "cols_isna = (~data_companies_in_manual.isna()).any(axis=0)\n",
    "cols_isntna = cols_isna[cols_isna==True].index.tolist()\n",
    "\n",
    "describe_cols = pd.DataFrame({'col_name':cols_isntna, 'n_unique':[data_companies_in_manual[x].nunique() for x in cols_isntna ],'unique':[str(data_companies_in_manual[x].unique().tolist()) for x in cols_isntna ]},)\n",
    "describe_cols.head(4)"
   ]
  },
  {
   "cell_type": "markdown",
   "metadata": {},
   "source": [
    "To excel"
   ]
  },
  {
   "cell_type": "code",
   "execution_count": 116,
   "metadata": {},
   "outputs": [],
   "source": [
    "# to excel\n",
    "if print_to_excel == True:\n",
    "    Output_file = f'{str(date.today())}_{file_name}.xlsx'\n",
    "    with pd.ExcelWriter(Output_file, engine='openpyxl') as writer:\n",
    "        # data_companies_not_in_manual.to_excel(writer, index=False, sheet_name='companies_not_in_31.10')\n",
    "        # data_auto.to_excel(writer, index=True, sheet_name='data_21.11')\n",
    "        # data_manual.to_excel(writer, index=True, sheet_name='data_31.10')\n",
    "\n",
    "        not_equal_values.to_excel(writer, index=False, sheet_name='not_equal_amount')\n",
    "\n",
    "        row = 0\n",
    "        not_equal_example.to_excel(writer, index=False, sheet_name='example', startrow=row)\n",
    "        row = row + not_equal_example.shape[0] + 3\n",
    "        pd.DataFrame({'data 31/10':''},index=[0]).to_excel(writer, index=False, sheet_name='example', startrow=row)\n",
    "        row +=1\n",
    "        data_manual_example.to_excel(writer, index=False, sheet_name='example', startrow=row)\n",
    "        row = row + data_manual_example.shape[0] + 3\n",
    "        pd.DataFrame({'data 27/11':''},index=[0]).to_excel(writer, index=False, sheet_name='example', startrow=row)\n",
    "        row +=1\n",
    "        data_auto_example.to_excel(writer, index=False, sheet_name='example', startrow=row)\n",
    "\n",
    "        describe_cols.to_excel(writer, index=False, sheet_name='describe_cols')\n",
    "\n",
    "\n",
    "\n",
    "\n"
   ]
  }
 ],
 "metadata": {
  "kernelspec": {
   "display_name": "base",
   "language": "python",
   "name": "python3"
  },
  "language_info": {
   "codemirror_mode": {
    "name": "ipython",
    "version": 3
   },
   "file_extension": ".py",
   "mimetype": "text/x-python",
   "name": "python",
   "nbconvert_exporter": "python",
   "pygments_lexer": "ipython3",
   "version": "3.11.5"
  }
 },
 "nbformat": 4,
 "nbformat_minor": 2
}
