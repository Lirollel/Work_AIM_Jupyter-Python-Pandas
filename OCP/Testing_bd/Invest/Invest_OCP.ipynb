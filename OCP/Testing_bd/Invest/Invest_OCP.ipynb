{
 "cells": [
  {
   "cell_type": "code",
   "execution_count": 19,
   "metadata": {},
   "outputs": [],
   "source": [
    "import sys\n",
    "sys.path.append(\"C:\\\\Users\\\\KlimovaAnnaA\\\\Documents\\\\MyFiles\\\\Projects\\\\Working_attributes\")\n",
    "from Imports import * "
   ]
  },
  {
   "cell_type": "code",
   "execution_count": 20,
   "metadata": {},
   "outputs": [],
   "source": [
    "files_list = ['2024-10-15_Invest_nv_SUEK.xlsx', '2024-10-15_Invest_nv_EUROCHEM.xlsx']\n",
    "old_data_SU = pd.read_excel(Output_path+files_list[0])\n",
    "old_data_ECH = pd.read_excel(Output_path+files_list[1])\n",
    "old_data = pd.concat([old_data_SU,old_data_ECH]).reset_index(drop=True)"
   ]
  },
  {
   "cell_type": "code",
   "execution_count": 21,
   "metadata": {},
   "outputs": [
    {
     "name": "stderr",
     "output_type": "stream",
     "text": [
      "C:\\Users\\KlimovaAnnaA\\Documents\\MyFiles\\Projects\\Working_attributes\\Defs.py:176: UserWarning: pandas only supports SQLAlchemy connectable (engine/connection) or database string URI or sqlite3 DBAPI2 connection. Other DBAPI2 objects are not tested. Please consider using SQLAlchemy.\n",
      "  data_export = pd.read_sql(query, con=connection)\n"
     ]
    },
    {
     "data": {
      "text/plain": [
       "(35743, 40)"
      ]
     },
     "execution_count": 21,
     "metadata": {},
     "output_type": "execute_result"
    }
   ],
   "source": [
    "base = 'RISKACCESS'\n",
    "base = 'xxwh'\n",
    "new_data = export_from_WHWEEK(f'''select * \n",
    "from {base}.\"unifiedOcp\"\n",
    "where \"sourceTable\" = 'sapBwInvestmentReport'\n",
    "and \"reportDate\" = TO_DATE('30.09.24', 'DD.MM.YY')\n",
    "--fetch first 10 rows only''')\n",
    "new_data.shape"
   ]
  },
  {
   "cell_type": "code",
   "execution_count": 30,
   "metadata": {},
   "outputs": [
    {
     "name": "stderr",
     "output_type": "stream",
     "text": [
      "C:\\Users\\KlimovaAnnaA\\AppData\\Local\\Temp\\ipykernel_17164\\2796183029.py:2: SettingWithCopyWarning: \n",
      "A value is trying to be set on a copy of a slice from a DataFrame.\n",
      "Try using .loc[row_indexer,col_indexer] = value instead\n",
      "\n",
      "See the caveats in the documentation: https://pandas.pydata.org/pandas-docs/stable/user_guide/indexing.html#returning-a-view-versus-a-copy\n",
      "  data_OCP_work.maturityDateTo = data_OCP_work.maturityDateTo.astype(str).apply(lambda x: '-'.join([x[:-3],'01']))\n",
      "C:\\Users\\KlimovaAnnaA\\AppData\\Local\\Temp\\ipykernel_17164\\2796183029.py:3: SettingWithCopyWarning: \n",
      "A value is trying to be set on a copy of a slice from a DataFrame.\n",
      "Try using .loc[row_indexer,col_indexer] = value instead\n",
      "\n",
      "See the caveats in the documentation: https://pandas.pydata.org/pandas-docs/stable/user_guide/indexing.html#returning-a-view-versus-a-copy\n",
      "  data_OCP_work.maturityDateTo = pd.to_datetime(data_OCP_work.maturityDateTo)\n"
     ]
    }
   ],
   "source": [
    "data_OCP_work = new_data[['holding','buCode','salesUnitsId','ocpSegment','counterpartySegment','counterpartyCode','effectiveCurrency','volumeNotionalCurrency','maturityDateTo']]\n",
    "data_OCP_work.maturityDateTo = data_OCP_work.maturityDateTo.astype(str).apply(lambda x: '-'.join([x[:-3],'01']))\n",
    "data_OCP_work.maturityDateTo = pd.to_datetime(data_OCP_work.maturityDateTo)"
   ]
  },
  {
   "cell_type": "code",
   "execution_count": 31,
   "metadata": {},
   "outputs": [
    {
     "name": "stderr",
     "output_type": "stream",
     "text": [
      "C:\\Users\\KlimovaAnnaA\\AppData\\Local\\Temp\\ipykernel_17164\\3905460538.py:2: SettingWithCopyWarning: \n",
      "A value is trying to be set on a copy of a slice from a DataFrame.\n",
      "Try using .loc[row_indexer,col_indexer] = value instead\n",
      "\n",
      "See the caveats in the documentation: https://pandas.pydata.org/pandas-docs/stable/user_guide/indexing.html#returning-a-view-versus-a-copy\n",
      "  data_OCP_work.counterpartyCode = data_OCP_work.counterpartyCode.astype(str)\n",
      "C:\\Users\\KlimovaAnnaA\\AppData\\Local\\Temp\\ipykernel_17164\\3905460538.py:4: SettingWithCopyWarning: \n",
      "A value is trying to be set on a copy of a slice from a DataFrame.\n",
      "Try using .loc[row_indexer,col_indexer] = value instead\n",
      "\n",
      "See the caveats in the documentation: https://pandas.pydata.org/pandas-docs/stable/user_guide/indexing.html#returning-a-view-versus-a-copy\n",
      "  data_OCP_work.ocpSegment = data_OCP_work.ocpSegment.fillna('External')\n",
      "C:\\Users\\KlimovaAnnaA\\AppData\\Local\\Temp\\ipykernel_17164\\3905460538.py:11: FutureWarning: The provided callable <built-in function sum> is currently using DataFrameGroupBy.sum. In a future version of pandas, the provided callable will be used directly. To keep current behavior pass the string \"sum\" instead.\n",
      "  old_data_pivot = old_data.groupby(as_index=False,dropna=False, by=leaft_list)[['Amount_abs']+ver_cols].agg(sum)\n",
      "C:\\Users\\KlimovaAnnaA\\AppData\\Local\\Temp\\ipykernel_17164\\3905460538.py:12: SettingWithCopyWarning: \n",
      "A value is trying to be set on a copy of a slice from a DataFrame.\n",
      "Try using .loc[row_indexer,col_indexer] = value instead\n",
      "\n",
      "See the caveats in the documentation: https://pandas.pydata.org/pandas-docs/stable/user_guide/indexing.html#returning-a-view-versus-a-copy\n",
      "  data_OCP_work['Amount_abs'] = data_OCP_work['volumeNotionalCurrency'].abs()\n",
      "C:\\Users\\KlimovaAnnaA\\AppData\\Local\\Temp\\ipykernel_17164\\3905460538.py:13: FutureWarning: The provided callable <built-in function sum> is currently using SeriesGroupBy.sum. In a future version of pandas, the provided callable will be used directly. To keep current behavior pass the string \"sum\" instead.\n",
      "  data_OCP_work_pivot = data_OCP_work.groupby(as_index=False,dropna=False, by=right_list)['Amount_abs'].agg(sum)\n"
     ]
    }
   ],
   "source": [
    "# merge sum to dates\n",
    "data_OCP_work.counterpartyCode = data_OCP_work.counterpartyCode.astype(str)\n",
    "old_data.Контрагент = old_data.Контрагент.astype(str)\n",
    "data_OCP_work.ocpSegment = data_OCP_work.ocpSegment.fillna('External')\n",
    "\n",
    "leaft_list = ['holding','Comp_segment','Comp_code','Контрагент','currency','КалендГод/Месяц']\n",
    "ver_cols = ['Версия_035', 'Версия_045','Версия_075', 'Версия_085']\n",
    "right_list = ['holding','ocpSegment','buCode','counterpartyCode','effectiveCurrency','maturityDateTo']\n",
    "\n",
    "old_data['Amount_abs'] = old_data['Amount'].abs()\n",
    "old_data_pivot = old_data.groupby(as_index=False,dropna=False, by=leaft_list)[['Amount_abs']+ver_cols].agg(sum)\n",
    "data_OCP_work['Amount_abs'] = data_OCP_work['volumeNotionalCurrency'].abs()\n",
    "data_OCP_work_pivot = data_OCP_work.groupby(as_index=False,dropna=False, by=right_list)['Amount_abs'].agg(sum)\n",
    "# merge\n",
    "merge_data = old_data_pivot.merge(data_OCP_work_pivot, how='outer', left_on=leaft_list, right_on=right_list, suffixes=['_old','_OCP'])\n",
    "# merge_data[merge_data.Amount_abs_old!=merge_data.Amount_abs_OCP]"
   ]
  },
  {
   "cell_type": "code",
   "execution_count": 32,
   "metadata": {},
   "outputs": [
    {
     "data": {
      "text/plain": [
       "(35743, 35743)"
      ]
     },
     "execution_count": 32,
     "metadata": {},
     "output_type": "execute_result"
    }
   ],
   "source": [
    "old_data.shape[0], new_data.shape[0]"
   ]
  },
  {
   "cell_type": "code",
   "execution_count": 25,
   "metadata": {},
   "outputs": [
    {
     "data": {
      "text/plain": [
       "(17706, 17706)"
      ]
     },
     "execution_count": 25,
     "metadata": {},
     "output_type": "execute_result"
    }
   ],
   "source": [
    "old_data[old_data['Amount']!=0].shape[0], new_data[~new_data['volumeEffectiveCurrency'].isna()].shape[0]"
   ]
  },
  {
   "cell_type": "code",
   "execution_count": 33,
   "metadata": {},
   "outputs": [],
   "source": [
    "merge_data = is_approximately_equal_for_cols(merge_data,'Amount_abs_old','Amount_abs_OCP')"
   ]
  },
  {
   "cell_type": "code",
   "execution_count": 34,
   "metadata": {},
   "outputs": [
    {
     "data": {
      "text/html": [
       "<div>\n",
       "<style scoped>\n",
       "    .dataframe tbody tr th:only-of-type {\n",
       "        vertical-align: middle;\n",
       "    }\n",
       "\n",
       "    .dataframe tbody tr th {\n",
       "        vertical-align: top;\n",
       "    }\n",
       "\n",
       "    .dataframe thead th {\n",
       "        text-align: right;\n",
       "    }\n",
       "</style>\n",
       "<table border=\"1\" class=\"dataframe\">\n",
       "  <thead>\n",
       "    <tr style=\"text-align: right;\">\n",
       "      <th></th>\n",
       "      <th>holding</th>\n",
       "      <th>Comp_segment</th>\n",
       "      <th>Comp_code</th>\n",
       "      <th>Контрагент</th>\n",
       "      <th>currency</th>\n",
       "      <th>КалендГод/Месяц</th>\n",
       "      <th>Amount_abs_old</th>\n",
       "      <th>Версия_035</th>\n",
       "      <th>Версия_045</th>\n",
       "      <th>Версия_075</th>\n",
       "      <th>Версия_085</th>\n",
       "      <th>ocpSegment</th>\n",
       "      <th>buCode</th>\n",
       "      <th>counterpartyCode</th>\n",
       "      <th>effectiveCurrency</th>\n",
       "      <th>maturityDateTo</th>\n",
       "      <th>Amount_abs_OCP</th>\n",
       "      <th>Diff__more_0.4</th>\n",
       "    </tr>\n",
       "  </thead>\n",
       "  <tbody>\n",
       "  </tbody>\n",
       "</table>\n",
       "</div>"
      ],
      "text/plain": [
       "Empty DataFrame\n",
       "Columns: [holding, Comp_segment, Comp_code, Контрагент, currency, КалендГод/Месяц, Amount_abs_old, Версия_035, Версия_045, Версия_075, Версия_085, ocpSegment, buCode, counterpartyCode, effectiveCurrency, maturityDateTo, Amount_abs_OCP, Diff__more_0.4]\n",
       "Index: []"
      ]
     },
     "execution_count": 34,
     "metadata": {},
     "output_type": "execute_result"
    }
   ],
   "source": [
    "merge_data[merge_data['Diff__more_0.4']==True]"
   ]
  },
  {
   "cell_type": "code",
   "execution_count": 28,
   "metadata": {},
   "outputs": [
    {
     "ename": "AssertionError",
     "evalue": "",
     "output_type": "error",
     "traceback": [
      "\u001b[1;31m---------------------------------------------------------------------------\u001b[0m",
      "\u001b[1;31mAssertionError\u001b[0m                            Traceback (most recent call last)",
      "Cell \u001b[1;32mIn[28], line 1\u001b[0m\n\u001b[1;32m----> 1\u001b[0m \u001b[38;5;28;01massert\u001b[39;00m \u001b[38;5;241m2\u001b[39m\u001b[38;5;241m==\u001b[39m\u001b[38;5;241m1\u001b[39m\n",
      "\u001b[1;31mAssertionError\u001b[0m: "
     ]
    }
   ],
   "source": [
    "assert 2==1"
   ]
  },
  {
   "cell_type": "code",
   "execution_count": 29,
   "metadata": {},
   "outputs": [],
   "source": [
    "# to excel\n",
    "Output_file = f'{str(date.today())}_ivest_vs_OCP.xlsx'\n",
    "with pd.ExcelWriter(Output_file, engine='openpyxl') as writer:\n",
    "    merge_data[merge_data['Diff__more_0.4']==True].to_excel(writer, index=False, sheet_name='compare')\n",
    "    old_data.to_excel(writer, index=False, sheet_name='data_script')\n",
    "    new_data.to_excel(writer, index=False, sheet_name='data_unOCP')\n"
   ]
  },
  {
   "cell_type": "code",
   "execution_count": 18,
   "metadata": {},
   "outputs": [
    {
     "data": {
      "text/html": [
       "<div>\n",
       "<style scoped>\n",
       "    .dataframe tbody tr th:only-of-type {\n",
       "        vertical-align: middle;\n",
       "    }\n",
       "\n",
       "    .dataframe tbody tr th {\n",
       "        vertical-align: top;\n",
       "    }\n",
       "\n",
       "    .dataframe thead th {\n",
       "        text-align: right;\n",
       "    }\n",
       "</style>\n",
       "<table border=\"1\" class=\"dataframe\">\n",
       "  <thead>\n",
       "    <tr style=\"text-align: right;\">\n",
       "      <th></th>\n",
       "      <th>##batch_id</th>\n",
       "      <th>##deleted</th>\n",
       "      <th>##inserted</th>\n",
       "      <th>##origin_name</th>\n",
       "      <th>reportDate</th>\n",
       "      <th>rowType</th>\n",
       "      <th>sourceSystem</th>\n",
       "      <th>sourceTable</th>\n",
       "      <th>recordId</th>\n",
       "      <th>balanceItem</th>\n",
       "      <th>...</th>\n",
       "      <th>timeBucket</th>\n",
       "      <th>notionalCurrency</th>\n",
       "      <th>volumeNotionalCurrency</th>\n",
       "      <th>effectiveCurrency</th>\n",
       "      <th>effectiveCurrencyRate</th>\n",
       "      <th>volumeEffectiveCurrency</th>\n",
       "      <th>usdRate</th>\n",
       "      <th>volumeUsd</th>\n",
       "      <th>salesUnitsId</th>\n",
       "      <th>accountSubType</th>\n",
       "    </tr>\n",
       "  </thead>\n",
       "  <tbody>\n",
       "    <tr>\n",
       "      <th>26090</th>\n",
       "      <td>41389909@WHWEEK</td>\n",
       "      <td>N</td>\n",
       "      <td>2024-10-25 12:12:50</td>\n",
       "      <td>WHFLEX</td>\n",
       "      <td>2024-09-30</td>\n",
       "      <td>D</td>\n",
       "      <td>ExternalBW</td>\n",
       "      <td>sapBwInvestmentReport</td>\n",
       "      <td>E.E2300002-10.04.010.07</td>\n",
       "      <td>Off-balance</td>\n",
       "      <td>...</td>\n",
       "      <td>&lt;1M</td>\n",
       "      <td>INR</td>\n",
       "      <td>NaN</td>\n",
       "      <td>INR</td>\n",
       "      <td>None</td>\n",
       "      <td>NaN</td>\n",
       "      <td>0.011933</td>\n",
       "      <td>NaN</td>\n",
       "      <td>RUNWT</td>\n",
       "      <td>None</td>\n",
       "    </tr>\n",
       "    <tr>\n",
       "      <th>26115</th>\n",
       "      <td>41389909@WHWEEK</td>\n",
       "      <td>N</td>\n",
       "      <td>2024-10-25 12:12:50</td>\n",
       "      <td>WHFLEX</td>\n",
       "      <td>2024-09-30</td>\n",
       "      <td>D</td>\n",
       "      <td>ExternalBW</td>\n",
       "      <td>sapBwInvestmentReport</td>\n",
       "      <td>E.E2300002-10.04.020.02</td>\n",
       "      <td>Off-balance</td>\n",
       "      <td>...</td>\n",
       "      <td>&lt;1M</td>\n",
       "      <td>INR</td>\n",
       "      <td>NaN</td>\n",
       "      <td>INR</td>\n",
       "      <td>None</td>\n",
       "      <td>NaN</td>\n",
       "      <td>0.011933</td>\n",
       "      <td>NaN</td>\n",
       "      <td>RUNWT</td>\n",
       "      <td>None</td>\n",
       "    </tr>\n",
       "    <tr>\n",
       "      <th>26182</th>\n",
       "      <td>41389909@WHWEEK</td>\n",
       "      <td>N</td>\n",
       "      <td>2024-10-25 12:12:50</td>\n",
       "      <td>WHFLEX</td>\n",
       "      <td>2024-09-30</td>\n",
       "      <td>D</td>\n",
       "      <td>ExternalBW</td>\n",
       "      <td>sapBwInvestmentReport</td>\n",
       "      <td>E.E2300002-10.04.030.69</td>\n",
       "      <td>Off-balance</td>\n",
       "      <td>...</td>\n",
       "      <td>&lt;1M</td>\n",
       "      <td>INR</td>\n",
       "      <td>NaN</td>\n",
       "      <td>INR</td>\n",
       "      <td>None</td>\n",
       "      <td>NaN</td>\n",
       "      <td>0.011933</td>\n",
       "      <td>NaN</td>\n",
       "      <td>RUNWT</td>\n",
       "      <td>None</td>\n",
       "    </tr>\n",
       "    <tr>\n",
       "      <th>26183</th>\n",
       "      <td>41389909@WHWEEK</td>\n",
       "      <td>N</td>\n",
       "      <td>2024-10-25 12:12:50</td>\n",
       "      <td>WHFLEX</td>\n",
       "      <td>2024-09-30</td>\n",
       "      <td>D</td>\n",
       "      <td>ExternalBW</td>\n",
       "      <td>sapBwInvestmentReport</td>\n",
       "      <td>E.E2300002-10.04.030.70</td>\n",
       "      <td>Off-balance</td>\n",
       "      <td>...</td>\n",
       "      <td>&lt;1M</td>\n",
       "      <td>INR</td>\n",
       "      <td>NaN</td>\n",
       "      <td>INR</td>\n",
       "      <td>None</td>\n",
       "      <td>NaN</td>\n",
       "      <td>0.011933</td>\n",
       "      <td>NaN</td>\n",
       "      <td>RUNWT</td>\n",
       "      <td>None</td>\n",
       "    </tr>\n",
       "    <tr>\n",
       "      <th>26184</th>\n",
       "      <td>41389909@WHWEEK</td>\n",
       "      <td>N</td>\n",
       "      <td>2024-10-25 12:12:50</td>\n",
       "      <td>WHFLEX</td>\n",
       "      <td>2024-09-30</td>\n",
       "      <td>D</td>\n",
       "      <td>ExternalBW</td>\n",
       "      <td>sapBwInvestmentReport</td>\n",
       "      <td>E.E2300002-10.04.030.71</td>\n",
       "      <td>Off-balance</td>\n",
       "      <td>...</td>\n",
       "      <td>&lt;1M</td>\n",
       "      <td>INR</td>\n",
       "      <td>NaN</td>\n",
       "      <td>INR</td>\n",
       "      <td>None</td>\n",
       "      <td>NaN</td>\n",
       "      <td>0.011933</td>\n",
       "      <td>NaN</td>\n",
       "      <td>RUNWT</td>\n",
       "      <td>None</td>\n",
       "    </tr>\n",
       "    <tr>\n",
       "      <th>26185</th>\n",
       "      <td>41389909@WHWEEK</td>\n",
       "      <td>N</td>\n",
       "      <td>2024-10-25 12:12:50</td>\n",
       "      <td>WHFLEX</td>\n",
       "      <td>2024-09-30</td>\n",
       "      <td>D</td>\n",
       "      <td>ExternalBW</td>\n",
       "      <td>sapBwInvestmentReport</td>\n",
       "      <td>E.E2300002-10.04.030.72</td>\n",
       "      <td>Off-balance</td>\n",
       "      <td>...</td>\n",
       "      <td>&lt;1M</td>\n",
       "      <td>INR</td>\n",
       "      <td>NaN</td>\n",
       "      <td>INR</td>\n",
       "      <td>None</td>\n",
       "      <td>NaN</td>\n",
       "      <td>0.011933</td>\n",
       "      <td>NaN</td>\n",
       "      <td>RUNWT</td>\n",
       "      <td>None</td>\n",
       "    </tr>\n",
       "    <tr>\n",
       "      <th>26186</th>\n",
       "      <td>41389909@WHWEEK</td>\n",
       "      <td>N</td>\n",
       "      <td>2024-10-25 12:12:50</td>\n",
       "      <td>WHFLEX</td>\n",
       "      <td>2024-09-30</td>\n",
       "      <td>D</td>\n",
       "      <td>ExternalBW</td>\n",
       "      <td>sapBwInvestmentReport</td>\n",
       "      <td>E.E2300002-10.04.030.74</td>\n",
       "      <td>Off-balance</td>\n",
       "      <td>...</td>\n",
       "      <td>&lt;1M</td>\n",
       "      <td>INR</td>\n",
       "      <td>NaN</td>\n",
       "      <td>INR</td>\n",
       "      <td>None</td>\n",
       "      <td>NaN</td>\n",
       "      <td>0.011933</td>\n",
       "      <td>NaN</td>\n",
       "      <td>RUNWT</td>\n",
       "      <td>None</td>\n",
       "    </tr>\n",
       "    <tr>\n",
       "      <th>26191</th>\n",
       "      <td>41389909@WHWEEK</td>\n",
       "      <td>N</td>\n",
       "      <td>2024-10-25 12:12:50</td>\n",
       "      <td>WHFLEX</td>\n",
       "      <td>2024-09-30</td>\n",
       "      <td>D</td>\n",
       "      <td>ExternalBW</td>\n",
       "      <td>sapBwInvestmentReport</td>\n",
       "      <td>E.E2300002-10.04.030.73</td>\n",
       "      <td>Off-balance</td>\n",
       "      <td>...</td>\n",
       "      <td>&lt;1M</td>\n",
       "      <td>INR</td>\n",
       "      <td>NaN</td>\n",
       "      <td>INR</td>\n",
       "      <td>None</td>\n",
       "      <td>NaN</td>\n",
       "      <td>0.011933</td>\n",
       "      <td>NaN</td>\n",
       "      <td>RUNWT</td>\n",
       "      <td>None</td>\n",
       "    </tr>\n",
       "  </tbody>\n",
       "</table>\n",
       "<p>8 rows × 40 columns</p>\n",
       "</div>"
      ],
      "text/plain": [
       "            ##batch_id ##deleted          ##inserted ##origin_name reportDate  \\\n",
       "26090  41389909@WHWEEK         N 2024-10-25 12:12:50        WHFLEX 2024-09-30   \n",
       "26115  41389909@WHWEEK         N 2024-10-25 12:12:50        WHFLEX 2024-09-30   \n",
       "26182  41389909@WHWEEK         N 2024-10-25 12:12:50        WHFLEX 2024-09-30   \n",
       "26183  41389909@WHWEEK         N 2024-10-25 12:12:50        WHFLEX 2024-09-30   \n",
       "26184  41389909@WHWEEK         N 2024-10-25 12:12:50        WHFLEX 2024-09-30   \n",
       "26185  41389909@WHWEEK         N 2024-10-25 12:12:50        WHFLEX 2024-09-30   \n",
       "26186  41389909@WHWEEK         N 2024-10-25 12:12:50        WHFLEX 2024-09-30   \n",
       "26191  41389909@WHWEEK         N 2024-10-25 12:12:50        WHFLEX 2024-09-30   \n",
       "\n",
       "      rowType sourceSystem            sourceTable                 recordId  \\\n",
       "26090       D   ExternalBW  sapBwInvestmentReport  E.E2300002-10.04.010.07   \n",
       "26115       D   ExternalBW  sapBwInvestmentReport  E.E2300002-10.04.020.02   \n",
       "26182       D   ExternalBW  sapBwInvestmentReport  E.E2300002-10.04.030.69   \n",
       "26183       D   ExternalBW  sapBwInvestmentReport  E.E2300002-10.04.030.70   \n",
       "26184       D   ExternalBW  sapBwInvestmentReport  E.E2300002-10.04.030.71   \n",
       "26185       D   ExternalBW  sapBwInvestmentReport  E.E2300002-10.04.030.72   \n",
       "26186       D   ExternalBW  sapBwInvestmentReport  E.E2300002-10.04.030.74   \n",
       "26191       D   ExternalBW  sapBwInvestmentReport  E.E2300002-10.04.030.73   \n",
       "\n",
       "       balanceItem  ... timeBucket notionalCurrency volumeNotionalCurrency  \\\n",
       "26090  Off-balance  ...        <1M              INR                    NaN   \n",
       "26115  Off-balance  ...        <1M              INR                    NaN   \n",
       "26182  Off-balance  ...        <1M              INR                    NaN   \n",
       "26183  Off-balance  ...        <1M              INR                    NaN   \n",
       "26184  Off-balance  ...        <1M              INR                    NaN   \n",
       "26185  Off-balance  ...        <1M              INR                    NaN   \n",
       "26186  Off-balance  ...        <1M              INR                    NaN   \n",
       "26191  Off-balance  ...        <1M              INR                    NaN   \n",
       "\n",
       "      effectiveCurrency effectiveCurrencyRate volumeEffectiveCurrency  \\\n",
       "26090               INR                  None                     NaN   \n",
       "26115               INR                  None                     NaN   \n",
       "26182               INR                  None                     NaN   \n",
       "26183               INR                  None                     NaN   \n",
       "26184               INR                  None                     NaN   \n",
       "26185               INR                  None                     NaN   \n",
       "26186               INR                  None                     NaN   \n",
       "26191               INR                  None                     NaN   \n",
       "\n",
       "        usdRate volumeUsd salesUnitsId accountSubType  \n",
       "26090  0.011933       NaN        RUNWT           None  \n",
       "26115  0.011933       NaN        RUNWT           None  \n",
       "26182  0.011933       NaN        RUNWT           None  \n",
       "26183  0.011933       NaN        RUNWT           None  \n",
       "26184  0.011933       NaN        RUNWT           None  \n",
       "26185  0.011933       NaN        RUNWT           None  \n",
       "26186  0.011933       NaN        RUNWT           None  \n",
       "26191  0.011933       NaN        RUNWT           None  \n",
       "\n",
       "[8 rows x 40 columns]"
      ]
     },
     "execution_count": 18,
     "metadata": {},
     "output_type": "execute_result"
    }
   ],
   "source": [
    "value = '1000153178'\n",
    "new_data.loc[:,'buName':]\n",
    "new_data[new_data.counterpartyCode==value]"
   ]
  }
 ],
 "metadata": {
  "kernelspec": {
   "display_name": "base",
   "language": "python",
   "name": "python3"
  },
  "language_info": {
   "codemirror_mode": {
    "name": "ipython",
    "version": 3
   },
   "file_extension": ".py",
   "mimetype": "text/x-python",
   "name": "python",
   "nbconvert_exporter": "python",
   "pygments_lexer": "ipython3",
   "version": "3.11.5"
  }
 },
 "nbformat": 4,
 "nbformat_minor": 2
}
