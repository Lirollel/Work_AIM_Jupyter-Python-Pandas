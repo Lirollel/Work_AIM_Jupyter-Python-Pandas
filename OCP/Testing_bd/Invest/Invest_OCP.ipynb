{
 "cells": [
  {
   "cell_type": "code",
   "execution_count": 1,
   "metadata": {},
   "outputs": [],
   "source": [
    "import sys\n",
    "sys.path.append(\"C:\\\\Users\\\\KlimovaAnnaA\\\\Documents\\\\MyFiles\\\\Projects\\\\Working_attributes\")\n",
    "from Imports import * "
   ]
  },
  {
   "cell_type": "markdown",
   "metadata": {},
   "source": [
    "variables"
   ]
  },
  {
   "cell_type": "code",
   "execution_count": 17,
   "metadata": {},
   "outputs": [],
   "source": [
    "print_to_excel = True"
   ]
  },
  {
   "cell_type": "markdown",
   "metadata": {},
   "source": [
    "Импорт"
   ]
  },
  {
   "cell_type": "code",
   "execution_count": 3,
   "metadata": {},
   "outputs": [],
   "source": [
    "files_list = ['2024-10-15_Invest_nv_SUEK.xlsx', '2024-10-15_Invest_nv_EUROCHEM.xlsx']\n",
    "old_data_SU = pd.read_excel(Output_path+files_list[0])\n",
    "old_data_ECH = pd.read_excel(Output_path+files_list[1])\n",
    "old_data = pd.concat([old_data_SU,old_data_ECH]).reset_index(drop=True)"
   ]
  },
  {
   "cell_type": "code",
   "execution_count": 4,
   "metadata": {},
   "outputs": [
    {
     "name": "stderr",
     "output_type": "stream",
     "text": [
      "C:\\Users\\KlimovaAnnaA\\Documents\\MyFiles\\Projects\\Working_attributes\\Defs.py:176: UserWarning: pandas only supports SQLAlchemy connectable (engine/connection) or database string URI or sqlite3 DBAPI2 connection. Other DBAPI2 objects are not tested. Please consider using SQLAlchemy.\n",
      "  data_export = pd.read_sql(query, con=connection)\n"
     ]
    },
    {
     "data": {
      "text/plain": [
       "(35743, 40)"
      ]
     },
     "execution_count": 4,
     "metadata": {},
     "output_type": "execute_result"
    }
   ],
   "source": [
    "base = 'RISKACCESS'\n",
    "base = 'xxwh'\n",
    "new_data = export_from_WHWEEK(f'''select * \n",
    "from {base}.\"unifiedOcp\"\n",
    "where \"sourceTable\" = 'sapBwInvestmentReport'\n",
    "and \"reportDate\" = TO_DATE('30.09.24', 'DD.MM.YY')\n",
    "--fetch first 10 rows only''')\n",
    "new_data.shape"
   ]
  },
  {
   "cell_type": "markdown",
   "metadata": {},
   "source": [
    "Проверка на сходимость объемов "
   ]
  },
  {
   "cell_type": "code",
   "execution_count": 5,
   "metadata": {},
   "outputs": [
    {
     "name": "stderr",
     "output_type": "stream",
     "text": [
      "C:\\Users\\KlimovaAnnaA\\AppData\\Local\\Temp\\ipykernel_20372\\2796183029.py:2: SettingWithCopyWarning: \n",
      "A value is trying to be set on a copy of a slice from a DataFrame.\n",
      "Try using .loc[row_indexer,col_indexer] = value instead\n",
      "\n",
      "See the caveats in the documentation: https://pandas.pydata.org/pandas-docs/stable/user_guide/indexing.html#returning-a-view-versus-a-copy\n",
      "  data_OCP_work.maturityDateTo = data_OCP_work.maturityDateTo.astype(str).apply(lambda x: '-'.join([x[:-3],'01']))\n",
      "C:\\Users\\KlimovaAnnaA\\AppData\\Local\\Temp\\ipykernel_20372\\2796183029.py:3: SettingWithCopyWarning: \n",
      "A value is trying to be set on a copy of a slice from a DataFrame.\n",
      "Try using .loc[row_indexer,col_indexer] = value instead\n",
      "\n",
      "See the caveats in the documentation: https://pandas.pydata.org/pandas-docs/stable/user_guide/indexing.html#returning-a-view-versus-a-copy\n",
      "  data_OCP_work.maturityDateTo = pd.to_datetime(data_OCP_work.maturityDateTo)\n"
     ]
    }
   ],
   "source": [
    "data_OCP_work = new_data[['holding','buCode','salesUnitsId','ocpSegment','counterpartySegment','counterpartyCode','effectiveCurrency','volumeNotionalCurrency','maturityDateTo']]\n",
    "data_OCP_work.maturityDateTo = data_OCP_work.maturityDateTo.astype(str).apply(lambda x: '-'.join([x[:-3],'01']))\n",
    "data_OCP_work.maturityDateTo = pd.to_datetime(data_OCP_work.maturityDateTo)"
   ]
  },
  {
   "cell_type": "code",
   "execution_count": 6,
   "metadata": {},
   "outputs": [
    {
     "name": "stderr",
     "output_type": "stream",
     "text": [
      "C:\\Users\\KlimovaAnnaA\\AppData\\Local\\Temp\\ipykernel_20372\\3905460538.py:2: SettingWithCopyWarning: \n",
      "A value is trying to be set on a copy of a slice from a DataFrame.\n",
      "Try using .loc[row_indexer,col_indexer] = value instead\n",
      "\n",
      "See the caveats in the documentation: https://pandas.pydata.org/pandas-docs/stable/user_guide/indexing.html#returning-a-view-versus-a-copy\n",
      "  data_OCP_work.counterpartyCode = data_OCP_work.counterpartyCode.astype(str)\n",
      "C:\\Users\\KlimovaAnnaA\\AppData\\Local\\Temp\\ipykernel_20372\\3905460538.py:4: SettingWithCopyWarning: \n",
      "A value is trying to be set on a copy of a slice from a DataFrame.\n",
      "Try using .loc[row_indexer,col_indexer] = value instead\n",
      "\n",
      "See the caveats in the documentation: https://pandas.pydata.org/pandas-docs/stable/user_guide/indexing.html#returning-a-view-versus-a-copy\n",
      "  data_OCP_work.ocpSegment = data_OCP_work.ocpSegment.fillna('External')\n",
      "C:\\Users\\KlimovaAnnaA\\AppData\\Local\\Temp\\ipykernel_20372\\3905460538.py:11: FutureWarning: The provided callable <built-in function sum> is currently using DataFrameGroupBy.sum. In a future version of pandas, the provided callable will be used directly. To keep current behavior pass the string \"sum\" instead.\n",
      "  old_data_pivot = old_data.groupby(as_index=False,dropna=False, by=leaft_list)[['Amount_abs']+ver_cols].agg(sum)\n",
      "C:\\Users\\KlimovaAnnaA\\AppData\\Local\\Temp\\ipykernel_20372\\3905460538.py:12: SettingWithCopyWarning: \n",
      "A value is trying to be set on a copy of a slice from a DataFrame.\n",
      "Try using .loc[row_indexer,col_indexer] = value instead\n",
      "\n",
      "See the caveats in the documentation: https://pandas.pydata.org/pandas-docs/stable/user_guide/indexing.html#returning-a-view-versus-a-copy\n",
      "  data_OCP_work['Amount_abs'] = data_OCP_work['volumeNotionalCurrency'].abs()\n",
      "C:\\Users\\KlimovaAnnaA\\AppData\\Local\\Temp\\ipykernel_20372\\3905460538.py:13: FutureWarning: The provided callable <built-in function sum> is currently using SeriesGroupBy.sum. In a future version of pandas, the provided callable will be used directly. To keep current behavior pass the string \"sum\" instead.\n",
      "  data_OCP_work_pivot = data_OCP_work.groupby(as_index=False,dropna=False, by=right_list)['Amount_abs'].agg(sum)\n"
     ]
    }
   ],
   "source": [
    "# merge sum to dates\n",
    "data_OCP_work.counterpartyCode = data_OCP_work.counterpartyCode.astype(str)\n",
    "old_data.Контрагент = old_data.Контрагент.astype(str)\n",
    "data_OCP_work.ocpSegment = data_OCP_work.ocpSegment.fillna('External')\n",
    "\n",
    "leaft_list = ['holding','Comp_segment','Comp_code','Контрагент','currency','КалендГод/Месяц']\n",
    "ver_cols = ['Версия_035', 'Версия_045','Версия_075', 'Версия_085']\n",
    "right_list = ['holding','ocpSegment','buCode','counterpartyCode','effectiveCurrency','maturityDateTo']\n",
    "\n",
    "old_data['Amount_abs'] = old_data['Amount'].abs()\n",
    "old_data_pivot = old_data.groupby(as_index=False,dropna=False, by=leaft_list)[['Amount_abs']+ver_cols].agg(sum)\n",
    "data_OCP_work['Amount_abs'] = data_OCP_work['volumeNotionalCurrency'].abs()\n",
    "data_OCP_work_pivot = data_OCP_work.groupby(as_index=False,dropna=False, by=right_list)['Amount_abs'].agg(sum)\n",
    "# merge\n",
    "merge_data = old_data_pivot.merge(data_OCP_work_pivot, how='outer', left_on=leaft_list, right_on=right_list, suffixes=['_old','_OCP'])\n",
    "# merge_data[merge_data.Amount_abs_old!=merge_data.Amount_abs_OCP]"
   ]
  },
  {
   "cell_type": "code",
   "execution_count": 7,
   "metadata": {},
   "outputs": [
    {
     "data": {
      "text/plain": [
       "(35743, 35743)"
      ]
     },
     "execution_count": 7,
     "metadata": {},
     "output_type": "execute_result"
    }
   ],
   "source": [
    "old_data.shape[0], new_data.shape[0]"
   ]
  },
  {
   "cell_type": "code",
   "execution_count": 8,
   "metadata": {},
   "outputs": [
    {
     "data": {
      "text/plain": [
       "(17706, 17706)"
      ]
     },
     "execution_count": 8,
     "metadata": {},
     "output_type": "execute_result"
    }
   ],
   "source": [
    "old_data[old_data['Amount']!=0].shape[0], new_data[~new_data['volumeEffectiveCurrency'].isna()].shape[0]"
   ]
  },
  {
   "cell_type": "code",
   "execution_count": 9,
   "metadata": {},
   "outputs": [],
   "source": [
    "merge_data = is_approximately_equal_for_cols(merge_data,'Amount_abs_old','Amount_abs_OCP')"
   ]
  },
  {
   "cell_type": "code",
   "execution_count": 10,
   "metadata": {},
   "outputs": [
    {
     "data": {
      "text/html": [
       "<div>\n",
       "<style scoped>\n",
       "    .dataframe tbody tr th:only-of-type {\n",
       "        vertical-align: middle;\n",
       "    }\n",
       "\n",
       "    .dataframe tbody tr th {\n",
       "        vertical-align: top;\n",
       "    }\n",
       "\n",
       "    .dataframe thead th {\n",
       "        text-align: right;\n",
       "    }\n",
       "</style>\n",
       "<table border=\"1\" class=\"dataframe\">\n",
       "  <thead>\n",
       "    <tr style=\"text-align: right;\">\n",
       "      <th></th>\n",
       "      <th>holding</th>\n",
       "      <th>Comp_segment</th>\n",
       "      <th>Comp_code</th>\n",
       "      <th>Контрагент</th>\n",
       "      <th>currency</th>\n",
       "      <th>КалендГод/Месяц</th>\n",
       "      <th>Amount_abs_old</th>\n",
       "      <th>Версия_035</th>\n",
       "      <th>Версия_045</th>\n",
       "      <th>Версия_075</th>\n",
       "      <th>Версия_085</th>\n",
       "      <th>ocpSegment</th>\n",
       "      <th>buCode</th>\n",
       "      <th>counterpartyCode</th>\n",
       "      <th>effectiveCurrency</th>\n",
       "      <th>maturityDateTo</th>\n",
       "      <th>Amount_abs_OCP</th>\n",
       "      <th>Diff__more_0.4</th>\n",
       "    </tr>\n",
       "  </thead>\n",
       "  <tbody>\n",
       "  </tbody>\n",
       "</table>\n",
       "</div>"
      ],
      "text/plain": [
       "Empty DataFrame\n",
       "Columns: [holding, Comp_segment, Comp_code, Контрагент, currency, КалендГод/Месяц, Amount_abs_old, Версия_035, Версия_045, Версия_075, Версия_085, ocpSegment, buCode, counterpartyCode, effectiveCurrency, maturityDateTo, Amount_abs_OCP, Diff__more_0.4]\n",
       "Index: []"
      ]
     },
     "execution_count": 10,
     "metadata": {},
     "output_type": "execute_result"
    }
   ],
   "source": [
    "merge_data[merge_data['Diff__more_0.4']==True]"
   ]
  },
  {
   "cell_type": "markdown",
   "metadata": {},
   "source": [
    "Проверка merge"
   ]
  },
  {
   "cell_type": "code",
   "execution_count": 11,
   "metadata": {},
   "outputs": [
    {
     "name": "stdout",
     "output_type": "stream",
     "text": [
      "35743\n",
      "25787\n"
     ]
    },
    {
     "name": "stderr",
     "output_type": "stream",
     "text": [
      "C:\\Users\\KlimovaAnnaA\\AppData\\Local\\Temp\\ipykernel_20372\\2848257120.py:2: FutureWarning: The provided callable <built-in function sum> is currently using SeriesGroupBy.sum. In a future version of pandas, the provided callable will be used directly. To keep current behavior pass the string \"sum\" instead.\n",
      "  old_data_group = old_data.groupby(as_index=False, dropna=False, by=['holding','Comp_code','Comp_segment','Контрагент','Cpty_segment','СПП-элемент','Профиль проекта','Вид затрат']).agg({'Amount':sum})\n"
     ]
    }
   ],
   "source": [
    "\n",
    "print(old_data.shape[0])\n",
    "old_data_group = old_data.groupby(as_index=False, dropna=False, by=['holding','Comp_code','Comp_segment','Контрагент','Cpty_segment','СПП-элемент','Профиль проекта','Вид затрат']).agg({'Amount':sum})\n",
    "print(old_data_group.shape[0])"
   ]
  },
  {
   "cell_type": "code",
   "execution_count": 12,
   "metadata": {},
   "outputs": [
    {
     "name": "stdout",
     "output_type": "stream",
     "text": [
      "35743\n",
      "25787\n"
     ]
    },
    {
     "name": "stderr",
     "output_type": "stream",
     "text": [
      "C:\\Users\\KlimovaAnnaA\\AppData\\Local\\Temp\\ipykernel_20372\\1633997111.py:2: FutureWarning: The provided callable <built-in function sum> is currently using SeriesGroupBy.sum. In a future version of pandas, the provided callable will be used directly. To keep current behavior pass the string \"sum\" instead.\n",
      "  new_data_group = new_data.groupby(as_index=False, dropna=False, by=['holding','buCode','ocpSegment','counterpartyCode','counterpartySegment','recordId','accountSubtype','accountCode']).agg({'buName':list,'salesUnitsId':list,'counterpartyName':list,'introgroupCounterpartyCode':list,'volumeEffectiveCurrency':sum, 'volumeNotionalCurrency':sum})\n"
     ]
    }
   ],
   "source": [
    "print(new_data.shape[0])\n",
    "new_data_group = new_data.groupby(as_index=False, dropna=False, by=['holding','buCode','ocpSegment','counterpartyCode','counterpartySegment','recordId','accountSubtype','accountCode']).agg({'buName':list,'salesUnitsId':list,'counterpartyName':list,'introgroupCounterpartyCode':list,'volumeEffectiveCurrency':sum, 'volumeNotionalCurrency':sum})\n",
    "print(new_data_group.shape[0])\n"
   ]
  },
  {
   "cell_type": "code",
   "execution_count": 13,
   "metadata": {},
   "outputs": [],
   "source": [
    "left_on = old_data_group.columns.tolist()[:8]"
   ]
  },
  {
   "cell_type": "code",
   "execution_count": 14,
   "metadata": {},
   "outputs": [],
   "source": [
    "right_on = new_data_group.columns.tolist()[:8]"
   ]
  },
  {
   "cell_type": "code",
   "execution_count": 15,
   "metadata": {},
   "outputs": [
    {
     "name": "stdout",
     "output_type": "stream",
     "text": [
      "25787\n"
     ]
    }
   ],
   "source": [
    "merge_data = old_data_group.merge(new_data_group, how='outer', left_on=['Comp_code','Контрагент','СПП-элемент','Профиль проекта','Вид затрат'], right_on=['buCode','counterpartyCode','recordId','accountSubtype','accountCode'], suffixes=['_old','_new'])\n",
    "print(merge_data.shape[0])\n",
    "\n",
    "merge_data['compare_holding'] = merge_data.holding_old == merge_data.holding_new\n",
    "merge_data['compare_segment'] = merge_data.Comp_segment == merge_data.ocpSegment\n",
    "merge_data['compare_cpy_segment'] = merge_data.Cpty_segment == merge_data.counterpartySegment\n",
    "merge_data['compare_amount'] = merge_data.Amount.abs() == merge_data.volumeNotionalCurrency.abs()\n",
    "\n",
    "\n",
    "compare_cols = merge_data.columns[merge_data.columns.str.contains('compare')].tolist()\n",
    "# to excel\n",
    "# merge_data[(merge_data[compare_cols]==False).any(axis=1)].to_excel('segments.xlsx')"
   ]
  },
  {
   "cell_type": "markdown",
   "metadata": {},
   "source": [
    "To excel"
   ]
  },
  {
   "cell_type": "code",
   "execution_count": 22,
   "metadata": {},
   "outputs": [
    {
     "name": "stderr",
     "output_type": "stream",
     "text": [
      "Exception ignored in: <function ZipFile.__del__ at 0x00000108B0BA8CC0>\n",
      "Traceback (most recent call last):\n",
      "  File \"c:\\Users\\KlimovaAnnaA\\AppData\\Local\\miniconda3\\Lib\\zipfile.py\", line 1874, in __del__\n",
      "    self.close()\n",
      "  File \"c:\\Users\\KlimovaAnnaA\\AppData\\Local\\miniconda3\\Lib\\zipfile.py\", line 1891, in close\n",
      "    self.fp.seek(self.start_dir)\n",
      "ValueError: seek of closed file\n"
     ]
    }
   ],
   "source": [
    "# to excel\n",
    "if print_to_excel == True:\n",
    "    Output_file = f'{str(date.today())}_ivest_vs_OCP.xlsx'\n",
    "    with pd.ExcelWriter(Output_file, engine='openpyxl') as writer:\n",
    "        merge_data.to_excel(writer, index=False, sheet_name='compare')\n",
    "        old_data.to_excel(writer, index=False, sheet_name='data_script')\n",
    "        new_data.to_excel(writer, index=False, sheet_name='data_unOCP')\n"
   ]
  }
 ],
 "metadata": {
  "kernelspec": {
   "display_name": "base",
   "language": "python",
   "name": "python3"
  },
  "language_info": {
   "codemirror_mode": {
    "name": "ipython",
    "version": 3
   },
   "file_extension": ".py",
   "mimetype": "text/x-python",
   "name": "python",
   "nbconvert_exporter": "python",
   "pygments_lexer": "ipython3",
   "version": "3.11.5"
  }
 },
 "nbformat": 4,
 "nbformat_minor": 2
}
