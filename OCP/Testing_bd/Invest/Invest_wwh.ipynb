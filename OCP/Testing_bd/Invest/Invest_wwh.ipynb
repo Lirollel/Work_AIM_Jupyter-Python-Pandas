{
 "cells": [
  {
   "cell_type": "code",
   "execution_count": 136,
   "metadata": {},
   "outputs": [],
   "source": [
    "import sys\n",
    "sys.path.append(\"C:\\\\Users\\\\KlimovaAnnaA\\\\Documents\\\\MyFiles\\\\Projects\\\\Working_attributes\")\n",
    "from Imports import * "
   ]
  },
  {
   "cell_type": "code",
   "execution_count": 137,
   "metadata": {},
   "outputs": [
    {
     "data": {
      "text/plain": [
       "(104629, 25)"
      ]
     },
     "execution_count": 137,
     "metadata": {},
     "output_type": "execute_result"
    }
   ],
   "source": [
    "old_data = pd.read_excel('report_invest_30.09.2024.xlsx', sheet_name='snapshot')\n",
    "old_data.shape"
   ]
  },
  {
   "cell_type": "code",
   "execution_count": 13,
   "metadata": {},
   "outputs": [
    {
     "name": "stderr",
     "output_type": "stream",
     "text": [
      "c:\\Users\\KlimovaAnnaA\\AppData\\Local\\miniconda3\\Lib\\site-packages\\openpyxl\\styles\\stylesheet.py:237: UserWarning: Workbook contains no default style, apply openpyxl's default\n",
      "  warn(\"Workbook contains no default style, apply openpyxl's default\")\n"
     ]
    },
    {
     "data": {
      "text/plain": [
       "(12078, 39)"
      ]
     },
     "execution_count": 13,
     "metadata": {},
     "output_type": "execute_result"
    }
   ],
   "source": [
    "new_data = pd.read_excel('automated_for_test_30_09_2024.xlsx')\n",
    "new_data.shape"
   ]
  },
  {
   "cell_type": "code",
   "execution_count": 62,
   "metadata": {},
   "outputs": [],
   "source": [
    "ccy_dict = {'Рубль':'RUB','Евро':'EUR', 'Долла':'USD', 'Рупия':'INR', 'Тенге':'KZT'}\n",
    "old_data.currency = old_data.currency.replace(CCY_tech_dict)\n",
    "new_data.currency = new_data.currency.replace(ccy_dict)"
   ]
  },
  {
   "cell_type": "code",
   "execution_count": 131,
   "metadata": {},
   "outputs": [],
   "source": [
    "# old_data_columns_list = ['companyCode', 'companyName', 'plantId', 'plantName','sector', 'sectorName', 'wbsElement', 'wbsElementName', 'vendorId','vendorName', 'projectTypeCode', 'projectTypeName', 'projectProfile','projectId', 'projectName', 'costElement', 'costElementName','versionCode', 'versionName', 'calendarYearMonth', 'currency', 'Сумма ПВК']\n",
    "old_data_columns_list = ['companyCode', 'plantId', 'sector', 'wbsElement', 'vendorId', 'versionCode', 'calendarYearMonth']\n",
    "# old_data_work = old_data[old_data_columns_list]\n",
    "# to_remove = ['wbsElement','wbsElementName','projectTypeName','costElement','Сумма ПВК']\n",
    "to_count = 'Сумма ПВК'\n",
    "# for x in to_remove:\n",
    "#     old_data_columns_list.remove(x)\n",
    "old_data_work_pivot = old_data.groupby(as_index=False, dropna=False, by=old_data_columns_list)[to_count].agg('sum')"
   ]
  },
  {
   "cell_type": "code",
   "execution_count": 132,
   "metadata": {},
   "outputs": [],
   "source": [
    "# new_data_columns_list = ['companyCode', 'companyName', 'plantId', 'plantName','sector', 'sectorName', 'wbsElement', 'wbsElementName', 'vendorId','vendorName', 'projectTypeCode', 'projectTypeName', 'projectProfile','projectId', 'projectName', 'costElement', 'costElementName','versionCode', 'versionName', 'period', 'currency', 'amountIndicators']\n",
    "# new_data_work = new_data[new_data_columns_list]\n",
    "new_data_columns_list = ['companyCode', 'plantId', 'sector', 'wbsElement', 'vendorId', 'versionCode', 'period']\n",
    "# to_remove = ['wbsElement','wbsElementName','projectTypeName','costElement','amountIndicators']\n",
    "to_count = 'amountIndicators'\n",
    "# for x in to_remove:\n",
    "#     new_data_columns_list.remove(x)\n",
    "new_data_work_pivot = new_data.groupby(as_index=False, dropna=False, by=new_data_columns_list)[to_count].agg('sum')"
   ]
  },
  {
   "cell_type": "code",
   "execution_count": 133,
   "metadata": {},
   "outputs": [],
   "source": [
    "new_data_work_pivot['vendorId'], old_data_work_pivot['vendorId'] = new_data_work_pivot['vendorId'].astype(str), old_data_work_pivot['vendorId'].astype(str)\n",
    "new_data_work_pivot['period'], old_data_work_pivot['calendarYearMonth'] = new_data_work_pivot['period'].astype(str), old_data_work_pivot['calendarYearMonth'].astype(str)\n",
    "merge_data = old_data_work_pivot.merge(new_data_work_pivot, how='outer', left_on=old_data_columns_list, right_on=new_data_columns_list).sort_values(['calendarYearMonth', 'period'])"
   ]
  },
  {
   "cell_type": "code",
   "execution_count": 134,
   "metadata": {},
   "outputs": [
    {
     "data": {
      "text/html": [
       "<div>\n",
       "<style scoped>\n",
       "    .dataframe tbody tr th:only-of-type {\n",
       "        vertical-align: middle;\n",
       "    }\n",
       "\n",
       "    .dataframe tbody tr th {\n",
       "        vertical-align: top;\n",
       "    }\n",
       "\n",
       "    .dataframe thead th {\n",
       "        text-align: right;\n",
       "    }\n",
       "</style>\n",
       "<table border=\"1\" class=\"dataframe\">\n",
       "  <thead>\n",
       "    <tr style=\"text-align: right;\">\n",
       "      <th></th>\n",
       "      <th>companyCode</th>\n",
       "      <th>plantId</th>\n",
       "      <th>sector</th>\n",
       "      <th>wbsElement</th>\n",
       "      <th>vendorId</th>\n",
       "      <th>versionCode</th>\n",
       "      <th>calendarYearMonth</th>\n",
       "      <th>Сумма ПВК</th>\n",
       "      <th>period</th>\n",
       "      <th>amountIndicators</th>\n",
       "    </tr>\n",
       "  </thead>\n",
       "  <tbody>\n",
       "    <tr>\n",
       "      <th>1557</th>\n",
       "      <td>2100</td>\n",
       "      <td>2102</td>\n",
       "      <td>2A22</td>\n",
       "      <td>C.21020001-1.03.020</td>\n",
       "      <td>1000013981</td>\n",
       "      <td>35</td>\n",
       "      <td>10.2024</td>\n",
       "      <td>13921216.00</td>\n",
       "      <td>10.2024</td>\n",
       "      <td>13921216.00</td>\n",
       "    </tr>\n",
       "    <tr>\n",
       "      <th>1558</th>\n",
       "      <td>2100</td>\n",
       "      <td>2102</td>\n",
       "      <td>2A22</td>\n",
       "      <td>C.21020001-1.03.020</td>\n",
       "      <td>1000013981</td>\n",
       "      <td>45</td>\n",
       "      <td>10.2024</td>\n",
       "      <td>16705459.20</td>\n",
       "      <td>10.2024</td>\n",
       "      <td>16705459.20</td>\n",
       "    </tr>\n",
       "    <tr>\n",
       "      <th>1559</th>\n",
       "      <td>2100</td>\n",
       "      <td>2102</td>\n",
       "      <td>2A22</td>\n",
       "      <td>C.21020001-1.03.020</td>\n",
       "      <td>1000013981</td>\n",
       "      <td>75</td>\n",
       "      <td>10.2024</td>\n",
       "      <td>13921216.00</td>\n",
       "      <td>10.2024</td>\n",
       "      <td>13921216.00</td>\n",
       "    </tr>\n",
       "    <tr>\n",
       "      <th>1560</th>\n",
       "      <td>2100</td>\n",
       "      <td>2102</td>\n",
       "      <td>2A22</td>\n",
       "      <td>C.21020001-1.03.020</td>\n",
       "      <td>1000013981</td>\n",
       "      <td>85</td>\n",
       "      <td>10.2024</td>\n",
       "      <td>13921216.00</td>\n",
       "      <td>10.2024</td>\n",
       "      <td>13921216.00</td>\n",
       "    </tr>\n",
       "    <tr>\n",
       "      <th>1632</th>\n",
       "      <td>2100</td>\n",
       "      <td>2102</td>\n",
       "      <td>2A22</td>\n",
       "      <td>C.21020027-1.01.001</td>\n",
       "      <td>1000013981</td>\n",
       "      <td>45</td>\n",
       "      <td>10.2024</td>\n",
       "      <td>52961614.93</td>\n",
       "      <td>10.2024</td>\n",
       "      <td>50437906.68</td>\n",
       "    </tr>\n",
       "    <tr>\n",
       "      <th>...</th>\n",
       "      <td>...</td>\n",
       "      <td>...</td>\n",
       "      <td>...</td>\n",
       "      <td>...</td>\n",
       "      <td>...</td>\n",
       "      <td>...</td>\n",
       "      <td>...</td>\n",
       "      <td>...</td>\n",
       "      <td>...</td>\n",
       "      <td>...</td>\n",
       "    </tr>\n",
       "    <tr>\n",
       "      <th>102368</th>\n",
       "      <td>Y300</td>\n",
       "      <td>Y321</td>\n",
       "      <td>Y321</td>\n",
       "      <td>W.Y3210141-1.01.001.02</td>\n",
       "      <td>1000094921</td>\n",
       "      <td>85</td>\n",
       "      <td>12.2024</td>\n",
       "      <td>881362.00</td>\n",
       "      <td>12.2024</td>\n",
       "      <td>38333333.33</td>\n",
       "    </tr>\n",
       "    <tr>\n",
       "      <th>102587</th>\n",
       "      <td>Y300</td>\n",
       "      <td>Y321</td>\n",
       "      <td>Y321</td>\n",
       "      <td>W.Y3210178-1.01.001</td>\n",
       "      <td>1000086870</td>\n",
       "      <td>35</td>\n",
       "      <td>12.2024</td>\n",
       "      <td>4500000.00</td>\n",
       "      <td>12.2024</td>\n",
       "      <td>4500000.00</td>\n",
       "    </tr>\n",
       "    <tr>\n",
       "      <th>102588</th>\n",
       "      <td>Y300</td>\n",
       "      <td>Y321</td>\n",
       "      <td>Y321</td>\n",
       "      <td>W.Y3210178-1.01.001</td>\n",
       "      <td>1000086870</td>\n",
       "      <td>45</td>\n",
       "      <td>12.2024</td>\n",
       "      <td>3780000.00</td>\n",
       "      <td>12.2024</td>\n",
       "      <td>3780000.00</td>\n",
       "    </tr>\n",
       "    <tr>\n",
       "      <th>102589</th>\n",
       "      <td>Y300</td>\n",
       "      <td>Y321</td>\n",
       "      <td>Y321</td>\n",
       "      <td>W.Y3210178-1.01.001</td>\n",
       "      <td>1000086870</td>\n",
       "      <td>75</td>\n",
       "      <td>12.2024</td>\n",
       "      <td>3150000.00</td>\n",
       "      <td>12.2024</td>\n",
       "      <td>3150000.00</td>\n",
       "    </tr>\n",
       "    <tr>\n",
       "      <th>102590</th>\n",
       "      <td>Y300</td>\n",
       "      <td>Y321</td>\n",
       "      <td>Y321</td>\n",
       "      <td>W.Y3210178-1.01.001</td>\n",
       "      <td>1000086870</td>\n",
       "      <td>85</td>\n",
       "      <td>12.2024</td>\n",
       "      <td>4500000.00</td>\n",
       "      <td>12.2024</td>\n",
       "      <td>4500000.00</td>\n",
       "    </tr>\n",
       "  </tbody>\n",
       "</table>\n",
       "<p>7129 rows × 10 columns</p>\n",
       "</div>"
      ],
      "text/plain": [
       "       companyCode plantId sector              wbsElement    vendorId  \\\n",
       "1557          2100    2102   2A22     C.21020001-1.03.020  1000013981   \n",
       "1558          2100    2102   2A22     C.21020001-1.03.020  1000013981   \n",
       "1559          2100    2102   2A22     C.21020001-1.03.020  1000013981   \n",
       "1560          2100    2102   2A22     C.21020001-1.03.020  1000013981   \n",
       "1632          2100    2102   2A22     C.21020027-1.01.001  1000013981   \n",
       "...            ...     ...    ...                     ...         ...   \n",
       "102368        Y300    Y321   Y321  W.Y3210141-1.01.001.02  1000094921   \n",
       "102587        Y300    Y321   Y321     W.Y3210178-1.01.001  1000086870   \n",
       "102588        Y300    Y321   Y321     W.Y3210178-1.01.001  1000086870   \n",
       "102589        Y300    Y321   Y321     W.Y3210178-1.01.001  1000086870   \n",
       "102590        Y300    Y321   Y321     W.Y3210178-1.01.001  1000086870   \n",
       "\n",
       "        versionCode calendarYearMonth    Сумма ПВК   period  amountIndicators  \n",
       "1557             35           10.2024  13921216.00  10.2024       13921216.00  \n",
       "1558             45           10.2024  16705459.20  10.2024       16705459.20  \n",
       "1559             75           10.2024  13921216.00  10.2024       13921216.00  \n",
       "1560             85           10.2024  13921216.00  10.2024       13921216.00  \n",
       "1632             45           10.2024  52961614.93  10.2024       50437906.68  \n",
       "...             ...               ...          ...      ...               ...  \n",
       "102368           85           12.2024    881362.00  12.2024       38333333.33  \n",
       "102587           35           12.2024   4500000.00  12.2024        4500000.00  \n",
       "102588           45           12.2024   3780000.00  12.2024        3780000.00  \n",
       "102589           75           12.2024   3150000.00  12.2024        3150000.00  \n",
       "102590           85           12.2024   4500000.00  12.2024        4500000.00  \n",
       "\n",
       "[7129 rows x 10 columns]"
      ]
     },
     "execution_count": 134,
     "metadata": {},
     "output_type": "execute_result"
    }
   ],
   "source": [
    "merge_data[(~merge_data.calendarYearMonth.isna())&(~merge_data.period.isna())]\n",
    "# merge_data = is_approximately_equal_for_cols(merge_data, col_1='Сумма ПВК' ,col_2='amountIndicators', tolerance=0.4, print_diff=False, name_col_with_diff='')"
   ]
  },
  {
   "cell_type": "code",
   "execution_count": 135,
   "metadata": {},
   "outputs": [],
   "source": [
    "# to excel\n",
    "Output_file = f'{str(date.today())}_ivest_wwwh.xlsx'\n",
    "with pd.ExcelWriter(Output_file, engine='openpyxl') as writer:\n",
    "    merge_data.to_excel(writer, index=False, sheet_name='merge')\n",
    "    old_data.to_excel(writer, index=False, sheet_name='data_manual')\n",
    "    new_data.to_excel(writer, index=False, sheet_name='data_wwwh')\n"
   ]
  }
 ],
 "metadata": {
  "kernelspec": {
   "display_name": "base",
   "language": "python",
   "name": "python3"
  },
  "language_info": {
   "codemirror_mode": {
    "name": "ipython",
    "version": 3
   },
   "file_extension": ".py",
   "mimetype": "text/x-python",
   "name": "python",
   "nbconvert_exporter": "python",
   "pygments_lexer": "ipython3",
   "version": "3.11.5"
  }
 },
 "nbformat": 4,
 "nbformat_minor": 2
}
