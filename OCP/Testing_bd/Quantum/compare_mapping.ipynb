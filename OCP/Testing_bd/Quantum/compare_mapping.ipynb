{
 "cells": [
  {
   "cell_type": "code",
   "execution_count": 1,
   "metadata": {},
   "outputs": [],
   "source": [
    "import sys\n",
    "sys.path.append(\"C:\\\\Users\\\\KlimovaAnnaA\\\\Documents\\\\MyFiles\\\\Projects\\\\Working_attributes\")\n",
    "from Imports import * "
   ]
  },
  {
   "cell_type": "code",
   "execution_count": 21,
   "metadata": {},
   "outputs": [
    {
     "name": "stderr",
     "output_type": "stream",
     "text": [
      "C:\\Users\\KlimovaAnnaA\\Documents\\MyFiles\\Projects\\Working_attributes\\Defs.py:176: UserWarning: pandas only supports SQLAlchemy connectable (engine/connection) or database string URI or sqlite3 DBAPI2 connection. Other DBAPI2 objects are not tested. Please consider using SQLAlchemy.\n",
      "  data_export = pd.read_sql(query, con=connection)\n"
     ]
    },
    {
     "data": {
      "text/html": [
       "<div>\n",
       "<style scoped>\n",
       "    .dataframe tbody tr th:only-of-type {\n",
       "        vertical-align: middle;\n",
       "    }\n",
       "\n",
       "    .dataframe tbody tr th {\n",
       "        vertical-align: top;\n",
       "    }\n",
       "\n",
       "    .dataframe thead th {\n",
       "        text-align: right;\n",
       "    }\n",
       "</style>\n",
       "<table border=\"1\" class=\"dataframe\">\n",
       "  <thead>\n",
       "    <tr style=\"text-align: right;\">\n",
       "      <th></th>\n",
       "      <th>CompName</th>\n",
       "      <th>id</th>\n",
       "      <th>buName</th>\n",
       "      <th>salesUnitId</th>\n",
       "      <th>compare_id</th>\n",
       "    </tr>\n",
       "  </thead>\n",
       "  <tbody>\n",
       "    <tr>\n",
       "      <th>248</th>\n",
       "      <td>EUROCHEM GROUP AG TRADING</td>\n",
       "      <td>CHEAG</td>\n",
       "      <td>EUROCHEM GROUP AG TRADING</td>\n",
       "      <td>CHETD</td>\n",
       "      <td>False</td>\n",
       "    </tr>\n",
       "    <tr>\n",
       "      <th>751</th>\n",
       "      <td>АКЦИОНЕРНОЕ ОБЩЕСТВО \"СИБИРСКАЯ ЭНЕРГЕТИЧЕСКАЯ...</td>\n",
       "      <td>Y100</td>\n",
       "      <td>АКЦИОНЕРНОЕ ОБЩЕСТВО \"СИБИРСКАЯ ЭНЕРГЕТИЧЕСКАЯ...</td>\n",
       "      <td>1R00</td>\n",
       "      <td>False</td>\n",
       "    </tr>\n",
       "    <tr>\n",
       "      <th>972</th>\n",
       "      <td>ООО \"ГЕРМАНИЙ И ПРИЛОЖЕНИЯ\"</td>\n",
       "      <td>1J01</td>\n",
       "      <td>ООО \"ГЕРМАНИЙ И ПРИЛОЖЕНИЯ\"</td>\n",
       "      <td>BCS-1J01</td>\n",
       "      <td>False</td>\n",
       "    </tr>\n",
       "  </tbody>\n",
       "</table>\n",
       "</div>"
      ],
      "text/plain": [
       "                                              CompName     id  \\\n",
       "248                          EUROCHEM GROUP AG TRADING  CHEAG   \n",
       "751  АКЦИОНЕРНОЕ ОБЩЕСТВО \"СИБИРСКАЯ ЭНЕРГЕТИЧЕСКАЯ...   Y100   \n",
       "972                        ООО \"ГЕРМАНИЙ И ПРИЛОЖЕНИЯ\"   1J01   \n",
       "\n",
       "                                                buName salesUnitId  compare_id  \n",
       "248                          EUROCHEM GROUP AG TRADING       CHETD       False  \n",
       "751  АКЦИОНЕРНОЕ ОБЩЕСТВО \"СИБИРСКАЯ ЭНЕРГЕТИЧЕСКАЯ...        1R00       False  \n",
       "972                        ООО \"ГЕРМАНИЙ И ПРИЛОЖЕНИЯ\"    BCS-1J01       False  "
      ]
     },
     "execution_count": 21,
     "metadata": {},
     "output_type": "execute_result"
    }
   ],
   "source": [
    "mapping_unOCP = export_from_WHWEEK('select * from \"mdgBuNameToIdMapping\"')[['buName','salesUnitId']]\n",
    "my_mapping = pd.read_csv('C:\\\\Users\\\\KlimovaAnnaA\\\\Documents\\\\MyFiles\\\\Projects\\\\Working_attributes\\\\Mapping.csv', sep=',')\n",
    "\n",
    "my_mapping_work = my_mapping.copy()\n",
    "my_mapping_work.CompName = my_mapping_work.CompName.str.upper()\n",
    "\n",
    "mapping_unOCP.buName = mapping_unOCP.buName.str.upper()\n",
    "\n",
    "mapping_merge = my_mapping_work.merge(mapping_unOCP, left_on='CompName', right_on='buName', how='outer')\n",
    "mapping_merge['compare_id'] = mapping_merge.id == mapping_merge.salesUnitId\n",
    "mapping_merge_id_false = mapping_merge[(mapping_merge.compare_id==False)&(mapping_merge.CompName!=mapping_merge.id)]\n",
    "mapping_merge_id_false[~mapping_merge_id_false.salesUnitId.isna()]"
   ]
  },
  {
   "cell_type": "code",
   "execution_count": 22,
   "metadata": {},
   "outputs": [],
   "source": [
    "mapping_merge_id_false.to_excel(f'{str(date.today())}_compare_mapping.xlsx')"
   ]
  }
 ],
 "metadata": {
  "kernelspec": {
   "display_name": "base",
   "language": "python",
   "name": "python3"
  },
  "language_info": {
   "codemirror_mode": {
    "name": "ipython",
    "version": 3
   },
   "file_extension": ".py",
   "mimetype": "text/x-python",
   "name": "python",
   "nbconvert_exporter": "python",
   "pygments_lexer": "ipython3",
   "version": "3.11.5"
  }
 },
 "nbformat": 4,
 "nbformat_minor": 2
}
