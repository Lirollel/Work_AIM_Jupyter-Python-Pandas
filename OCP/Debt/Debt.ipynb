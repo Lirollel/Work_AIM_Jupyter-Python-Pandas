{
 "cells": [
  {
   "cell_type": "markdown",
   "metadata": {},
   "source": [
    "Заполните данные о необходимых переменных:"
   ]
  },
  {
   "cell_type": "code",
   "execution_count": 3,
   "metadata": {},
   "outputs": [],
   "source": [
    "Today = '2024-06-30'\n",
    "Mounth = 'Jun'\n",
    "\n",
    "print_Debt = False\n",
    "print_counterclaims = True\n",
    "excel_tofolder_on_Z = False\n",
    "\n",
    "import pandas as pd\n",
    "import numpy as np\n",
    "from datetime import date\n",
    "import sys\n",
    "sys.path.append(\"C:\\\\Users\\\\KlimovaAnnaA\\\\Documents\\\\MyFiles\\\\Projects\\\\OCP\")\n",
    "from Defs import merge_SalesUnits\n",
    "from Defs import merge_Mapping\n",
    "from Defs import Period\n",
    "from Defs import new_list\n",
    "from Defs import export_from_RISKCUSTOM\n",
    "from Defs import add_in_currency_column"
   ]
  },
  {
   "cell_type": "markdown",
   "metadata": {},
   "source": [
    "Открываю следующие файлы:"
   ]
  },
  {
   "cell_type": "code",
   "execution_count": 4,
   "metadata": {},
   "outputs": [
    {
     "name": "stderr",
     "output_type": "stream",
     "text": [
      "C:\\Users\\KlimovaAnnaA\\Documents\\MyFiles\\Projects\\OCP\\Defs.py:98: UserWarning: pandas only supports SQLAlchemy connectable (engine/connection) or database string URI or sqlite3 DBAPI2 connection. Other DBAPI2 objects are not tested. Please consider using SQLAlchemy.\n",
      "  data_export = pd.read_sql(query, con=connection)\n"
     ]
    }
   ],
   "source": [
    "query = f\"\"\"SELECT * FROM \"RISKACCESS\".\"sapPositionArrears\" WHERE \"reportDate\" = TO_DATE('{Today}', 'YYYY-MM-DD') AND \"productType\" in (130,131,132,133)\"\"\"\n",
    "data_export = export_from_RISKCUSTOM(query)\n",
    "data_export['index_SQL'] = data_export.index"
   ]
  },
  {
   "cell_type": "code",
   "execution_count": 5,
   "metadata": {},
   "outputs": [
    {
     "name": "stderr",
     "output_type": "stream",
     "text": [
      "C:\\Users\\KlimovaAnnaA\\AppData\\Local\\Temp\\ipykernel_15352\\580765983.py:6: FutureWarning: Downcasting object dtype arrays on .fillna, .ffill, .bfill is deprecated and will change in a future version. Call result.infer_objects(copy=False) instead. To opt-in to the future behavior, set `pd.set_option('future.no_silent_downcasting', True)`\n",
      "  data_Debt['termEnd'] = data_Debt['termEnd'].fillna('_')\n",
      "C:\\Users\\KlimovaAnnaA\\AppData\\Local\\Temp\\ipykernel_15352\\580765983.py:7: FutureWarning: The provided callable <built-in function sum> is currently using SeriesGroupBy.sum. In a future version of pandas, the provided callable will be used directly. To keep current behavior pass the string \"sum\" instead.\n",
      "  data_Debt = data_Debt.pivot_table(index=['Entity', 'relationshipPartner', 'Counterparty', 'accountAssignmentLinkName', 'Currency', 'termEnd'], values=['purchaseValueDisplayCurrency', 'amoutn_outstanding', 'index_SQL'], aggfunc={'purchaseValueDisplayCurrency': sum, 'amoutn_outstanding': sum, 'index_SQL':list}).reset_index()\n",
      "C:\\Users\\KlimovaAnnaA\\AppData\\Local\\Temp\\ipykernel_15352\\580765983.py:7: FutureWarning: The provided callable <built-in function sum> is currently using SeriesGroupBy.sum. In a future version of pandas, the provided callable will be used directly. To keep current behavior pass the string \"sum\" instead.\n",
      "  data_Debt = data_Debt.pivot_table(index=['Entity', 'relationshipPartner', 'Counterparty', 'accountAssignmentLinkName', 'Currency', 'termEnd'], values=['purchaseValueDisplayCurrency', 'amoutn_outstanding', 'index_SQL'], aggfunc={'purchaseValueDisplayCurrency': sum, 'amoutn_outstanding': sum, 'index_SQL':list}).reset_index()\n",
      "C:\\Users\\KlimovaAnnaA\\Documents\\MyFiles\\Projects\\OCP\\Defs.py:98: UserWarning: pandas only supports SQLAlchemy connectable (engine/connection) or database string URI or sqlite3 DBAPI2 connection. Other DBAPI2 objects are not tested. Please consider using SQLAlchemy.\n",
      "  data_export = pd.read_sql(query, con=connection)\n",
      "C:\\Users\\KlimovaAnnaA\\Documents\\MyFiles\\Projects\\OCP\\Defs.py:165: FutureWarning: Downcasting behavior in `replace` is deprecated and will be removed in a future version. To retain the old behavior, explicitly call `result.infer_objects(copy=False)`. To opt-in to the future behavior, set `pd.set_option('future.no_silent_downcasting', True)`\n",
      "  df[f'Coef_to_{CCY_to}'] = df.date_CCY_from.replace(coef_dict).fillna(0)\n",
      "C:\\Users\\KlimovaAnnaA\\Documents\\MyFiles\\Projects\\OCP\\Defs.py:98: UserWarning: pandas only supports SQLAlchemy connectable (engine/connection) or database string URI or sqlite3 DBAPI2 connection. Other DBAPI2 objects are not tested. Please consider using SQLAlchemy.\n",
      "  data_export = pd.read_sql(query, con=connection)\n",
      "C:\\Users\\KlimovaAnnaA\\Documents\\MyFiles\\Projects\\OCP\\Defs.py:43: FutureWarning: Setting an item of incompatible dtype is deprecated and will raise an error in a future version of pandas. Value '['SUEK INT' 'SUEK INT' 'EURSALES' 'EURSALES' 'EX SUEK AG' 'EX SUEK AG'\n",
      " 'EX SUEK AG' 'SPV' 'SPV' 'SGC' 'SGC' 'SGC' 'RUFERT' 'RUFERT' 'NTC' 'NTC'\n",
      " 'NTC' 'NTC' 'NTC' 'RUFERT' 'RUFERT' 'SGC' 'SGC' 'SGC' 'SGC' 'SGC' 'SGC'\n",
      " 'SGC' 'SGC' 'SGC' 'SUEK RU' 'SUEK RU' 'SUEK RU' 'SGC' 'RUFERT' 'RUFERT'\n",
      " 'RUFERT' 'RUFERT' 'RUFERT' 'RUFERT' 'RUFERT' 'RUFERT' 'RUFERT' 'RUFERT'\n",
      " 'RUFERT' 'RUFERT' 'RUFERT' 'RUFERT' 'RUFERT' 'RUFERT' 'RUFERT' 'RUFERT'\n",
      " 'RUFERT' 'RUFERT' 'RUFERT' 'RUFERT' 'RUFERT' 'RUFERT' 'RUFERT' 'RUFERT'\n",
      " 'RUFERT' 'RUFERT' 'RUFERT' 'RUFERT' 'RUFERT' 'RUFERT' 'RUFERT' 'RUFERT'\n",
      " 'SGC' 'SGC' 'SGC' 'SGC' 'SGC' 'SGC' 'SGC' 'SGC' 'SGC' 'SGC' 'SUEK RU'\n",
      " 'SUEK RU' 'NTC' 'NTC' 'NTC' 'NTC' 'RUFERT' 'RUFERT' 'RUFERT' 'RUFERT'\n",
      " 'RUFERT' 'RUFERT' 'RUFERT' 'RUFERT' 'RUFERT' 'RUFERT' 'RUFERT' 'RUFERT'\n",
      " 'RUFERT' 'RUFERT' 'RUFERT' 'RUFERT' 'RUFERT' 'RUFERT' 'RUFERT' 'RUFERT'\n",
      " 'RUFERT' 'RUFERT' 'RUFERT' 'RUFERT' 'RUFERT' 'RUFERT' 'RUFERT' 'RUFERT'\n",
      " 'RUFERT' 'RUFERT' 'RUFERT' 'RUFERT' 'RUFERT' 'RUFERT' 'RUFERT' 'RUFERT'\n",
      " 'RUFERT' 'RUFERT' 'RUFERT' 'RUFERT' 'RUFERT' 'RUFERT' 'RUFERT' 'RUFERT'\n",
      " 'RUFERT' 'RUFERT' 'RUFERT' 'RUFERT' 'RUFERT' 'RUFERT' 'RUFERT' 'RUFERT'\n",
      " 'RUFERT' 'RUFERT' 'RUFERT' 'RUFERT' 'RUFERT' 'RUFERT' 'RUFERT' 'RUFERT'\n",
      " 'RUFERT' 'RUFERT' 'NTC' 'NTC' 'NTC' 'NTC' 'NTC' 'NTC' 'NTC' 'SGC'\n",
      " 'RUFERT' 'RUFERT' 'RUFERT' 'RUFERT' 'SGC' 'SUEK RU' 'SUEK RU' 'SUEK RU'\n",
      " 'SUEK RU' 'SUEK RU' 'SUEK RU' 'SUEK RU' 'SUEK RU' 'SUEK RU' 'SUEK RU'\n",
      " 'SUEK RU' 'SUEK RU' 'SUEK RU' 'SUEK RU' 'SUEK RU' 'SUEK RU' 'SUEK RU'\n",
      " 'SUEK RU' 'SUEK RU' 'SUEK RU' 'SUEK RU' 'SUEK RU' 'SUEK RU' 'SUEK RU'\n",
      " 'SUEK RU' 'SUEK RU' 'SUEK RU' 'SUEK RU' 'SUEK RU' 'SUEK RU' 'SUEK RU'\n",
      " 'SUEK RU' 'SUEK RU' 'SUEK RU' 'SUEK RU' 'SUEK RU' 'SUEK RU' 'SUEK RU'\n",
      " 'SUEK RU' 'SUEK RU' 'SUEK RU' 'SUEK RU' 'SUEK RU' 'SUEK RU' 'SUEK RU'\n",
      " 'SUEK RU' 'SUEK RU' 'SUEK RU' 'SUEK RU' 'SUEK RU' 'SUEK RU' 'SUEK RU'\n",
      " 'SUEK RU' 'SUEK RU' 'SUEK RU' 'SUEK RU' 'SUEK RU' 'SUEK RU' 'SUEK RU'\n",
      " 'SUEK RU' 'SUEK RU' 'SUEK RU' 'SUEK RU' 'SUEK RU' 'SUEK RU' 'SUEK RU'\n",
      " 'SUEK RU' 'SUEK RU' 'SUEK RU' 'SUEK RU' 'SUEK RU' 'SUEK RU' 'SUEK RU'\n",
      " 'SUEK RU' 'SUEK RU' 'SUEK RU' 'SUEK RU' 'SUEK RU' 'SUEK RU' 'SUEK RU'\n",
      " 'SUEK RU' 'SUEK RU' 'SUEK RU' 'SUEK RU' 'SUEK RU' 'SUEK RU' 'SUEK RU'\n",
      " 'SUEK RU' 'SUEK RU' 'SUEK RU' 'SUEK RU' 'SUEK RU' 'SUEK RU' 'SUEK RU'\n",
      " 'SUEK RU' 'SUEK RU' 'SUEK RU' 'SUEK RU' 'SUEK RU' 'SUEK RU' 'SUEK RU'\n",
      " 'SUEK RU' 'SUEK RU' 'SUEK RU' 'SUEK RU' 'SUEK RU' 'SUEK RU' 'SUEK RU'\n",
      " 'SUEK RU' 'SUEK RU' 'SUEK RU' 'SUEK RU' 'SUEK RU' 'SUEK RU' 'SGC' 'SGC'\n",
      " 'SUEK RU' 'SUEK RU' 'RUFERT' 'RUFERT' 'SPV' 'SPV' 'SPV' 'SPV' 'SPV' 'SPV'\n",
      " 'SPV' 'SPV' 'SPV' 'SPV' 'SPV' 'SPV' 'SPV' 'SPV' 'SPV' 'SPV' 'SPV' 'SPV'\n",
      " 'SPV' 'SPV' 'SPV' 'SPV' 'SPV' 'SPV' 'SPV' 'SPV' 'SPV' 'SPV' 'SPV' 'SPV'\n",
      " 'SPV' 'SPV' 'SPV' 'SPV' 'SPV' 'SPV' 'SPV' 'SPV' 'SPV' 'SPV' 'SPV'\n",
      " 'SUEK RU' 'SUEK RU' 'NTC' 'NTC' 'NTC' 'NTC' 'SGC' 'NTC' 'SUEK RU'\n",
      " 'SUEK RU' 'RUFERT' 'RUFERT' 'RUFERT' 'RUFERT' 'SGC' 'SUEK RU' 'RUFERT'\n",
      " 'RUFERT' 'RUFERT' 'RUFERT' 'RUFERT' 'RUFERT' 'RUFERT' 'RUFERT' 'RUFERT'\n",
      " 'RUFERT' 'RUFERT' 'RUFERT' 'RUFERT' 'RUFERT' 'RUFERT' 'RUFERT' 'SGC'\n",
      " 'SGC' 'RUFERT' 'NTC' 'NTC' 'SGC' 'SGC' 'SUEK RU' 'SGC' 'SGC' 'SGC' 'SGC'\n",
      " 'SGC' 'SGC' 'SGC' 'SGC' 'RUFERT' 'RUFERT' 'NTC' 'RUFERT' 'RUFERT'\n",
      " 'RUFERT' 'RUFERT' 'RUFERT' 'RUFERT' 'RUFERT' 'RUFERT' 'NTC' 'SUEK RU'\n",
      " 'SUEK RU' 'SUEK RU' 'SGC' 'SPV' 'SGC' 'SGC' 'SGC' 'SGC' 'SGC' 'SGC' 'SGC'\n",
      " 'SGC' 'SGC' 'SGC' 'SGC' 'SGC' 'SGC' 'SGC' 'SGC' 'SGC' 'SGC' 'SGC' 'SGC'\n",
      " 'SGC' 'SGC' 'SGC' 'SGC' 'SGC' 'SGC' 'SGC' 'SGC' 'SGC' 'SGC' 'SGC' 'SGC'\n",
      " 'SGC' 'SGC' 'SGC' 'SGC' 'SGC' 'SGC' 'SGC' 'SGC' 'SGC' 'SGC' 'SUEK RU'\n",
      " 'SUEK RU' 'SGC' 'RUFERT' 'SGC' 'SUEK RU' 'SPV' 'SPV' 'SPV' 'SPV' 'SPV'\n",
      " 'SPV' 'SUEK RU' 'SUEK RU' 'SUEK RU' 'SUEK RU' 'NTC' 'SGC' 'RUFERT'\n",
      " 'SUEK RU' 'SUEK RU' 'NTC' 'SUEK RU' 'SUEK RU' 'SUEK RU' 'SGC' 'RUFERT'\n",
      " 'SUEK RU' 'SGC' 'RUFERT' 'SUEK RU' 'RUFERT' 'SUEK RU' 'SUEK RU' 'SUEK RU'\n",
      " 'NTC' 'NTC' 'RUFERT' 'SUEK RU' 'RUFERT' 'RUFERT' 'RUFERT' 'RUFERT'\n",
      " 'RUFERT' 'RUFERT' 'RUFERT' 'RUFERT' 'SGC']' has dtype incompatible with float64, please explicitly cast to a compatible dtype first.\n",
      "  merge_data.loc[merge_data[f'{id_colmn}_merge'] != 'External', 'last_merge'] = merge_data.loc[merge_data[f'{id_colmn}_merge'] != 'External', f'{id_colmn}_merge']\n",
      "C:\\Users\\KlimovaAnnaA\\Documents\\MyFiles\\Projects\\OCP\\Defs.py:98: UserWarning: pandas only supports SQLAlchemy connectable (engine/connection) or database string URI or sqlite3 DBAPI2 connection. Other DBAPI2 objects are not tested. Please consider using SQLAlchemy.\n",
      "  data_export = pd.read_sql(query, con=connection)\n",
      "C:\\Users\\KlimovaAnnaA\\Documents\\MyFiles\\Projects\\OCP\\Defs.py:43: FutureWarning: Setting an item of incompatible dtype is deprecated and will raise an error in a future version of pandas. Value '['TRADING' 'TRADING' 'SPV' 'SUEK RU' 'SGC' 'SGC' 'RUFERT' 'RUFERT'\n",
      " 'SUEK RU' 'SPV' 'RUFERT' 'RUFERT' 'SUEK RU' 'SGC' 'SGC' 'SUEK RU'\n",
      " 'SUEK RU' 'SGC' 'RUFERT' 'RUFERT' 'SUEK RU' 'SUEK RU' 'SPV' 'SGC' 'SGC'\n",
      " 'SGC' 'SGC' 'SUEK RU' 'SUEK RU' 'SUEK RU' 'SPV' 'SPV' 'TRADING' 'RUFERT'\n",
      " 'RUFERT' 'RUFERT' 'RUFERT' 'RUFERT' 'RUFERT' 'RUFERT' 'RUFERT' 'RUFERT'\n",
      " 'RUFERT' 'RUFERT' 'SPV' 'RUFERT' 'RUFERT' 'RUFERT' 'RUFERT' 'RUFERT'\n",
      " 'RUFERT' 'RUFERT' 'RUFERT' 'RUFERT' 'RUFERT' 'RUFERT' 'RUFERT' 'RUFERT'\n",
      " 'RUFERT' 'RUFERT' 'RUFERT' 'RUFERT' 'RUFERT' 'RUFERT' 'RUFERT' 'RUFERT'\n",
      " 'RUFERT' 'RUFERT' 'RUFERT' 'RUFERT' 'RUFERT' 'RUFERT' 'RUFERT' 'RUFERT'\n",
      " 'SPV' 'RUFERT' 'RUFERT' 'RUFERT' 'RUFERT' 'TRADING' 'RUFERT' 'RUFERT'\n",
      " 'SUEK RU' 'SUEK RU' 'SUEK RU' 'SUEK RU' 'NTC' 'SGC' 'RUFERT' 'RUFERT'\n",
      " 'RUFERT' 'SGC' 'SUEK RU' 'SUEK RU' 'SUEK RU' 'SPV' 'SPV' 'SUEK RU'\n",
      " 'SUEK RU' 'SGC' 'SGC' 'SGC' 'SGC' 'SPV' 'NTC' 'SGC' 'SUEK RU' 'SUEK RU'\n",
      " 'SGC' 'NTC' 'NTC' 'NTC' 'SUEK RU' 'SUEK RU' 'SUEK RU' 'SUEK RU' 'SUEK RU'\n",
      " 'SUEK RU' 'SUEK RU' 'SUEK RU' 'SUEK RU' 'SUEK RU' 'SUEK RU' 'SUEK RU'\n",
      " 'SPV' 'SPV' 'SUEK RU' 'SUEK RU' 'SUEK RU' 'NTC' 'NTC' 'SUEK RU' 'SUEK RU'\n",
      " 'NTC' 'SUEK RU' 'SUEK RU' 'NTC' 'SUEK RU' 'SUEK RU' 'SUEK RU' 'SUEK RU'\n",
      " 'SPV' 'SPV' 'SPV' 'SPV' 'SPV' 'SPV' 'SUEK RU' 'SUEK RU' 'SGC' 'SGC' 'SGC'\n",
      " 'SGC' 'NTC' 'NTC' 'NTC' 'SUEK RU' 'SUEK RU' 'SUEK RU' 'SUEK RU' 'SUEK RU'\n",
      " 'SUEK RU' 'SUEK RU' 'SUEK RU' 'SUEK RU' 'SUEK RU' 'SUEK RU' 'SUEK RU'\n",
      " 'SGC' 'SUEK RU' 'SUEK RU' 'SUEK RU' 'SPV' 'SPV' 'SUEK RU' 'SGC' 'SGC'\n",
      " 'SUEK RU' 'SPV' 'RUFERT' 'RUFERT' 'RUFERT' 'NTC' 'NTC' 'NTC' 'SGC' 'NTC'\n",
      " 'SUEK RU' 'SUEK RU' 'SUEK RU' 'SUEK RU' 'SUEK RU' 'SUEK RU' 'SUEK RU'\n",
      " 'SUEK RU' 'SUEK RU' 'SUEK RU' 'SUEK RU' 'NTC' 'NTC' 'NTC' 'SGC' 'SUEK RU'\n",
      " 'SUEK RU' 'SUEK RU' 'RUFERT' 'RUFERT' 'RUFERT' 'SGC' 'SUEK RU' 'RUFERT'\n",
      " 'RUFERT' 'RUFERT' 'RUFERT' 'RUFERT' 'RUFERT' 'RUFERT' 'RUFERT' 'RUFERT'\n",
      " 'RUFERT' 'RUFERT' 'RUFERT' 'RUFERT' 'SGC' 'RUFERT' 'NTC' 'SUEK RU' 'SGC'\n",
      " 'SGC' 'SUEK RU' 'SGC' 'SGC' 'RUFERT' 'RUFERT' 'NTC' 'RUFERT' 'RUFERT'\n",
      " 'RUFERT' 'RUFERT' 'RUFERT' 'RUFERT' 'RUFERT' 'RUFERT' 'SUEK RU' 'SUEK RU'\n",
      " 'SUEK RU' 'SPV' 'SGC' 'RUFERT' 'SGC' 'SGC' 'SGC' 'SGC' 'SGC' 'SGC' 'SGC'\n",
      " 'SGC' 'SGC' 'SGC' 'SGC' 'SGC' 'SUEK RU' 'SUEK RU' 'SUEK RU' 'SUEK RU'\n",
      " 'SGC' 'SGC' 'SGC' 'SGC' 'SGC' 'SGC' 'SGC' 'SGC' 'SGC' 'SGC' 'SGC' 'SGC'\n",
      " 'SGC' 'SGC' 'SGC' 'SUEK RU' 'SGC' 'SGC' 'SGC' 'SUEK RU' 'SUEK RU' 'SGC'\n",
      " 'RUFERT' 'SGC' 'SUEK RU' 'SUEK RU' 'SUEK RU' 'SUEK RU' 'SUEK RU'\n",
      " 'SUEK RU' 'SUEK RU' 'SUEK RU' 'SUEK RU' 'SPV' 'SPV' 'SUEK RU' 'SGC'\n",
      " 'RUFERT' 'SUEK RU' 'SUEK RU' 'SUEK RU' 'SGC' 'SUEK RU' 'SUEK RU' 'SGC'\n",
      " 'RUFERT' 'SUEK RU' 'SGC' 'SUEK RU' 'RUFERT' 'SUEK RU' 'SPV' 'SUEK RU'\n",
      " 'SUEK RU' 'SUEK RU' 'RUFERT' 'SUEK RU' 'RUFERT' 'RUFERT' 'RUFERT'\n",
      " 'RUFERT' 'RUFERT' 'RUFERT' 'RUFERT' 'RUFERT' 'SGC']' has dtype incompatible with float64, please explicitly cast to a compatible dtype first.\n",
      "  merge_data.loc[merge_data[f'{id_colmn}_merge'] != 'External', 'last_merge'] = merge_data.loc[merge_data[f'{id_colmn}_merge'] != 'External', f'{id_colmn}_merge']\n",
      "C:\\Users\\KlimovaAnnaA\\Documents\\MyFiles\\Projects\\OCP\\Defs.py:98: UserWarning: pandas only supports SQLAlchemy connectable (engine/connection) or database string URI or sqlite3 DBAPI2 connection. Other DBAPI2 objects are not tested. Please consider using SQLAlchemy.\n",
      "  data_export = pd.read_sql(query, con=connection)\n",
      "C:\\Users\\KlimovaAnnaA\\Documents\\MyFiles\\Projects\\OCP\\Defs.py:43: FutureWarning: Setting an item of incompatible dtype is deprecated and will raise an error in a future version of pandas. Value '['SUEK' 'SUEK' 'EUROCHEM' 'EUROCHEM' 'EUROCHEM' 'EUROCHEM' 'EUROCHEM'\n",
      " 'SUEK' 'SUEK' 'SUEK' 'SUEK' 'SUEK' 'EUROCHEM' 'EUROCHEM' 'SUEK' 'SUEK'\n",
      " 'SUEK' 'SUEK' 'SUEK' 'EUROCHEM' 'EUROCHEM' 'SUEK' 'SUEK' 'SUEK' 'SUEK'\n",
      " 'SUEK' 'SUEK' 'SUEK' 'SUEK' 'SUEK' 'SUEK' 'SUEK' 'SUEK' 'SUEK' 'EUROCHEM'\n",
      " 'EUROCHEM' 'EUROCHEM' 'EUROCHEM' 'EUROCHEM' 'EUROCHEM' 'EUROCHEM'\n",
      " 'EUROCHEM' 'EUROCHEM' 'EUROCHEM' 'EUROCHEM' 'EUROCHEM' 'EUROCHEM'\n",
      " 'EUROCHEM' 'EUROCHEM' 'EUROCHEM' 'EUROCHEM' 'EUROCHEM' 'EUROCHEM'\n",
      " 'EUROCHEM' 'EUROCHEM' 'EUROCHEM' 'EUROCHEM' 'EUROCHEM' 'EUROCHEM'\n",
      " 'EUROCHEM' 'EUROCHEM' 'EUROCHEM' 'EUROCHEM' 'EUROCHEM' 'EUROCHEM'\n",
      " 'EUROCHEM' 'EUROCHEM' 'EUROCHEM' 'SUEK' 'SUEK' 'SUEK' 'SUEK' 'SUEK'\n",
      " 'SUEK' 'SUEK' 'SUEK' 'SUEK' 'SUEK' 'SUEK' 'SUEK' 'SUEK' 'SUEK' 'SUEK'\n",
      " 'SUEK' 'EUROCHEM' 'EUROCHEM' 'EUROCHEM' 'EUROCHEM' 'EUROCHEM' 'EUROCHEM'\n",
      " 'EUROCHEM' 'EUROCHEM' 'EUROCHEM' 'EUROCHEM' 'EUROCHEM' 'EUROCHEM'\n",
      " 'EUROCHEM' 'EUROCHEM' 'EUROCHEM' 'EUROCHEM' 'EUROCHEM' 'EUROCHEM'\n",
      " 'EUROCHEM' 'EUROCHEM' 'EUROCHEM' 'EUROCHEM' 'EUROCHEM' 'EUROCHEM'\n",
      " 'EUROCHEM' 'EUROCHEM' 'EUROCHEM' 'EUROCHEM' 'EUROCHEM' 'EUROCHEM'\n",
      " 'EUROCHEM' 'EUROCHEM' 'EUROCHEM' 'EUROCHEM' 'EUROCHEM' 'EUROCHEM'\n",
      " 'EUROCHEM' 'EUROCHEM' 'EUROCHEM' 'EUROCHEM' 'EUROCHEM' 'EUROCHEM'\n",
      " 'EUROCHEM' 'EUROCHEM' 'EUROCHEM' 'EUROCHEM' 'EUROCHEM' 'EUROCHEM'\n",
      " 'EUROCHEM' 'EUROCHEM' 'EUROCHEM' 'EUROCHEM' 'EUROCHEM' 'EUROCHEM'\n",
      " 'EUROCHEM' 'EUROCHEM' 'EUROCHEM' 'EUROCHEM' 'EUROCHEM' 'EUROCHEM'\n",
      " 'EUROCHEM' 'EUROCHEM' 'SUEK' 'SUEK' 'SUEK' 'SUEK' 'SUEK' 'SUEK' 'SUEK'\n",
      " 'SUEK' 'EUROCHEM' 'EUROCHEM' 'EUROCHEM' 'EUROCHEM' 'SUEK' 'SUEK' 'SUEK'\n",
      " 'SUEK' 'SUEK' 'SUEK' 'SUEK' 'SUEK' 'SUEK' 'SUEK' 'SUEK' 'SUEK' 'SUEK'\n",
      " 'SUEK' 'SUEK' 'SUEK' 'SUEK' 'SUEK' 'SUEK' 'SUEK' 'SUEK' 'SUEK' 'SUEK'\n",
      " 'SUEK' 'SUEK' 'SUEK' 'SUEK' 'SUEK' 'SUEK' 'SUEK' 'SUEK' 'SUEK' 'SUEK'\n",
      " 'SUEK' 'SUEK' 'SUEK' 'SUEK' 'SUEK' 'SUEK' 'SUEK' 'SUEK' 'SUEK' 'SUEK'\n",
      " 'SUEK' 'SUEK' 'SUEK' 'SUEK' 'SUEK' 'SUEK' 'SUEK' 'SUEK' 'SUEK' 'SUEK'\n",
      " 'SUEK' 'SUEK' 'SUEK' 'SUEK' 'SUEK' 'SUEK' 'SUEK' 'SUEK' 'SUEK' 'SUEK'\n",
      " 'SUEK' 'SUEK' 'SUEK' 'SUEK' 'SUEK' 'SUEK' 'SUEK' 'SUEK' 'SUEK' 'SUEK'\n",
      " 'SUEK' 'SUEK' 'SUEK' 'SUEK' 'SUEK' 'SUEK' 'SUEK' 'SUEK' 'SUEK' 'SUEK'\n",
      " 'SUEK' 'SUEK' 'SUEK' 'SUEK' 'SUEK' 'SUEK' 'SUEK' 'SUEK' 'SUEK' 'SUEK'\n",
      " 'SUEK' 'SUEK' 'SUEK' 'SUEK' 'SUEK' 'SUEK' 'SUEK' 'SUEK' 'SUEK' 'SUEK'\n",
      " 'SUEK' 'SUEK' 'SUEK' 'SUEK' 'SUEK' 'SUEK' 'SUEK' 'SUEK' 'SUEK' 'SUEK'\n",
      " 'SUEK' 'SUEK' 'SUEK' 'SUEK' 'SUEK' 'SUEK' 'EUROCHEM' 'EUROCHEM' 'SUEK'\n",
      " 'SUEK' 'SUEK' 'SUEK' 'SUEK' 'SUEK' 'SUEK' 'SUEK' 'SUEK' 'SUEK' 'SUEK'\n",
      " 'SUEK' 'SUEK' 'SUEK' 'SUEK' 'SUEK' 'SUEK' 'SUEK' 'SUEK' 'SUEK' 'SUEK'\n",
      " 'SUEK' 'SUEK' 'SUEK' 'SUEK' 'SUEK' 'SUEK' 'SUEK' 'SUEK' 'SUEK' 'SUEK'\n",
      " 'SUEK' 'SUEK' 'SUEK' 'SUEK' 'SUEK' 'SUEK' 'SUEK' 'SUEK' 'SUEK' 'SUEK'\n",
      " 'SUEK' 'SUEK' 'SUEK' 'SUEK' 'SUEK' 'SUEK' 'SUEK' 'SUEK' 'SUEK' 'SUEK'\n",
      " 'EUROCHEM' 'EUROCHEM' 'EUROCHEM' 'EUROCHEM' 'SUEK' 'SUEK' 'EUROCHEM'\n",
      " 'EUROCHEM' 'EUROCHEM' 'EUROCHEM' 'EUROCHEM' 'EUROCHEM' 'EUROCHEM'\n",
      " 'EUROCHEM' 'EUROCHEM' 'EUROCHEM' 'EUROCHEM' 'EUROCHEM' 'EUROCHEM'\n",
      " 'EUROCHEM' 'EUROCHEM' 'EUROCHEM' 'SUEK' 'SUEK' 'EUROCHEM' 'SUEK' 'SUEK'\n",
      " 'SUEK' 'SUEK' 'SUEK' 'SUEK' 'SUEK' 'SUEK' 'SUEK' 'SUEK' 'SUEK' 'SUEK'\n",
      " 'SUEK' 'EUROCHEM' 'EUROCHEM' 'SUEK' 'EUROCHEM' 'EUROCHEM' 'EUROCHEM'\n",
      " 'EUROCHEM' 'EUROCHEM' 'EUROCHEM' 'EUROCHEM' 'EUROCHEM' 'SUEK' 'SUEK'\n",
      " 'SUEK' 'SUEK' 'SUEK' 'EUROCHEM' 'SUEK' 'SUEK' 'SUEK' 'SUEK' 'SUEK' 'SUEK'\n",
      " 'SUEK' 'SUEK' 'SUEK' 'SUEK' 'SUEK' 'SUEK' 'SUEK' 'SUEK' 'SUEK' 'SUEK'\n",
      " 'SUEK' 'SUEK' 'SUEK' 'SUEK' 'SUEK' 'SUEK' 'SUEK' 'SUEK' 'SUEK' 'SUEK'\n",
      " 'SUEK' 'SUEK' 'SUEK' 'SUEK' 'SUEK' 'SUEK' 'SUEK' 'SUEK' 'SUEK' 'SUEK'\n",
      " 'SUEK' 'SUEK' 'SUEK' 'SUEK' 'SUEK' 'SUEK' 'SUEK' 'SUEK' 'EUROCHEM' 'SUEK'\n",
      " 'SUEK' 'SUEK' 'SUEK' 'SUEK' 'SUEK' 'SUEK' 'SUEK' 'SUEK' 'SUEK' 'SUEK'\n",
      " 'SUEK' 'SUEK' 'SUEK' 'EUROCHEM' 'SUEK' 'SUEK' 'SUEK' 'SUEK' 'SUEK' 'SUEK'\n",
      " 'SUEK' 'EUROCHEM' 'SUEK' 'SUEK' 'EUROCHEM' 'SUEK' 'EUROCHEM' 'SUEK'\n",
      " 'SUEK' 'SUEK' 'SUEK' 'SUEK' 'EUROCHEM' 'SUEK' 'EUROCHEM' 'EUROCHEM'\n",
      " 'EUROCHEM' 'EUROCHEM' 'EUROCHEM' 'EUROCHEM' 'EUROCHEM' 'EUROCHEM' 'SUEK']' has dtype incompatible with float64, please explicitly cast to a compatible dtype first.\n",
      "  merge_data.loc[merge_data[f'{id_colmn}_merge'] != 'External', 'last_merge'] = merge_data.loc[merge_data[f'{id_colmn}_merge'] != 'External', f'{id_colmn}_merge']\n"
     ]
    }
   ],
   "source": [
    "data_Debt = data_export.loc[data_export['productTypeName'].isin(['Транш по займам', 'Транш по кредитам'])].reset_index(drop=True)\n",
    "\n",
    "data_Debt = data_Debt.rename(columns={\"businessPartnerName\": \"Counterparty\", \"companyName\": \"Entity\", \"positionCurrency\": \"Currency\", \"purchaseValuePositionCurrency\": \"amoutn_outstanding\"}).reset_index(drop=True)\n",
    "data_Debt.amoutn_outstanding = data_Debt.amoutn_outstanding.abs()\n",
    "\n",
    "data_Debt['termEnd'] = data_Debt['termEnd'].fillna('_')\n",
    "data_Debt = data_Debt.pivot_table(index=['Entity', 'relationshipPartner', 'Counterparty', 'accountAssignmentLinkName', 'Currency', 'termEnd'], values=['purchaseValueDisplayCurrency', 'amoutn_outstanding', 'index_SQL'], aggfunc={'purchaseValueDisplayCurrency': sum, 'amoutn_outstanding': sum, 'index_SQL':list}).reset_index()\n",
    "\n",
    "data_Debt = add_in_currency_column(data_Debt, col_with_CCY='Currency', col_with_VAL='amoutn_outstanding', DATE=Today, CCY_to='USD', date_is_column=False)\n",
    "data_Debt['amoutn_outstanding_in_USD'] = data_Debt.amoutn_outstanding_in_USD * np.sign(data_Debt.purchaseValueDisplayCurrency)\n",
    "\n",
    "data_Debt['Entity_code'] = merge_Mapping(data_Debt, col='Entity')\n",
    "data_Debt['Entity_group'] = merge_SalesUnits(data_Debt, col='Entity_code', merge_col='ocpSegment')\n",
    "data_Debt['Counterparty_code'] = merge_Mapping(data_Debt, col='Counterparty')\n",
    "data_Debt['Counterparty_Group'] = merge_SalesUnits(data_Debt, col='Counterparty_code', merge_col='ocpSegment')\n",
    "\n",
    "data_Debt = Period(data_Debt, day_for_count=Today, col_with_date='termEnd')\n",
    "\n",
    "data_Debt['Holding'] = merge_SalesUnits(data_Debt, col='Entity_code', merge_col='holding')\n",
    "data_Debt['termEnd'] = data_Debt['termEnd'].fillna('_')\n",
    "\n",
    "new_columns = ['dealClass1','dealClass2','instrumentOwner','dealSet','facility','Source']\n",
    "data_Debt = data_Debt.reindex(columns=(data_Debt.columns.tolist() + new_columns))\n",
    "data_Debt['Source'] = 'SAP'"
   ]
  },
  {
   "cell_type": "code",
   "execution_count": 6,
   "metadata": {},
   "outputs": [],
   "source": [
    "\n",
    "manual1 = data_Debt.loc[data_Debt.Entity_code == 'External' ,['Entity', 'Entity_code']].drop_duplicates()\n",
    "manual2 = data_Debt.loc[data_Debt.Counterparty_code == 'External' ,['Counterparty', 'Counterparty_Group']].drop_duplicates()\n",
    "# pd.concat([manual1, manual2])"
   ]
  },
  {
   "cell_type": "markdown",
   "metadata": {},
   "source": [
    "Записываю данные в output file:"
   ]
  },
  {
   "cell_type": "code",
   "execution_count": 7,
   "metadata": {},
   "outputs": [
    {
     "name": "stderr",
     "output_type": "stream",
     "text": [
      "C:\\Users\\KlimovaAnnaA\\AppData\\Local\\Temp\\ipykernel_21184\\3236192644.py:11: FutureWarning: Starting with pandas version 3.0 all arguments of to_excel except for the argument 'excel_writer' will be keyword-only.\n",
      "  data_Debt_print.to_excel(Output_file, Sheet_in_output_file, index=False)\n",
      "C:\\Users\\KlimovaAnnaA\\AppData\\Local\\Temp\\ipykernel_21184\\3236192644.py:11: FutureWarning: Starting with pandas version 3.0 all arguments of to_excel except for the argument 'excel_writer' will be keyword-only.\n",
      "  data_Debt_print.to_excel(Output_file, Sheet_in_output_file, index=False)\n"
     ]
    }
   ],
   "source": [
    "Sheet_in_output_file = 'Debt'\n",
    "\n",
    "if print_Debt == True:\n",
    "    for group in ['SUEK', 'EUROCHEM']:\n",
    "        data_Debt_group = data_Debt[data_Debt.Holding == group]\n",
    "        data_Debt_print = data_Debt_group[['Entity', 'Entity_group', 'Counterparty', 'Counterparty_Group', 'amoutn_outstanding', 'Currency', 'amoutn_outstanding_in_USD', 'termEnd', 'Days', 'Period', 'dealClass1','dealClass2','instrumentOwner','dealSet','facility','Source']]\n",
    "        Output_file = \"_\".join([str(date.today()), group, 'SAP_Debt', f'{Mounth}.xlsx'])\n",
    "        if excel_tofolder_on_Z == True:\n",
    "            Output_path = 'z:\\\\Anna_Klimova\\\\OCP\\\\Archive\\\\'\n",
    "            Output_file = Output_path + Output_file\n",
    "        data_Debt_print.to_excel(Output_file, Sheet_in_output_file, index=False)"
   ]
  },
  {
   "cell_type": "code",
   "execution_count": 8,
   "metadata": {},
   "outputs": [
    {
     "ename": "AssertionError",
     "evalue": "",
     "output_type": "error",
     "traceback": [
      "\u001b[1;31m---------------------------------------------------------------------------\u001b[0m",
      "\u001b[1;31mAssertionError\u001b[0m                            Traceback (most recent call last)",
      "\u001b[1;32mc:\\Users\\KlimovaAnnaA\\Documents\\MyFiles\\Projects\\OCP\\Debt\\Debt.ipynb Cell 11\u001b[0m line \u001b[0;36m1\n\u001b[1;32m----> <a href='vscode-notebook-cell:/c%3A/Users/KlimovaAnnaA/Documents/MyFiles/Projects/OCP/Debt/Debt.ipynb#X13sZmlsZQ%3D%3D?line=0'>1</a>\u001b[0m \u001b[39massert\u001b[39;00m \u001b[39m2\u001b[39m \u001b[39m==\u001b[39m \u001b[39m1\u001b[39m\n",
      "\u001b[1;31mAssertionError\u001b[0m: "
     ]
    }
   ],
   "source": [
    "assert 2 == 1"
   ]
  },
  {
   "cell_type": "markdown",
   "metadata": {},
   "source": [
    "Проверка на наличие тех же записей в Quantum:"
   ]
  },
  {
   "cell_type": "code",
   "execution_count": null,
   "metadata": {},
   "outputs": [
    {
     "data": {
      "text/html": [
       "<div>\n",
       "<style scoped>\n",
       "    .dataframe tbody tr th:only-of-type {\n",
       "        vertical-align: middle;\n",
       "    }\n",
       "\n",
       "    .dataframe tbody tr th {\n",
       "        vertical-align: top;\n",
       "    }\n",
       "\n",
       "    .dataframe thead th {\n",
       "        text-align: right;\n",
       "    }\n",
       "</style>\n",
       "<table border=\"1\" class=\"dataframe\">\n",
       "  <thead>\n",
       "    <tr style=\"text-align: right;\">\n",
       "      <th></th>\n",
       "      <th>entity</th>\n",
       "      <th>Entity_group</th>\n",
       "      <th>counterparty</th>\n",
       "      <th>Counterparty_Group</th>\n",
       "      <th>amoutn outstanding</th>\n",
       "      <th>Currency</th>\n",
       "      <th>amount USD eq</th>\n",
       "      <th>termEnd</th>\n",
       "      <th>Days</th>\n",
       "      <th>Period</th>\n",
       "      <th>dealClass1</th>\n",
       "      <th>dealClass2</th>\n",
       "      <th>instrumentOwner</th>\n",
       "      <th>dealSet</th>\n",
       "      <th>facility</th>\n",
       "      <th>Source</th>\n",
       "    </tr>\n",
       "  </thead>\n",
       "  <tbody>\n",
       "    <tr>\n",
       "      <th>0</th>\n",
       "      <td>BRHRG</td>\n",
       "      <td>SAMSALES</td>\n",
       "      <td>Morgan Stanley BR</td>\n",
       "      <td>External</td>\n",
       "      <td>-8011.33</td>\n",
       "      <td>BRL</td>\n",
       "      <td>-1616.101732</td>\n",
       "      <td>2031-12-31</td>\n",
       "      <td>2862</td>\n",
       "      <td>2Y+</td>\n",
       "      <td>Loan</td>\n",
       "      <td>MM</td>\n",
       "      <td>EC_BORROWINGS</td>\n",
       "      <td>-</td>\n",
       "      <td>HRG Judicial recovery BRL</td>\n",
       "      <td>Quantum</td>\n",
       "    </tr>\n",
       "    <tr>\n",
       "      <th>1</th>\n",
       "      <td>BRHRG</td>\n",
       "      <td>SAMSALES</td>\n",
       "      <td>Morgan Stanley BR</td>\n",
       "      <td>External</td>\n",
       "      <td>-9958.01</td>\n",
       "      <td>BRL</td>\n",
       "      <td>-2008.799688</td>\n",
       "      <td>2032-12-31</td>\n",
       "      <td>3228</td>\n",
       "      <td>2Y+</td>\n",
       "      <td>Loan</td>\n",
       "      <td>MM</td>\n",
       "      <td>EC_BORROWINGS</td>\n",
       "      <td>-</td>\n",
       "      <td>HRG Judicial recovery BRL</td>\n",
       "      <td>Quantum</td>\n",
       "    </tr>\n",
       "  </tbody>\n",
       "</table>\n",
       "</div>"
      ],
      "text/plain": [
       "  entity Entity_group       counterparty Counterparty_Group  \\\n",
       "0  BRHRG     SAMSALES  Morgan Stanley BR           External   \n",
       "1  BRHRG     SAMSALES  Morgan Stanley BR           External   \n",
       "\n",
       "   amoutn outstanding Currency  amount USD eq    termEnd  Days Period  \\\n",
       "0            -8011.33      BRL   -1616.101732 2031-12-31  2862    2Y+   \n",
       "1            -9958.01      BRL   -2008.799688 2032-12-31  3228    2Y+   \n",
       "\n",
       "  dealClass1 dealClass2 instrumentOwner dealSet                   facility  \\\n",
       "0       Loan         MM   EC_BORROWINGS       -  HRG Judicial recovery BRL   \n",
       "1       Loan         MM   EC_BORROWINGS       -  HRG Judicial recovery BRL   \n",
       "\n",
       "    Source  \n",
       "0  Quantum  \n",
       "1  Quantum  "
      ]
     },
     "execution_count": 21,
     "metadata": {},
     "output_type": "execute_result"
    }
   ],
   "source": [
    "quantum_data_export = pd.read_excel('C:\\\\Users\\\\KlimovaAnnaA\\\\Documents\\\\MyFiles\\\\Projects\\\\OCP\\\\Quantum\\\\2024-03-21_EuroChem_quantum_Debt_Feb.xlsx')\n",
    "quantum_data_export.head(2)"
   ]
  },
  {
   "cell_type": "code",
   "execution_count": null,
   "metadata": {},
   "outputs": [],
   "source": [
    "quantum_data_export['E_Cgroup'] = quantum_data_export.entity + quantum_data_export.Counterparty_Group + quantum_data_export.Currency + quantum_data_export.termEnd.astype(str) + quantum_data_export['amoutn outstanding'].abs().astype(str)\n",
    "data_Debt['E_Cgroup'] = data_Debt.Entity_code + data_Debt.Counterparty_Group + data_Debt.Currency + data_Debt.termEnd.astype(str) + data_Debt.amoutn_outstanding.abs().astype(str)\n",
    "\n",
    "iner_list = list(set(data_Debt['E_Cgroup']).intersection(set(quantum_data_export.E_Cgroup)))\n",
    "\n",
    "SAP_iner = data_Debt[data_Debt.E_Cgroup.isin(iner_list)]\n",
    "Quantum_iner = quantum_data_export[quantum_data_export.E_Cgroup.isin(iner_list)]"
   ]
  },
  {
   "cell_type": "code",
   "execution_count": null,
   "metadata": {},
   "outputs": [
    {
     "data": {
      "text/plain": [
       "((16, 23), (16, 17))"
      ]
     },
     "execution_count": 23,
     "metadata": {},
     "output_type": "execute_result"
    }
   ],
   "source": [
    "iner_list_2 = SAP_iner.index.tolist()\n",
    "\n",
    "SAP_iner = data_Debt[data_Debt.index.isin(iner_list_2)]\n",
    "data_Debt_not_iner = data_Debt[~data_Debt.index.isin(iner_list_2)]\n",
    "\n",
    "SAP_iner.shape, Quantum_iner.shape"
   ]
  },
  {
   "cell_type": "code",
   "execution_count": null,
   "metadata": {},
   "outputs": [],
   "source": [
    "SAP_iner = SAP_iner[['Entity', 'Entity_group', 'Counterparty', 'Counterparty_Group', 'amoutn_outstanding', 'Currency', 'amount_USD_eq', 'termEnd', 'Days', 'Period', 'dealClass1','dealClass2','instrumentOwner','dealSet','facility','Source']]\n",
    "data_Debt_not_iner = data_Debt_not_iner[['Entity', 'Entity_group', 'Counterparty', 'Counterparty_Group', 'amoutn_outstanding', 'Currency', 'amount_USD_eq', 'termEnd', 'Days', 'Period', 'dealClass1','dealClass2','instrumentOwner','dealSet','facility','Source']]\n"
   ]
  },
  {
   "cell_type": "code",
   "execution_count": null,
   "metadata": {},
   "outputs": [],
   "source": [
    "data_Debt_not_iner.to_excel(Output_file, sheet_name=Sheet_in_output_file, index=False)\n",
    "new_list(SAP_iner, Output_file, 'Inersection')\n",
    "new_list(quantum_data_export, Output_file, 'Debt_Quantum')"
   ]
  },
  {
   "cell_type": "markdown",
   "metadata": {},
   "source": [
    "Проверка встречных требований:"
   ]
  },
  {
   "cell_type": "code",
   "execution_count": 6,
   "metadata": {},
   "outputs": [
    {
     "data": {
      "text/plain": [
       "array(['SUEK', 'EUROCHEM', 'External'], dtype=object)"
      ]
     },
     "execution_count": 6,
     "metadata": {},
     "output_type": "execute_result"
    }
   ],
   "source": [
    "data_Debt.Holding.unique()"
   ]
  },
  {
   "cell_type": "code",
   "execution_count": 7,
   "metadata": {},
   "outputs": [
    {
     "name": "stdout",
     "output_type": "stream",
     "text": [
      "  Currency    termEnd  amoutn_outstanding       Index_copy  Index_count\n",
      "0      RUB 2024-09-19        9.776627e+08  [215, 211, 442]            3\n",
      "2      RUB 2028-06-14        1.389926e+10   [401, 400, 74]            3\n",
      "1      RUB 2028-03-31        2.779359e+10        [178, 71]            2\n",
      "3      USD 2025-12-31        6.640818e+07        [17, 316]            2\n"
     ]
    },
    {
     "name": "stderr",
     "output_type": "stream",
     "text": [
      "C:\\Users\\KlimovaAnnaA\\AppData\\Local\\Temp\\ipykernel_15352\\3636644211.py:94: FutureWarning: Starting with pandas version 3.0 all arguments of to_excel except for the argument 'excel_writer' will be keyword-only.\n",
      "  not_doubles_data.to_excel(file, 'Not_douples')\n"
     ]
    },
    {
     "name": "stdout",
     "output_type": "stream",
     "text": [
      "  Currency    termEnd  amoutn_outstanding  Index_copy  Index_count\n",
      "1      KZT 2025-01-31         222985200.0  [480, 478]            2\n",
      "0      KZT 2024-12-31         919300115.4  [477, 479]            2\n"
     ]
    },
    {
     "name": "stderr",
     "output_type": "stream",
     "text": [
      "C:\\Users\\KlimovaAnnaA\\AppData\\Local\\Temp\\ipykernel_15352\\3636644211.py:94: FutureWarning: Starting with pandas version 3.0 all arguments of to_excel except for the argument 'excel_writer' will be keyword-only.\n",
      "  not_doubles_data.to_excel(file, 'Not_douples')\n"
     ]
    }
   ],
   "source": [
    "# Фильтр на холдинг\n",
    "for group in ['SUEK', 'EUROCHEM']:\n",
    "    index_dataDebt_to_print = []\n",
    "    data_E_to_C = data_Debt[data_Debt.Holding == group]\n",
    "    # Фильт по Counterparty_Group - только внутригрупповые\n",
    "    data_E_to_C = data_E_to_C.query('Counterparty_Group != \"External\"')\n",
    "    data_E_to_C['Index_copy'] = data_E_to_C.index\n",
    "\n",
    "    # Кокатенация значений\n",
    "    data_E_to_C['concat_col_EC'] = data_E_to_C[['Entity_code', 'Counterparty_code', 'Currency',  'amoutn_outstanding', 'termEnd']].astype(str).agg('.'.join, axis=1)\n",
    "    data_E_to_C['concat_col_CE'] = data_E_to_C[['Counterparty_code', 'Entity_code', 'Currency',  'amoutn_outstanding', 'termEnd']].astype(str).agg('.'.join, axis=1)\n",
    "\n",
    "    # Данные с повторяющимися значениями\n",
    "    doubles_data = data_E_to_C[data_E_to_C.concat_col_EC.isin(data_E_to_C.concat_col_CE)]\n",
    "    doubles_data = doubles_data.sort_values(by=['Currency',  'amoutn_outstanding', 'termEnd'])\n",
    "    # Проверка на отсутсвие необходимости суммировать значения amoutn_outstanding\n",
    "    group_data = data_E_to_C.pivot_table(index=['Entity_code', 'Counterparty_code','accountAssignmentLinkName', 'Currency', 'termEnd'], values='Index_copy', aggfunc={'Index_copy': list}).reset_index()\n",
    "    group_data['Index_count'] = group_data['Index_copy'].apply(len)\n",
    "    assert group_data.Index_count.unique().tolist() == [1]\n",
    "    # Проверка наличия пары у кадого значения\n",
    "    group_data = doubles_data.pivot_table(index=['Currency', 'amoutn_outstanding', 'termEnd'], values='Index_copy', aggfunc={'Index_copy': list}).reset_index()\n",
    "    group_data['Index_count'] = group_data['Index_copy'].apply(len)\n",
    "    assert group_data.Index_count.unique().tolist() == [2]\n",
    "\n",
    "    # В список index_dataDebt_to_print добавлена только одна запись из равной пары\n",
    "    group_data['index_to_print'] = group_data['Index_copy'].str[0]\n",
    "    index_to_print_list = group_data.index_to_print.tolist()\n",
    "    index_dataDebt_to_print += index_to_print_list\n",
    "    # Проверка, что взята ровно половина повторяющихся данных\n",
    "    assert len(index_dataDebt_to_print) == len(doubles_data)/2\n",
    "\n",
    "    # Не совпадать значения могу из-за: 1. ошибок в Mapping, 2. неравных значений amount, 3. если у них нет пары\n",
    "    # 1. Поиск оишбок в Mapping:\n",
    "\n",
    "    # Данные с НЕповторяющимися значениями\n",
    "    not_doubles_data = data_E_to_C[~data_E_to_C.concat_col_EC.isin(data_E_to_C.concat_col_CE)]\n",
    "    not_doubles_data = not_doubles_data.sort_values(by=['Currency',  'amoutn_outstanding', 'termEnd'])\n",
    "\n",
    "    group_data = not_doubles_data.groupby(['Currency', 'amoutn_outstanding', 'termEnd'], as_index=False).agg({'Index_copy': list})\n",
    "    group_data['Index_count'] = group_data['Index_copy'].apply(len)\n",
    "\n",
    "    if len(group_data.loc[group_data.Index_count>1, 'Index_copy'].values) != 0:\n",
    "        in_doubles = list(np.concatenate(group_data.loc[group_data.Index_count>1, 'Index_copy'].values, axis = 0))\n",
    "        not_doubles_data_manual = not_doubles_data[not_doubles_data['Index_copy'].isin(in_doubles)]\n",
    "        not_doubles_data_manual_print = not_doubles_data_manual[['Entity', 'Entity_code', 'Counterparty', 'Counterparty_code']]\n",
    "        print(not_doubles_data_manual)\n",
    "        # new_list(not_doubles_data_manual_print, '2024-03-27_SAP_Debt_Feb.xlsx', sheet_name='Not_douples_manual') # название файла\n",
    "    else:\n",
    "        pass\n",
    "\n",
    "    # 2. Поиск неравных значений amount для равных пар:\n",
    "\n",
    "    not_doubles_data['concat_col2_EC'] = not_doubles_data[['Entity_code', 'Counterparty_code', 'Currency','termEnd']].astype(str).agg('.'.join, axis=1)\n",
    "    not_doubles_data['concat_col2_CE'] = not_doubles_data[['Counterparty_code', 'Entity_code', 'Currency','termEnd']].astype(str).agg('.'.join, axis=1)\n",
    "\n",
    "    # Данные с повторяющимися значениями\n",
    "    doubles_data2 = not_doubles_data[not_doubles_data.concat_col2_EC.isin(not_doubles_data.concat_col2_CE)]\n",
    "    doubles_data2 = doubles_data2.sort_values(by=['Currency', 'termEnd'])\n",
    "    group_data = doubles_data2.groupby(['Currency', 'termEnd'], as_index=False).agg({'amoutn_outstanding': 'mean', 'Index_copy': list}).sort_values(['Currency', 'amoutn_outstanding', 'termEnd'])\n",
    "    group_data['Index_count'] = group_data['Index_copy'].apply(len)\n",
    "    print(group_data)\n",
    "    # в выборке присутсвуют только двухстрочне значения\n",
    "    # assert group_data.Index_count.unique().tolist() == [2]\n",
    "\n",
    "    ### ЗДЕСЬ МОЖНО ВЫБРАТЬ СРЕДНЕЕ \n",
    "\n",
    "    # В список index_dataDebt_to_print добавлена только одна запись из равной пары\n",
    "    group_data['index_to_print'] = group_data['Index_copy'].str[-1]\n",
    "    index_to_print_list = group_data.index_to_print.tolist()\n",
    "    index_dataDebt_to_print += index_to_print_list\n",
    "\n",
    "    # Данные с НЕповторяющимися значениями\n",
    "    data = not_doubles_data[~not_doubles_data.concat_col2_EC.isin(not_doubles_data.concat_col2_CE)]\n",
    "    data = data.sort_values(['Currency',  'amoutn_outstanding', 'termEnd'])\n",
    "    index_to_print_list = data.Index_copy.tolist()\n",
    "    index_dataDebt_to_print += index_to_print_list\n",
    "\n",
    "    assert sum(group_data.Index_count.tolist()) == not_doubles_data.shape[0] - len(data)\n",
    "\n",
    "    # Запись в файл:\n",
    "\n",
    "    assert len(index_dataDebt_to_print) < len(data_Debt)\n",
    "    index_dataDebt_to_print = list(set(index_dataDebt_to_print))\n",
    "\n",
    "    file = \"_\".join([str(date.today()), group ,'SAP_Debt_counterclaims.xlsx'])\n",
    "\n",
    "    data_Debt_after_cleaning = data_Debt.loc[index_dataDebt_to_print, :]\n",
    "    # Возвращение знака amoutn_outstanding\n",
    "    data_Debt_after_cleaning.amoutn_outstanding = data_Debt_after_cleaning.amoutn_outstanding * np.sign(data_Debt_after_cleaning.purchaseValueDisplayCurrency)\n",
    "    # Слеивание с данными внешних требований\n",
    "    data_Debt_after_cleaning = pd.concat([data_Debt_after_cleaning, data_Debt.query('Counterparty_Group == \"External\"')])\n",
    "\n",
    "    if print_counterclaims == True:\n",
    "        not_doubles_data.to_excel(file, 'Not_douples')\n",
    "        new_list(doubles_data, file,'Douples', index=True)\n",
    "        # new_list(data_Debt_after_cleaning, file, 'Debt', index=True)\n",
    "        new_list(data_Debt, file, 'Debt_before', index=True)\n",
    "        new_list(data_export, file, 'SQL', index=True)"
   ]
  },
  {
   "cell_type": "markdown",
   "metadata": {},
   "source": [
    "Встречные требования по валютам:"
   ]
  },
  {
   "cell_type": "code",
   "execution_count": 25,
   "metadata": {},
   "outputs": [
    {
     "name": "stderr",
     "output_type": "stream",
     "text": [
      "C:\\Users\\KlimovaAnnaA\\AppData\\Local\\Temp\\ipykernel_15352\\4216241836.py:34: FutureWarning: The provided callable <built-in function sum> is currently using DataFrameGroupBy.sum. In a future version of pandas, the provided callable will be used directly. To keep current behavior pass the string \"sum\" instead.\n",
      "  pivot = data_E_to_C_Currency.pivot_table(index=['Entity_group','Counterparty_Group'],values='amoutn_outstanding_in_USD',aggfunc=sum).reset_index()\n",
      "C:\\Users\\KlimovaAnnaA\\AppData\\Local\\Temp\\ipykernel_15352\\4216241836.py:42: FutureWarning: Setting an item of incompatible dtype is deprecated and will raise an error in a future version of pandas. Value '-832557429.94' has dtype incompatible with int64, please explicitly cast to a compatible dtype first.\n",
      "  ccy_df.loc[string, col] = CCY_df_part.amoutn_outstanding_in_USD.values[0]\n",
      "C:\\Users\\KlimovaAnnaA\\AppData\\Local\\Temp\\ipykernel_15352\\4216241836.py:42: FutureWarning: Setting an item of incompatible dtype is deprecated and will raise an error in a future version of pandas. Value '156638179.49' has dtype incompatible with int64, please explicitly cast to a compatible dtype first.\n",
      "  ccy_df.loc[string, col] = CCY_df_part.amoutn_outstanding_in_USD.values[0]\n",
      "C:\\Users\\KlimovaAnnaA\\AppData\\Local\\Temp\\ipykernel_15352\\4216241836.py:34: FutureWarning: The provided callable <built-in function sum> is currently using DataFrameGroupBy.sum. In a future version of pandas, the provided callable will be used directly. To keep current behavior pass the string \"sum\" instead.\n",
      "  pivot = data_E_to_C_Currency.pivot_table(index=['Entity_group','Counterparty_Group'],values='amoutn_outstanding_in_USD',aggfunc=sum).reset_index()\n",
      "C:\\Users\\KlimovaAnnaA\\AppData\\Local\\Temp\\ipykernel_15352\\4216241836.py:42: FutureWarning: Setting an item of incompatible dtype is deprecated and will raise an error in a future version of pandas. Value '-3908284.163948862' has dtype incompatible with int64, please explicitly cast to a compatible dtype first.\n",
      "  ccy_df.loc[string, col] = CCY_df_part.amoutn_outstanding_in_USD.values[0]\n",
      "C:\\Users\\KlimovaAnnaA\\AppData\\Local\\Temp\\ipykernel_15352\\4216241836.py:42: FutureWarning: Setting an item of incompatible dtype is deprecated and will raise an error in a future version of pandas. Value '2003762286.4232438' has dtype incompatible with int64, please explicitly cast to a compatible dtype first.\n",
      "  ccy_df.loc[string, col] = CCY_df_part.amoutn_outstanding_in_USD.values[0]\n",
      "C:\\Users\\KlimovaAnnaA\\AppData\\Local\\Temp\\ipykernel_15352\\4216241836.py:34: FutureWarning: The provided callable <built-in function sum> is currently using DataFrameGroupBy.sum. In a future version of pandas, the provided callable will be used directly. To keep current behavior pass the string \"sum\" instead.\n",
      "  pivot = data_E_to_C_Currency.pivot_table(index=['Entity_group','Counterparty_Group'],values='amoutn_outstanding_in_USD',aggfunc=sum).reset_index()\n",
      "C:\\Users\\KlimovaAnnaA\\AppData\\Local\\Temp\\ipykernel_15352\\4216241836.py:34: FutureWarning: The provided callable <built-in function sum> is currently using DataFrameGroupBy.sum. In a future version of pandas, the provided callable will be used directly. To keep current behavior pass the string \"sum\" instead.\n",
      "  pivot = data_E_to_C_Currency.pivot_table(index=['Entity_group','Counterparty_Group'],values='amoutn_outstanding_in_USD',aggfunc=sum).reset_index()\n",
      "C:\\Users\\KlimovaAnnaA\\AppData\\Local\\Temp\\ipykernel_15352\\4216241836.py:42: FutureWarning: Setting an item of incompatible dtype is deprecated and will raise an error in a future version of pandas. Value '25496261.642126996' has dtype incompatible with int64, please explicitly cast to a compatible dtype first.\n",
      "  ccy_df.loc[string, col] = CCY_df_part.amoutn_outstanding_in_USD.values[0]\n",
      "C:\\Users\\KlimovaAnnaA\\AppData\\Local\\Temp\\ipykernel_15352\\4216241836.py:34: FutureWarning: The provided callable <built-in function sum> is currently using DataFrameGroupBy.sum. In a future version of pandas, the provided callable will be used directly. To keep current behavior pass the string \"sum\" instead.\n",
      "  pivot = data_E_to_C_Currency.pivot_table(index=['Entity_group','Counterparty_Group'],values='amoutn_outstanding_in_USD',aggfunc=sum).reset_index()\n",
      "C:\\Users\\KlimovaAnnaA\\AppData\\Local\\Temp\\ipykernel_15352\\4216241836.py:34: FutureWarning: The provided callable <built-in function sum> is currently using DataFrameGroupBy.sum. In a future version of pandas, the provided callable will be used directly. To keep current behavior pass the string \"sum\" instead.\n",
      "  pivot = data_E_to_C_Currency.pivot_table(index=['Entity_group','Counterparty_Group'],values='amoutn_outstanding_in_USD',aggfunc=sum).reset_index()\n",
      "C:\\Users\\KlimovaAnnaA\\AppData\\Local\\Temp\\ipykernel_15352\\4216241836.py:42: FutureWarning: Setting an item of incompatible dtype is deprecated and will raise an error in a future version of pandas. Value '2920249.333474804' has dtype incompatible with int64, please explicitly cast to a compatible dtype first.\n",
      "  ccy_df.loc[string, col] = CCY_df_part.amoutn_outstanding_in_USD.values[0]\n",
      "C:\\Users\\KlimovaAnnaA\\AppData\\Local\\Temp\\ipykernel_15352\\4216241836.py:42: FutureWarning: Setting an item of incompatible dtype is deprecated and will raise an error in a future version of pandas. Value '-342108590.51952004' has dtype incompatible with int64, please explicitly cast to a compatible dtype first.\n",
      "  ccy_df.loc[string, col] = CCY_df_part.amoutn_outstanding_in_USD.values[0]\n",
      "C:\\Users\\KlimovaAnnaA\\AppData\\Local\\Temp\\ipykernel_15352\\4216241836.py:34: FutureWarning: The provided callable <built-in function sum> is currently using DataFrameGroupBy.sum. In a future version of pandas, the provided callable will be used directly. To keep current behavior pass the string \"sum\" instead.\n",
      "  pivot = data_E_to_C_Currency.pivot_table(index=['Entity_group','Counterparty_Group'],values='amoutn_outstanding_in_USD',aggfunc=sum).reset_index()\n",
      "C:\\Users\\KlimovaAnnaA\\AppData\\Local\\Temp\\ipykernel_15352\\4216241836.py:34: FutureWarning: The provided callable <built-in function sum> is currently using DataFrameGroupBy.sum. In a future version of pandas, the provided callable will be used directly. To keep current behavior pass the string \"sum\" instead.\n",
      "  pivot = data_E_to_C_Currency.pivot_table(index=['Entity_group','Counterparty_Group'],values='amoutn_outstanding_in_USD',aggfunc=sum).reset_index()\n"
     ]
    }
   ],
   "source": [
    "if print_counterclaims == True:\n",
    "    Output_counterclaims = f'{str(date.today())}_byCYY_Debt_SAP.xlsx'\n",
    "    writer = pd.ExcelWriter(Output_counterclaims, engine='openpyxl')  \n",
    "    workbook=writer.book\n",
    "\n",
    "# part of the data by holding\n",
    "holding = ''\n",
    "for holding in ['SUEK', 'EUROCHEM']:\n",
    "    data_E_to_C_holding = data_Debt[(data_Debt.Holding == holding) & (data_Debt.Counterparty_Group != \"External\")]\n",
    "    startrow = 1\n",
    "    Currency = ''\n",
    "    if print_counterclaims == True:\n",
    "        pd.DataFrame({'holding':f'{holding}_by_CCY'}, index=[1]).to_excel(writer, sheet_name=f'{holding}_CCY_tabels', index=False, header=False)\n",
    "\n",
    "    # matrix for each holding\n",
    "    Entity_group_list = list(data_E_to_C_holding.Entity_group.unique())\n",
    "    Entity_group_list.sort(reverse=True)\n",
    "    Counterparty_Group_list = list(data_E_to_C_holding.Counterparty_Group.unique())\n",
    "    Counterparty_Group_list.sort(reverse=True)\n",
    "    matrix_list = []\n",
    "    for Entity_group in Entity_group_list:\n",
    "        matrix_dict = {}\n",
    "        matrix_dict['Entity_group'] = Entity_group\n",
    "        for Counterparty_Group in Counterparty_Group_list:\n",
    "            matrix_dict[Counterparty_Group] = 0\n",
    "        matrix_list.append(matrix_dict)\n",
    "    matrix_df = pd.DataFrame(matrix_list)\n",
    "    matrix_df.index = matrix_df['Entity_group']\n",
    "    matrix_df = matrix_df.drop('Entity_group',axis=1)\n",
    "\n",
    "    # part of the data by CCY\n",
    "    for Currency in data_E_to_C_holding.Currency.unique().tolist():\n",
    "        data_E_to_C_Currency = data_E_to_C_holding[data_E_to_C_holding.Currency == Currency]\n",
    "        pivot = data_E_to_C_Currency.pivot_table(index=['Entity_group','Counterparty_Group'],values='amoutn_outstanding_in_USD',aggfunc=sum).reset_index()\n",
    "        \n",
    "        matrix_df[:] = 0\n",
    "        ccy_df = matrix_df\n",
    "        for string in Entity_group_list:\n",
    "            for col in Counterparty_Group_list:\n",
    "                CCY_df_part = pivot[(pivot.Entity_group==string)&(pivot.Counterparty_Group==col)]\n",
    "                try:\n",
    "                    ccy_df.loc[string, col] = CCY_df_part.amoutn_outstanding_in_USD.values[0]\n",
    "                except:\n",
    "                    pass\n",
    "\n",
    "        ### to excel\n",
    "        if print_counterclaims == True:\n",
    "            pd.DataFrame([{'CCY':Currency}]).to_excel(writer, sheet_name=f'{holding}_CCY_tabels', index=False, header=False, startrow=startrow)\n",
    "            startrow += 1\n",
    "            ccy_df.to_excel(writer, sheet_name=f'{holding}_CCY_tabels', index=True, startrow=startrow)\n",
    "            startrow = startrow + len(ccy_df) + 2\n",
    "if print_counterclaims == True:\n",
    "    # data_work_pivot.to_excel(writer, sheet_name=f'data', index=False)\n",
    "    writer.close()"
   ]
  },
  {
   "cell_type": "code",
   "execution_count": 24,
   "metadata": {},
   "outputs": [
    {
     "data": {
      "text/html": [
       "<div>\n",
       "<style scoped>\n",
       "    .dataframe tbody tr th:only-of-type {\n",
       "        vertical-align: middle;\n",
       "    }\n",
       "\n",
       "    .dataframe tbody tr th {\n",
       "        vertical-align: top;\n",
       "    }\n",
       "\n",
       "    .dataframe thead th {\n",
       "        text-align: right;\n",
       "    }\n",
       "</style>\n",
       "<table border=\"1\" class=\"dataframe\">\n",
       "  <thead>\n",
       "    <tr style=\"text-align: right;\">\n",
       "      <th></th>\n",
       "      <th>TRADING</th>\n",
       "      <th>SPV</th>\n",
       "      <th>RUFERT</th>\n",
       "    </tr>\n",
       "    <tr>\n",
       "      <th>Entity_group</th>\n",
       "      <th></th>\n",
       "      <th></th>\n",
       "      <th></th>\n",
       "    </tr>\n",
       "  </thead>\n",
       "  <tbody>\n",
       "    <tr>\n",
       "      <th>SPV</th>\n",
       "      <td>0.0</td>\n",
       "      <td>0.0</td>\n",
       "      <td>0.000000</td>\n",
       "    </tr>\n",
       "    <tr>\n",
       "      <th>RUFERT</th>\n",
       "      <td>0.0</td>\n",
       "      <td>0.0</td>\n",
       "      <td>-31907.570664</td>\n",
       "    </tr>\n",
       "    <tr>\n",
       "      <th>EX SUEK AG</th>\n",
       "      <td>0.0</td>\n",
       "      <td>0.0</td>\n",
       "      <td>0.000000</td>\n",
       "    </tr>\n",
       "    <tr>\n",
       "      <th>EURSALES</th>\n",
       "      <td>0.0</td>\n",
       "      <td>0.0</td>\n",
       "      <td>0.000000</td>\n",
       "    </tr>\n",
       "  </tbody>\n",
       "</table>\n",
       "</div>"
      ],
      "text/plain": [
       "              TRADING  SPV        RUFERT\n",
       "Entity_group                            \n",
       "SPV               0.0  0.0      0.000000\n",
       "RUFERT            0.0  0.0 -31907.570664\n",
       "EX SUEK AG        0.0  0.0      0.000000\n",
       "EURSALES          0.0  0.0      0.000000"
      ]
     },
     "execution_count": 24,
     "metadata": {},
     "output_type": "execute_result"
    }
   ],
   "source": [
    "matrix_df\n",
    "# Entity_group_list\n",
    "# data_E_to_C_holding\n",
    "pivot\n",
    "\n",
    "ccy_df"
   ]
  },
  {
   "cell_type": "code",
   "execution_count": 9,
   "metadata": {},
   "outputs": [
    {
     "data": {
      "text/plain": [
       "Index(['Entity', 'relationshipPartner', 'Counterparty',\n",
       "       'accountAssignmentLinkName', 'Currency', 'termEnd',\n",
       "       'amoutn_outstanding', 'index_SQL', 'purchaseValueDisplayCurrency',\n",
       "       'Coef_to_USD', 'amoutn_outstanding_in_USD', 'Entity_code',\n",
       "       'Entity_group', 'Counterparty_code', 'Counterparty_Group', 'Days',\n",
       "       'Period', 'Holding', 'dealClass1', 'dealClass2', 'instrumentOwner',\n",
       "       'dealSet', 'facility', 'Source'],\n",
       "      dtype='object')"
      ]
     },
     "execution_count": 9,
     "metadata": {},
     "output_type": "execute_result"
    }
   ],
   "source": [
    "data_Debt.columns"
   ]
  }
 ],
 "metadata": {
  "kernelspec": {
   "display_name": "base",
   "language": "python",
   "name": "python3"
  },
  "language_info": {
   "codemirror_mode": {
    "name": "ipython",
    "version": 3
   },
   "file_extension": ".py",
   "mimetype": "text/x-python",
   "name": "python",
   "nbconvert_exporter": "python",
   "pygments_lexer": "ipython3",
   "version": "3.11.5"
  },
  "orig_nbformat": 4
 },
 "nbformat": 4,
 "nbformat_minor": 2
}
